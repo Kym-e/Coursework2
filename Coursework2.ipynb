{
 "cells": [
  {
   "cell_type": "markdown",
   "id": "f3bf18740e1d93d4",
   "metadata": {},
   "source": [
    "# Coursework 2\n",
    "\n",
    "Student name: Kym Hannah\n",
    "\n",
    "Student ID: s2247460\n",
    "\n"
   ]
  },
  {
   "cell_type": "markdown",
   "id": "864ee232a8cbe47a",
   "metadata": {},
   "source": [
    "## Part A: Significance Testing\n",
    "\n"
   ]
  },
  {
   "cell_type": "markdown",
   "id": "601d290ad702e76",
   "metadata": {},
   "source": [
    "### Dataset: Gender Representation in Video Games\n",
    "This dataset contains information on several video games released between 2012 and 2022.\n",
    "\n",
    "The dataset metadata states that the games were selected based on the following criteria:\n",
    "\n",
    ">GAME SELECTION CRITERIA\n",
    "> 1. The games must have a storyline. To analyze the paper of each character is essential that\n",
    "games had a plot where characters had a role assigned (even if this role might change based\n",
    "on the player's choices). This excludes games like:\n",
    "> - Puzzle games: Tetris, Candy Crush, Minesweepers, etc.\n",
    "> - Racing games: Gran Turismo, Formula 1, Mario Kart, etc.\n",
    "> - Social Simulators: Animal Crossing, The Sims, etc.\n",
    "> - MMORPGs, where the storyline lived by the player, might considerably differ from\n",
    "other players, such as World of Warcraft.\n",
    "> - Shooters with no story mode: Fornite, Valorant\n",
    "> - Other popular games with no storyline: Minecraft, Roblox, League of Legends…\n",
    "> 2. For games that offer a story and multiplayer modes (like some Call of Duty, GTA V…), just the\n",
    "story mode is taken into consideration for this analysis.\n",
    "> 3. The games were selected for being top-selling or best-rated games of the year.\n",
    "> 4. At least 5 games were selected for each year."
   ]
  },
  {
   "cell_type": "markdown",
   "id": "babfd1938433dc86",
   "metadata": {},
   "source": [
    "#### Source: Kaggle\n",
    "- Link: [Kaggle: Gender Representation in Video Games](https://www.kaggle.com/datasets/br33sa/gender-representation-in-video-games/data?select=characters.grivg.csv)\n",
    "- License: [CC BY-NC 4.0](https://creativecommons.org/licenses/by-nc/4.0/)\n",
    "\n",
    "Dataset was downloaded from Kaggle as this data would be available for public use. It has a Creative Commons License which allows for non-commercial use.\n",
    "\n",
    "Kaggle gives the dataset a rating of 9.41 out of 10.0 which indicates that the dataset is of high quality (according to Kaggle).\n",
    "\n",
    "![Kaggle rating](Images/Kaggle_Rating.png)\n",
    "\n",
    "When looking at the provided Metadata, it states that:\n",
    "\n",
    ">\" This data has been compiled through research of several information sources including, but not\n",
    "limited to:\n",
    "> - Websites and media with a strong focus on video games like Metacritic, Destructoid, IGN, or\n",
    "GameSpot.\n",
    "> - Wikipedia\n",
    "> - The websites of the games developers, games publishers, and the website of the game itself.\"\n",
    "\n",
    "Keeping this in mind, the dataset should be reliable as it has been compiled from multiple sources which are known for their focus on video games."
   ]
  },
  {
   "cell_type": "markdown",
   "id": "a5a14fec7b2650da",
   "metadata": {},
   "source": [
    "#### Dataset composition\n",
    "- Data structure: Tabular - 3 CSV files (related using common keys)\n",
    "- CSV files:\n",
    "    - characters.grivg.csv\n",
    "    - games.grivg.csv\n",
    "    - sexualization.grivg.csv\n",
    "\n",
    "The dataset contains information on the characters in the video games, the games themselves, and the sexualization of the characters in the video games.\n"
   ]
  },
  {
   "metadata": {},
   "cell_type": "markdown",
   "source": [
    "### Dataset Processing\n",
    "\n",
    "First, the datasets will be loaded and reviewed to check for any missing values, duplicates, or other issues. Then, the datasets will be combined using the common keys, and the combined dataset will be cleaned and processed.  The data will be reviewed to ensure that it is ready for analysis."
   ],
   "id": "63eb94164cbe39ff"
  },
  {
   "cell_type": "markdown",
   "id": "1a619cf05d3e22d6",
   "metadata": {},
   "source": "#### Games dataset"
  },
  {
   "cell_type": "code",
   "id": "1732585ef89b33ec",
   "metadata": {
    "ExecuteTime": {
     "end_time": "2024-12-06T18:26:18.619223Z",
     "start_time": "2024-12-06T18:26:18.617154Z"
    }
   },
   "source": [
    "from unicodedata import category\n",
    "\n",
    "# Notebook imports\n",
    "import pandas as pd\n",
    "import warnings\n",
    "\n",
    "# Ignore all deprecation warnings\n",
    "warnings.filterwarnings('ignore', category=DeprecationWarning)\n",
    "warnings.filterwarnings('ignore', category=FutureWarning)"
   ],
   "outputs": [],
   "execution_count": 1591
  },
  {
   "cell_type": "code",
   "id": "5a15c5d46f616c81",
   "metadata": {
    "ExecuteTime": {
     "end_time": "2024-12-06T18:26:18.663119Z",
     "start_time": "2024-12-06T18:26:18.655730Z"
    }
   },
   "source": [
    "# Load the games dataset\n",
    "games = pd.read_csv('Data/Gender_In_Video_Games/games.grivg.csv')\n",
    "games.head()"
   ],
   "outputs": [
    {
     "data": {
      "text/plain": [
       "  Game_Id                         Title Release        Series  \\\n",
       "0    GTAV            Grand Theft Auto V  Nov-13           GTA   \n",
       "1     PSS          Pokémon Sword/Shield  Nov-19       Pokémon   \n",
       "2   CODMW  Call of Duty: Modern Warfare  Oct-19  Call of Duty   \n",
       "3    RDR2         Red Dead Redemption 2  Dec-18      Red Dead   \n",
       "4     SMO           Super Mario Odyssey  Oct-17   Super Mario   \n",
       "\n",
       "              Genre         Sub-genre         Developer       Publisher  \\\n",
       "0  Action-adventure  Action-adventure    Rockstar North  Rockstar Games   \n",
       "1               RPG               RPG        Game Freak        Nintendo   \n",
       "2            Action               FPS     Infinity Ward      Activision   \n",
       "3  Action-adventure  Action-adventure  Rockstar Studios  Rockstar Games   \n",
       "4  Action-adventure  Action-adventure      Nintendo EDP        Nintendo   \n",
       "\n",
       "  Country         Platform  ...  Director Total_team  female_team  \\\n",
       "0     GBR            Multi  ...         M          7            0   \n",
       "1     JPN  Nintendo Switch  ...         M          9            1   \n",
       "2     USA            Multi  ...         M         11            0   \n",
       "3     USA            Multi  ...         M          7            0   \n",
       "4     JPN  Nintendo Switch  ...         M         11            1   \n",
       "\n",
       "   Team_percentage  Metacritic   Destructoid   IGN GameSpot Avg_Reviews  \\\n",
       "0               0%          9.7          9.0  10.0      9.0         9.4   \n",
       "1              11%          8.0          7.0   9.3      9.0         8.3   \n",
       "2               0%          8.0          8.0   8.0      7.0         7.8   \n",
       "3               0%          9.7          9.5  10.0      9.0         9.6   \n",
       "4               9%          9.7          9.5  10.0     10.0         9.8   \n",
       "\n",
       "   Unnamed: 27  \n",
       "0          NaN  \n",
       "1          NaN  \n",
       "2          NaN  \n",
       "3          NaN  \n",
       "4          NaN  \n",
       "\n",
       "[5 rows x 28 columns]"
      ],
      "text/html": [
       "<div>\n",
       "<style scoped>\n",
       "    .dataframe tbody tr th:only-of-type {\n",
       "        vertical-align: middle;\n",
       "    }\n",
       "\n",
       "    .dataframe tbody tr th {\n",
       "        vertical-align: top;\n",
       "    }\n",
       "\n",
       "    .dataframe thead th {\n",
       "        text-align: right;\n",
       "    }\n",
       "</style>\n",
       "<table border=\"1\" class=\"dataframe\">\n",
       "  <thead>\n",
       "    <tr style=\"text-align: right;\">\n",
       "      <th></th>\n",
       "      <th>Game_Id</th>\n",
       "      <th>Title</th>\n",
       "      <th>Release</th>\n",
       "      <th>Series</th>\n",
       "      <th>Genre</th>\n",
       "      <th>Sub-genre</th>\n",
       "      <th>Developer</th>\n",
       "      <th>Publisher</th>\n",
       "      <th>Country</th>\n",
       "      <th>Platform</th>\n",
       "      <th>...</th>\n",
       "      <th>Director</th>\n",
       "      <th>Total_team</th>\n",
       "      <th>female_team</th>\n",
       "      <th>Team_percentage</th>\n",
       "      <th>Metacritic</th>\n",
       "      <th>Destructoid</th>\n",
       "      <th>IGN</th>\n",
       "      <th>GameSpot</th>\n",
       "      <th>Avg_Reviews</th>\n",
       "      <th>Unnamed: 27</th>\n",
       "    </tr>\n",
       "  </thead>\n",
       "  <tbody>\n",
       "    <tr>\n",
       "      <th>0</th>\n",
       "      <td>GTAV</td>\n",
       "      <td>Grand Theft Auto V</td>\n",
       "      <td>Nov-13</td>\n",
       "      <td>GTA</td>\n",
       "      <td>Action-adventure</td>\n",
       "      <td>Action-adventure</td>\n",
       "      <td>Rockstar North</td>\n",
       "      <td>Rockstar Games</td>\n",
       "      <td>GBR</td>\n",
       "      <td>Multi</td>\n",
       "      <td>...</td>\n",
       "      <td>M</td>\n",
       "      <td>7</td>\n",
       "      <td>0</td>\n",
       "      <td>0%</td>\n",
       "      <td>9.7</td>\n",
       "      <td>9.0</td>\n",
       "      <td>10.0</td>\n",
       "      <td>9.0</td>\n",
       "      <td>9.4</td>\n",
       "      <td>NaN</td>\n",
       "    </tr>\n",
       "    <tr>\n",
       "      <th>1</th>\n",
       "      <td>PSS</td>\n",
       "      <td>Pokémon Sword/Shield</td>\n",
       "      <td>Nov-19</td>\n",
       "      <td>Pokémon</td>\n",
       "      <td>RPG</td>\n",
       "      <td>RPG</td>\n",
       "      <td>Game Freak</td>\n",
       "      <td>Nintendo</td>\n",
       "      <td>JPN</td>\n",
       "      <td>Nintendo Switch</td>\n",
       "      <td>...</td>\n",
       "      <td>M</td>\n",
       "      <td>9</td>\n",
       "      <td>1</td>\n",
       "      <td>11%</td>\n",
       "      <td>8.0</td>\n",
       "      <td>7.0</td>\n",
       "      <td>9.3</td>\n",
       "      <td>9.0</td>\n",
       "      <td>8.3</td>\n",
       "      <td>NaN</td>\n",
       "    </tr>\n",
       "    <tr>\n",
       "      <th>2</th>\n",
       "      <td>CODMW</td>\n",
       "      <td>Call of Duty: Modern Warfare</td>\n",
       "      <td>Oct-19</td>\n",
       "      <td>Call of Duty</td>\n",
       "      <td>Action</td>\n",
       "      <td>FPS</td>\n",
       "      <td>Infinity Ward</td>\n",
       "      <td>Activision</td>\n",
       "      <td>USA</td>\n",
       "      <td>Multi</td>\n",
       "      <td>...</td>\n",
       "      <td>M</td>\n",
       "      <td>11</td>\n",
       "      <td>0</td>\n",
       "      <td>0%</td>\n",
       "      <td>8.0</td>\n",
       "      <td>8.0</td>\n",
       "      <td>8.0</td>\n",
       "      <td>7.0</td>\n",
       "      <td>7.8</td>\n",
       "      <td>NaN</td>\n",
       "    </tr>\n",
       "    <tr>\n",
       "      <th>3</th>\n",
       "      <td>RDR2</td>\n",
       "      <td>Red Dead Redemption 2</td>\n",
       "      <td>Dec-18</td>\n",
       "      <td>Red Dead</td>\n",
       "      <td>Action-adventure</td>\n",
       "      <td>Action-adventure</td>\n",
       "      <td>Rockstar Studios</td>\n",
       "      <td>Rockstar Games</td>\n",
       "      <td>USA</td>\n",
       "      <td>Multi</td>\n",
       "      <td>...</td>\n",
       "      <td>M</td>\n",
       "      <td>7</td>\n",
       "      <td>0</td>\n",
       "      <td>0%</td>\n",
       "      <td>9.7</td>\n",
       "      <td>9.5</td>\n",
       "      <td>10.0</td>\n",
       "      <td>9.0</td>\n",
       "      <td>9.6</td>\n",
       "      <td>NaN</td>\n",
       "    </tr>\n",
       "    <tr>\n",
       "      <th>4</th>\n",
       "      <td>SMO</td>\n",
       "      <td>Super Mario Odyssey</td>\n",
       "      <td>Oct-17</td>\n",
       "      <td>Super Mario</td>\n",
       "      <td>Action-adventure</td>\n",
       "      <td>Action-adventure</td>\n",
       "      <td>Nintendo EDP</td>\n",
       "      <td>Nintendo</td>\n",
       "      <td>JPN</td>\n",
       "      <td>Nintendo Switch</td>\n",
       "      <td>...</td>\n",
       "      <td>M</td>\n",
       "      <td>11</td>\n",
       "      <td>1</td>\n",
       "      <td>9%</td>\n",
       "      <td>9.7</td>\n",
       "      <td>9.5</td>\n",
       "      <td>10.0</td>\n",
       "      <td>10.0</td>\n",
       "      <td>9.8</td>\n",
       "      <td>NaN</td>\n",
       "    </tr>\n",
       "  </tbody>\n",
       "</table>\n",
       "<p>5 rows × 28 columns</p>\n",
       "</div>"
      ]
     },
     "execution_count": 1592,
     "metadata": {},
     "output_type": "execute_result"
    }
   ],
   "execution_count": 1592
  },
  {
   "cell_type": "markdown",
   "id": "d8f9772988e2e304",
   "metadata": {},
   "source": [
    "The games dataset has been loaded successfully. The dataset contains the following columns:"
   ]
  },
  {
   "cell_type": "code",
   "id": "eb82ef3a63ba43ee",
   "metadata": {
    "ExecuteTime": {
     "end_time": "2024-12-06T18:26:18.679497Z",
     "start_time": "2024-12-06T18:26:18.677725Z"
    }
   },
   "source": [
    "# Check the shape of the dataset\n",
    "print(f\"Number of rows: {games.shape[0]}\")\n",
    "print(f\"Number of columns: {games.shape[1]}\")"
   ],
   "outputs": [
    {
     "name": "stdout",
     "output_type": "stream",
     "text": [
      "Number of rows: 64\n",
      "Number of columns: 28\n"
     ]
    }
   ],
   "execution_count": 1593
  },
  {
   "cell_type": "code",
   "id": "d78b3338b2d07374",
   "metadata": {
    "ExecuteTime": {
     "end_time": "2024-12-06T18:26:18.706439Z",
     "start_time": "2024-12-06T18:26:18.704464Z"
    }
   },
   "source": [
    "# Check the columns in the dataset\n",
    "games.columns"
   ],
   "outputs": [
    {
     "data": {
      "text/plain": [
       "Index(['Game_Id', 'Title', 'Release', 'Series', 'Genre', 'Sub-genre',\n",
       "       'Developer', 'Publisher', 'Country', 'Platform', 'PEGI',\n",
       "       'Customizable_main', 'Protagonist', 'Protagonist_Non_Male',\n",
       "       'Relevant_males', 'Relevant_no_males', 'Percentage_non_male',\n",
       "       'Criteria', 'Director', 'Total_team', 'female_team', 'Team_percentage',\n",
       "       'Metacritic ', 'Destructoid', 'IGN', 'GameSpot', 'Avg_Reviews',\n",
       "       'Unnamed: 27'],\n",
       "      dtype='object')"
      ]
     },
     "execution_count": 1594,
     "metadata": {},
     "output_type": "execute_result"
    }
   ],
   "execution_count": 1594
  },
  {
   "cell_type": "markdown",
   "id": "83c094842dbb732",
   "metadata": {},
   "source": [
    "Whitespace has been detected in the column names, this will be removed to avoid any issues."
   ]
  },
  {
   "cell_type": "code",
   "id": "2d7ad6f4a2129719",
   "metadata": {
    "ExecuteTime": {
     "end_time": "2024-12-06T18:26:18.744007Z",
     "start_time": "2024-12-06T18:26:18.741701Z"
    }
   },
   "source": [
    "# Remove whitespace from column names\n",
    "games.columns = games.columns.str.strip()\n",
    "games.columns"
   ],
   "outputs": [
    {
     "data": {
      "text/plain": [
       "Index(['Game_Id', 'Title', 'Release', 'Series', 'Genre', 'Sub-genre',\n",
       "       'Developer', 'Publisher', 'Country', 'Platform', 'PEGI',\n",
       "       'Customizable_main', 'Protagonist', 'Protagonist_Non_Male',\n",
       "       'Relevant_males', 'Relevant_no_males', 'Percentage_non_male',\n",
       "       'Criteria', 'Director', 'Total_team', 'female_team', 'Team_percentage',\n",
       "       'Metacritic', 'Destructoid', 'IGN', 'GameSpot', 'Avg_Reviews',\n",
       "       'Unnamed: 27'],\n",
       "      dtype='object')"
      ]
     },
     "execution_count": 1595,
     "metadata": {},
     "output_type": "execute_result"
    }
   ],
   "execution_count": 1595
  },
  {
   "cell_type": "markdown",
   "id": "31dc4651082b8c91",
   "metadata": {},
   "source": [
    "Next, the dataset will be checked for missing values."
   ]
  },
  {
   "cell_type": "code",
   "id": "22e18436222090e",
   "metadata": {
    "ExecuteTime": {
     "end_time": "2024-12-06T18:26:18.768984Z",
     "start_time": "2024-12-06T18:26:18.766455Z"
    }
   },
   "source": [
    "# Check for missing values\n",
    "games.isnull().sum()"
   ],
   "outputs": [
    {
     "data": {
      "text/plain": [
       "Game_Id                  0\n",
       "Title                    0\n",
       "Release                  0\n",
       "Series                  37\n",
       "Genre                    0\n",
       "Sub-genre                0\n",
       "Developer                0\n",
       "Publisher                0\n",
       "Country                  0\n",
       "Platform                 0\n",
       "PEGI                     0\n",
       "Customizable_main        0\n",
       "Protagonist              0\n",
       "Protagonist_Non_Male     0\n",
       "Relevant_males           0\n",
       "Relevant_no_males        0\n",
       "Percentage_non_male      0\n",
       "Criteria                 0\n",
       "Director                 0\n",
       "Total_team               0\n",
       "female_team              0\n",
       "Team_percentage          0\n",
       "Metacritic               0\n",
       "Destructoid              7\n",
       "IGN                      2\n",
       "GameSpot                 2\n",
       "Avg_Reviews              0\n",
       "Unnamed: 27             64\n",
       "dtype: int64"
      ]
     },
     "execution_count": 1596,
     "metadata": {},
     "output_type": "execute_result"
    }
   ],
   "execution_count": 1596
  },
  {
   "cell_type": "markdown",
   "id": "2cf4f70882049886",
   "metadata": {},
   "source": [
    "Missing values were found in the Series column. The null values will be replaced with 'None'.\n",
    "\n",
    "The missing values are removed to ensure that the dataset is clean and ready for analysis."
   ]
  },
  {
   "cell_type": "code",
   "id": "50cb0ead517bb093",
   "metadata": {
    "ExecuteTime": {
     "end_time": "2024-12-06T18:26:18.797060Z",
     "start_time": "2024-12-06T18:26:18.786386Z"
    }
   },
   "source": [
    "# Filter the rows with null values in the 'series' column\n",
    "games_with_null_series = games[games['Series'].isnull()]\n",
    "\n",
    "# Print the filtered rows\n",
    "games_with_null_series"
   ],
   "outputs": [
    {
     "data": {
      "text/plain": [
       "   Game_Id                               Title Release Series  \\\n",
       "13     INS                              Inside  Jun-16    NaN   \n",
       "14      UT                           Undertale  Sep-15    NaN   \n",
       "15      BB                          Bloodborne  Mar-15    NaN   \n",
       "16      SK       Shovel Knight: Shovel of Hope  Jun-14    NaN   \n",
       "17      PP                      Papers, Please  Aug-13    NaN   \n",
       "18    TLOU                      The Last of Us  Jun-13    NaN   \n",
       "20     HLM                       Hotline Miami  Oct-12    NaN   \n",
       "21     JRN                             Journey  Mar-12    NaN   \n",
       "24      TN                               Tunic  Sep-22    NaN   \n",
       "25      ER                          Elden Ring  Feb-22    NaN   \n",
       "26   TSPUD  The Stanley Parable (Ultra Deluxe)  Apr-22    NaN   \n",
       "27      NW                          Neon White  Jun-22    NaN   \n",
       "28      CH                             Cuphead  Sep-17    NaN   \n",
       "29      DL                           Deathloop  Sep-21    NaN   \n",
       "31   IWATE         I Was a Teenage Exocolonist  Aug-22    NaN   \n",
       "32     IMM                         Immortality  Aug-22    NaN   \n",
       "33     DEL                       Disco Elysium  Oct-19    NaN   \n",
       "34      HA                               Hades  Sep-21    NaN   \n",
       "35    CACW           Chicory: A Colorful World  Jun-21    NaN   \n",
       "36     ITT                        It Takes Two  Mar-21    NaN   \n",
       "37   TLOU2              The Last of Us Part II  Jun-20    NaN   \n",
       "39    OAWW       Ori and the Will of the Wisps  Mar-20    NaN   \n",
       "42  TINGWD   There is No Game: Wrong Dimension  Aug-20    NaN   \n",
       "44    SSDT           Sekiro: Shadows Die Twice  Mar-19    NaN   \n",
       "45    OABF            Ori and the Blind Forest  Mar-15    NaN   \n",
       "48   WROEF         What Remains of Edith Finch  Apr-17    NaN   \n",
       "49     CLS                             Celeste  Jan-18    NaN   \n",
       "50      DC                          Dead Cells  Aug-18    NaN   \n",
       "51    HLKN                       Hollow Knight  Feb-17    NaN   \n",
       "52    NITW                  Night in the Woods  Feb-17    NaN   \n",
       "54     BRA                          Broken Age  Jan-14    NaN   \n",
       "56    TSWP                         The Swapper  May-13    NaN   \n",
       "57     OWB                              Owlboy  Nov-16    NaN   \n",
       "59   TBOIR       The Binding of Isaac: Rebirth  Nov-14    NaN   \n",
       "60     COL                      Child of Light  Apr-14    NaN   \n",
       "61     FLR                            Florence  Feb-18    NaN   \n",
       "63    KBOS             Kena: Bridge of Spirits  Sep-21    NaN   \n",
       "\n",
       "                Genre                  Sub-genre                Developer  \\\n",
       "13             Action            Puzzle-Platform                  Paydead   \n",
       "14                RPG                        RPG                 Toby Fox   \n",
       "15                RPG                 Action RPG             FromSoftware   \n",
       "16             Action                   Platform         Yacht Club Games   \n",
       "17         Simulation          Puzzle Simulation                 3909 LLC   \n",
       "18   Action-adventure           Action-adventure              Naughty Dog   \n",
       "20             Action           Top-down Shooter           Dennaton Games   \n",
       "21          Adventure                  Adventure          Thatgamecompany   \n",
       "24   Action-adventure           Action-adventure         Andrew Shouldice   \n",
       "25                RPG                 Action RPG             FromSoftware   \n",
       "26  Interactive Story          Interactive Story            Galactic Cafe   \n",
       "27             Action                        FPS             Angel Matrix   \n",
       "28             Action               Rund and gun              Studio MDHR   \n",
       "29             Action                        FPS              Arkane Lyon   \n",
       "31                RPG               Strategy RPG           Northway Gates   \n",
       "32  Interactive Story          Interactive Story               Sam Barlow   \n",
       "33                RPG                        RPG                    ZA/UM   \n",
       "34                RPG                 Action RPG         Supergiant Games   \n",
       "35          Adventure                  Adventure                    Finji   \n",
       "36   Action-adventure           Action-adventure        Hazelight Studios   \n",
       "37   Action-adventure           Action-adventure              Naughty Dog   \n",
       "39   Action-adventure         Platform-adventure             Moon Studios   \n",
       "42  Interactive Story          Interactive Story          Draw Me A Pixel   \n",
       "44   Action-adventure           Action-adventure             FromSoftware   \n",
       "45   Action-adventure         Platform-adventure             Moon Studios   \n",
       "48          Adventure                  Adventure            Giant Sparrow   \n",
       "49             Action                   Platform        Maddy Makes Games   \n",
       "50   Action-adventure               Metroidvania              Motion Twin   \n",
       "51   Action-adventure               Metroidvania              Team Cherry   \n",
       "52          Adventure                  Adventure               Secret Lab   \n",
       "54          Adventure  Point-and-click adventure  Double Fine Productions   \n",
       "56             Action            Puzzle-Platform           Facepalm Games   \n",
       "57   Action-adventure         Platform-adventure             D-Pad Studio   \n",
       "59                RPG                  Roguelike                  Nicalis   \n",
       "60             Action               Platform RPG         Ubisoft Montreal   \n",
       "61  Interactive Story          Interactive Story                Mountains   \n",
       "63   Action-adventure           Action-adventure                Ember Lab   \n",
       "\n",
       "                        Publisher Country  Platform  ...  Director Total_team  \\\n",
       "13                       Playdead     DNK     Multi  ...         M          2   \n",
       "14                       Toby Fox     USA     Multi  ...         M          2   \n",
       "15    Sony Computer Entertainment     JPN       PS4  ...         M          5   \n",
       "16               Yacht Club Games     USA     Multi  ...         M          9   \n",
       "17                       3909 LLC     USA     Multi  ...         M          1   \n",
       "18    Sony Computer Entertainment     USA       PS3  ...         M          7   \n",
       "20               Devolver Digital     SWE     Multi  ...         M          2   \n",
       "21    Sony Computer Entertainment     USA       PS3  ...         M          7   \n",
       "24                          Finji     CAN     Multi  ...         M          3   \n",
       "25     Bandai Namco Entertainment     JPN     Multi  ...         M          6   \n",
       "26                  Galactic Cafe     GBR     Multi  ...         M          4   \n",
       "27          Annapurna Interactive     USA     Multi  ...         M          2   \n",
       "28                    Studio MDHR     CAN     Multi  ...         M          8   \n",
       "29             Bethesda Softworks     FRA     Multi  ...         M          7   \n",
       "31                          Finji     CAN     Multi  ...         F          6   \n",
       "32       Half Mermaid Productions     GBR     Multi  ...         M         13   \n",
       "33                          ZA/UM     GBR     Multi  ...         M          2   \n",
       "34               Supergiant Games     USA  Computer  ...         M         10   \n",
       "35                          Finji     USA     Multi  ...         M          3   \n",
       "36                             EA     SWE     Multi  ...         M          5   \n",
       "37  Sony Interactive Entertaiment     USA       PS4  ...         M         11   \n",
       "39              Xbox Game Studios     AUT     Multi  ...         M         10   \n",
       "42                Draw Me A Pixel     FRA  Computer  ...         M          6   \n",
       "44                     Activision     JPN     Multi  ...         M          7   \n",
       "45              Microsoft Studios     AUT     Multi  ...         M          3   \n",
       "48          Annapurna Interactive     USA     Multi  ...         M          6   \n",
       "49              Maddy Makes Games     CAN     Multi  ...         F          5   \n",
       "50                    Motion Twin     FRA     Multi  ...         M          2   \n",
       "51                    Team Cherry     AUS  Computer  ...         M          3   \n",
       "52                          Finji     AUT     Multi  ...         M          7   \n",
       "54        Double Fine Productions     USA  Computer  ...         M          6   \n",
       "56                 Facepalm Games     FIN  Computer  ...         M          1   \n",
       "57                   D-Pad Studio     NOR     Multi  ...         M          3   \n",
       "59                        Nicalis     USA     Multi  ...         M          3   \n",
       "60                        Ubisoft     CAN     Multi  ...         M          7   \n",
       "61          Annapurna Interactive     USA    Mobile  ...         M          2   \n",
       "63                      Ember Lab     USA     Multi  ...         M          3   \n",
       "\n",
       "    female_team  Team_percentage  Metacritic  Destructoid   IGN GameSpot  \\\n",
       "13            0               0%         9.1          9.5  10.0      8.0   \n",
       "14            1              50%         9.2         10.0  10.0      9.0   \n",
       "15            0               0%         9.2          9.0   9.1      9.0   \n",
       "16            1              11%         8.8          9.0   9.0      8.0   \n",
       "17            0               0%         8.9          NaN   8.7      8.0   \n",
       "18            0               0%         9.5         10.0  10.0      8.0   \n",
       "20            0               0%         8.6          9.0   8.8      8.5   \n",
       "21            1              14%         9.2          9.0   9.0      9.5   \n",
       "24            0               0%         8.5          9.0   9.0      9.0   \n",
       "25            0               0%         9.5         10.0  10.0     10.0   \n",
       "26            1              25%         9.0         10.0   9.0      8.0   \n",
       "27            0               0%         8.9          8.5   8.0      9.0   \n",
       "28            2              25%         8.7          9.5   8.8      8.5   \n",
       "29            1              14%         8.8          9.0  10.0     10.0   \n",
       "31            4              67%         8.9          NaN   NaN      NaN   \n",
       "32            4              31%         8.8          9.0   8.0      8.0   \n",
       "33            0               0%         9.1          8.5   9.6     10.0   \n",
       "34            2              20%         9.3          9.0   9.0      9.0   \n",
       "35            2              67%         8.9          9.5   9.0      9.0   \n",
       "36            1              20%         8.9          NaN   9.0      9.0   \n",
       "37            2              18%         9.3          8.5  10.0      8.0   \n",
       "39            1              10%         9.1          9.5   9.0      8.5   \n",
       "42            2              33%         8.8          NaN   NaN      9.6   \n",
       "44            0               0%         9.0          9.0   9.5      9.0   \n",
       "45            0               0%         8.8          9.5   8.5      9.0   \n",
       "48            0               0%         8.9          9.0   8.8      9.0   \n",
       "49            3              60%         9.1         10.0  10.0      9.0   \n",
       "50            0               0%         8.8          NaN   9.5      9.0   \n",
       "51            0               0%         8.8         10.0   9.4      9.0   \n",
       "52            1              14%         8.4          9.5   8.7      9.0   \n",
       "54            1              17%         7.9          9.5   9.5      7.0   \n",
       "56            0               0%         8.7         10.0   9.3      8.0   \n",
       "57            0               0%         8.7         10.0   9.3      9.0   \n",
       "59            0               0%         8.4         10.0   9.0      8.0   \n",
       "60            3              43%         8.2          8.5   9.3      8.0   \n",
       "61            0               0%         8.7          8.0   9.6      NaN   \n",
       "63            1              33%         8.2          8.0   8.0      9.0   \n",
       "\n",
       "   Avg_Reviews  Unnamed: 27  \n",
       "13         9.2          NaN  \n",
       "14         9.6          NaN  \n",
       "15         9.1          NaN  \n",
       "16         8.7          NaN  \n",
       "17         8.5          NaN  \n",
       "18         9.4          NaN  \n",
       "20         8.7          NaN  \n",
       "21         9.2          NaN  \n",
       "24         8.9          NaN  \n",
       "25         9.9          NaN  \n",
       "26         9.0          NaN  \n",
       "27         8.6          NaN  \n",
       "28         8.9          NaN  \n",
       "29         9.5          NaN  \n",
       "31         8.9          NaN  \n",
       "32         8.5          NaN  \n",
       "33         9.3          NaN  \n",
       "34         9.1          NaN  \n",
       "35         9.1          NaN  \n",
       "36         9.0          NaN  \n",
       "37         9.0          NaN  \n",
       "39         9.0          NaN  \n",
       "42         9.2          NaN  \n",
       "44         9.1          NaN  \n",
       "45         9.0          NaN  \n",
       "48         8.9          NaN  \n",
       "49         9.5          NaN  \n",
       "50         9.1          NaN  \n",
       "51         9.3          NaN  \n",
       "52         8.9          NaN  \n",
       "54         8.5          NaN  \n",
       "56         9.0          NaN  \n",
       "57         9.3          NaN  \n",
       "59         8.9          NaN  \n",
       "60         8.5          NaN  \n",
       "61         8.8          NaN  \n",
       "63         8.3          NaN  \n",
       "\n",
       "[37 rows x 28 columns]"
      ],
      "text/html": [
       "<div>\n",
       "<style scoped>\n",
       "    .dataframe tbody tr th:only-of-type {\n",
       "        vertical-align: middle;\n",
       "    }\n",
       "\n",
       "    .dataframe tbody tr th {\n",
       "        vertical-align: top;\n",
       "    }\n",
       "\n",
       "    .dataframe thead th {\n",
       "        text-align: right;\n",
       "    }\n",
       "</style>\n",
       "<table border=\"1\" class=\"dataframe\">\n",
       "  <thead>\n",
       "    <tr style=\"text-align: right;\">\n",
       "      <th></th>\n",
       "      <th>Game_Id</th>\n",
       "      <th>Title</th>\n",
       "      <th>Release</th>\n",
       "      <th>Series</th>\n",
       "      <th>Genre</th>\n",
       "      <th>Sub-genre</th>\n",
       "      <th>Developer</th>\n",
       "      <th>Publisher</th>\n",
       "      <th>Country</th>\n",
       "      <th>Platform</th>\n",
       "      <th>...</th>\n",
       "      <th>Director</th>\n",
       "      <th>Total_team</th>\n",
       "      <th>female_team</th>\n",
       "      <th>Team_percentage</th>\n",
       "      <th>Metacritic</th>\n",
       "      <th>Destructoid</th>\n",
       "      <th>IGN</th>\n",
       "      <th>GameSpot</th>\n",
       "      <th>Avg_Reviews</th>\n",
       "      <th>Unnamed: 27</th>\n",
       "    </tr>\n",
       "  </thead>\n",
       "  <tbody>\n",
       "    <tr>\n",
       "      <th>13</th>\n",
       "      <td>INS</td>\n",
       "      <td>Inside</td>\n",
       "      <td>Jun-16</td>\n",
       "      <td>NaN</td>\n",
       "      <td>Action</td>\n",
       "      <td>Puzzle-Platform</td>\n",
       "      <td>Paydead</td>\n",
       "      <td>Playdead</td>\n",
       "      <td>DNK</td>\n",
       "      <td>Multi</td>\n",
       "      <td>...</td>\n",
       "      <td>M</td>\n",
       "      <td>2</td>\n",
       "      <td>0</td>\n",
       "      <td>0%</td>\n",
       "      <td>9.1</td>\n",
       "      <td>9.5</td>\n",
       "      <td>10.0</td>\n",
       "      <td>8.0</td>\n",
       "      <td>9.2</td>\n",
       "      <td>NaN</td>\n",
       "    </tr>\n",
       "    <tr>\n",
       "      <th>14</th>\n",
       "      <td>UT</td>\n",
       "      <td>Undertale</td>\n",
       "      <td>Sep-15</td>\n",
       "      <td>NaN</td>\n",
       "      <td>RPG</td>\n",
       "      <td>RPG</td>\n",
       "      <td>Toby Fox</td>\n",
       "      <td>Toby Fox</td>\n",
       "      <td>USA</td>\n",
       "      <td>Multi</td>\n",
       "      <td>...</td>\n",
       "      <td>M</td>\n",
       "      <td>2</td>\n",
       "      <td>1</td>\n",
       "      <td>50%</td>\n",
       "      <td>9.2</td>\n",
       "      <td>10.0</td>\n",
       "      <td>10.0</td>\n",
       "      <td>9.0</td>\n",
       "      <td>9.6</td>\n",
       "      <td>NaN</td>\n",
       "    </tr>\n",
       "    <tr>\n",
       "      <th>15</th>\n",
       "      <td>BB</td>\n",
       "      <td>Bloodborne</td>\n",
       "      <td>Mar-15</td>\n",
       "      <td>NaN</td>\n",
       "      <td>RPG</td>\n",
       "      <td>Action RPG</td>\n",
       "      <td>FromSoftware</td>\n",
       "      <td>Sony Computer Entertainment</td>\n",
       "      <td>JPN</td>\n",
       "      <td>PS4</td>\n",
       "      <td>...</td>\n",
       "      <td>M</td>\n",
       "      <td>5</td>\n",
       "      <td>0</td>\n",
       "      <td>0%</td>\n",
       "      <td>9.2</td>\n",
       "      <td>9.0</td>\n",
       "      <td>9.1</td>\n",
       "      <td>9.0</td>\n",
       "      <td>9.1</td>\n",
       "      <td>NaN</td>\n",
       "    </tr>\n",
       "    <tr>\n",
       "      <th>16</th>\n",
       "      <td>SK</td>\n",
       "      <td>Shovel Knight: Shovel of Hope</td>\n",
       "      <td>Jun-14</td>\n",
       "      <td>NaN</td>\n",
       "      <td>Action</td>\n",
       "      <td>Platform</td>\n",
       "      <td>Yacht Club Games</td>\n",
       "      <td>Yacht Club Games</td>\n",
       "      <td>USA</td>\n",
       "      <td>Multi</td>\n",
       "      <td>...</td>\n",
       "      <td>M</td>\n",
       "      <td>9</td>\n",
       "      <td>1</td>\n",
       "      <td>11%</td>\n",
       "      <td>8.8</td>\n",
       "      <td>9.0</td>\n",
       "      <td>9.0</td>\n",
       "      <td>8.0</td>\n",
       "      <td>8.7</td>\n",
       "      <td>NaN</td>\n",
       "    </tr>\n",
       "    <tr>\n",
       "      <th>17</th>\n",
       "      <td>PP</td>\n",
       "      <td>Papers, Please</td>\n",
       "      <td>Aug-13</td>\n",
       "      <td>NaN</td>\n",
       "      <td>Simulation</td>\n",
       "      <td>Puzzle Simulation</td>\n",
       "      <td>3909 LLC</td>\n",
       "      <td>3909 LLC</td>\n",
       "      <td>USA</td>\n",
       "      <td>Multi</td>\n",
       "      <td>...</td>\n",
       "      <td>M</td>\n",
       "      <td>1</td>\n",
       "      <td>0</td>\n",
       "      <td>0%</td>\n",
       "      <td>8.9</td>\n",
       "      <td>NaN</td>\n",
       "      <td>8.7</td>\n",
       "      <td>8.0</td>\n",
       "      <td>8.5</td>\n",
       "      <td>NaN</td>\n",
       "    </tr>\n",
       "    <tr>\n",
       "      <th>18</th>\n",
       "      <td>TLOU</td>\n",
       "      <td>The Last of Us</td>\n",
       "      <td>Jun-13</td>\n",
       "      <td>NaN</td>\n",
       "      <td>Action-adventure</td>\n",
       "      <td>Action-adventure</td>\n",
       "      <td>Naughty Dog</td>\n",
       "      <td>Sony Computer Entertainment</td>\n",
       "      <td>USA</td>\n",
       "      <td>PS3</td>\n",
       "      <td>...</td>\n",
       "      <td>M</td>\n",
       "      <td>7</td>\n",
       "      <td>0</td>\n",
       "      <td>0%</td>\n",
       "      <td>9.5</td>\n",
       "      <td>10.0</td>\n",
       "      <td>10.0</td>\n",
       "      <td>8.0</td>\n",
       "      <td>9.4</td>\n",
       "      <td>NaN</td>\n",
       "    </tr>\n",
       "    <tr>\n",
       "      <th>20</th>\n",
       "      <td>HLM</td>\n",
       "      <td>Hotline Miami</td>\n",
       "      <td>Oct-12</td>\n",
       "      <td>NaN</td>\n",
       "      <td>Action</td>\n",
       "      <td>Top-down Shooter</td>\n",
       "      <td>Dennaton Games</td>\n",
       "      <td>Devolver Digital</td>\n",
       "      <td>SWE</td>\n",
       "      <td>Multi</td>\n",
       "      <td>...</td>\n",
       "      <td>M</td>\n",
       "      <td>2</td>\n",
       "      <td>0</td>\n",
       "      <td>0%</td>\n",
       "      <td>8.6</td>\n",
       "      <td>9.0</td>\n",
       "      <td>8.8</td>\n",
       "      <td>8.5</td>\n",
       "      <td>8.7</td>\n",
       "      <td>NaN</td>\n",
       "    </tr>\n",
       "    <tr>\n",
       "      <th>21</th>\n",
       "      <td>JRN</td>\n",
       "      <td>Journey</td>\n",
       "      <td>Mar-12</td>\n",
       "      <td>NaN</td>\n",
       "      <td>Adventure</td>\n",
       "      <td>Adventure</td>\n",
       "      <td>Thatgamecompany</td>\n",
       "      <td>Sony Computer Entertainment</td>\n",
       "      <td>USA</td>\n",
       "      <td>PS3</td>\n",
       "      <td>...</td>\n",
       "      <td>M</td>\n",
       "      <td>7</td>\n",
       "      <td>1</td>\n",
       "      <td>14%</td>\n",
       "      <td>9.2</td>\n",
       "      <td>9.0</td>\n",
       "      <td>9.0</td>\n",
       "      <td>9.5</td>\n",
       "      <td>9.2</td>\n",
       "      <td>NaN</td>\n",
       "    </tr>\n",
       "    <tr>\n",
       "      <th>24</th>\n",
       "      <td>TN</td>\n",
       "      <td>Tunic</td>\n",
       "      <td>Sep-22</td>\n",
       "      <td>NaN</td>\n",
       "      <td>Action-adventure</td>\n",
       "      <td>Action-adventure</td>\n",
       "      <td>Andrew Shouldice</td>\n",
       "      <td>Finji</td>\n",
       "      <td>CAN</td>\n",
       "      <td>Multi</td>\n",
       "      <td>...</td>\n",
       "      <td>M</td>\n",
       "      <td>3</td>\n",
       "      <td>0</td>\n",
       "      <td>0%</td>\n",
       "      <td>8.5</td>\n",
       "      <td>9.0</td>\n",
       "      <td>9.0</td>\n",
       "      <td>9.0</td>\n",
       "      <td>8.9</td>\n",
       "      <td>NaN</td>\n",
       "    </tr>\n",
       "    <tr>\n",
       "      <th>25</th>\n",
       "      <td>ER</td>\n",
       "      <td>Elden Ring</td>\n",
       "      <td>Feb-22</td>\n",
       "      <td>NaN</td>\n",
       "      <td>RPG</td>\n",
       "      <td>Action RPG</td>\n",
       "      <td>FromSoftware</td>\n",
       "      <td>Bandai Namco Entertainment</td>\n",
       "      <td>JPN</td>\n",
       "      <td>Multi</td>\n",
       "      <td>...</td>\n",
       "      <td>M</td>\n",
       "      <td>6</td>\n",
       "      <td>0</td>\n",
       "      <td>0%</td>\n",
       "      <td>9.5</td>\n",
       "      <td>10.0</td>\n",
       "      <td>10.0</td>\n",
       "      <td>10.0</td>\n",
       "      <td>9.9</td>\n",
       "      <td>NaN</td>\n",
       "    </tr>\n",
       "    <tr>\n",
       "      <th>26</th>\n",
       "      <td>TSPUD</td>\n",
       "      <td>The Stanley Parable (Ultra Deluxe)</td>\n",
       "      <td>Apr-22</td>\n",
       "      <td>NaN</td>\n",
       "      <td>Interactive Story</td>\n",
       "      <td>Interactive Story</td>\n",
       "      <td>Galactic Cafe</td>\n",
       "      <td>Galactic Cafe</td>\n",
       "      <td>GBR</td>\n",
       "      <td>Multi</td>\n",
       "      <td>...</td>\n",
       "      <td>M</td>\n",
       "      <td>4</td>\n",
       "      <td>1</td>\n",
       "      <td>25%</td>\n",
       "      <td>9.0</td>\n",
       "      <td>10.0</td>\n",
       "      <td>9.0</td>\n",
       "      <td>8.0</td>\n",
       "      <td>9.0</td>\n",
       "      <td>NaN</td>\n",
       "    </tr>\n",
       "    <tr>\n",
       "      <th>27</th>\n",
       "      <td>NW</td>\n",
       "      <td>Neon White</td>\n",
       "      <td>Jun-22</td>\n",
       "      <td>NaN</td>\n",
       "      <td>Action</td>\n",
       "      <td>FPS</td>\n",
       "      <td>Angel Matrix</td>\n",
       "      <td>Annapurna Interactive</td>\n",
       "      <td>USA</td>\n",
       "      <td>Multi</td>\n",
       "      <td>...</td>\n",
       "      <td>M</td>\n",
       "      <td>2</td>\n",
       "      <td>0</td>\n",
       "      <td>0%</td>\n",
       "      <td>8.9</td>\n",
       "      <td>8.5</td>\n",
       "      <td>8.0</td>\n",
       "      <td>9.0</td>\n",
       "      <td>8.6</td>\n",
       "      <td>NaN</td>\n",
       "    </tr>\n",
       "    <tr>\n",
       "      <th>28</th>\n",
       "      <td>CH</td>\n",
       "      <td>Cuphead</td>\n",
       "      <td>Sep-17</td>\n",
       "      <td>NaN</td>\n",
       "      <td>Action</td>\n",
       "      <td>Rund and gun</td>\n",
       "      <td>Studio MDHR</td>\n",
       "      <td>Studio MDHR</td>\n",
       "      <td>CAN</td>\n",
       "      <td>Multi</td>\n",
       "      <td>...</td>\n",
       "      <td>M</td>\n",
       "      <td>8</td>\n",
       "      <td>2</td>\n",
       "      <td>25%</td>\n",
       "      <td>8.7</td>\n",
       "      <td>9.5</td>\n",
       "      <td>8.8</td>\n",
       "      <td>8.5</td>\n",
       "      <td>8.9</td>\n",
       "      <td>NaN</td>\n",
       "    </tr>\n",
       "    <tr>\n",
       "      <th>29</th>\n",
       "      <td>DL</td>\n",
       "      <td>Deathloop</td>\n",
       "      <td>Sep-21</td>\n",
       "      <td>NaN</td>\n",
       "      <td>Action</td>\n",
       "      <td>FPS</td>\n",
       "      <td>Arkane Lyon</td>\n",
       "      <td>Bethesda Softworks</td>\n",
       "      <td>FRA</td>\n",
       "      <td>Multi</td>\n",
       "      <td>...</td>\n",
       "      <td>M</td>\n",
       "      <td>7</td>\n",
       "      <td>1</td>\n",
       "      <td>14%</td>\n",
       "      <td>8.8</td>\n",
       "      <td>9.0</td>\n",
       "      <td>10.0</td>\n",
       "      <td>10.0</td>\n",
       "      <td>9.5</td>\n",
       "      <td>NaN</td>\n",
       "    </tr>\n",
       "    <tr>\n",
       "      <th>31</th>\n",
       "      <td>IWATE</td>\n",
       "      <td>I Was a Teenage Exocolonist</td>\n",
       "      <td>Aug-22</td>\n",
       "      <td>NaN</td>\n",
       "      <td>RPG</td>\n",
       "      <td>Strategy RPG</td>\n",
       "      <td>Northway Gates</td>\n",
       "      <td>Finji</td>\n",
       "      <td>CAN</td>\n",
       "      <td>Multi</td>\n",
       "      <td>...</td>\n",
       "      <td>F</td>\n",
       "      <td>6</td>\n",
       "      <td>4</td>\n",
       "      <td>67%</td>\n",
       "      <td>8.9</td>\n",
       "      <td>NaN</td>\n",
       "      <td>NaN</td>\n",
       "      <td>NaN</td>\n",
       "      <td>8.9</td>\n",
       "      <td>NaN</td>\n",
       "    </tr>\n",
       "    <tr>\n",
       "      <th>32</th>\n",
       "      <td>IMM</td>\n",
       "      <td>Immortality</td>\n",
       "      <td>Aug-22</td>\n",
       "      <td>NaN</td>\n",
       "      <td>Interactive Story</td>\n",
       "      <td>Interactive Story</td>\n",
       "      <td>Sam Barlow</td>\n",
       "      <td>Half Mermaid Productions</td>\n",
       "      <td>GBR</td>\n",
       "      <td>Multi</td>\n",
       "      <td>...</td>\n",
       "      <td>M</td>\n",
       "      <td>13</td>\n",
       "      <td>4</td>\n",
       "      <td>31%</td>\n",
       "      <td>8.8</td>\n",
       "      <td>9.0</td>\n",
       "      <td>8.0</td>\n",
       "      <td>8.0</td>\n",
       "      <td>8.5</td>\n",
       "      <td>NaN</td>\n",
       "    </tr>\n",
       "    <tr>\n",
       "      <th>33</th>\n",
       "      <td>DEL</td>\n",
       "      <td>Disco Elysium</td>\n",
       "      <td>Oct-19</td>\n",
       "      <td>NaN</td>\n",
       "      <td>RPG</td>\n",
       "      <td>RPG</td>\n",
       "      <td>ZA/UM</td>\n",
       "      <td>ZA/UM</td>\n",
       "      <td>GBR</td>\n",
       "      <td>Multi</td>\n",
       "      <td>...</td>\n",
       "      <td>M</td>\n",
       "      <td>2</td>\n",
       "      <td>0</td>\n",
       "      <td>0%</td>\n",
       "      <td>9.1</td>\n",
       "      <td>8.5</td>\n",
       "      <td>9.6</td>\n",
       "      <td>10.0</td>\n",
       "      <td>9.3</td>\n",
       "      <td>NaN</td>\n",
       "    </tr>\n",
       "    <tr>\n",
       "      <th>34</th>\n",
       "      <td>HA</td>\n",
       "      <td>Hades</td>\n",
       "      <td>Sep-21</td>\n",
       "      <td>NaN</td>\n",
       "      <td>RPG</td>\n",
       "      <td>Action RPG</td>\n",
       "      <td>Supergiant Games</td>\n",
       "      <td>Supergiant Games</td>\n",
       "      <td>USA</td>\n",
       "      <td>Computer</td>\n",
       "      <td>...</td>\n",
       "      <td>M</td>\n",
       "      <td>10</td>\n",
       "      <td>2</td>\n",
       "      <td>20%</td>\n",
       "      <td>9.3</td>\n",
       "      <td>9.0</td>\n",
       "      <td>9.0</td>\n",
       "      <td>9.0</td>\n",
       "      <td>9.1</td>\n",
       "      <td>NaN</td>\n",
       "    </tr>\n",
       "    <tr>\n",
       "      <th>35</th>\n",
       "      <td>CACW</td>\n",
       "      <td>Chicory: A Colorful World</td>\n",
       "      <td>Jun-21</td>\n",
       "      <td>NaN</td>\n",
       "      <td>Adventure</td>\n",
       "      <td>Adventure</td>\n",
       "      <td>Finji</td>\n",
       "      <td>Finji</td>\n",
       "      <td>USA</td>\n",
       "      <td>Multi</td>\n",
       "      <td>...</td>\n",
       "      <td>M</td>\n",
       "      <td>3</td>\n",
       "      <td>2</td>\n",
       "      <td>67%</td>\n",
       "      <td>8.9</td>\n",
       "      <td>9.5</td>\n",
       "      <td>9.0</td>\n",
       "      <td>9.0</td>\n",
       "      <td>9.1</td>\n",
       "      <td>NaN</td>\n",
       "    </tr>\n",
       "    <tr>\n",
       "      <th>36</th>\n",
       "      <td>ITT</td>\n",
       "      <td>It Takes Two</td>\n",
       "      <td>Mar-21</td>\n",
       "      <td>NaN</td>\n",
       "      <td>Action-adventure</td>\n",
       "      <td>Action-adventure</td>\n",
       "      <td>Hazelight Studios</td>\n",
       "      <td>EA</td>\n",
       "      <td>SWE</td>\n",
       "      <td>Multi</td>\n",
       "      <td>...</td>\n",
       "      <td>M</td>\n",
       "      <td>5</td>\n",
       "      <td>1</td>\n",
       "      <td>20%</td>\n",
       "      <td>8.9</td>\n",
       "      <td>NaN</td>\n",
       "      <td>9.0</td>\n",
       "      <td>9.0</td>\n",
       "      <td>9.0</td>\n",
       "      <td>NaN</td>\n",
       "    </tr>\n",
       "    <tr>\n",
       "      <th>37</th>\n",
       "      <td>TLOU2</td>\n",
       "      <td>The Last of Us Part II</td>\n",
       "      <td>Jun-20</td>\n",
       "      <td>NaN</td>\n",
       "      <td>Action-adventure</td>\n",
       "      <td>Action-adventure</td>\n",
       "      <td>Naughty Dog</td>\n",
       "      <td>Sony Interactive Entertaiment</td>\n",
       "      <td>USA</td>\n",
       "      <td>PS4</td>\n",
       "      <td>...</td>\n",
       "      <td>M</td>\n",
       "      <td>11</td>\n",
       "      <td>2</td>\n",
       "      <td>18%</td>\n",
       "      <td>9.3</td>\n",
       "      <td>8.5</td>\n",
       "      <td>10.0</td>\n",
       "      <td>8.0</td>\n",
       "      <td>9.0</td>\n",
       "      <td>NaN</td>\n",
       "    </tr>\n",
       "    <tr>\n",
       "      <th>39</th>\n",
       "      <td>OAWW</td>\n",
       "      <td>Ori and the Will of the Wisps</td>\n",
       "      <td>Mar-20</td>\n",
       "      <td>NaN</td>\n",
       "      <td>Action-adventure</td>\n",
       "      <td>Platform-adventure</td>\n",
       "      <td>Moon Studios</td>\n",
       "      <td>Xbox Game Studios</td>\n",
       "      <td>AUT</td>\n",
       "      <td>Multi</td>\n",
       "      <td>...</td>\n",
       "      <td>M</td>\n",
       "      <td>10</td>\n",
       "      <td>1</td>\n",
       "      <td>10%</td>\n",
       "      <td>9.1</td>\n",
       "      <td>9.5</td>\n",
       "      <td>9.0</td>\n",
       "      <td>8.5</td>\n",
       "      <td>9.0</td>\n",
       "      <td>NaN</td>\n",
       "    </tr>\n",
       "    <tr>\n",
       "      <th>42</th>\n",
       "      <td>TINGWD</td>\n",
       "      <td>There is No Game: Wrong Dimension</td>\n",
       "      <td>Aug-20</td>\n",
       "      <td>NaN</td>\n",
       "      <td>Interactive Story</td>\n",
       "      <td>Interactive Story</td>\n",
       "      <td>Draw Me A Pixel</td>\n",
       "      <td>Draw Me A Pixel</td>\n",
       "      <td>FRA</td>\n",
       "      <td>Computer</td>\n",
       "      <td>...</td>\n",
       "      <td>M</td>\n",
       "      <td>6</td>\n",
       "      <td>2</td>\n",
       "      <td>33%</td>\n",
       "      <td>8.8</td>\n",
       "      <td>NaN</td>\n",
       "      <td>NaN</td>\n",
       "      <td>9.6</td>\n",
       "      <td>9.2</td>\n",
       "      <td>NaN</td>\n",
       "    </tr>\n",
       "    <tr>\n",
       "      <th>44</th>\n",
       "      <td>SSDT</td>\n",
       "      <td>Sekiro: Shadows Die Twice</td>\n",
       "      <td>Mar-19</td>\n",
       "      <td>NaN</td>\n",
       "      <td>Action-adventure</td>\n",
       "      <td>Action-adventure</td>\n",
       "      <td>FromSoftware</td>\n",
       "      <td>Activision</td>\n",
       "      <td>JPN</td>\n",
       "      <td>Multi</td>\n",
       "      <td>...</td>\n",
       "      <td>M</td>\n",
       "      <td>7</td>\n",
       "      <td>0</td>\n",
       "      <td>0%</td>\n",
       "      <td>9.0</td>\n",
       "      <td>9.0</td>\n",
       "      <td>9.5</td>\n",
       "      <td>9.0</td>\n",
       "      <td>9.1</td>\n",
       "      <td>NaN</td>\n",
       "    </tr>\n",
       "    <tr>\n",
       "      <th>45</th>\n",
       "      <td>OABF</td>\n",
       "      <td>Ori and the Blind Forest</td>\n",
       "      <td>Mar-15</td>\n",
       "      <td>NaN</td>\n",
       "      <td>Action-adventure</td>\n",
       "      <td>Platform-adventure</td>\n",
       "      <td>Moon Studios</td>\n",
       "      <td>Microsoft Studios</td>\n",
       "      <td>AUT</td>\n",
       "      <td>Multi</td>\n",
       "      <td>...</td>\n",
       "      <td>M</td>\n",
       "      <td>3</td>\n",
       "      <td>0</td>\n",
       "      <td>0%</td>\n",
       "      <td>8.8</td>\n",
       "      <td>9.5</td>\n",
       "      <td>8.5</td>\n",
       "      <td>9.0</td>\n",
       "      <td>9.0</td>\n",
       "      <td>NaN</td>\n",
       "    </tr>\n",
       "    <tr>\n",
       "      <th>48</th>\n",
       "      <td>WROEF</td>\n",
       "      <td>What Remains of Edith Finch</td>\n",
       "      <td>Apr-17</td>\n",
       "      <td>NaN</td>\n",
       "      <td>Adventure</td>\n",
       "      <td>Adventure</td>\n",
       "      <td>Giant Sparrow</td>\n",
       "      <td>Annapurna Interactive</td>\n",
       "      <td>USA</td>\n",
       "      <td>Multi</td>\n",
       "      <td>...</td>\n",
       "      <td>M</td>\n",
       "      <td>6</td>\n",
       "      <td>0</td>\n",
       "      <td>0%</td>\n",
       "      <td>8.9</td>\n",
       "      <td>9.0</td>\n",
       "      <td>8.8</td>\n",
       "      <td>9.0</td>\n",
       "      <td>8.9</td>\n",
       "      <td>NaN</td>\n",
       "    </tr>\n",
       "    <tr>\n",
       "      <th>49</th>\n",
       "      <td>CLS</td>\n",
       "      <td>Celeste</td>\n",
       "      <td>Jan-18</td>\n",
       "      <td>NaN</td>\n",
       "      <td>Action</td>\n",
       "      <td>Platform</td>\n",
       "      <td>Maddy Makes Games</td>\n",
       "      <td>Maddy Makes Games</td>\n",
       "      <td>CAN</td>\n",
       "      <td>Multi</td>\n",
       "      <td>...</td>\n",
       "      <td>F</td>\n",
       "      <td>5</td>\n",
       "      <td>3</td>\n",
       "      <td>60%</td>\n",
       "      <td>9.1</td>\n",
       "      <td>10.0</td>\n",
       "      <td>10.0</td>\n",
       "      <td>9.0</td>\n",
       "      <td>9.5</td>\n",
       "      <td>NaN</td>\n",
       "    </tr>\n",
       "    <tr>\n",
       "      <th>50</th>\n",
       "      <td>DC</td>\n",
       "      <td>Dead Cells</td>\n",
       "      <td>Aug-18</td>\n",
       "      <td>NaN</td>\n",
       "      <td>Action-adventure</td>\n",
       "      <td>Metroidvania</td>\n",
       "      <td>Motion Twin</td>\n",
       "      <td>Motion Twin</td>\n",
       "      <td>FRA</td>\n",
       "      <td>Multi</td>\n",
       "      <td>...</td>\n",
       "      <td>M</td>\n",
       "      <td>2</td>\n",
       "      <td>0</td>\n",
       "      <td>0%</td>\n",
       "      <td>8.8</td>\n",
       "      <td>NaN</td>\n",
       "      <td>9.5</td>\n",
       "      <td>9.0</td>\n",
       "      <td>9.1</td>\n",
       "      <td>NaN</td>\n",
       "    </tr>\n",
       "    <tr>\n",
       "      <th>51</th>\n",
       "      <td>HLKN</td>\n",
       "      <td>Hollow Knight</td>\n",
       "      <td>Feb-17</td>\n",
       "      <td>NaN</td>\n",
       "      <td>Action-adventure</td>\n",
       "      <td>Metroidvania</td>\n",
       "      <td>Team Cherry</td>\n",
       "      <td>Team Cherry</td>\n",
       "      <td>AUS</td>\n",
       "      <td>Computer</td>\n",
       "      <td>...</td>\n",
       "      <td>M</td>\n",
       "      <td>3</td>\n",
       "      <td>0</td>\n",
       "      <td>0%</td>\n",
       "      <td>8.8</td>\n",
       "      <td>10.0</td>\n",
       "      <td>9.4</td>\n",
       "      <td>9.0</td>\n",
       "      <td>9.3</td>\n",
       "      <td>NaN</td>\n",
       "    </tr>\n",
       "    <tr>\n",
       "      <th>52</th>\n",
       "      <td>NITW</td>\n",
       "      <td>Night in the Woods</td>\n",
       "      <td>Feb-17</td>\n",
       "      <td>NaN</td>\n",
       "      <td>Adventure</td>\n",
       "      <td>Adventure</td>\n",
       "      <td>Secret Lab</td>\n",
       "      <td>Finji</td>\n",
       "      <td>AUT</td>\n",
       "      <td>Multi</td>\n",
       "      <td>...</td>\n",
       "      <td>M</td>\n",
       "      <td>7</td>\n",
       "      <td>1</td>\n",
       "      <td>14%</td>\n",
       "      <td>8.4</td>\n",
       "      <td>9.5</td>\n",
       "      <td>8.7</td>\n",
       "      <td>9.0</td>\n",
       "      <td>8.9</td>\n",
       "      <td>NaN</td>\n",
       "    </tr>\n",
       "    <tr>\n",
       "      <th>54</th>\n",
       "      <td>BRA</td>\n",
       "      <td>Broken Age</td>\n",
       "      <td>Jan-14</td>\n",
       "      <td>NaN</td>\n",
       "      <td>Adventure</td>\n",
       "      <td>Point-and-click adventure</td>\n",
       "      <td>Double Fine Productions</td>\n",
       "      <td>Double Fine Productions</td>\n",
       "      <td>USA</td>\n",
       "      <td>Computer</td>\n",
       "      <td>...</td>\n",
       "      <td>M</td>\n",
       "      <td>6</td>\n",
       "      <td>1</td>\n",
       "      <td>17%</td>\n",
       "      <td>7.9</td>\n",
       "      <td>9.5</td>\n",
       "      <td>9.5</td>\n",
       "      <td>7.0</td>\n",
       "      <td>8.5</td>\n",
       "      <td>NaN</td>\n",
       "    </tr>\n",
       "    <tr>\n",
       "      <th>56</th>\n",
       "      <td>TSWP</td>\n",
       "      <td>The Swapper</td>\n",
       "      <td>May-13</td>\n",
       "      <td>NaN</td>\n",
       "      <td>Action</td>\n",
       "      <td>Puzzle-Platform</td>\n",
       "      <td>Facepalm Games</td>\n",
       "      <td>Facepalm Games</td>\n",
       "      <td>FIN</td>\n",
       "      <td>Computer</td>\n",
       "      <td>...</td>\n",
       "      <td>M</td>\n",
       "      <td>1</td>\n",
       "      <td>0</td>\n",
       "      <td>0%</td>\n",
       "      <td>8.7</td>\n",
       "      <td>10.0</td>\n",
       "      <td>9.3</td>\n",
       "      <td>8.0</td>\n",
       "      <td>9.0</td>\n",
       "      <td>NaN</td>\n",
       "    </tr>\n",
       "    <tr>\n",
       "      <th>57</th>\n",
       "      <td>OWB</td>\n",
       "      <td>Owlboy</td>\n",
       "      <td>Nov-16</td>\n",
       "      <td>NaN</td>\n",
       "      <td>Action-adventure</td>\n",
       "      <td>Platform-adventure</td>\n",
       "      <td>D-Pad Studio</td>\n",
       "      <td>D-Pad Studio</td>\n",
       "      <td>NOR</td>\n",
       "      <td>Multi</td>\n",
       "      <td>...</td>\n",
       "      <td>M</td>\n",
       "      <td>3</td>\n",
       "      <td>0</td>\n",
       "      <td>0%</td>\n",
       "      <td>8.7</td>\n",
       "      <td>10.0</td>\n",
       "      <td>9.3</td>\n",
       "      <td>9.0</td>\n",
       "      <td>9.3</td>\n",
       "      <td>NaN</td>\n",
       "    </tr>\n",
       "    <tr>\n",
       "      <th>59</th>\n",
       "      <td>TBOIR</td>\n",
       "      <td>The Binding of Isaac: Rebirth</td>\n",
       "      <td>Nov-14</td>\n",
       "      <td>NaN</td>\n",
       "      <td>RPG</td>\n",
       "      <td>Roguelike</td>\n",
       "      <td>Nicalis</td>\n",
       "      <td>Nicalis</td>\n",
       "      <td>USA</td>\n",
       "      <td>Multi</td>\n",
       "      <td>...</td>\n",
       "      <td>M</td>\n",
       "      <td>3</td>\n",
       "      <td>0</td>\n",
       "      <td>0%</td>\n",
       "      <td>8.4</td>\n",
       "      <td>10.0</td>\n",
       "      <td>9.0</td>\n",
       "      <td>8.0</td>\n",
       "      <td>8.9</td>\n",
       "      <td>NaN</td>\n",
       "    </tr>\n",
       "    <tr>\n",
       "      <th>60</th>\n",
       "      <td>COL</td>\n",
       "      <td>Child of Light</td>\n",
       "      <td>Apr-14</td>\n",
       "      <td>NaN</td>\n",
       "      <td>Action</td>\n",
       "      <td>Platform RPG</td>\n",
       "      <td>Ubisoft Montreal</td>\n",
       "      <td>Ubisoft</td>\n",
       "      <td>CAN</td>\n",
       "      <td>Multi</td>\n",
       "      <td>...</td>\n",
       "      <td>M</td>\n",
       "      <td>7</td>\n",
       "      <td>3</td>\n",
       "      <td>43%</td>\n",
       "      <td>8.2</td>\n",
       "      <td>8.5</td>\n",
       "      <td>9.3</td>\n",
       "      <td>8.0</td>\n",
       "      <td>8.5</td>\n",
       "      <td>NaN</td>\n",
       "    </tr>\n",
       "    <tr>\n",
       "      <th>61</th>\n",
       "      <td>FLR</td>\n",
       "      <td>Florence</td>\n",
       "      <td>Feb-18</td>\n",
       "      <td>NaN</td>\n",
       "      <td>Interactive Story</td>\n",
       "      <td>Interactive Story</td>\n",
       "      <td>Mountains</td>\n",
       "      <td>Annapurna Interactive</td>\n",
       "      <td>USA</td>\n",
       "      <td>Mobile</td>\n",
       "      <td>...</td>\n",
       "      <td>M</td>\n",
       "      <td>2</td>\n",
       "      <td>0</td>\n",
       "      <td>0%</td>\n",
       "      <td>8.7</td>\n",
       "      <td>8.0</td>\n",
       "      <td>9.6</td>\n",
       "      <td>NaN</td>\n",
       "      <td>8.8</td>\n",
       "      <td>NaN</td>\n",
       "    </tr>\n",
       "    <tr>\n",
       "      <th>63</th>\n",
       "      <td>KBOS</td>\n",
       "      <td>Kena: Bridge of Spirits</td>\n",
       "      <td>Sep-21</td>\n",
       "      <td>NaN</td>\n",
       "      <td>Action-adventure</td>\n",
       "      <td>Action-adventure</td>\n",
       "      <td>Ember Lab</td>\n",
       "      <td>Ember Lab</td>\n",
       "      <td>USA</td>\n",
       "      <td>Multi</td>\n",
       "      <td>...</td>\n",
       "      <td>M</td>\n",
       "      <td>3</td>\n",
       "      <td>1</td>\n",
       "      <td>33%</td>\n",
       "      <td>8.2</td>\n",
       "      <td>8.0</td>\n",
       "      <td>8.0</td>\n",
       "      <td>9.0</td>\n",
       "      <td>8.3</td>\n",
       "      <td>NaN</td>\n",
       "    </tr>\n",
       "  </tbody>\n",
       "</table>\n",
       "<p>37 rows × 28 columns</p>\n",
       "</div>"
      ]
     },
     "execution_count": 1597,
     "metadata": {},
     "output_type": "execute_result"
    }
   ],
   "execution_count": 1597
  },
  {
   "cell_type": "code",
   "id": "f3a78647e689a741",
   "metadata": {
    "ExecuteTime": {
     "end_time": "2024-12-06T18:26:18.815228Z",
     "start_time": "2024-12-06T18:26:18.812468Z"
    }
   },
   "source": [
    "# Replace the null values in the 'series' column with 'None'\n",
    "games.fillna({'Series': 'None'}, inplace=True)\n",
    "games.isnull().sum()"
   ],
   "outputs": [
    {
     "data": {
      "text/plain": [
       "Game_Id                  0\n",
       "Title                    0\n",
       "Release                  0\n",
       "Series                   0\n",
       "Genre                    0\n",
       "Sub-genre                0\n",
       "Developer                0\n",
       "Publisher                0\n",
       "Country                  0\n",
       "Platform                 0\n",
       "PEGI                     0\n",
       "Customizable_main        0\n",
       "Protagonist              0\n",
       "Protagonist_Non_Male     0\n",
       "Relevant_males           0\n",
       "Relevant_no_males        0\n",
       "Percentage_non_male      0\n",
       "Criteria                 0\n",
       "Director                 0\n",
       "Total_team               0\n",
       "female_team              0\n",
       "Team_percentage          0\n",
       "Metacritic               0\n",
       "Destructoid              7\n",
       "IGN                      2\n",
       "GameSpot                 2\n",
       "Avg_Reviews              0\n",
       "Unnamed: 27             64\n",
       "dtype: int64"
      ]
     },
     "execution_count": 1598,
     "metadata": {},
     "output_type": "execute_result"
    }
   ],
   "execution_count": 1598
  },
  {
   "cell_type": "markdown",
   "id": "1bb3c0d98b990474",
   "metadata": {},
   "source": [
    "Next, the 'Unnamed' column will be dropped as it is not needed."
   ]
  },
  {
   "cell_type": "code",
   "id": "e527a916d5a29137",
   "metadata": {
    "ExecuteTime": {
     "end_time": "2024-12-06T18:26:18.845202Z",
     "start_time": "2024-12-06T18:26:18.839455Z"
    }
   },
   "source": [
    "# Drop the 'Unnamed' column\n",
    "games.drop(columns=['Unnamed: 27'], inplace=True)\n",
    "games.head()"
   ],
   "outputs": [
    {
     "data": {
      "text/plain": [
       "  Game_Id                         Title Release        Series  \\\n",
       "0    GTAV            Grand Theft Auto V  Nov-13           GTA   \n",
       "1     PSS          Pokémon Sword/Shield  Nov-19       Pokémon   \n",
       "2   CODMW  Call of Duty: Modern Warfare  Oct-19  Call of Duty   \n",
       "3    RDR2         Red Dead Redemption 2  Dec-18      Red Dead   \n",
       "4     SMO           Super Mario Odyssey  Oct-17   Super Mario   \n",
       "\n",
       "              Genre         Sub-genre         Developer       Publisher  \\\n",
       "0  Action-adventure  Action-adventure    Rockstar North  Rockstar Games   \n",
       "1               RPG               RPG        Game Freak        Nintendo   \n",
       "2            Action               FPS     Infinity Ward      Activision   \n",
       "3  Action-adventure  Action-adventure  Rockstar Studios  Rockstar Games   \n",
       "4  Action-adventure  Action-adventure      Nintendo EDP        Nintendo   \n",
       "\n",
       "  Country         Platform  ...  Criteria Director  Total_team  female_team  \\\n",
       "0     GBR            Multi  ...        MS        M           7            0   \n",
       "1     JPN  Nintendo Switch  ...        MS        M           9            1   \n",
       "2     USA            Multi  ...        MS        M          11            0   \n",
       "3     USA            Multi  ...        SR        M           7            0   \n",
       "4     JPN  Nintendo Switch  ...        SR        M          11            1   \n",
       "\n",
       "   Team_percentage  Metacritic Destructoid   IGN GameSpot  Avg_Reviews  \n",
       "0               0%         9.7         9.0  10.0      9.0          9.4  \n",
       "1              11%         8.0         7.0   9.3      9.0          8.3  \n",
       "2               0%         8.0         8.0   8.0      7.0          7.8  \n",
       "3               0%         9.7         9.5  10.0      9.0          9.6  \n",
       "4               9%         9.7         9.5  10.0     10.0          9.8  \n",
       "\n",
       "[5 rows x 27 columns]"
      ],
      "text/html": [
       "<div>\n",
       "<style scoped>\n",
       "    .dataframe tbody tr th:only-of-type {\n",
       "        vertical-align: middle;\n",
       "    }\n",
       "\n",
       "    .dataframe tbody tr th {\n",
       "        vertical-align: top;\n",
       "    }\n",
       "\n",
       "    .dataframe thead th {\n",
       "        text-align: right;\n",
       "    }\n",
       "</style>\n",
       "<table border=\"1\" class=\"dataframe\">\n",
       "  <thead>\n",
       "    <tr style=\"text-align: right;\">\n",
       "      <th></th>\n",
       "      <th>Game_Id</th>\n",
       "      <th>Title</th>\n",
       "      <th>Release</th>\n",
       "      <th>Series</th>\n",
       "      <th>Genre</th>\n",
       "      <th>Sub-genre</th>\n",
       "      <th>Developer</th>\n",
       "      <th>Publisher</th>\n",
       "      <th>Country</th>\n",
       "      <th>Platform</th>\n",
       "      <th>...</th>\n",
       "      <th>Criteria</th>\n",
       "      <th>Director</th>\n",
       "      <th>Total_team</th>\n",
       "      <th>female_team</th>\n",
       "      <th>Team_percentage</th>\n",
       "      <th>Metacritic</th>\n",
       "      <th>Destructoid</th>\n",
       "      <th>IGN</th>\n",
       "      <th>GameSpot</th>\n",
       "      <th>Avg_Reviews</th>\n",
       "    </tr>\n",
       "  </thead>\n",
       "  <tbody>\n",
       "    <tr>\n",
       "      <th>0</th>\n",
       "      <td>GTAV</td>\n",
       "      <td>Grand Theft Auto V</td>\n",
       "      <td>Nov-13</td>\n",
       "      <td>GTA</td>\n",
       "      <td>Action-adventure</td>\n",
       "      <td>Action-adventure</td>\n",
       "      <td>Rockstar North</td>\n",
       "      <td>Rockstar Games</td>\n",
       "      <td>GBR</td>\n",
       "      <td>Multi</td>\n",
       "      <td>...</td>\n",
       "      <td>MS</td>\n",
       "      <td>M</td>\n",
       "      <td>7</td>\n",
       "      <td>0</td>\n",
       "      <td>0%</td>\n",
       "      <td>9.7</td>\n",
       "      <td>9.0</td>\n",
       "      <td>10.0</td>\n",
       "      <td>9.0</td>\n",
       "      <td>9.4</td>\n",
       "    </tr>\n",
       "    <tr>\n",
       "      <th>1</th>\n",
       "      <td>PSS</td>\n",
       "      <td>Pokémon Sword/Shield</td>\n",
       "      <td>Nov-19</td>\n",
       "      <td>Pokémon</td>\n",
       "      <td>RPG</td>\n",
       "      <td>RPG</td>\n",
       "      <td>Game Freak</td>\n",
       "      <td>Nintendo</td>\n",
       "      <td>JPN</td>\n",
       "      <td>Nintendo Switch</td>\n",
       "      <td>...</td>\n",
       "      <td>MS</td>\n",
       "      <td>M</td>\n",
       "      <td>9</td>\n",
       "      <td>1</td>\n",
       "      <td>11%</td>\n",
       "      <td>8.0</td>\n",
       "      <td>7.0</td>\n",
       "      <td>9.3</td>\n",
       "      <td>9.0</td>\n",
       "      <td>8.3</td>\n",
       "    </tr>\n",
       "    <tr>\n",
       "      <th>2</th>\n",
       "      <td>CODMW</td>\n",
       "      <td>Call of Duty: Modern Warfare</td>\n",
       "      <td>Oct-19</td>\n",
       "      <td>Call of Duty</td>\n",
       "      <td>Action</td>\n",
       "      <td>FPS</td>\n",
       "      <td>Infinity Ward</td>\n",
       "      <td>Activision</td>\n",
       "      <td>USA</td>\n",
       "      <td>Multi</td>\n",
       "      <td>...</td>\n",
       "      <td>MS</td>\n",
       "      <td>M</td>\n",
       "      <td>11</td>\n",
       "      <td>0</td>\n",
       "      <td>0%</td>\n",
       "      <td>8.0</td>\n",
       "      <td>8.0</td>\n",
       "      <td>8.0</td>\n",
       "      <td>7.0</td>\n",
       "      <td>7.8</td>\n",
       "    </tr>\n",
       "    <tr>\n",
       "      <th>3</th>\n",
       "      <td>RDR2</td>\n",
       "      <td>Red Dead Redemption 2</td>\n",
       "      <td>Dec-18</td>\n",
       "      <td>Red Dead</td>\n",
       "      <td>Action-adventure</td>\n",
       "      <td>Action-adventure</td>\n",
       "      <td>Rockstar Studios</td>\n",
       "      <td>Rockstar Games</td>\n",
       "      <td>USA</td>\n",
       "      <td>Multi</td>\n",
       "      <td>...</td>\n",
       "      <td>SR</td>\n",
       "      <td>M</td>\n",
       "      <td>7</td>\n",
       "      <td>0</td>\n",
       "      <td>0%</td>\n",
       "      <td>9.7</td>\n",
       "      <td>9.5</td>\n",
       "      <td>10.0</td>\n",
       "      <td>9.0</td>\n",
       "      <td>9.6</td>\n",
       "    </tr>\n",
       "    <tr>\n",
       "      <th>4</th>\n",
       "      <td>SMO</td>\n",
       "      <td>Super Mario Odyssey</td>\n",
       "      <td>Oct-17</td>\n",
       "      <td>Super Mario</td>\n",
       "      <td>Action-adventure</td>\n",
       "      <td>Action-adventure</td>\n",
       "      <td>Nintendo EDP</td>\n",
       "      <td>Nintendo</td>\n",
       "      <td>JPN</td>\n",
       "      <td>Nintendo Switch</td>\n",
       "      <td>...</td>\n",
       "      <td>SR</td>\n",
       "      <td>M</td>\n",
       "      <td>11</td>\n",
       "      <td>1</td>\n",
       "      <td>9%</td>\n",
       "      <td>9.7</td>\n",
       "      <td>9.5</td>\n",
       "      <td>10.0</td>\n",
       "      <td>10.0</td>\n",
       "      <td>9.8</td>\n",
       "    </tr>\n",
       "  </tbody>\n",
       "</table>\n",
       "<p>5 rows × 27 columns</p>\n",
       "</div>"
      ]
     },
     "execution_count": 1599,
     "metadata": {},
     "output_type": "execute_result"
    }
   ],
   "execution_count": 1599
  },
  {
   "cell_type": "code",
   "id": "e1199658268c5c",
   "metadata": {
    "ExecuteTime": {
     "end_time": "2024-12-06T18:26:18.888577Z",
     "start_time": "2024-12-06T18:26:18.886083Z"
    }
   },
   "source": [
    "games.isnull().sum()"
   ],
   "outputs": [
    {
     "data": {
      "text/plain": [
       "Game_Id                 0\n",
       "Title                   0\n",
       "Release                 0\n",
       "Series                  0\n",
       "Genre                   0\n",
       "Sub-genre               0\n",
       "Developer               0\n",
       "Publisher               0\n",
       "Country                 0\n",
       "Platform                0\n",
       "PEGI                    0\n",
       "Customizable_main       0\n",
       "Protagonist             0\n",
       "Protagonist_Non_Male    0\n",
       "Relevant_males          0\n",
       "Relevant_no_males       0\n",
       "Percentage_non_male     0\n",
       "Criteria                0\n",
       "Director                0\n",
       "Total_team              0\n",
       "female_team             0\n",
       "Team_percentage         0\n",
       "Metacritic              0\n",
       "Destructoid             7\n",
       "IGN                     2\n",
       "GameSpot                2\n",
       "Avg_Reviews             0\n",
       "dtype: int64"
      ]
     },
     "execution_count": 1600,
     "metadata": {},
     "output_type": "execute_result"
    }
   ],
   "execution_count": 1600
  },
  {
   "cell_type": "markdown",
   "id": "cf8a49696bfc7beb",
   "metadata": {},
   "source": [
    "Next, the gaming reviews columns will be checked for missing values.  As the average of the reviews have already been calculated, The missing values in the reviews columns will be left as null.\n",
    "If the average had not been already been worked out, the missing values would have been replaced with the average of the other reviews."
   ]
  },
  {
   "cell_type": "code",
   "id": "686f715006c17eaf",
   "metadata": {
    "ExecuteTime": {
     "end_time": "2024-12-06T18:26:18.934291Z",
     "start_time": "2024-12-06T18:26:18.931546Z"
    }
   },
   "source": [
    "# Check null values for gaming reviews (Destruktoid, IGN, GameSpot, Metacritic)\n",
    "games[['Metacritic', 'Destructoid', 'IGN', 'GameSpot']].isnull().sum()"
   ],
   "outputs": [
    {
     "data": {
      "text/plain": [
       "Metacritic     0\n",
       "Destructoid    7\n",
       "IGN            2\n",
       "GameSpot       2\n",
       "dtype: int64"
      ]
     },
     "execution_count": 1601,
     "metadata": {},
     "output_type": "execute_result"
    }
   ],
   "execution_count": 1601
  },
  {
   "cell_type": "code",
   "id": "1ad648c7821ecdb",
   "metadata": {
    "ExecuteTime": {
     "end_time": "2024-12-06T18:26:18.972717Z",
     "start_time": "2024-12-06T18:26:18.965845Z"
    }
   },
   "source": [
    "# Print the rows with null reviews values\n",
    "games_with_null_reviews = games[games[['Metacritic', 'Destructoid', 'IGN', 'GameSpot']].isnull().any(axis=1)]\n",
    "games_with_null_reviews"
   ],
   "outputs": [
    {
     "data": {
      "text/plain": [
       "   Game_Id                              Title Release        Series  \\\n",
       "8   CODBO2          Call of Duty: Black Ops 2  Nov-12  Call of Duty   \n",
       "17      PP                     Papers, Please  Aug-13          None   \n",
       "31   IWATE        I Was a Teenage Exocolonist  Aug-22          None   \n",
       "36     ITT                       It Takes Two  Mar-21          None   \n",
       "42  TINGWD  There is No Game: Wrong Dimension  Aug-20          None   \n",
       "50      DC                         Dead Cells  Aug-18          None   \n",
       "58     DS2                       Dark Souls 2  Mar-14    Dark Souls   \n",
       "61     FLR                           Florence  Feb-18          None   \n",
       "\n",
       "                Genre          Sub-genre          Developer  \\\n",
       "8              Action                FPS           Treyarch   \n",
       "17         Simulation  Puzzle Simulation           3909 LLC   \n",
       "31                RPG       Strategy RPG     Northway Gates   \n",
       "36   Action-adventure   Action-adventure  Hazelight Studios   \n",
       "42  Interactive Story  Interactive Story    Draw Me A Pixel   \n",
       "50   Action-adventure       Metroidvania        Motion Twin   \n",
       "58                RPG         Action RPG       FromSoftware   \n",
       "61  Interactive Story  Interactive Story          Mountains   \n",
       "\n",
       "                Publisher Country  Platform  ...  Criteria Director  \\\n",
       "8              Activision     USA     Multi  ...        MS        M   \n",
       "17               3909 LLC     USA     Multi  ...        TR        M   \n",
       "31                  Finji     CAN     Multi  ...        TR        F   \n",
       "36                     EA     SWE     Multi  ...        TR        M   \n",
       "42        Draw Me A Pixel     FRA  Computer  ...        TR        M   \n",
       "50            Motion Twin     FRA     Multi  ...        TR        M   \n",
       "58     Bandai Namco Games     JPN     Multi  ...        TR        M   \n",
       "61  Annapurna Interactive     USA    Mobile  ...        TR        M   \n",
       "\n",
       "    Total_team  female_team  Team_percentage  Metacritic Destructoid  IGN  \\\n",
       "8           10            0               0%         8.0         NaN  9.3   \n",
       "17           1            0               0%         8.9         NaN  8.7   \n",
       "31           6            4              67%         8.9         NaN  NaN   \n",
       "36           5            1              20%         8.9         NaN  9.0   \n",
       "42           6            2              33%         8.8         NaN  NaN   \n",
       "50           2            0               0%         8.8         NaN  9.5   \n",
       "58           7            0               0%         9.1         NaN  9.0   \n",
       "61           2            0               0%         8.7         8.0  9.6   \n",
       "\n",
       "   GameSpot  Avg_Reviews  \n",
       "8       8.0          8.4  \n",
       "17      8.0          8.5  \n",
       "31      NaN          8.9  \n",
       "36      9.0          9.0  \n",
       "42      9.6          9.2  \n",
       "50      9.0          9.1  \n",
       "58      9.0          9.0  \n",
       "61      NaN          8.8  \n",
       "\n",
       "[8 rows x 27 columns]"
      ],
      "text/html": [
       "<div>\n",
       "<style scoped>\n",
       "    .dataframe tbody tr th:only-of-type {\n",
       "        vertical-align: middle;\n",
       "    }\n",
       "\n",
       "    .dataframe tbody tr th {\n",
       "        vertical-align: top;\n",
       "    }\n",
       "\n",
       "    .dataframe thead th {\n",
       "        text-align: right;\n",
       "    }\n",
       "</style>\n",
       "<table border=\"1\" class=\"dataframe\">\n",
       "  <thead>\n",
       "    <tr style=\"text-align: right;\">\n",
       "      <th></th>\n",
       "      <th>Game_Id</th>\n",
       "      <th>Title</th>\n",
       "      <th>Release</th>\n",
       "      <th>Series</th>\n",
       "      <th>Genre</th>\n",
       "      <th>Sub-genre</th>\n",
       "      <th>Developer</th>\n",
       "      <th>Publisher</th>\n",
       "      <th>Country</th>\n",
       "      <th>Platform</th>\n",
       "      <th>...</th>\n",
       "      <th>Criteria</th>\n",
       "      <th>Director</th>\n",
       "      <th>Total_team</th>\n",
       "      <th>female_team</th>\n",
       "      <th>Team_percentage</th>\n",
       "      <th>Metacritic</th>\n",
       "      <th>Destructoid</th>\n",
       "      <th>IGN</th>\n",
       "      <th>GameSpot</th>\n",
       "      <th>Avg_Reviews</th>\n",
       "    </tr>\n",
       "  </thead>\n",
       "  <tbody>\n",
       "    <tr>\n",
       "      <th>8</th>\n",
       "      <td>CODBO2</td>\n",
       "      <td>Call of Duty: Black Ops 2</td>\n",
       "      <td>Nov-12</td>\n",
       "      <td>Call of Duty</td>\n",
       "      <td>Action</td>\n",
       "      <td>FPS</td>\n",
       "      <td>Treyarch</td>\n",
       "      <td>Activision</td>\n",
       "      <td>USA</td>\n",
       "      <td>Multi</td>\n",
       "      <td>...</td>\n",
       "      <td>MS</td>\n",
       "      <td>M</td>\n",
       "      <td>10</td>\n",
       "      <td>0</td>\n",
       "      <td>0%</td>\n",
       "      <td>8.0</td>\n",
       "      <td>NaN</td>\n",
       "      <td>9.3</td>\n",
       "      <td>8.0</td>\n",
       "      <td>8.4</td>\n",
       "    </tr>\n",
       "    <tr>\n",
       "      <th>17</th>\n",
       "      <td>PP</td>\n",
       "      <td>Papers, Please</td>\n",
       "      <td>Aug-13</td>\n",
       "      <td>None</td>\n",
       "      <td>Simulation</td>\n",
       "      <td>Puzzle Simulation</td>\n",
       "      <td>3909 LLC</td>\n",
       "      <td>3909 LLC</td>\n",
       "      <td>USA</td>\n",
       "      <td>Multi</td>\n",
       "      <td>...</td>\n",
       "      <td>TR</td>\n",
       "      <td>M</td>\n",
       "      <td>1</td>\n",
       "      <td>0</td>\n",
       "      <td>0%</td>\n",
       "      <td>8.9</td>\n",
       "      <td>NaN</td>\n",
       "      <td>8.7</td>\n",
       "      <td>8.0</td>\n",
       "      <td>8.5</td>\n",
       "    </tr>\n",
       "    <tr>\n",
       "      <th>31</th>\n",
       "      <td>IWATE</td>\n",
       "      <td>I Was a Teenage Exocolonist</td>\n",
       "      <td>Aug-22</td>\n",
       "      <td>None</td>\n",
       "      <td>RPG</td>\n",
       "      <td>Strategy RPG</td>\n",
       "      <td>Northway Gates</td>\n",
       "      <td>Finji</td>\n",
       "      <td>CAN</td>\n",
       "      <td>Multi</td>\n",
       "      <td>...</td>\n",
       "      <td>TR</td>\n",
       "      <td>F</td>\n",
       "      <td>6</td>\n",
       "      <td>4</td>\n",
       "      <td>67%</td>\n",
       "      <td>8.9</td>\n",
       "      <td>NaN</td>\n",
       "      <td>NaN</td>\n",
       "      <td>NaN</td>\n",
       "      <td>8.9</td>\n",
       "    </tr>\n",
       "    <tr>\n",
       "      <th>36</th>\n",
       "      <td>ITT</td>\n",
       "      <td>It Takes Two</td>\n",
       "      <td>Mar-21</td>\n",
       "      <td>None</td>\n",
       "      <td>Action-adventure</td>\n",
       "      <td>Action-adventure</td>\n",
       "      <td>Hazelight Studios</td>\n",
       "      <td>EA</td>\n",
       "      <td>SWE</td>\n",
       "      <td>Multi</td>\n",
       "      <td>...</td>\n",
       "      <td>TR</td>\n",
       "      <td>M</td>\n",
       "      <td>5</td>\n",
       "      <td>1</td>\n",
       "      <td>20%</td>\n",
       "      <td>8.9</td>\n",
       "      <td>NaN</td>\n",
       "      <td>9.0</td>\n",
       "      <td>9.0</td>\n",
       "      <td>9.0</td>\n",
       "    </tr>\n",
       "    <tr>\n",
       "      <th>42</th>\n",
       "      <td>TINGWD</td>\n",
       "      <td>There is No Game: Wrong Dimension</td>\n",
       "      <td>Aug-20</td>\n",
       "      <td>None</td>\n",
       "      <td>Interactive Story</td>\n",
       "      <td>Interactive Story</td>\n",
       "      <td>Draw Me A Pixel</td>\n",
       "      <td>Draw Me A Pixel</td>\n",
       "      <td>FRA</td>\n",
       "      <td>Computer</td>\n",
       "      <td>...</td>\n",
       "      <td>TR</td>\n",
       "      <td>M</td>\n",
       "      <td>6</td>\n",
       "      <td>2</td>\n",
       "      <td>33%</td>\n",
       "      <td>8.8</td>\n",
       "      <td>NaN</td>\n",
       "      <td>NaN</td>\n",
       "      <td>9.6</td>\n",
       "      <td>9.2</td>\n",
       "    </tr>\n",
       "    <tr>\n",
       "      <th>50</th>\n",
       "      <td>DC</td>\n",
       "      <td>Dead Cells</td>\n",
       "      <td>Aug-18</td>\n",
       "      <td>None</td>\n",
       "      <td>Action-adventure</td>\n",
       "      <td>Metroidvania</td>\n",
       "      <td>Motion Twin</td>\n",
       "      <td>Motion Twin</td>\n",
       "      <td>FRA</td>\n",
       "      <td>Multi</td>\n",
       "      <td>...</td>\n",
       "      <td>TR</td>\n",
       "      <td>M</td>\n",
       "      <td>2</td>\n",
       "      <td>0</td>\n",
       "      <td>0%</td>\n",
       "      <td>8.8</td>\n",
       "      <td>NaN</td>\n",
       "      <td>9.5</td>\n",
       "      <td>9.0</td>\n",
       "      <td>9.1</td>\n",
       "    </tr>\n",
       "    <tr>\n",
       "      <th>58</th>\n",
       "      <td>DS2</td>\n",
       "      <td>Dark Souls 2</td>\n",
       "      <td>Mar-14</td>\n",
       "      <td>Dark Souls</td>\n",
       "      <td>RPG</td>\n",
       "      <td>Action RPG</td>\n",
       "      <td>FromSoftware</td>\n",
       "      <td>Bandai Namco Games</td>\n",
       "      <td>JPN</td>\n",
       "      <td>Multi</td>\n",
       "      <td>...</td>\n",
       "      <td>TR</td>\n",
       "      <td>M</td>\n",
       "      <td>7</td>\n",
       "      <td>0</td>\n",
       "      <td>0%</td>\n",
       "      <td>9.1</td>\n",
       "      <td>NaN</td>\n",
       "      <td>9.0</td>\n",
       "      <td>9.0</td>\n",
       "      <td>9.0</td>\n",
       "    </tr>\n",
       "    <tr>\n",
       "      <th>61</th>\n",
       "      <td>FLR</td>\n",
       "      <td>Florence</td>\n",
       "      <td>Feb-18</td>\n",
       "      <td>None</td>\n",
       "      <td>Interactive Story</td>\n",
       "      <td>Interactive Story</td>\n",
       "      <td>Mountains</td>\n",
       "      <td>Annapurna Interactive</td>\n",
       "      <td>USA</td>\n",
       "      <td>Mobile</td>\n",
       "      <td>...</td>\n",
       "      <td>TR</td>\n",
       "      <td>M</td>\n",
       "      <td>2</td>\n",
       "      <td>0</td>\n",
       "      <td>0%</td>\n",
       "      <td>8.7</td>\n",
       "      <td>8.0</td>\n",
       "      <td>9.6</td>\n",
       "      <td>NaN</td>\n",
       "      <td>8.8</td>\n",
       "    </tr>\n",
       "  </tbody>\n",
       "</table>\n",
       "<p>8 rows × 27 columns</p>\n",
       "</div>"
      ]
     },
     "execution_count": 1602,
     "metadata": {},
     "output_type": "execute_result"
    }
   ],
   "execution_count": 1602
  },
  {
   "cell_type": "markdown",
   "id": "64048e529685d35c",
   "metadata": {},
   "source": [
    "Next, the dataset will be checked for duplicates."
   ]
  },
  {
   "cell_type": "code",
   "id": "58cacb080896ed55",
   "metadata": {
    "ExecuteTime": {
     "end_time": "2024-12-06T18:26:19.000216Z",
     "start_time": "2024-12-06T18:26:18.995145Z"
    }
   },
   "source": [
    "# Find duplicates in the dataset\n",
    "duplicates = games[games.duplicated()]\n",
    "duplicates"
   ],
   "outputs": [
    {
     "data": {
      "text/plain": [
       "Empty DataFrame\n",
       "Columns: [Game_Id, Title, Release, Series, Genre, Sub-genre, Developer, Publisher, Country, Platform, PEGI, Customizable_main, Protagonist, Protagonist_Non_Male, Relevant_males, Relevant_no_males, Percentage_non_male, Criteria, Director, Total_team, female_team, Team_percentage, Metacritic, Destructoid, IGN, GameSpot, Avg_Reviews]\n",
       "Index: []\n",
       "\n",
       "[0 rows x 27 columns]"
      ],
      "text/html": [
       "<div>\n",
       "<style scoped>\n",
       "    .dataframe tbody tr th:only-of-type {\n",
       "        vertical-align: middle;\n",
       "    }\n",
       "\n",
       "    .dataframe tbody tr th {\n",
       "        vertical-align: top;\n",
       "    }\n",
       "\n",
       "    .dataframe thead th {\n",
       "        text-align: right;\n",
       "    }\n",
       "</style>\n",
       "<table border=\"1\" class=\"dataframe\">\n",
       "  <thead>\n",
       "    <tr style=\"text-align: right;\">\n",
       "      <th></th>\n",
       "      <th>Game_Id</th>\n",
       "      <th>Title</th>\n",
       "      <th>Release</th>\n",
       "      <th>Series</th>\n",
       "      <th>Genre</th>\n",
       "      <th>Sub-genre</th>\n",
       "      <th>Developer</th>\n",
       "      <th>Publisher</th>\n",
       "      <th>Country</th>\n",
       "      <th>Platform</th>\n",
       "      <th>...</th>\n",
       "      <th>Criteria</th>\n",
       "      <th>Director</th>\n",
       "      <th>Total_team</th>\n",
       "      <th>female_team</th>\n",
       "      <th>Team_percentage</th>\n",
       "      <th>Metacritic</th>\n",
       "      <th>Destructoid</th>\n",
       "      <th>IGN</th>\n",
       "      <th>GameSpot</th>\n",
       "      <th>Avg_Reviews</th>\n",
       "    </tr>\n",
       "  </thead>\n",
       "  <tbody>\n",
       "  </tbody>\n",
       "</table>\n",
       "<p>0 rows × 27 columns</p>\n",
       "</div>"
      ]
     },
     "execution_count": 1603,
     "metadata": {},
     "output_type": "execute_result"
    }
   ],
   "execution_count": 1603
  },
  {
   "metadata": {},
   "cell_type": "markdown",
   "source": "No duplicates were found in the dataset. The dataset is now clean and ready to be combined with the other datasets.",
   "id": "81145d8ceb8c367f"
  },
  {
   "cell_type": "markdown",
   "id": "75907d6e8bca0730",
   "metadata": {},
   "source": [
    "#### Characters dataset\n",
    "\n",
    "The characters dataset contains information on the characters in the video games.\n",
    "\n",
    "First, the dataset will be loaded and reviewed."
   ]
  },
  {
   "cell_type": "code",
   "id": "e7f43bd92265acf1",
   "metadata": {
    "ExecuteTime": {
     "end_time": "2024-12-06T18:26:19.058346Z",
     "start_time": "2024-12-06T18:26:19.052870Z"
    }
   },
   "source": [
    "# Load the characters dataset\n",
    "characters = pd.read_csv('data/Gender_In_Video_Games/characters.grivg.csv')\n",
    "characters.head()"
   ],
   "outputs": [
    {
     "data": {
      "text/plain": [
       "          Name  Gender   Game       Age Age_range  Playable  Sexualization  \\\n",
       "0        Farah  Female  CODMW        27     Adult         1              0   \n",
       "1  Protagonist  Custom    PSS  Teenager  Teenager         1              0   \n",
       "2     Magnolia  Female    PSS   Elderly   Elderly         0              0   \n",
       "3        Sonia  Female    PSS        26     Adult         0              0   \n",
       "4       Marnie  Female    PSS  Teenager  Teenager         0              0   \n",
       "\n",
       "                Id Species Side Relevance Romantic_Interest  \n",
       "0      CODMW_Farah   Human    P        PA                No  \n",
       "1  PSS_Protagonist   Human    P        PA                No  \n",
       "2     PSS_Magnolia   Human    P        SC                No  \n",
       "3        PSS_Sonia   Human    P        SC                No  \n",
       "4       PSS_Marnie   Human    B        MC                No  "
      ],
      "text/html": [
       "<div>\n",
       "<style scoped>\n",
       "    .dataframe tbody tr th:only-of-type {\n",
       "        vertical-align: middle;\n",
       "    }\n",
       "\n",
       "    .dataframe tbody tr th {\n",
       "        vertical-align: top;\n",
       "    }\n",
       "\n",
       "    .dataframe thead th {\n",
       "        text-align: right;\n",
       "    }\n",
       "</style>\n",
       "<table border=\"1\" class=\"dataframe\">\n",
       "  <thead>\n",
       "    <tr style=\"text-align: right;\">\n",
       "      <th></th>\n",
       "      <th>Name</th>\n",
       "      <th>Gender</th>\n",
       "      <th>Game</th>\n",
       "      <th>Age</th>\n",
       "      <th>Age_range</th>\n",
       "      <th>Playable</th>\n",
       "      <th>Sexualization</th>\n",
       "      <th>Id</th>\n",
       "      <th>Species</th>\n",
       "      <th>Side</th>\n",
       "      <th>Relevance</th>\n",
       "      <th>Romantic_Interest</th>\n",
       "    </tr>\n",
       "  </thead>\n",
       "  <tbody>\n",
       "    <tr>\n",
       "      <th>0</th>\n",
       "      <td>Farah</td>\n",
       "      <td>Female</td>\n",
       "      <td>CODMW</td>\n",
       "      <td>27</td>\n",
       "      <td>Adult</td>\n",
       "      <td>1</td>\n",
       "      <td>0</td>\n",
       "      <td>CODMW_Farah</td>\n",
       "      <td>Human</td>\n",
       "      <td>P</td>\n",
       "      <td>PA</td>\n",
       "      <td>No</td>\n",
       "    </tr>\n",
       "    <tr>\n",
       "      <th>1</th>\n",
       "      <td>Protagonist</td>\n",
       "      <td>Custom</td>\n",
       "      <td>PSS</td>\n",
       "      <td>Teenager</td>\n",
       "      <td>Teenager</td>\n",
       "      <td>1</td>\n",
       "      <td>0</td>\n",
       "      <td>PSS_Protagonist</td>\n",
       "      <td>Human</td>\n",
       "      <td>P</td>\n",
       "      <td>PA</td>\n",
       "      <td>No</td>\n",
       "    </tr>\n",
       "    <tr>\n",
       "      <th>2</th>\n",
       "      <td>Magnolia</td>\n",
       "      <td>Female</td>\n",
       "      <td>PSS</td>\n",
       "      <td>Elderly</td>\n",
       "      <td>Elderly</td>\n",
       "      <td>0</td>\n",
       "      <td>0</td>\n",
       "      <td>PSS_Magnolia</td>\n",
       "      <td>Human</td>\n",
       "      <td>P</td>\n",
       "      <td>SC</td>\n",
       "      <td>No</td>\n",
       "    </tr>\n",
       "    <tr>\n",
       "      <th>3</th>\n",
       "      <td>Sonia</td>\n",
       "      <td>Female</td>\n",
       "      <td>PSS</td>\n",
       "      <td>26</td>\n",
       "      <td>Adult</td>\n",
       "      <td>0</td>\n",
       "      <td>0</td>\n",
       "      <td>PSS_Sonia</td>\n",
       "      <td>Human</td>\n",
       "      <td>P</td>\n",
       "      <td>SC</td>\n",
       "      <td>No</td>\n",
       "    </tr>\n",
       "    <tr>\n",
       "      <th>4</th>\n",
       "      <td>Marnie</td>\n",
       "      <td>Female</td>\n",
       "      <td>PSS</td>\n",
       "      <td>Teenager</td>\n",
       "      <td>Teenager</td>\n",
       "      <td>0</td>\n",
       "      <td>0</td>\n",
       "      <td>PSS_Marnie</td>\n",
       "      <td>Human</td>\n",
       "      <td>B</td>\n",
       "      <td>MC</td>\n",
       "      <td>No</td>\n",
       "    </tr>\n",
       "  </tbody>\n",
       "</table>\n",
       "</div>"
      ]
     },
     "execution_count": 1604,
     "metadata": {},
     "output_type": "execute_result"
    }
   ],
   "execution_count": 1604
  },
  {
   "metadata": {},
   "cell_type": "markdown",
   "source": "The characters dataset has been loaded successfully. The dataset contains the following columns:",
   "id": "820f79ac98e3500"
  },
  {
   "cell_type": "code",
   "id": "e706319bc5d5cdef",
   "metadata": {
    "ExecuteTime": {
     "end_time": "2024-12-06T18:26:19.110817Z",
     "start_time": "2024-12-06T18:26:19.109102Z"
    }
   },
   "source": [
    "# Check the shape of the dataset\n",
    "print(f\"Number of rows: {characters.shape[0]}\")\n",
    "print(f\"Number of columns: {characters.shape[1]}\")"
   ],
   "outputs": [
    {
     "name": "stdout",
     "output_type": "stream",
     "text": [
      "Number of rows: 637\n",
      "Number of columns: 12\n"
     ]
    }
   ],
   "execution_count": 1605
  },
  {
   "cell_type": "code",
   "id": "95ff703d65316e4a",
   "metadata": {
    "ExecuteTime": {
     "end_time": "2024-12-06T18:26:19.138144Z",
     "start_time": "2024-12-06T18:26:19.136207Z"
    }
   },
   "source": [
    "# Check the columns in the dataset\n",
    "characters.columns"
   ],
   "outputs": [
    {
     "data": {
      "text/plain": [
       "Index(['Name', 'Gender', 'Game', 'Age', 'Age_range', 'Playable',\n",
       "       'Sexualization', 'Id', 'Species', 'Side', 'Relevance',\n",
       "       'Romantic_Interest'],\n",
       "      dtype='object')"
      ]
     },
     "execution_count": 1606,
     "metadata": {},
     "output_type": "execute_result"
    }
   ],
   "execution_count": 1606
  },
  {
   "metadata": {},
   "cell_type": "markdown",
   "source": "The dataset has 12 columns containing data related to the characters in the video games. The columns will be reviewed to check for any missing values or duplicates.",
   "id": "a7a130626f892ae3"
  },
  {
   "cell_type": "code",
   "id": "66c2212a7b8f6611",
   "metadata": {
    "ExecuteTime": {
     "end_time": "2024-12-06T18:26:19.191596Z",
     "start_time": "2024-12-06T18:26:19.188896Z"
    }
   },
   "source": [
    "# Check for missing values\n",
    "characters.isnull().sum()"
   ],
   "outputs": [
    {
     "data": {
      "text/plain": [
       "Name                 0\n",
       "Gender               0\n",
       "Game                 0\n",
       "Age                  0\n",
       "Age_range            0\n",
       "Playable             0\n",
       "Sexualization        0\n",
       "Id                   0\n",
       "Species              0\n",
       "Side                 0\n",
       "Relevance            0\n",
       "Romantic_Interest    0\n",
       "dtype: int64"
      ]
     },
     "execution_count": 1607,
     "metadata": {},
     "output_type": "execute_result"
    }
   ],
   "execution_count": 1607
  },
  {
   "cell_type": "code",
   "id": "ccd189ea4911c403",
   "metadata": {
    "ExecuteTime": {
     "end_time": "2024-12-06T18:26:19.214539Z",
     "start_time": "2024-12-06T18:26:19.210918Z"
    }
   },
   "source": [
    "# Find duplicates in the dataset\n",
    "duplicates = characters[characters.duplicated()]\n",
    "duplicates"
   ],
   "outputs": [
    {
     "data": {
      "text/plain": [
       "Empty DataFrame\n",
       "Columns: [Name, Gender, Game, Age, Age_range, Playable, Sexualization, Id, Species, Side, Relevance, Romantic_Interest]\n",
       "Index: []"
      ],
      "text/html": [
       "<div>\n",
       "<style scoped>\n",
       "    .dataframe tbody tr th:only-of-type {\n",
       "        vertical-align: middle;\n",
       "    }\n",
       "\n",
       "    .dataframe tbody tr th {\n",
       "        vertical-align: top;\n",
       "    }\n",
       "\n",
       "    .dataframe thead th {\n",
       "        text-align: right;\n",
       "    }\n",
       "</style>\n",
       "<table border=\"1\" class=\"dataframe\">\n",
       "  <thead>\n",
       "    <tr style=\"text-align: right;\">\n",
       "      <th></th>\n",
       "      <th>Name</th>\n",
       "      <th>Gender</th>\n",
       "      <th>Game</th>\n",
       "      <th>Age</th>\n",
       "      <th>Age_range</th>\n",
       "      <th>Playable</th>\n",
       "      <th>Sexualization</th>\n",
       "      <th>Id</th>\n",
       "      <th>Species</th>\n",
       "      <th>Side</th>\n",
       "      <th>Relevance</th>\n",
       "      <th>Romantic_Interest</th>\n",
       "    </tr>\n",
       "  </thead>\n",
       "  <tbody>\n",
       "  </tbody>\n",
       "</table>\n",
       "</div>"
      ]
     },
     "execution_count": 1608,
     "metadata": {},
     "output_type": "execute_result"
    }
   ],
   "execution_count": 1608
  },
  {
   "metadata": {},
   "cell_type": "markdown",
   "source": "No missing values or duplicates were found in the dataset. The dataset is clean and ready to be combined with the other datasets.",
   "id": "4f5e607317982843"
  },
  {
   "cell_type": "markdown",
   "id": "73c4d362e49f544e",
   "metadata": {},
   "source": [
    "#### Sexualization dataset\n",
    "\n",
    "The sexualization dataset contains information on the sexualization of the characters in the video games. First, the dataset will be loaded and reviewed."
   ]
  },
  {
   "cell_type": "code",
   "id": "2c0d5ae3c96f0d5",
   "metadata": {
    "ExecuteTime": {
     "end_time": "2024-12-06T18:26:19.236517Z",
     "start_time": "2024-12-06T18:26:19.232310Z"
    }
   },
   "source": [
    "# Load the sexualization dataset\n",
    "sexualization = pd.read_csv('data/Gender_In_Video_Games/sexualization.grivg.csv')\n",
    "sexualization.head()"
   ],
   "outputs": [
    {
     "data": {
      "text/plain": [
       "                Id  Sexualized_clothing  Trophy  Damsel in Distress  \\\n",
       "0      CODMW_Farah                    0       0                   0   \n",
       "1  PSS_Protagonist                    0       0                   0   \n",
       "2     PSS_Magnolia                    0       0                   0   \n",
       "3        PSS_Sonia                    0       0                   0   \n",
       "4       PSS_Marnie                    0       0                   0   \n",
       "\n",
       "   Sexualized Cutscenes  Total  \n",
       "0                     0      0  \n",
       "1                     0      0  \n",
       "2                     0      0  \n",
       "3                     0      0  \n",
       "4                     0      0  "
      ],
      "text/html": [
       "<div>\n",
       "<style scoped>\n",
       "    .dataframe tbody tr th:only-of-type {\n",
       "        vertical-align: middle;\n",
       "    }\n",
       "\n",
       "    .dataframe tbody tr th {\n",
       "        vertical-align: top;\n",
       "    }\n",
       "\n",
       "    .dataframe thead th {\n",
       "        text-align: right;\n",
       "    }\n",
       "</style>\n",
       "<table border=\"1\" class=\"dataframe\">\n",
       "  <thead>\n",
       "    <tr style=\"text-align: right;\">\n",
       "      <th></th>\n",
       "      <th>Id</th>\n",
       "      <th>Sexualized_clothing</th>\n",
       "      <th>Trophy</th>\n",
       "      <th>Damsel in Distress</th>\n",
       "      <th>Sexualized Cutscenes</th>\n",
       "      <th>Total</th>\n",
       "    </tr>\n",
       "  </thead>\n",
       "  <tbody>\n",
       "    <tr>\n",
       "      <th>0</th>\n",
       "      <td>CODMW_Farah</td>\n",
       "      <td>0</td>\n",
       "      <td>0</td>\n",
       "      <td>0</td>\n",
       "      <td>0</td>\n",
       "      <td>0</td>\n",
       "    </tr>\n",
       "    <tr>\n",
       "      <th>1</th>\n",
       "      <td>PSS_Protagonist</td>\n",
       "      <td>0</td>\n",
       "      <td>0</td>\n",
       "      <td>0</td>\n",
       "      <td>0</td>\n",
       "      <td>0</td>\n",
       "    </tr>\n",
       "    <tr>\n",
       "      <th>2</th>\n",
       "      <td>PSS_Magnolia</td>\n",
       "      <td>0</td>\n",
       "      <td>0</td>\n",
       "      <td>0</td>\n",
       "      <td>0</td>\n",
       "      <td>0</td>\n",
       "    </tr>\n",
       "    <tr>\n",
       "      <th>3</th>\n",
       "      <td>PSS_Sonia</td>\n",
       "      <td>0</td>\n",
       "      <td>0</td>\n",
       "      <td>0</td>\n",
       "      <td>0</td>\n",
       "      <td>0</td>\n",
       "    </tr>\n",
       "    <tr>\n",
       "      <th>4</th>\n",
       "      <td>PSS_Marnie</td>\n",
       "      <td>0</td>\n",
       "      <td>0</td>\n",
       "      <td>0</td>\n",
       "      <td>0</td>\n",
       "      <td>0</td>\n",
       "    </tr>\n",
       "  </tbody>\n",
       "</table>\n",
       "</div>"
      ]
     },
     "execution_count": 1609,
     "metadata": {},
     "output_type": "execute_result"
    }
   ],
   "execution_count": 1609
  },
  {
   "metadata": {},
   "cell_type": "markdown",
   "source": "The sexualization dataset has been loaded successfully. The dataset contains the following columns:",
   "id": "49ceeb03b1301954"
  },
  {
   "cell_type": "code",
   "id": "e61c02e99693b164",
   "metadata": {
    "ExecuteTime": {
     "end_time": "2024-12-06T18:26:19.285178Z",
     "start_time": "2024-12-06T18:26:19.283449Z"
    }
   },
   "source": [
    "# Check the shape of the dataset\n",
    "print(f\"Number of rows: {sexualization.shape[0]}\")\n",
    "print(f\"Number of columns: {sexualization.shape[1]}\")"
   ],
   "outputs": [
    {
     "name": "stdout",
     "output_type": "stream",
     "text": [
      "Number of rows: 637\n",
      "Number of columns: 6\n"
     ]
    }
   ],
   "execution_count": 1610
  },
  {
   "cell_type": "code",
   "id": "36aa99328c47c567",
   "metadata": {
    "ExecuteTime": {
     "end_time": "2024-12-06T18:26:19.326652Z",
     "start_time": "2024-12-06T18:26:19.324332Z"
    }
   },
   "source": [
    "# Check the columns in the dataset\n",
    "sexualization.columns"
   ],
   "outputs": [
    {
     "data": {
      "text/plain": [
       "Index(['Id', 'Sexualized_clothing', 'Trophy', 'Damsel in Distress',\n",
       "       'Sexualized Cutscenes', 'Total'],\n",
       "      dtype='object')"
      ]
     },
     "execution_count": 1611,
     "metadata": {},
     "output_type": "execute_result"
    }
   ],
   "execution_count": 1611
  },
  {
   "metadata": {},
   "cell_type": "markdown",
   "source": "Next, the dataset will be checked for missing values and duplicates.",
   "id": "b80fae416514c9b8"
  },
  {
   "cell_type": "code",
   "id": "7c6932ef677c4123",
   "metadata": {
    "ExecuteTime": {
     "end_time": "2024-12-06T18:26:19.358431Z",
     "start_time": "2024-12-06T18:26:19.355990Z"
    }
   },
   "source": [
    "# Check for missing values\n",
    "sexualization.isnull().sum()"
   ],
   "outputs": [
    {
     "data": {
      "text/plain": [
       "Id                      0\n",
       "Sexualized_clothing     0\n",
       "Trophy                  0\n",
       "Damsel in Distress      0\n",
       "Sexualized Cutscenes    0\n",
       "Total                   0\n",
       "dtype: int64"
      ]
     },
     "execution_count": 1612,
     "metadata": {},
     "output_type": "execute_result"
    }
   ],
   "execution_count": 1612
  },
  {
   "cell_type": "code",
   "id": "498b4250e08627fd",
   "metadata": {
    "ExecuteTime": {
     "end_time": "2024-12-06T18:26:19.380886Z",
     "start_time": "2024-12-06T18:26:19.377612Z"
    }
   },
   "source": [
    "# Find duplicates in the dataset\n",
    "duplicates = sexualization[sexualization.duplicated()]\n",
    "duplicates"
   ],
   "outputs": [
    {
     "data": {
      "text/plain": [
       "Empty DataFrame\n",
       "Columns: [Id, Sexualized_clothing, Trophy, Damsel in Distress, Sexualized Cutscenes, Total]\n",
       "Index: []"
      ],
      "text/html": [
       "<div>\n",
       "<style scoped>\n",
       "    .dataframe tbody tr th:only-of-type {\n",
       "        vertical-align: middle;\n",
       "    }\n",
       "\n",
       "    .dataframe tbody tr th {\n",
       "        vertical-align: top;\n",
       "    }\n",
       "\n",
       "    .dataframe thead th {\n",
       "        text-align: right;\n",
       "    }\n",
       "</style>\n",
       "<table border=\"1\" class=\"dataframe\">\n",
       "  <thead>\n",
       "    <tr style=\"text-align: right;\">\n",
       "      <th></th>\n",
       "      <th>Id</th>\n",
       "      <th>Sexualized_clothing</th>\n",
       "      <th>Trophy</th>\n",
       "      <th>Damsel in Distress</th>\n",
       "      <th>Sexualized Cutscenes</th>\n",
       "      <th>Total</th>\n",
       "    </tr>\n",
       "  </thead>\n",
       "  <tbody>\n",
       "  </tbody>\n",
       "</table>\n",
       "</div>"
      ]
     },
     "execution_count": 1613,
     "metadata": {},
     "output_type": "execute_result"
    }
   ],
   "execution_count": 1613
  },
  {
   "metadata": {},
   "cell_type": "markdown",
   "source": "No missing values or duplicates were found in the dataset. The dataset is clean and ready to be combined with the other datasets.",
   "id": "f3865bd0df82a43f"
  },
  {
   "cell_type": "markdown",
   "id": "ad9e40e53f4090f1",
   "metadata": {},
   "source": [
    "#### Combining the datasets\n",
    "The datasets will be combined using the common keys.\n",
    "\n",
    "First, the characters and games datasets will be combined on the 'Game' and 'Game_Id' columns."
   ]
  },
  {
   "cell_type": "code",
   "id": "72ef56b8bb6e50c",
   "metadata": {
    "ExecuteTime": {
     "end_time": "2024-12-06T18:26:19.408854Z",
     "start_time": "2024-12-06T18:26:19.401938Z"
    }
   },
   "source": [
    "# Step 1: Merge Characters and Games datasets\n",
    "data = pd.merge(characters, games, left_on='Game', right_on='Game_Id', how='inner')\n",
    "data.head()"
   ],
   "outputs": [
    {
     "data": {
      "text/plain": [
       "          Name  Gender   Game       Age Age_range  Playable  Sexualization  \\\n",
       "0        Farah  Female  CODMW        27     Adult         1              0   \n",
       "1  Protagonist  Custom    PSS  Teenager  Teenager         1              0   \n",
       "2     Magnolia  Female    PSS   Elderly   Elderly         0              0   \n",
       "3        Sonia  Female    PSS        26     Adult         0              0   \n",
       "4       Marnie  Female    PSS  Teenager  Teenager         0              0   \n",
       "\n",
       "                Id Species Side  ... Criteria Director Total_team female_team  \\\n",
       "0      CODMW_Farah   Human    P  ...       MS        M         11           0   \n",
       "1  PSS_Protagonist   Human    P  ...       MS        M          9           1   \n",
       "2     PSS_Magnolia   Human    P  ...       MS        M          9           1   \n",
       "3        PSS_Sonia   Human    P  ...       MS        M          9           1   \n",
       "4       PSS_Marnie   Human    B  ...       MS        M          9           1   \n",
       "\n",
       "  Team_percentage Metacritic Destructoid  IGN GameSpot Avg_Reviews  \n",
       "0              0%        8.0         8.0  8.0      7.0         7.8  \n",
       "1             11%        8.0         7.0  9.3      9.0         8.3  \n",
       "2             11%        8.0         7.0  9.3      9.0         8.3  \n",
       "3             11%        8.0         7.0  9.3      9.0         8.3  \n",
       "4             11%        8.0         7.0  9.3      9.0         8.3  \n",
       "\n",
       "[5 rows x 39 columns]"
      ],
      "text/html": [
       "<div>\n",
       "<style scoped>\n",
       "    .dataframe tbody tr th:only-of-type {\n",
       "        vertical-align: middle;\n",
       "    }\n",
       "\n",
       "    .dataframe tbody tr th {\n",
       "        vertical-align: top;\n",
       "    }\n",
       "\n",
       "    .dataframe thead th {\n",
       "        text-align: right;\n",
       "    }\n",
       "</style>\n",
       "<table border=\"1\" class=\"dataframe\">\n",
       "  <thead>\n",
       "    <tr style=\"text-align: right;\">\n",
       "      <th></th>\n",
       "      <th>Name</th>\n",
       "      <th>Gender</th>\n",
       "      <th>Game</th>\n",
       "      <th>Age</th>\n",
       "      <th>Age_range</th>\n",
       "      <th>Playable</th>\n",
       "      <th>Sexualization</th>\n",
       "      <th>Id</th>\n",
       "      <th>Species</th>\n",
       "      <th>Side</th>\n",
       "      <th>...</th>\n",
       "      <th>Criteria</th>\n",
       "      <th>Director</th>\n",
       "      <th>Total_team</th>\n",
       "      <th>female_team</th>\n",
       "      <th>Team_percentage</th>\n",
       "      <th>Metacritic</th>\n",
       "      <th>Destructoid</th>\n",
       "      <th>IGN</th>\n",
       "      <th>GameSpot</th>\n",
       "      <th>Avg_Reviews</th>\n",
       "    </tr>\n",
       "  </thead>\n",
       "  <tbody>\n",
       "    <tr>\n",
       "      <th>0</th>\n",
       "      <td>Farah</td>\n",
       "      <td>Female</td>\n",
       "      <td>CODMW</td>\n",
       "      <td>27</td>\n",
       "      <td>Adult</td>\n",
       "      <td>1</td>\n",
       "      <td>0</td>\n",
       "      <td>CODMW_Farah</td>\n",
       "      <td>Human</td>\n",
       "      <td>P</td>\n",
       "      <td>...</td>\n",
       "      <td>MS</td>\n",
       "      <td>M</td>\n",
       "      <td>11</td>\n",
       "      <td>0</td>\n",
       "      <td>0%</td>\n",
       "      <td>8.0</td>\n",
       "      <td>8.0</td>\n",
       "      <td>8.0</td>\n",
       "      <td>7.0</td>\n",
       "      <td>7.8</td>\n",
       "    </tr>\n",
       "    <tr>\n",
       "      <th>1</th>\n",
       "      <td>Protagonist</td>\n",
       "      <td>Custom</td>\n",
       "      <td>PSS</td>\n",
       "      <td>Teenager</td>\n",
       "      <td>Teenager</td>\n",
       "      <td>1</td>\n",
       "      <td>0</td>\n",
       "      <td>PSS_Protagonist</td>\n",
       "      <td>Human</td>\n",
       "      <td>P</td>\n",
       "      <td>...</td>\n",
       "      <td>MS</td>\n",
       "      <td>M</td>\n",
       "      <td>9</td>\n",
       "      <td>1</td>\n",
       "      <td>11%</td>\n",
       "      <td>8.0</td>\n",
       "      <td>7.0</td>\n",
       "      <td>9.3</td>\n",
       "      <td>9.0</td>\n",
       "      <td>8.3</td>\n",
       "    </tr>\n",
       "    <tr>\n",
       "      <th>2</th>\n",
       "      <td>Magnolia</td>\n",
       "      <td>Female</td>\n",
       "      <td>PSS</td>\n",
       "      <td>Elderly</td>\n",
       "      <td>Elderly</td>\n",
       "      <td>0</td>\n",
       "      <td>0</td>\n",
       "      <td>PSS_Magnolia</td>\n",
       "      <td>Human</td>\n",
       "      <td>P</td>\n",
       "      <td>...</td>\n",
       "      <td>MS</td>\n",
       "      <td>M</td>\n",
       "      <td>9</td>\n",
       "      <td>1</td>\n",
       "      <td>11%</td>\n",
       "      <td>8.0</td>\n",
       "      <td>7.0</td>\n",
       "      <td>9.3</td>\n",
       "      <td>9.0</td>\n",
       "      <td>8.3</td>\n",
       "    </tr>\n",
       "    <tr>\n",
       "      <th>3</th>\n",
       "      <td>Sonia</td>\n",
       "      <td>Female</td>\n",
       "      <td>PSS</td>\n",
       "      <td>26</td>\n",
       "      <td>Adult</td>\n",
       "      <td>0</td>\n",
       "      <td>0</td>\n",
       "      <td>PSS_Sonia</td>\n",
       "      <td>Human</td>\n",
       "      <td>P</td>\n",
       "      <td>...</td>\n",
       "      <td>MS</td>\n",
       "      <td>M</td>\n",
       "      <td>9</td>\n",
       "      <td>1</td>\n",
       "      <td>11%</td>\n",
       "      <td>8.0</td>\n",
       "      <td>7.0</td>\n",
       "      <td>9.3</td>\n",
       "      <td>9.0</td>\n",
       "      <td>8.3</td>\n",
       "    </tr>\n",
       "    <tr>\n",
       "      <th>4</th>\n",
       "      <td>Marnie</td>\n",
       "      <td>Female</td>\n",
       "      <td>PSS</td>\n",
       "      <td>Teenager</td>\n",
       "      <td>Teenager</td>\n",
       "      <td>0</td>\n",
       "      <td>0</td>\n",
       "      <td>PSS_Marnie</td>\n",
       "      <td>Human</td>\n",
       "      <td>B</td>\n",
       "      <td>...</td>\n",
       "      <td>MS</td>\n",
       "      <td>M</td>\n",
       "      <td>9</td>\n",
       "      <td>1</td>\n",
       "      <td>11%</td>\n",
       "      <td>8.0</td>\n",
       "      <td>7.0</td>\n",
       "      <td>9.3</td>\n",
       "      <td>9.0</td>\n",
       "      <td>8.3</td>\n",
       "    </tr>\n",
       "  </tbody>\n",
       "</table>\n",
       "<p>5 rows × 39 columns</p>\n",
       "</div>"
      ]
     },
     "execution_count": 1614,
     "metadata": {},
     "output_type": "execute_result"
    }
   ],
   "execution_count": 1614
  },
  {
   "metadata": {},
   "cell_type": "markdown",
   "source": "Next, the combined dataset and the sexualization dataset will be merged on the 'Id' column.",
   "id": "80a5805607f3e871"
  },
  {
   "cell_type": "code",
   "id": "ed396c9b47fa727f",
   "metadata": {
    "ExecuteTime": {
     "end_time": "2024-12-06T18:26:19.451333Z",
     "start_time": "2024-12-06T18:26:19.444469Z"
    }
   },
   "source": [
    "# Step 2: Merge the combined dataset with the Sexualization dataset\n",
    "data = pd.merge(data, sexualization, left_on='Id', right_on='Id', how='inner')\n",
    "data.head()"
   ],
   "outputs": [
    {
     "data": {
      "text/plain": [
       "          Name  Gender   Game       Age Age_range  Playable  Sexualization  \\\n",
       "0        Farah  Female  CODMW        27     Adult         1              0   \n",
       "1  Protagonist  Custom    PSS  Teenager  Teenager         1              0   \n",
       "2     Magnolia  Female    PSS   Elderly   Elderly         0              0   \n",
       "3        Sonia  Female    PSS        26     Adult         0              0   \n",
       "4       Marnie  Female    PSS  Teenager  Teenager         0              0   \n",
       "\n",
       "                Id Species Side  ... Metacritic Destructoid  IGN GameSpot  \\\n",
       "0      CODMW_Farah   Human    P  ...        8.0         8.0  8.0      7.0   \n",
       "1  PSS_Protagonist   Human    P  ...        8.0         7.0  9.3      9.0   \n",
       "2     PSS_Magnolia   Human    P  ...        8.0         7.0  9.3      9.0   \n",
       "3        PSS_Sonia   Human    P  ...        8.0         7.0  9.3      9.0   \n",
       "4       PSS_Marnie   Human    B  ...        8.0         7.0  9.3      9.0   \n",
       "\n",
       "  Avg_Reviews Sexualized_clothing Trophy Damsel in Distress  \\\n",
       "0         7.8                   0      0                  0   \n",
       "1         8.3                   0      0                  0   \n",
       "2         8.3                   0      0                  0   \n",
       "3         8.3                   0      0                  0   \n",
       "4         8.3                   0      0                  0   \n",
       "\n",
       "  Sexualized Cutscenes Total  \n",
       "0                    0     0  \n",
       "1                    0     0  \n",
       "2                    0     0  \n",
       "3                    0     0  \n",
       "4                    0     0  \n",
       "\n",
       "[5 rows x 44 columns]"
      ],
      "text/html": [
       "<div>\n",
       "<style scoped>\n",
       "    .dataframe tbody tr th:only-of-type {\n",
       "        vertical-align: middle;\n",
       "    }\n",
       "\n",
       "    .dataframe tbody tr th {\n",
       "        vertical-align: top;\n",
       "    }\n",
       "\n",
       "    .dataframe thead th {\n",
       "        text-align: right;\n",
       "    }\n",
       "</style>\n",
       "<table border=\"1\" class=\"dataframe\">\n",
       "  <thead>\n",
       "    <tr style=\"text-align: right;\">\n",
       "      <th></th>\n",
       "      <th>Name</th>\n",
       "      <th>Gender</th>\n",
       "      <th>Game</th>\n",
       "      <th>Age</th>\n",
       "      <th>Age_range</th>\n",
       "      <th>Playable</th>\n",
       "      <th>Sexualization</th>\n",
       "      <th>Id</th>\n",
       "      <th>Species</th>\n",
       "      <th>Side</th>\n",
       "      <th>...</th>\n",
       "      <th>Metacritic</th>\n",
       "      <th>Destructoid</th>\n",
       "      <th>IGN</th>\n",
       "      <th>GameSpot</th>\n",
       "      <th>Avg_Reviews</th>\n",
       "      <th>Sexualized_clothing</th>\n",
       "      <th>Trophy</th>\n",
       "      <th>Damsel in Distress</th>\n",
       "      <th>Sexualized Cutscenes</th>\n",
       "      <th>Total</th>\n",
       "    </tr>\n",
       "  </thead>\n",
       "  <tbody>\n",
       "    <tr>\n",
       "      <th>0</th>\n",
       "      <td>Farah</td>\n",
       "      <td>Female</td>\n",
       "      <td>CODMW</td>\n",
       "      <td>27</td>\n",
       "      <td>Adult</td>\n",
       "      <td>1</td>\n",
       "      <td>0</td>\n",
       "      <td>CODMW_Farah</td>\n",
       "      <td>Human</td>\n",
       "      <td>P</td>\n",
       "      <td>...</td>\n",
       "      <td>8.0</td>\n",
       "      <td>8.0</td>\n",
       "      <td>8.0</td>\n",
       "      <td>7.0</td>\n",
       "      <td>7.8</td>\n",
       "      <td>0</td>\n",
       "      <td>0</td>\n",
       "      <td>0</td>\n",
       "      <td>0</td>\n",
       "      <td>0</td>\n",
       "    </tr>\n",
       "    <tr>\n",
       "      <th>1</th>\n",
       "      <td>Protagonist</td>\n",
       "      <td>Custom</td>\n",
       "      <td>PSS</td>\n",
       "      <td>Teenager</td>\n",
       "      <td>Teenager</td>\n",
       "      <td>1</td>\n",
       "      <td>0</td>\n",
       "      <td>PSS_Protagonist</td>\n",
       "      <td>Human</td>\n",
       "      <td>P</td>\n",
       "      <td>...</td>\n",
       "      <td>8.0</td>\n",
       "      <td>7.0</td>\n",
       "      <td>9.3</td>\n",
       "      <td>9.0</td>\n",
       "      <td>8.3</td>\n",
       "      <td>0</td>\n",
       "      <td>0</td>\n",
       "      <td>0</td>\n",
       "      <td>0</td>\n",
       "      <td>0</td>\n",
       "    </tr>\n",
       "    <tr>\n",
       "      <th>2</th>\n",
       "      <td>Magnolia</td>\n",
       "      <td>Female</td>\n",
       "      <td>PSS</td>\n",
       "      <td>Elderly</td>\n",
       "      <td>Elderly</td>\n",
       "      <td>0</td>\n",
       "      <td>0</td>\n",
       "      <td>PSS_Magnolia</td>\n",
       "      <td>Human</td>\n",
       "      <td>P</td>\n",
       "      <td>...</td>\n",
       "      <td>8.0</td>\n",
       "      <td>7.0</td>\n",
       "      <td>9.3</td>\n",
       "      <td>9.0</td>\n",
       "      <td>8.3</td>\n",
       "      <td>0</td>\n",
       "      <td>0</td>\n",
       "      <td>0</td>\n",
       "      <td>0</td>\n",
       "      <td>0</td>\n",
       "    </tr>\n",
       "    <tr>\n",
       "      <th>3</th>\n",
       "      <td>Sonia</td>\n",
       "      <td>Female</td>\n",
       "      <td>PSS</td>\n",
       "      <td>26</td>\n",
       "      <td>Adult</td>\n",
       "      <td>0</td>\n",
       "      <td>0</td>\n",
       "      <td>PSS_Sonia</td>\n",
       "      <td>Human</td>\n",
       "      <td>P</td>\n",
       "      <td>...</td>\n",
       "      <td>8.0</td>\n",
       "      <td>7.0</td>\n",
       "      <td>9.3</td>\n",
       "      <td>9.0</td>\n",
       "      <td>8.3</td>\n",
       "      <td>0</td>\n",
       "      <td>0</td>\n",
       "      <td>0</td>\n",
       "      <td>0</td>\n",
       "      <td>0</td>\n",
       "    </tr>\n",
       "    <tr>\n",
       "      <th>4</th>\n",
       "      <td>Marnie</td>\n",
       "      <td>Female</td>\n",
       "      <td>PSS</td>\n",
       "      <td>Teenager</td>\n",
       "      <td>Teenager</td>\n",
       "      <td>0</td>\n",
       "      <td>0</td>\n",
       "      <td>PSS_Marnie</td>\n",
       "      <td>Human</td>\n",
       "      <td>B</td>\n",
       "      <td>...</td>\n",
       "      <td>8.0</td>\n",
       "      <td>7.0</td>\n",
       "      <td>9.3</td>\n",
       "      <td>9.0</td>\n",
       "      <td>8.3</td>\n",
       "      <td>0</td>\n",
       "      <td>0</td>\n",
       "      <td>0</td>\n",
       "      <td>0</td>\n",
       "      <td>0</td>\n",
       "    </tr>\n",
       "  </tbody>\n",
       "</table>\n",
       "<p>5 rows × 44 columns</p>\n",
       "</div>"
      ]
     },
     "execution_count": 1615,
     "metadata": {},
     "output_type": "execute_result"
    }
   ],
   "execution_count": 1615
  },
  {
   "cell_type": "markdown",
   "id": "56200d34ecac4263",
   "metadata": {},
   "source": [
    "Next, the shape of the combined dataset will be checked, and the columns will be reviewed."
   ]
  },
  {
   "cell_type": "code",
   "id": "6931fda614c649f0",
   "metadata": {
    "ExecuteTime": {
     "end_time": "2024-12-06T18:26:19.497148Z",
     "start_time": "2024-12-06T18:26:19.495438Z"
    }
   },
   "source": [
    "# Check the shape of the combined dataset\n",
    "print(f\"Number of rows: {data.shape[0]}\")\n",
    "print(f\"Number of columns: {data.shape[1]}\")"
   ],
   "outputs": [
    {
     "name": "stdout",
     "output_type": "stream",
     "text": [
      "Number of rows: 637\n",
      "Number of columns: 44\n"
     ]
    }
   ],
   "execution_count": 1616
  },
  {
   "cell_type": "code",
   "id": "f37a5805d50df3bb",
   "metadata": {
    "ExecuteTime": {
     "end_time": "2024-12-06T18:26:19.542216Z",
     "start_time": "2024-12-06T18:26:19.540015Z"
    }
   },
   "source": [
    "# Check the columns in the combined dataset\n",
    "data.columns"
   ],
   "outputs": [
    {
     "data": {
      "text/plain": [
       "Index(['Name', 'Gender', 'Game', 'Age', 'Age_range', 'Playable',\n",
       "       'Sexualization', 'Id', 'Species', 'Side', 'Relevance',\n",
       "       'Romantic_Interest', 'Game_Id', 'Title', 'Release', 'Series', 'Genre',\n",
       "       'Sub-genre', 'Developer', 'Publisher', 'Country', 'Platform', 'PEGI',\n",
       "       'Customizable_main', 'Protagonist', 'Protagonist_Non_Male',\n",
       "       'Relevant_males', 'Relevant_no_males', 'Percentage_non_male',\n",
       "       'Criteria', 'Director', 'Total_team', 'female_team', 'Team_percentage',\n",
       "       'Metacritic', 'Destructoid', 'IGN', 'GameSpot', 'Avg_Reviews',\n",
       "       'Sexualized_clothing', 'Trophy', 'Damsel in Distress',\n",
       "       'Sexualized Cutscenes', 'Total'],\n",
       "      dtype='object')"
      ]
     },
     "execution_count": 1617,
     "metadata": {},
     "output_type": "execute_result"
    }
   ],
   "execution_count": 1617
  },
  {
   "cell_type": "markdown",
   "id": "d32c0619fc0adf12",
   "metadata": {},
   "source": "The dataset contains 44 columns, which is a large number of columns. The columns will be reviewed to determine if any columns can be dropped.  If columns contain the same information, one of the columns will be dropped."
  },
  {
   "cell_type": "markdown",
   "id": "183d3f9cbe722712",
   "metadata": {},
   "source": [
    "The 'Sexualization' column is the same as the 'Total' column. The 'Sexualization' column will be dropped and the 'Total' column will be renamed to 'Sexualization_total_score'."
   ]
  },
  {
   "cell_type": "code",
   "id": "9d65ccfe38a95141",
   "metadata": {
    "ExecuteTime": {
     "end_time": "2024-12-06T18:26:19.575211Z",
     "start_time": "2024-12-06T18:26:19.572928Z"
    }
   },
   "source": [
    "# Check the 'Sexualization' column is the same as the 'Total' column\n",
    "data['Sexualization'].equals(data['Total'])"
   ],
   "outputs": [
    {
     "data": {
      "text/plain": [
       "True"
      ]
     },
     "execution_count": 1618,
     "metadata": {},
     "output_type": "execute_result"
    }
   ],
   "execution_count": 1618
  },
  {
   "cell_type": "code",
   "id": "e00758d7f11d719b",
   "metadata": {
    "ExecuteTime": {
     "end_time": "2024-12-06T18:26:19.594366Z",
     "start_time": "2024-12-06T18:26:19.591764Z"
    }
   },
   "source": [
    "# Drop the 'Sexualization' column\n",
    "data.drop(columns=['Sexualization'], inplace=True)\n",
    "data.columns"
   ],
   "outputs": [
    {
     "data": {
      "text/plain": [
       "Index(['Name', 'Gender', 'Game', 'Age', 'Age_range', 'Playable', 'Id',\n",
       "       'Species', 'Side', 'Relevance', 'Romantic_Interest', 'Game_Id', 'Title',\n",
       "       'Release', 'Series', 'Genre', 'Sub-genre', 'Developer', 'Publisher',\n",
       "       'Country', 'Platform', 'PEGI', 'Customizable_main', 'Protagonist',\n",
       "       'Protagonist_Non_Male', 'Relevant_males', 'Relevant_no_males',\n",
       "       'Percentage_non_male', 'Criteria', 'Director', 'Total_team',\n",
       "       'female_team', 'Team_percentage', 'Metacritic', 'Destructoid', 'IGN',\n",
       "       'GameSpot', 'Avg_Reviews', 'Sexualized_clothing', 'Trophy',\n",
       "       'Damsel in Distress', 'Sexualized Cutscenes', 'Total'],\n",
       "      dtype='object')"
      ]
     },
     "execution_count": 1619,
     "metadata": {},
     "output_type": "execute_result"
    }
   ],
   "execution_count": 1619
  },
  {
   "cell_type": "code",
   "id": "30aef51989cc2ac6",
   "metadata": {
    "ExecuteTime": {
     "end_time": "2024-12-06T18:26:19.616365Z",
     "start_time": "2024-12-06T18:26:19.613844Z"
    }
   },
   "source": [
    "# Rename 'Total' column to 'Sexualization'\n",
    "data.rename(columns={'Total': 'Sexualization_total_score'}, inplace=True)\n",
    "data.columns"
   ],
   "outputs": [
    {
     "data": {
      "text/plain": [
       "Index(['Name', 'Gender', 'Game', 'Age', 'Age_range', 'Playable', 'Id',\n",
       "       'Species', 'Side', 'Relevance', 'Romantic_Interest', 'Game_Id', 'Title',\n",
       "       'Release', 'Series', 'Genre', 'Sub-genre', 'Developer', 'Publisher',\n",
       "       'Country', 'Platform', 'PEGI', 'Customizable_main', 'Protagonist',\n",
       "       'Protagonist_Non_Male', 'Relevant_males', 'Relevant_no_males',\n",
       "       'Percentage_non_male', 'Criteria', 'Director', 'Total_team',\n",
       "       'female_team', 'Team_percentage', 'Metacritic', 'Destructoid', 'IGN',\n",
       "       'GameSpot', 'Avg_Reviews', 'Sexualized_clothing', 'Trophy',\n",
       "       'Damsel in Distress', 'Sexualized Cutscenes',\n",
       "       'Sexualization_total_score'],\n",
       "      dtype='object')"
      ]
     },
     "execution_count": 1620,
     "metadata": {},
     "output_type": "execute_result"
    }
   ],
   "execution_count": 1620
  },
  {
   "cell_type": "raw",
   "id": "78015ec1ac530371",
   "metadata": {},
   "source": [
    "The 'Game' and 'Game_Id' columns are the same. The 'Game' column will be dropped."
   ]
  },
  {
   "cell_type": "code",
   "id": "2fac8806ed847780",
   "metadata": {
    "ExecuteTime": {
     "end_time": "2024-12-06T18:26:19.637240Z",
     "start_time": "2024-12-06T18:26:19.635043Z"
    }
   },
   "source": [
    "# Check 'Game' and 'Game_Id' columns are the same\n",
    "data['Game'].equals(data['Game_Id'])"
   ],
   "outputs": [
    {
     "data": {
      "text/plain": [
       "True"
      ]
     },
     "execution_count": 1621,
     "metadata": {},
     "output_type": "execute_result"
    }
   ],
   "execution_count": 1621
  },
  {
   "cell_type": "code",
   "id": "4c29239fc6a956d3",
   "metadata": {
    "ExecuteTime": {
     "end_time": "2024-12-06T18:26:19.658704Z",
     "start_time": "2024-12-06T18:26:19.656225Z"
    }
   },
   "source": [
    "# Drop the 'Game' column\n",
    "data.drop(columns=['Game'], inplace=True)\n",
    "data.columns"
   ],
   "outputs": [
    {
     "data": {
      "text/plain": [
       "Index(['Name', 'Gender', 'Age', 'Age_range', 'Playable', 'Id', 'Species',\n",
       "       'Side', 'Relevance', 'Romantic_Interest', 'Game_Id', 'Title', 'Release',\n",
       "       'Series', 'Genre', 'Sub-genre', 'Developer', 'Publisher', 'Country',\n",
       "       'Platform', 'PEGI', 'Customizable_main', 'Protagonist',\n",
       "       'Protagonist_Non_Male', 'Relevant_males', 'Relevant_no_males',\n",
       "       'Percentage_non_male', 'Criteria', 'Director', 'Total_team',\n",
       "       'female_team', 'Team_percentage', 'Metacritic', 'Destructoid', 'IGN',\n",
       "       'GameSpot', 'Avg_Reviews', 'Sexualized_clothing', 'Trophy',\n",
       "       'Damsel in Distress', 'Sexualized Cutscenes',\n",
       "       'Sexualization_total_score'],\n",
       "      dtype='object')"
      ]
     },
     "execution_count": 1622,
     "metadata": {},
     "output_type": "execute_result"
    }
   ],
   "execution_count": 1622
  },
  {
   "cell_type": "markdown",
   "id": "5bd2e64b403fedd",
   "metadata": {},
   "source": "Next, the column names will be renamed to make them more descriptive and easier to understand."
  },
  {
   "cell_type": "code",
   "id": "5d543c78a1b75c2c",
   "metadata": {
    "ExecuteTime": {
     "end_time": "2024-12-06T18:26:19.680484Z",
     "start_time": "2024-12-06T18:26:19.677091Z"
    }
   },
   "source": [
    "# Rename columns\n",
    "data.rename(columns=\n",
    "            {\n",
    "                'Name': 'Character_name',\n",
    "                'Gender': 'Character_gender',\n",
    "                'Age': 'Character_age',\n",
    "                'Age_range': 'Character_age_range',\n",
    "                'Playable': 'Character_playable',\n",
    "                'Id': 'Character_id',\n",
    "                'Species': 'Character_species',\n",
    "                'Side': 'Character_side',\n",
    "                'Relevance': 'Character_relevance',\n",
    "                'Romantic_Interest': 'Character_romantic_interest',\n",
    "                'Game_Id': 'Game_id',\n",
    "                'Title': 'Game_title',\n",
    "                'Release': 'Game_release',\n",
    "                'Series': 'Game_series',\n",
    "                'Genre': 'Game_genre',\n",
    "                'Sub-genre': 'Game_sub_genre',\n",
    "                'Developer': 'Game_developer',\n",
    "                'Publisher': 'Game_publisher',\n",
    "                'Country': 'Country_of_game_developer',\n",
    "                'Platform': 'Platform',\n",
    "                'PEGI': 'PEGI_rating',\n",
    "                'Customizable_main': 'Customizable_main_character',\n",
    "                'Protagonist': 'Protagonist_characters',\n",
    "                'Protagonist_Non_Male': 'Protagonist_non_male_characters',\n",
    "                'Relevant_males': 'Relevant_male_characters',\n",
    "                'Relevant_no_males': 'Relevant_no_male_characters',\n",
    "                'Percentage_non_male': 'Percentage_non_male_characters',\n",
    "                'Criteria': 'Criteria',\n",
    "                'Director': 'Director',\n",
    "                'Total_team': 'Total_team',\n",
    "                'female_team': 'Female_team',\n",
    "                'Team_percentage': 'Women_in_team_percentage',\n",
    "                'Metacritic': 'Metacritic_review',\n",
    "                'Destructoid': 'Destructoid_review',\n",
    "                'IGN': 'IGN_review',\n",
    "                'GameSpot': 'GameSpot_review',\n",
    "                'Avg_Reviews': 'Average_reviews',\n",
    "                'Sexualized_clothing': 'Sexualized_clothing_score',\n",
    "                'Trophy': 'Character_trophy_score',\n",
    "                'Damsel in Distress': 'Damsel_in_Distress_score',\n",
    "                'Sexualized Cutscenes': 'Sexualized_Cutscenes_score',\n",
    "                'Sexualization_total_score': 'Sexualization_total_score'\n",
    "            },\n",
    "            inplace=True)\n",
    "data.columns"
   ],
   "outputs": [
    {
     "data": {
      "text/plain": [
       "Index(['Character_name', 'Character_gender', 'Character_age',\n",
       "       'Character_age_range', 'Character_playable', 'Character_id',\n",
       "       'Character_species', 'Character_side', 'Character_relevance',\n",
       "       'Character_romantic_interest', 'Game_id', 'Game_title', 'Game_release',\n",
       "       'Game_series', 'Game_genre', 'Game_sub_genre', 'Game_developer',\n",
       "       'Game_publisher', 'Country_of_game_developer', 'Platform',\n",
       "       'PEGI_rating', 'Customizable_main_character', 'Protagonist_characters',\n",
       "       'Protagonist_non_male_characters', 'Relevant_male_characters',\n",
       "       'Relevant_no_male_characters', 'Percentage_non_male_characters',\n",
       "       'Criteria', 'Director', 'Total_team', 'Female_team',\n",
       "       'Women_in_team_percentage', 'Metacritic_review', 'Destructoid_review',\n",
       "       'IGN_review', 'GameSpot_review', 'Average_reviews',\n",
       "       'Sexualized_clothing_score', 'Character_trophy_score',\n",
       "       'Damsel_in_Distress_score', 'Sexualized_Cutscenes_score',\n",
       "       'Sexualization_total_score'],\n",
       "      dtype='object')"
      ]
     },
     "execution_count": 1623,
     "metadata": {},
     "output_type": "execute_result"
    }
   ],
   "execution_count": 1623
  },
  {
   "cell_type": "markdown",
   "id": "39f353525793ea51",
   "metadata": {},
   "source": [
    "Next, the dataset data types will be reviewed.\n",
    "\n",
    "Most of the columns are expected to be of type 'object' as they contain string values, however some columns may need to be converted to a different data type.\n",
    "\n"
   ]
  },
  {
   "cell_type": "code",
   "id": "8069abf995a0acd3",
   "metadata": {
    "ExecuteTime": {
     "end_time": "2024-12-06T18:26:19.701236Z",
     "start_time": "2024-12-06T18:26:19.698791Z"
    }
   },
   "source": [
    "# Check the data types of the columns\n",
    "data.dtypes"
   ],
   "outputs": [
    {
     "data": {
      "text/plain": [
       "Character_name                      object\n",
       "Character_gender                    object\n",
       "Character_age                       object\n",
       "Character_age_range                 object\n",
       "Character_playable                   int64\n",
       "Character_id                        object\n",
       "Character_species                   object\n",
       "Character_side                      object\n",
       "Character_relevance                 object\n",
       "Character_romantic_interest         object\n",
       "Game_id                             object\n",
       "Game_title                          object\n",
       "Game_release                        object\n",
       "Game_series                         object\n",
       "Game_genre                          object\n",
       "Game_sub_genre                      object\n",
       "Game_developer                      object\n",
       "Game_publisher                      object\n",
       "Country_of_game_developer           object\n",
       "Platform                            object\n",
       "PEGI_rating                          int64\n",
       "Customizable_main_character         object\n",
       "Protagonist_characters               int64\n",
       "Protagonist_non_male_characters      int64\n",
       "Relevant_male_characters             int64\n",
       "Relevant_no_male_characters          int64\n",
       "Percentage_non_male_characters      object\n",
       "Criteria                            object\n",
       "Director                            object\n",
       "Total_team                           int64\n",
       "Female_team                          int64\n",
       "Women_in_team_percentage            object\n",
       "Metacritic_review                  float64\n",
       "Destructoid_review                 float64\n",
       "IGN_review                         float64\n",
       "GameSpot_review                    float64\n",
       "Average_reviews                    float64\n",
       "Sexualized_clothing_score            int64\n",
       "Character_trophy_score               int64\n",
       "Damsel_in_Distress_score             int64\n",
       "Sexualized_Cutscenes_score           int64\n",
       "Sexualization_total_score            int64\n",
       "dtype: object"
      ]
     },
     "execution_count": 1624,
     "metadata": {},
     "output_type": "execute_result"
    }
   ],
   "execution_count": 1624
  },
  {
   "cell_type": "code",
   "id": "15cfa876621db13c",
   "metadata": {
    "ExecuteTime": {
     "end_time": "2024-12-06T18:26:19.730326Z",
     "start_time": "2024-12-06T18:26:19.722698Z"
    }
   },
   "source": [
    "# Convert and check data types of the columns are as expected\n",
    "expected_data_types = {\n",
    "                'Character_name': 'object',\n",
    "                'Character_gender': 'category',\n",
    "                'Character_age': 'object',\n",
    "                'Character_age_range': 'category',\n",
    "                'Character_playable': 'bool',\n",
    "                'Character_id': 'object',\n",
    "                'Character_species': 'category',\n",
    "                'Character_side': 'category',\n",
    "                'Character_relevance': 'category',\n",
    "                'Character_romantic_interest': 'category',\n",
    "                'Game_id': 'object',\n",
    "                'Game_title': 'object',\n",
    "                'Game_release': 'datetime64[ns]',\n",
    "                'Game_series': 'category',\n",
    "                'Game_genre': 'category',\n",
    "                'Game_sub_genre': 'category',\n",
    "                'Game_developer': 'category',\n",
    "                'Game_publisher': 'category',\n",
    "                'Country_of_game_developer': 'category',\n",
    "                'Platform': 'category',\n",
    "                'PEGI_rating': 'category',\n",
    "                'Customizable_main_character': 'category',\n",
    "                'Protagonist_characters': 'int64',\n",
    "                'Protagonist_non_male_characters': 'int64',\n",
    "                'Relevant_male_characters': 'int64',\n",
    "                'Relevant_no_male_characters': 'int64',\n",
    "                'Percentage_non_male_characters': 'float64',\n",
    "                'Criteria': 'category',\n",
    "                'Director': 'category',\n",
    "                'Total_team': 'int64',\n",
    "                'Female_team': 'int64',\n",
    "                'Women_in_team_percentage': 'float64',\n",
    "                'Metacritic_review': 'float64',\n",
    "                'Destructoid_review': 'float64',\n",
    "                'IGN_review': 'float64',\n",
    "                'GameSpot_review': 'float64',\n",
    "                'Average_reviews': 'float64',\n",
    "                'Sexualized_clothing_score': 'bool',\n",
    "                'Character_trophy_score': 'bool',\n",
    "                'Damsel_in_Distress_score': 'bool',\n",
    "                'Sexualized_Cutscenes_score': 'bool',\n",
    "                'Sexualization_total_score': 'int64'\n",
    "            }\n",
    "\n",
    "for column, expected_type in expected_data_types.items():\n",
    "    try:\n",
    "        data[column] = data[column].astype(expected_type)\n",
    "    except Exception as e:\n",
    "        print(f\"An error occurred while converting column '{column}' to type '{expected_type}': {e}\\n\")\n"
   ],
   "outputs": [
    {
     "name": "stdout",
     "output_type": "stream",
     "text": [
      "An error occurred while converting column 'Game_release' to type 'datetime64[ns]': Out of bounds nanosecond timestamp: Oct-19, at position 0\n",
      "\n",
      "An error occurred while converting column 'Percentage_non_male_characters' to type 'float64': could not convert string to float: '17%'\n",
      "\n",
      "An error occurred while converting column 'Women_in_team_percentage' to type 'float64': could not convert string to float: '0%'\n",
      "\n"
     ]
    }
   ],
   "execution_count": 1625
  },
  {
   "metadata": {},
   "cell_type": "markdown",
   "source": [
    "From the output above, it can be seen that the data types have been converted successfully, except the 'Game_release', 'Percentage_non_male_characters', and the 'Women_in_team_percentage'.\n",
    "\n",
    "- 'Game_release' is expected to be of type 'datetime64[ns]' but it is currently of type 'object'.  When the conversion was attempted, an error occurred.  This is likely due to the format of the 'Game_release' column not being recognised by the 'to_datetime' function.\n",
    "- 'Percentage_non_male_characters' is expected to be of type 'float64' but it is currently of type 'object'.  The '%' character will need to be removed before the conversion\n",
    "- 'Women_in_team_percentage' is expected to be of type 'float64' but it is currently of type 'object'.  The '%' character will need to be removed before the conversion"
   ],
   "id": "19c786050c19bf39"
  },
  {
   "metadata": {},
   "cell_type": "markdown",
   "source": "First, the '%' character will be removed from the 'Percentage_non_male_characters' and 'Women_in_team_percentage' columns using the 'rstrip' function.",
   "id": "23642050a396f65b"
  },
  {
   "cell_type": "code",
   "id": "883e9602abe11c29",
   "metadata": {
    "ExecuteTime": {
     "end_time": "2024-12-06T18:26:19.749797Z",
     "start_time": "2024-12-06T18:26:19.747788Z"
    }
   },
   "source": [
    "# Remove the '%' from the percentage columns\n",
    "data['Percentage_non_male_characters'] = data['Percentage_non_male_characters'].str.rstrip('%').astype(float)\n",
    "data['Women_in_team_percentage'] = data['Women_in_team_percentage'].str.rstrip('%').astype(float)\n"
   ],
   "outputs": [],
   "execution_count": 1626
  },
  {
   "metadata": {},
   "cell_type": "markdown",
   "source": "Next, the 'Game_release' column will be converted to datetime with a specified format.",
   "id": "ad3f972e196e28cc"
  },
  {
   "metadata": {
    "ExecuteTime": {
     "end_time": "2024-12-06T18:26:19.758531Z",
     "start_time": "2024-12-06T18:26:19.756196Z"
    }
   },
   "cell_type": "code",
   "source": [
    "# Convert the 'Game_release' column to datetime with a specified format\n",
    "data['Game_release'] = pd.to_datetime(data['Game_release'], format='%b-%y', errors='coerce')\n",
    "\n",
    "# Verify the data type conversion\n",
    "print(data['Game_release'].dtype)"
   ],
   "id": "5a661c97f02c79d9",
   "outputs": [
    {
     "name": "stdout",
     "output_type": "stream",
     "text": [
      "datetime64[ns]\n"
     ]
    }
   ],
   "execution_count": 1627
  },
  {
   "metadata": {},
   "cell_type": "markdown",
   "source": "This appears to have been successful, but the values will be checked to ensure that the conversion has been done correctly.",
   "id": "9665ffd8cf10f807"
  },
  {
   "metadata": {
    "ExecuteTime": {
     "end_time": "2024-12-06T18:26:19.772362Z",
     "start_time": "2024-12-06T18:26:19.770191Z"
    }
   },
   "cell_type": "code",
   "source": [
    "# Check the data types of the 'Game_release' column\n",
    "game_releases = data['Game_release']\n",
    "game_releases.head()"
   ],
   "id": "2457c2d790505b1f",
   "outputs": [
    {
     "data": {
      "text/plain": [
       "0   2019-10-01\n",
       "1   2019-11-01\n",
       "2   2019-11-01\n",
       "3   2019-11-01\n",
       "4   2019-11-01\n",
       "Name: Game_release, dtype: datetime64[ns]"
      ]
     },
     "execution_count": 1628,
     "metadata": {},
     "output_type": "execute_result"
    }
   ],
   "execution_count": 1628
  },
  {
   "metadata": {
    "ExecuteTime": {
     "end_time": "2024-12-06T18:26:19.796136Z",
     "start_time": "2024-12-06T18:26:19.793531Z"
    }
   },
   "cell_type": "code",
   "source": "data.dtypes",
   "id": "7c93682e6fd7f59c",
   "outputs": [
    {
     "data": {
      "text/plain": [
       "Character_name                             object\n",
       "Character_gender                         category\n",
       "Character_age                              object\n",
       "Character_age_range                      category\n",
       "Character_playable                           bool\n",
       "Character_id                               object\n",
       "Character_species                        category\n",
       "Character_side                           category\n",
       "Character_relevance                      category\n",
       "Character_romantic_interest              category\n",
       "Game_id                                    object\n",
       "Game_title                                 object\n",
       "Game_release                       datetime64[ns]\n",
       "Game_series                              category\n",
       "Game_genre                               category\n",
       "Game_sub_genre                           category\n",
       "Game_developer                           category\n",
       "Game_publisher                           category\n",
       "Country_of_game_developer                category\n",
       "Platform                                 category\n",
       "PEGI_rating                              category\n",
       "Customizable_main_character              category\n",
       "Protagonist_characters                      int64\n",
       "Protagonist_non_male_characters             int64\n",
       "Relevant_male_characters                    int64\n",
       "Relevant_no_male_characters                 int64\n",
       "Percentage_non_male_characters            float64\n",
       "Criteria                                 category\n",
       "Director                                 category\n",
       "Total_team                                  int64\n",
       "Female_team                                 int64\n",
       "Women_in_team_percentage                  float64\n",
       "Metacritic_review                         float64\n",
       "Destructoid_review                        float64\n",
       "IGN_review                                float64\n",
       "GameSpot_review                           float64\n",
       "Average_reviews                           float64\n",
       "Sexualized_clothing_score                    bool\n",
       "Character_trophy_score                       bool\n",
       "Damsel_in_Distress_score                     bool\n",
       "Sexualized_Cutscenes_score                   bool\n",
       "Sexualization_total_score                   int64\n",
       "dtype: object"
      ]
     },
     "execution_count": 1629,
     "metadata": {},
     "output_type": "execute_result"
    }
   ],
   "execution_count": 1629
  },
  {
   "metadata": {},
   "cell_type": "markdown",
   "source": "The 'Game_release' column has been converted successfully.",
   "id": "7f6e8610b86d5f2b"
  },
  {
   "metadata": {},
   "cell_type": "markdown",
   "source": "Next, the data contained in the 'Character_side', 'Character_relevance', 'Criteria', and 'Director' columns will be transformed to more descriptive values.  I will source this information from the metadata provided.",
   "id": "f4c4ebd58f7470c3"
  },
  {
   "metadata": {
    "ExecuteTime": {
     "end_time": "2024-12-06T18:26:19.822168Z",
     "start_time": "2024-12-06T18:26:19.818745Z"
    }
   },
   "cell_type": "code",
   "source": [
    "# Character side: data cleaning\n",
    "data['Character_side'] = data['Character_side'].str.replace('P', 'Protagonist')\n",
    "data['Character_side'] = data['Character_side'].str.replace('A', 'Antagonist')\n",
    "data['Character_side'] = data['Character_side'].str.replace('B', 'Both')\n",
    "data['Character_side']"
   ],
   "id": "70391489c6d6d2e3",
   "outputs": [
    {
     "data": {
      "text/plain": [
       "0      Protagonist\n",
       "1      Protagonist\n",
       "2      Protagonist\n",
       "3      Protagonist\n",
       "4             Both\n",
       "          ...     \n",
       "632    Protagonist\n",
       "633    Protagonist\n",
       "634    Protagonist\n",
       "635    Protagonist\n",
       "636    Protagonist\n",
       "Name: Character_side, Length: 637, dtype: object"
      ]
     },
     "execution_count": 1630,
     "metadata": {},
     "output_type": "execute_result"
    }
   ],
   "execution_count": 1630
  },
  {
   "metadata": {
    "ExecuteTime": {
     "end_time": "2024-12-06T18:26:19.848206Z",
     "start_time": "2024-12-06T18:26:19.846Z"
    }
   },
   "cell_type": "code",
   "source": [
    "# Character relevance: data cleaning\n",
    "relevance = {\n",
    "    'PA': 'Protagonist',\n",
    "    'DA': 'Deuteragonist',\n",
    "    'SK': 'Sidekick',\n",
    "    'MC': 'Main Character',\n",
    "    'SC': 'Secondary Character',\n",
    "    'MA': 'Main Antagonist',\n",
    "}\n",
    "\n",
    "# Ensure 'Character_relevance' is a categorical type\n",
    "data['Character_relevance'] = data['Character_relevance'].astype('category')\n",
    "\n",
    "# Rename categories\n",
    "data['Character_relevance'] = data['Character_relevance'].cat.rename_categories(relevance)"
   ],
   "id": "f86bdde8811ba21e",
   "outputs": [],
   "execution_count": 1631
  },
  {
   "metadata": {
    "ExecuteTime": {
     "end_time": "2024-12-06T18:26:19.867791Z",
     "start_time": "2024-12-06T18:26:19.865283Z"
    }
   },
   "cell_type": "code",
   "source": "data['Character_relevance']",
   "id": "10ac61f76b6dcded",
   "outputs": [
    {
     "data": {
      "text/plain": [
       "0              Protagonist\n",
       "1              Protagonist\n",
       "2      Secondary Character\n",
       "3      Secondary Character\n",
       "4           Main Character\n",
       "              ...         \n",
       "632    Secondary Character\n",
       "633    Secondary Character\n",
       "634    Secondary Character\n",
       "635    Secondary Character\n",
       "636    Secondary Character\n",
       "Name: Character_relevance, Length: 637, dtype: category\n",
       "Categories (6, object): ['Deuteragonist', 'Main Antagonist', 'Main Character', 'Protagonist', 'Secondary Character', 'Sidekick']"
      ]
     },
     "execution_count": 1632,
     "metadata": {},
     "output_type": "execute_result"
    }
   ],
   "execution_count": 1632
  },
  {
   "metadata": {
    "ExecuteTime": {
     "end_time": "2024-12-06T18:26:19.889937Z",
     "start_time": "2024-12-06T18:26:19.887142Z"
    }
   },
   "cell_type": "code",
   "source": [
    "# Criteria: data cleaning\n",
    "criteria = {\n",
    "    'TR': 'Top Rated',\n",
    "    'MS': 'Most Sold',\n",
    "    'SR': 'Sales and rating',\n",
    "}\n",
    "\n",
    "# Ensure 'Criteria' is a categorical type\n",
    "data['Criteria'] = data['Criteria'].astype('category')\n",
    "\n",
    "# Rename categories\n",
    "data['Criteria'] = data['Criteria'].cat.rename_categories(criteria)\n",
    "data['Criteria']"
   ],
   "id": "25adeca93bc86002",
   "outputs": [
    {
     "data": {
      "text/plain": [
       "0      Most Sold\n",
       "1      Most Sold\n",
       "2      Most Sold\n",
       "3      Most Sold\n",
       "4      Most Sold\n",
       "         ...    \n",
       "632    Top Rated\n",
       "633    Top Rated\n",
       "634    Top Rated\n",
       "635    Top Rated\n",
       "636    Top Rated\n",
       "Name: Criteria, Length: 637, dtype: category\n",
       "Categories (3, object): ['Most Sold', 'Sales and rating', 'Top Rated']"
      ]
     },
     "execution_count": 1633,
     "metadata": {},
     "output_type": "execute_result"
    }
   ],
   "execution_count": 1633
  },
  {
   "metadata": {
    "ExecuteTime": {
     "end_time": "2024-12-06T18:26:19.914846Z",
     "start_time": "2024-12-06T18:26:19.911634Z"
    }
   },
   "cell_type": "code",
   "source": [
    "# Director: data cleaning\n",
    "gender = {\n",
    "    'M': 'Male',\n",
    "    'F': 'Female',\n",
    "    'NB': 'Non-Binary',\n",
    "    'B': 'Both',\n",
    "}\n",
    "\n",
    "# Ensure 'Director' is a categorical type\n",
    "data['Director'] = data['Director'].astype('category')\n",
    "\n",
    "# Rename categories\n",
    "data['Director'] = data['Director'].cat.rename_categories(gender)\n",
    "data['Director']"
   ],
   "id": "5577bce440a7391",
   "outputs": [
    {
     "data": {
      "text/plain": [
       "0      Male\n",
       "1      Male\n",
       "2      Male\n",
       "3      Male\n",
       "4      Male\n",
       "       ... \n",
       "632    Male\n",
       "633    Male\n",
       "634    Male\n",
       "635    Male\n",
       "636    Male\n",
       "Name: Director, Length: 637, dtype: category\n",
       "Categories (2, object): ['Female', 'Male']"
      ]
     },
     "execution_count": 1634,
     "metadata": {},
     "output_type": "execute_result"
    }
   ],
   "execution_count": 1634
  },
  {
   "metadata": {},
   "cell_type": "markdown",
   "source": "The columns have been transformed successfully.  The dataset is now ready for analysis.",
   "id": "1202460953b7e43b"
  },
  {
   "metadata": {
    "ExecuteTime": {
     "end_time": "2024-12-06T18:26:19.943711Z",
     "start_time": "2024-12-06T18:26:19.935766Z"
    }
   },
   "cell_type": "code",
   "source": "data",
   "id": "828338e05a1bf752",
   "outputs": [
    {
     "data": {
      "text/plain": [
       "    Character_name Character_gender Character_age Character_age_range  \\\n",
       "0            Farah           Female            27               Adult   \n",
       "1      Protagonist           Custom      Teenager            Teenager   \n",
       "2         Magnolia           Female       Elderly             Elderly   \n",
       "3            Sonia           Female            26               Adult   \n",
       "4           Marnie           Female      Teenager            Teenager   \n",
       "..             ...              ...           ...                 ...   \n",
       "632           Beni             Male        Infant              Infant   \n",
       "633           Taro             Male         Child               Child   \n",
       "634           Rusu             Male         Adult               Adult   \n",
       "635          Adira           Female         Adult               Adult   \n",
       "636           Hana           Female         Adult               Adult   \n",
       "\n",
       "     Character_playable     Character_id Character_species Character_side  \\\n",
       "0                  True      CODMW_Farah             Human    Protagonist   \n",
       "1                  True  PSS_Protagonist             Human    Protagonist   \n",
       "2                 False     PSS_Magnolia             Human    Protagonist   \n",
       "3                 False        PSS_Sonia             Human    Protagonist   \n",
       "4                 False       PSS_Marnie             Human           Both   \n",
       "..                  ...              ...               ...            ...   \n",
       "632               False        KBOS_Beni             Human    Protagonist   \n",
       "633               False        KBOS_Taro             Human    Protagonist   \n",
       "634               False        KBOS_Rusu             Human    Protagonist   \n",
       "635               False       KBOS_Adira             Human    Protagonist   \n",
       "636               False        KBOS_Hana             Human    Protagonist   \n",
       "\n",
       "     Character_relevance Character_romantic_interest  ... Metacritic_review  \\\n",
       "0            Protagonist                          No  ...               8.0   \n",
       "1            Protagonist                          No  ...               8.0   \n",
       "2    Secondary Character                          No  ...               8.0   \n",
       "3    Secondary Character                          No  ...               8.0   \n",
       "4         Main Character                          No  ...               8.0   \n",
       "..                   ...                         ...  ...               ...   \n",
       "632  Secondary Character                          No  ...               8.2   \n",
       "633  Secondary Character                          No  ...               8.2   \n",
       "634  Secondary Character                          No  ...               8.2   \n",
       "635  Secondary Character                          No  ...               8.2   \n",
       "636  Secondary Character                          No  ...               8.2   \n",
       "\n",
       "    Destructoid_review IGN_review GameSpot_review Average_reviews  \\\n",
       "0                  8.0        8.0             7.0             7.8   \n",
       "1                  7.0        9.3             9.0             8.3   \n",
       "2                  7.0        9.3             9.0             8.3   \n",
       "3                  7.0        9.3             9.0             8.3   \n",
       "4                  7.0        9.3             9.0             8.3   \n",
       "..                 ...        ...             ...             ...   \n",
       "632                8.0        8.0             9.0             8.3   \n",
       "633                8.0        8.0             9.0             8.3   \n",
       "634                8.0        8.0             9.0             8.3   \n",
       "635                8.0        8.0             9.0             8.3   \n",
       "636                8.0        8.0             9.0             8.3   \n",
       "\n",
       "    Sexualized_clothing_score Character_trophy_score Damsel_in_Distress_score  \\\n",
       "0                       False                  False                    False   \n",
       "1                       False                  False                    False   \n",
       "2                       False                  False                    False   \n",
       "3                       False                  False                    False   \n",
       "4                       False                  False                    False   \n",
       "..                        ...                    ...                      ...   \n",
       "632                     False                  False                    False   \n",
       "633                     False                  False                    False   \n",
       "634                     False                  False                    False   \n",
       "635                     False                  False                    False   \n",
       "636                     False                  False                    False   \n",
       "\n",
       "    Sexualized_Cutscenes_score Sexualization_total_score  \n",
       "0                        False                         0  \n",
       "1                        False                         0  \n",
       "2                        False                         0  \n",
       "3                        False                         0  \n",
       "4                        False                         0  \n",
       "..                         ...                       ...  \n",
       "632                      False                         0  \n",
       "633                      False                         0  \n",
       "634                      False                         0  \n",
       "635                      False                         0  \n",
       "636                      False                         0  \n",
       "\n",
       "[637 rows x 42 columns]"
      ],
      "text/html": [
       "<div>\n",
       "<style scoped>\n",
       "    .dataframe tbody tr th:only-of-type {\n",
       "        vertical-align: middle;\n",
       "    }\n",
       "\n",
       "    .dataframe tbody tr th {\n",
       "        vertical-align: top;\n",
       "    }\n",
       "\n",
       "    .dataframe thead th {\n",
       "        text-align: right;\n",
       "    }\n",
       "</style>\n",
       "<table border=\"1\" class=\"dataframe\">\n",
       "  <thead>\n",
       "    <tr style=\"text-align: right;\">\n",
       "      <th></th>\n",
       "      <th>Character_name</th>\n",
       "      <th>Character_gender</th>\n",
       "      <th>Character_age</th>\n",
       "      <th>Character_age_range</th>\n",
       "      <th>Character_playable</th>\n",
       "      <th>Character_id</th>\n",
       "      <th>Character_species</th>\n",
       "      <th>Character_side</th>\n",
       "      <th>Character_relevance</th>\n",
       "      <th>Character_romantic_interest</th>\n",
       "      <th>...</th>\n",
       "      <th>Metacritic_review</th>\n",
       "      <th>Destructoid_review</th>\n",
       "      <th>IGN_review</th>\n",
       "      <th>GameSpot_review</th>\n",
       "      <th>Average_reviews</th>\n",
       "      <th>Sexualized_clothing_score</th>\n",
       "      <th>Character_trophy_score</th>\n",
       "      <th>Damsel_in_Distress_score</th>\n",
       "      <th>Sexualized_Cutscenes_score</th>\n",
       "      <th>Sexualization_total_score</th>\n",
       "    </tr>\n",
       "  </thead>\n",
       "  <tbody>\n",
       "    <tr>\n",
       "      <th>0</th>\n",
       "      <td>Farah</td>\n",
       "      <td>Female</td>\n",
       "      <td>27</td>\n",
       "      <td>Adult</td>\n",
       "      <td>True</td>\n",
       "      <td>CODMW_Farah</td>\n",
       "      <td>Human</td>\n",
       "      <td>Protagonist</td>\n",
       "      <td>Protagonist</td>\n",
       "      <td>No</td>\n",
       "      <td>...</td>\n",
       "      <td>8.0</td>\n",
       "      <td>8.0</td>\n",
       "      <td>8.0</td>\n",
       "      <td>7.0</td>\n",
       "      <td>7.8</td>\n",
       "      <td>False</td>\n",
       "      <td>False</td>\n",
       "      <td>False</td>\n",
       "      <td>False</td>\n",
       "      <td>0</td>\n",
       "    </tr>\n",
       "    <tr>\n",
       "      <th>1</th>\n",
       "      <td>Protagonist</td>\n",
       "      <td>Custom</td>\n",
       "      <td>Teenager</td>\n",
       "      <td>Teenager</td>\n",
       "      <td>True</td>\n",
       "      <td>PSS_Protagonist</td>\n",
       "      <td>Human</td>\n",
       "      <td>Protagonist</td>\n",
       "      <td>Protagonist</td>\n",
       "      <td>No</td>\n",
       "      <td>...</td>\n",
       "      <td>8.0</td>\n",
       "      <td>7.0</td>\n",
       "      <td>9.3</td>\n",
       "      <td>9.0</td>\n",
       "      <td>8.3</td>\n",
       "      <td>False</td>\n",
       "      <td>False</td>\n",
       "      <td>False</td>\n",
       "      <td>False</td>\n",
       "      <td>0</td>\n",
       "    </tr>\n",
       "    <tr>\n",
       "      <th>2</th>\n",
       "      <td>Magnolia</td>\n",
       "      <td>Female</td>\n",
       "      <td>Elderly</td>\n",
       "      <td>Elderly</td>\n",
       "      <td>False</td>\n",
       "      <td>PSS_Magnolia</td>\n",
       "      <td>Human</td>\n",
       "      <td>Protagonist</td>\n",
       "      <td>Secondary Character</td>\n",
       "      <td>No</td>\n",
       "      <td>...</td>\n",
       "      <td>8.0</td>\n",
       "      <td>7.0</td>\n",
       "      <td>9.3</td>\n",
       "      <td>9.0</td>\n",
       "      <td>8.3</td>\n",
       "      <td>False</td>\n",
       "      <td>False</td>\n",
       "      <td>False</td>\n",
       "      <td>False</td>\n",
       "      <td>0</td>\n",
       "    </tr>\n",
       "    <tr>\n",
       "      <th>3</th>\n",
       "      <td>Sonia</td>\n",
       "      <td>Female</td>\n",
       "      <td>26</td>\n",
       "      <td>Adult</td>\n",
       "      <td>False</td>\n",
       "      <td>PSS_Sonia</td>\n",
       "      <td>Human</td>\n",
       "      <td>Protagonist</td>\n",
       "      <td>Secondary Character</td>\n",
       "      <td>No</td>\n",
       "      <td>...</td>\n",
       "      <td>8.0</td>\n",
       "      <td>7.0</td>\n",
       "      <td>9.3</td>\n",
       "      <td>9.0</td>\n",
       "      <td>8.3</td>\n",
       "      <td>False</td>\n",
       "      <td>False</td>\n",
       "      <td>False</td>\n",
       "      <td>False</td>\n",
       "      <td>0</td>\n",
       "    </tr>\n",
       "    <tr>\n",
       "      <th>4</th>\n",
       "      <td>Marnie</td>\n",
       "      <td>Female</td>\n",
       "      <td>Teenager</td>\n",
       "      <td>Teenager</td>\n",
       "      <td>False</td>\n",
       "      <td>PSS_Marnie</td>\n",
       "      <td>Human</td>\n",
       "      <td>Both</td>\n",
       "      <td>Main Character</td>\n",
       "      <td>No</td>\n",
       "      <td>...</td>\n",
       "      <td>8.0</td>\n",
       "      <td>7.0</td>\n",
       "      <td>9.3</td>\n",
       "      <td>9.0</td>\n",
       "      <td>8.3</td>\n",
       "      <td>False</td>\n",
       "      <td>False</td>\n",
       "      <td>False</td>\n",
       "      <td>False</td>\n",
       "      <td>0</td>\n",
       "    </tr>\n",
       "    <tr>\n",
       "      <th>...</th>\n",
       "      <td>...</td>\n",
       "      <td>...</td>\n",
       "      <td>...</td>\n",
       "      <td>...</td>\n",
       "      <td>...</td>\n",
       "      <td>...</td>\n",
       "      <td>...</td>\n",
       "      <td>...</td>\n",
       "      <td>...</td>\n",
       "      <td>...</td>\n",
       "      <td>...</td>\n",
       "      <td>...</td>\n",
       "      <td>...</td>\n",
       "      <td>...</td>\n",
       "      <td>...</td>\n",
       "      <td>...</td>\n",
       "      <td>...</td>\n",
       "      <td>...</td>\n",
       "      <td>...</td>\n",
       "      <td>...</td>\n",
       "      <td>...</td>\n",
       "    </tr>\n",
       "    <tr>\n",
       "      <th>632</th>\n",
       "      <td>Beni</td>\n",
       "      <td>Male</td>\n",
       "      <td>Infant</td>\n",
       "      <td>Infant</td>\n",
       "      <td>False</td>\n",
       "      <td>KBOS_Beni</td>\n",
       "      <td>Human</td>\n",
       "      <td>Protagonist</td>\n",
       "      <td>Secondary Character</td>\n",
       "      <td>No</td>\n",
       "      <td>...</td>\n",
       "      <td>8.2</td>\n",
       "      <td>8.0</td>\n",
       "      <td>8.0</td>\n",
       "      <td>9.0</td>\n",
       "      <td>8.3</td>\n",
       "      <td>False</td>\n",
       "      <td>False</td>\n",
       "      <td>False</td>\n",
       "      <td>False</td>\n",
       "      <td>0</td>\n",
       "    </tr>\n",
       "    <tr>\n",
       "      <th>633</th>\n",
       "      <td>Taro</td>\n",
       "      <td>Male</td>\n",
       "      <td>Child</td>\n",
       "      <td>Child</td>\n",
       "      <td>False</td>\n",
       "      <td>KBOS_Taro</td>\n",
       "      <td>Human</td>\n",
       "      <td>Protagonist</td>\n",
       "      <td>Secondary Character</td>\n",
       "      <td>No</td>\n",
       "      <td>...</td>\n",
       "      <td>8.2</td>\n",
       "      <td>8.0</td>\n",
       "      <td>8.0</td>\n",
       "      <td>9.0</td>\n",
       "      <td>8.3</td>\n",
       "      <td>False</td>\n",
       "      <td>False</td>\n",
       "      <td>False</td>\n",
       "      <td>False</td>\n",
       "      <td>0</td>\n",
       "    </tr>\n",
       "    <tr>\n",
       "      <th>634</th>\n",
       "      <td>Rusu</td>\n",
       "      <td>Male</td>\n",
       "      <td>Adult</td>\n",
       "      <td>Adult</td>\n",
       "      <td>False</td>\n",
       "      <td>KBOS_Rusu</td>\n",
       "      <td>Human</td>\n",
       "      <td>Protagonist</td>\n",
       "      <td>Secondary Character</td>\n",
       "      <td>No</td>\n",
       "      <td>...</td>\n",
       "      <td>8.2</td>\n",
       "      <td>8.0</td>\n",
       "      <td>8.0</td>\n",
       "      <td>9.0</td>\n",
       "      <td>8.3</td>\n",
       "      <td>False</td>\n",
       "      <td>False</td>\n",
       "      <td>False</td>\n",
       "      <td>False</td>\n",
       "      <td>0</td>\n",
       "    </tr>\n",
       "    <tr>\n",
       "      <th>635</th>\n",
       "      <td>Adira</td>\n",
       "      <td>Female</td>\n",
       "      <td>Adult</td>\n",
       "      <td>Adult</td>\n",
       "      <td>False</td>\n",
       "      <td>KBOS_Adira</td>\n",
       "      <td>Human</td>\n",
       "      <td>Protagonist</td>\n",
       "      <td>Secondary Character</td>\n",
       "      <td>No</td>\n",
       "      <td>...</td>\n",
       "      <td>8.2</td>\n",
       "      <td>8.0</td>\n",
       "      <td>8.0</td>\n",
       "      <td>9.0</td>\n",
       "      <td>8.3</td>\n",
       "      <td>False</td>\n",
       "      <td>False</td>\n",
       "      <td>False</td>\n",
       "      <td>False</td>\n",
       "      <td>0</td>\n",
       "    </tr>\n",
       "    <tr>\n",
       "      <th>636</th>\n",
       "      <td>Hana</td>\n",
       "      <td>Female</td>\n",
       "      <td>Adult</td>\n",
       "      <td>Adult</td>\n",
       "      <td>False</td>\n",
       "      <td>KBOS_Hana</td>\n",
       "      <td>Human</td>\n",
       "      <td>Protagonist</td>\n",
       "      <td>Secondary Character</td>\n",
       "      <td>No</td>\n",
       "      <td>...</td>\n",
       "      <td>8.2</td>\n",
       "      <td>8.0</td>\n",
       "      <td>8.0</td>\n",
       "      <td>9.0</td>\n",
       "      <td>8.3</td>\n",
       "      <td>False</td>\n",
       "      <td>False</td>\n",
       "      <td>False</td>\n",
       "      <td>False</td>\n",
       "      <td>0</td>\n",
       "    </tr>\n",
       "  </tbody>\n",
       "</table>\n",
       "<p>637 rows × 42 columns</p>\n",
       "</div>"
      ]
     },
     "execution_count": 1635,
     "metadata": {},
     "output_type": "execute_result"
    }
   ],
   "execution_count": 1635
  },
  {
   "cell_type": "markdown",
   "id": "d5c34ae22a37cf1b",
   "metadata": {},
   "source": [
    "### Question to be answered\n",
    "\n",
    "The question that will be asked of this dataset, will either be answered by looking at the differences between sets of data or by looking at the relationship between variables.\n",
    "\n",
    "With that in mind, we will establish if there are any differences between the genders when it comes to the characters relevance in the video games.\n",
    "\n",
    "We will make use of the following decision tree to determine which statistical test to use:\n",
    "\n",
    "![Significance Testing Decision Tree](Images/statistical%20test%20decision%20tree.png)\n",
    "\n",
    "Next, we will form a hypothesis based on the question."
   ]
  },
  {
   "metadata": {},
   "cell_type": "markdown",
   "source": [
    "### Hypothesis Formulation\n",
    "Hypotheses are claims that we use statistics to prove or disprove them.\n",
    "\n",
    "Hypothesis testing structures the problems so that we can use statistical evidence to test these claims to check whether the claim is valid.\n",
    "\n",
    "#### Alternative Hypothesis (H~1~)\n",
    "Males have more main characters in video games in comparison to other genders.\n",
    "#### Null Hypothesis (H~0~)\n",
    "This is not the case.\n"
   ],
   "id": "c69d4216361615fb"
  },
  {
   "metadata": {},
   "cell_type": "markdown",
   "source": [
    "#### Data\n",
    "First, we will look at the number of genders in the dataset.  The gender data is nominal data as there is no order or ranking to the categories."
   ],
   "id": "fbb7f0c489a5eda5"
  },
  {
   "metadata": {
    "ExecuteTime": {
     "end_time": "2024-12-06T18:26:19.963959Z",
     "start_time": "2024-12-06T18:26:19.961714Z"
    }
   },
   "cell_type": "code",
   "source": [
    "# Display Gender Categories\n",
    "data['Character_gender'].unique()"
   ],
   "id": "eecc075ee49728d3",
   "outputs": [
    {
     "data": {
      "text/plain": [
       "['Female', 'Custom', 'Non-binary', 'Male']\n",
       "Categories (4, object): ['Custom', 'Female', 'Male', 'Non-binary']"
      ]
     },
     "execution_count": 1636,
     "metadata": {},
     "output_type": "execute_result"
    }
   ],
   "execution_count": 1636
  },
  {
   "metadata": {
    "ExecuteTime": {
     "end_time": "2024-12-06T18:26:19.989458Z",
     "start_time": "2024-12-06T18:26:19.986709Z"
    }
   },
   "cell_type": "code",
   "source": [
    "# Count the number of each gender\n",
    "data['Character_gender'].value_counts()"
   ],
   "id": "7f73f0fc7ec1ca36",
   "outputs": [
    {
     "data": {
      "text/plain": [
       "Character_gender\n",
       "Male          393\n",
       "Female        203\n",
       "Non-binary     33\n",
       "Custom          8\n",
       "Name: count, dtype: int64"
      ]
     },
     "execution_count": 1637,
     "metadata": {},
     "output_type": "execute_result"
    }
   ],
   "execution_count": 1637
  },
  {
   "metadata": {},
   "cell_type": "markdown",
   "source": [
    "From this analysis, we can decide if we want to compare the number of main characters in video games for each gender individually, or if we want to compare Males and combine Female and Non-Binary characters.\n",
    "\n",
    "For this analysis, we will compare the number of main characters in video games for each gender individually.\n",
    "\n",
    "This means that there will be 3 datasets to compare, as we will exclude custom characters as they can be any gender the game player chooses.\n",
    "\n",
    "Next, we will look at the character relevance.  Character relevance is ordinal data as there is an order to the categories.  The order is as follows:\n",
    "\n",
    "1. Protagonist (PA)\n",
    "2. Deuteragonist (DA)\n",
    "3. Sidekick (SK)\n",
    "4. Main Character (MC)\n",
    "5. Secondary Character (SC)\n",
    "6. Main Antagonist (MA)\n",
    "\n",
    "The order of character relevance is based on their importance and frequency of appearance in the game's plot"
   ],
   "id": "88c59eef2bf31361"
  },
  {
   "metadata": {},
   "cell_type": "markdown",
   "source": [
    "##### Categories defined\n",
    "Relevance (str) - the relevance of a character in a game and in relation to the protagonist\n",
    "- PA - protagonist - the most important person(s) in the game. In case of is more than one both\n",
    "of them must have the same importance in the plot.\n",
    "- DA - deuteragonist. The second most important character(s) in the plot. In case of being more\n",
    "than one, both must have the same relevance.\n",
    "- SK - sidekick. Those characters accompany the protagonist during all, or most of, the story.\n",
    "They offer constant support to the protagonist by giving advice, battle support, exploration aid,\n",
    "etc. They differ from the deuteragonist as they usually have little to no relevance in the\n",
    "storyline.\n",
    "- MC - the main character. A character that is relevant throughout all, or most part of, the story.\n",
    "This category can include antagonists.\n",
    "- SC - secondary character. A character that is important in the storyline but whose relevance is\n",
    "occasional, be it because their plot just lasts a short amount of time or because they are\n",
    "mentioned throughout the game but barely appear in-game. This category can include\n",
    "antagonists.\n",
    "- MA - main antagonist. The main antagonist(s) of the game. It is relevant throughout the game."
   ],
   "id": "ca79f4767eb4d40a"
  },
  {
   "metadata": {
    "ExecuteTime": {
     "end_time": "2024-12-06T18:26:20.028808Z",
     "start_time": "2024-12-06T18:26:20.026590Z"
    }
   },
   "cell_type": "code",
   "source": [
    "# Display Character Relevance Categories\n",
    "data['Character_relevance'].unique()"
   ],
   "id": "3aa56fc70c8c5cab",
   "outputs": [
    {
     "data": {
      "text/plain": [
       "['Protagonist', 'Secondary Character', 'Main Character', 'Deuteragonist', 'Main Antagonist', 'Sidekick']\n",
       "Categories (6, object): ['Deuteragonist', 'Main Antagonist', 'Main Character', 'Protagonist', 'Secondary Character', 'Sidekick']"
      ]
     },
     "execution_count": 1638,
     "metadata": {},
     "output_type": "execute_result"
    }
   ],
   "execution_count": 1638
  },
  {
   "metadata": {
    "ExecuteTime": {
     "end_time": "2024-12-06T18:26:20.050437Z",
     "start_time": "2024-12-06T18:26:20.047824Z"
    }
   },
   "cell_type": "code",
   "source": [
    "# Count the number of each character relevance\n",
    "data['Character_relevance'].value_counts()"
   ],
   "id": "62584ebb12b9f420",
   "outputs": [
    {
     "data": {
      "text/plain": [
       "Character_relevance\n",
       "Secondary Character    266\n",
       "Main Character         202\n",
       "Protagonist             80\n",
       "Main Antagonist         53\n",
       "Deuteragonist           18\n",
       "Sidekick                18\n",
       "Name: count, dtype: int64"
      ]
     },
     "execution_count": 1639,
     "metadata": {},
     "output_type": "execute_result"
    }
   ],
   "execution_count": 1639
  },
  {
   "metadata": {},
   "cell_type": "markdown",
   "source": [
    "##### Decision Tree progression\n",
    "![Decision Tree Progression](Images/Differences%20between%20sets%20of%20data.png)\n",
    "\n",
    "Now we can determine the appropriate statistical test to use.  We need to test if the data is parametric or non-parametric.\n"
   ],
   "id": "4ca37cd40fe22dd8"
  },
  {
   "metadata": {},
   "cell_type": "markdown",
   "source": [
    "### Parametric vs Non-Parametric Test\n",
    "\n",
    "#### Parametric\n",
    "\n",
    "- Parametric statistics are based on assumptions about the distribution of population from which the sample was taken.\n",
    "\n",
    "- Parametric tests are based on the idea that your data come from a population that has a known or hypothesized distribution, such as normal.\n",
    "\n",
    "- This allows you to use mathematical formulas and inferential statistics to estimate parameters, such as mean, standard deviation, or proportion, and test hypotheses about them.\n",
    "\n",
    "In order for the results of parametric tests to be valid, the following four assumptions should be met:\n",
    "\n",
    "1. Normality – Data in each group should be normally distributed.\n",
    "\n",
    "2. Equal Variance – Data in each group should have approximately equal variance.\n",
    "\n",
    "3. Independence – Data in each group should be randomly and independently sampled from the population. (statement not code)\n",
    "\n",
    "4. No Outliers – There should be no extreme outliers.\n",
    "\n",
    "#### Non-Parametric\n",
    "\n",
    "- Nonparametric statistics are not based on assumptions, that is, the data can be collected from a sample that does not follow a specific distribution.\n",
    "\n",
    "- Non-parametric tests are based on the idea that your data did not come from a population that has a known or hypothesized distribution, or that you do not want to make any assumptions about it.\n",
    "\n",
    "- Instead, you use the ranks, signs, or frequencies of the data to perform statistical analysis and test hypotheses.\n",
    "\n",
    "#### Decision: Parametric or Non-Parametric\n",
    "Data can be either numerical, or categorical data.  The data in the dataset we are going to use to answer this question is categorical (gender and character relevance), so we will use **non-parametric tests**, and therefore the **Kruskal-Wallis test.**\n",
    "\n",
    "![Testing Decision](Images/Testing%20Decision.png)\n"
   ],
   "id": "c589c15b2643d416"
  },
  {
   "metadata": {},
   "cell_type": "markdown",
   "source": [
    "### Significance Testing\n",
    "\n",
    "Significance testing is a statistical method used to determine whether the observed effect or relationship in a dataset is likely due to chance or if it is statistically significant.\n",
    "\n",
    "#### Kruskal-Wallis Test\n",
    "\n",
    "The Kruskal-Wallis test is used to determine if there are significant differences among the distributions of three or more independent groups.  It is a non-parametric version of ANOVA according to [SciPy documentation](https://docs.scipy.org/doc/scipy/reference/generated/scipy.stats.kruskal.html).\n",
    "The result will return a p-value that will be used to determine if the null hypothesis can be rejected, and a statistic that will be used to determine the strength of the relationship.\n"
   ],
   "id": "fedd81a4adce4423"
  },
  {
   "metadata": {},
   "cell_type": "markdown",
   "source": "First, we will filter the dataset to remove custom characters as previously discussed.",
   "id": "f50bf748382f0353"
  },
  {
   "metadata": {
    "ExecuteTime": {
     "end_time": "2024-12-06T18:26:20.077492Z",
     "start_time": "2024-12-06T18:26:20.074416Z"
    }
   },
   "cell_type": "code",
   "source": [
    "# Tailor the dataset to the relevant data: filter out custom characters\n",
    "pre_data_shape = data.shape\n",
    "testing_data = data[data['Character_gender'] != 'Custom']\n",
    "post_data_shape = testing_data.shape\n",
    "\n",
    "# Check the number of rows removed\n",
    "rows_removed = pre_data_shape[0] - post_data_shape[0]\n",
    "print(f\"Number of rows removed: {rows_removed}\")\n",
    "assert rows_removed == 8, \"The number of rows removed is not as expected.\""
   ],
   "id": "5140427f79fc8425",
   "outputs": [
    {
     "name": "stdout",
     "output_type": "stream",
     "text": [
      "Number of rows removed: 8\n"
     ]
    }
   ],
   "execution_count": 1640
  },
  {
   "metadata": {},
   "cell_type": "markdown",
   "source": "Next, the 'character_relevance' and the 'character_gender' columns are checked manually to ensure that the data is as expected after the filtering.",
   "id": "4148d6649471a1c7"
  },
  {
   "metadata": {
    "ExecuteTime": {
     "end_time": "2024-12-06T18:26:20.098361Z",
     "start_time": "2024-12-06T18:26:20.095696Z"
    }
   },
   "cell_type": "code",
   "source": "testing_data['Character_relevance'].value_counts()",
   "id": "705aa89c72de29c4",
   "outputs": [
    {
     "data": {
      "text/plain": [
       "Character_relevance\n",
       "Secondary Character    266\n",
       "Main Character         202\n",
       "Protagonist             72\n",
       "Main Antagonist         53\n",
       "Deuteragonist           18\n",
       "Sidekick                18\n",
       "Name: count, dtype: int64"
      ]
     },
     "execution_count": 1641,
     "metadata": {},
     "output_type": "execute_result"
    }
   ],
   "execution_count": 1641
  },
  {
   "metadata": {
    "ExecuteTime": {
     "end_time": "2024-12-06T18:26:20.117318Z",
     "start_time": "2024-12-06T18:26:20.114633Z"
    }
   },
   "cell_type": "code",
   "source": "testing_data['Character_gender'].value_counts()",
   "id": "615453c429dde7c9",
   "outputs": [
    {
     "data": {
      "text/plain": [
       "Character_gender\n",
       "Male          393\n",
       "Female        203\n",
       "Non-binary     33\n",
       "Custom          0\n",
       "Name: count, dtype: int64"
      ]
     },
     "execution_count": 1642,
     "metadata": {},
     "output_type": "execute_result"
    }
   ],
   "execution_count": 1642
  },
  {
   "metadata": {},
   "cell_type": "markdown",
   "source": "Next, the 'character_relevance' column will be mapped to integers to allow for the Kruskal-Wallis test to be performed.  The mapping will be as follows:",
   "id": "c988505936159c1d"
  },
  {
   "metadata": {
    "ExecuteTime": {
     "end_time": "2024-12-06T18:26:20.141791Z",
     "start_time": "2024-12-06T18:26:20.137934Z"
    }
   },
   "cell_type": "code",
   "source": [
    "testing_data.loc[:, 'Character_relevance'] = testing_data['Character_relevance'].map(\n",
    "    {\n",
    "        'Protagonist': 1,\n",
    "        'Deuteragonist': 2,\n",
    "        'Sidekick': 3,\n",
    "        'Main Character': 4,\n",
    "        'Secondary Character': 5,\n",
    "        'Main Antagonist': 6\n",
    "    }\n",
    ").astype('int')\n",
    "\n",
    "\n",
    "testing_data['Character_relevance']\n"
   ],
   "id": "8d99984ebcb76523",
   "outputs": [
    {
     "data": {
      "text/plain": [
       "0      1\n",
       "2      5\n",
       "3      5\n",
       "4      4\n",
       "5      5\n",
       "      ..\n",
       "632    5\n",
       "633    5\n",
       "634    5\n",
       "635    5\n",
       "636    5\n",
       "Name: Character_relevance, Length: 629, dtype: int64"
      ]
     },
     "execution_count": 1643,
     "metadata": {},
     "output_type": "execute_result"
    }
   ],
   "execution_count": 1643
  },
  {
   "metadata": {},
   "cell_type": "markdown",
   "source": [
    "Next, the 'Character-relevance' column will be checked to ensure that the mapping has been done correctly.  This will be checked by looking at the value counts, and comparing them with the previous value count done on the same column prior to the mapping.\n",
    "\n",
    "This is a way of manually checking the values."
   ],
   "id": "341cd52f9da27af1"
  },
  {
   "metadata": {
    "ExecuteTime": {
     "end_time": "2024-12-06T18:26:20.166516Z",
     "start_time": "2024-12-06T18:26:20.164301Z"
    }
   },
   "cell_type": "code",
   "source": "testing_data['Character_relevance'].value_counts()",
   "id": "65077ed5a61b6c43",
   "outputs": [
    {
     "data": {
      "text/plain": [
       "Character_relevance\n",
       "5    266\n",
       "4    202\n",
       "1     72\n",
       "6     53\n",
       "2     18\n",
       "3     18\n",
       "Name: count, dtype: int64"
      ]
     },
     "execution_count": 1644,
     "metadata": {},
     "output_type": "execute_result"
    }
   ],
   "execution_count": 1644
  },
  {
   "metadata": {},
   "cell_type": "markdown",
   "source": [
    "Another way to test if the mapping has been done correctly is to make 'assertions' on the data.  This will allow us to check if the data is as expected, and if not, an error will be raised.  This is great for debugging, and ensuring that the data is as expected, even if the code changes/updates.\n",
    "\n",
    "The assertions will be done on the 'Character_relevance' column to ensure that the data is as expected.\n",
    "\n",
    "values should be as follows:\n",
    "\n",
    "| Category            | Mapped int | Count |\n",
    "|---------------------|------------|-------|\n",
    "| Protagonist         | 1          | 72    |\n",
    "| Deuteragonist       | 2          | 18    |\n",
    "| Sidekick            | 3          | 18    |\n",
    "| Main Character      | 4          | 202   |\n",
    "| Secondary Character | 5          | 266   |\n",
    "| Main Antagonist     | 6          | 53    |\n"
   ],
   "id": "ca7d926d6ecaabad"
  },
  {
   "metadata": {},
   "cell_type": "markdown",
   "source": [
    "Also, the values for gender should be as follows:\n",
    "\n",
    "| Category   | Count |\n",
    "|------------|-------|\n",
    "| Male       | 393   |\n",
    "| Female     | 203   |\n",
    "| Non-binary | 33    |"
   ],
   "id": "2cf0cd0a764ac323"
  },
  {
   "metadata": {
    "ExecuteTime": {
     "end_time": "2024-12-06T18:26:20.189559Z",
     "start_time": "2024-12-06T18:26:20.185360Z"
    }
   },
   "cell_type": "code",
   "source": [
    "# Assertions\n",
    "\n",
    "# Assert no missing values\n",
    "assert testing_data['Character_relevance'].isnull().sum() == 0, \"There are missing values in the 'Character_relevance' column.\"\n",
    "\n",
    "# Assert the data types is as expected\n",
    "assert testing_data['Character_relevance'].dtype == 'int', \"The data type of the 'Character_relevance' column is not as expected.\"\n",
    "\n",
    "# Assert Protagonist (1) count is 72\n",
    "assert testing_data['Character_relevance'].value_counts().loc[1] == 72, \"The count of Protagonist characters is not as expected.\"\n",
    "\n",
    "# Assert Deuteragonist (2) count is 18\n",
    "assert testing_data['Character_relevance'].value_counts().loc[2] == 18, \"The count of Deuteragonist characters is not as expected.\"\n",
    "\n",
    "# Assert Sidekick (3) count is 18\n",
    "assert testing_data['Character_relevance'].value_counts().loc[3] == 18, \"The count of Sidekick characters is not as expected.\"\n",
    "\n",
    "# Assert Main Character (4) count is 202\n",
    "assert testing_data['Character_relevance'].value_counts().loc[4] == 202, \"The count of Main Character characters is not as expected.\"\n",
    "\n",
    "# Assert Secondary Character (5) count is 266\n",
    "assert testing_data['Character_relevance'].value_counts().loc[5] == 266, \"The count of Secondary Character characters is not as expected.\"\n",
    "\n",
    "# Assert Main Antagonist (6) count is 53\n",
    "assert testing_data['Character_relevance'].value_counts().loc[6] == 53, \"The count of Main Antagonist characters is not as expected.\"\n",
    "\n",
    "# Assert the number of rows is as expected\n",
    "assert testing_data.shape[0] == 629, \"The number of rows in the testing data is not as expected.\"\n",
    "\n",
    "# Assert the number of values per gender is as expected\n",
    "assert testing_data['Character_gender'].value_counts().loc['Male'] == 393, \"The number of Males is not as expected.\"\n",
    "\n",
    "assert testing_data['Character_gender'].value_counts().loc['Female'] == 203, \"The number of Females is not as expected.\"\n",
    "\n",
    "assert testing_data['Character_gender'].value_counts().loc['Non-binary'] == 33, \"The number of Non-binary characters is not as expected.\""
   ],
   "id": "cd4eae348a04cc6f",
   "outputs": [],
   "execution_count": 1645
  },
  {
   "metadata": {},
   "cell_type": "markdown",
   "source": "Next, the Kruskal-Wallis test will be performed to determine if there are any significant differences between the character relevance across the different genders.",
   "id": "2b7714bedba3a5ef"
  },
  {
   "metadata": {
    "ExecuteTime": {
     "end_time": "2024-12-06T18:26:20.197776Z",
     "start_time": "2024-12-06T18:26:20.194482Z"
    }
   },
   "cell_type": "code",
   "source": [
    "# Perform the Kruskal-Wallis test\n",
    "from scipy.stats import kruskal\n",
    "\n",
    "# Group the data by gender\n",
    "male_relevance = testing_data[testing_data['Character_gender'] == 'Male']['Character_relevance']\n",
    "female_relevance = testing_data[testing_data['Character_gender'] == 'Female']['Character_relevance']\n",
    "non_binary_relevance = testing_data[testing_data['Character_gender'] == 'Non-binary']['Character_relevance']\n"
   ],
   "id": "a64bdcb03f9adeda",
   "outputs": [],
   "execution_count": 1646
  },
  {
   "metadata": {},
   "cell_type": "markdown",
   "source": "For extra confidence, the number of values in each group will be checked to ensure that the data is as expected.  This is done by asserting the number of values in each group, and raising an error if the number of values is not as expected.",
   "id": "152b9996c28e8b29"
  },
  {
   "metadata": {
    "ExecuteTime": {
     "end_time": "2024-12-06T18:26:20.217562Z",
     "start_time": "2024-12-06T18:26:20.215212Z"
    }
   },
   "cell_type": "code",
   "source": [
    "# Assertions\n",
    "\n",
    "assert male_relevance.value_counts().sum() == 393, f\"The number of Males is not as expected - male_relevance.value_counts().sum()\"\n",
    "assert female_relevance.value_counts().sum() == 203, f\"The number of Females is not as expected - {female_relevance.value_counts().sum()}\"\n",
    "assert non_binary_relevance.value_counts().sum() == 33, f\"The number of Non-binary characters is not as expected - {non_binary_relevance.value_counts().sum()}\""
   ],
   "id": "cdf4beaac987f09e",
   "outputs": [],
   "execution_count": 1647
  },
  {
   "metadata": {},
   "cell_type": "markdown",
   "source": [
    "Next, the Kruskal-Wallis test will be performed.  This will return the H-statistic and the p-value.\n",
    "\n",
    "The p-value will be used to determine if the null hypothesis can be rejected. If the p-value is less than the significance level (alpha), the null hypothesis will be rejected, and it will be concluded that there are significant differences between the groups.\n",
    "\n",
    "The H-statistic will be used to determine the strength of the relationship. The higher the H-statistic, the stronger the relationship."
   ],
   "id": "240fd13c0028edb8"
  },
  {
   "metadata": {
    "ExecuteTime": {
     "end_time": "2024-12-06T18:26:20.231601Z",
     "start_time": "2024-12-06T18:26:20.228831Z"
    }
   },
   "cell_type": "code",
   "outputs": [
    {
     "name": "stdout",
     "output_type": "stream",
     "text": [
      "Kruskal-Wallis H-statistic: 7.325788012250041\n",
      "P-value: 0.02565815033143132\n"
     ]
    }
   ],
   "execution_count": 1648,
   "source": [
    "# Perform the Kruskal-Wallis test\n",
    "stat, p_value = kruskal(male_relevance, female_relevance, non_binary_relevance)\n",
    "\n",
    "print(f\"Kruskal-Wallis H-statistic: {stat}\")\n",
    "print(f\"P-value: {p_value}\")"
   ],
   "id": "54d07c7fbe016b1c"
  },
  {
   "metadata": {},
   "cell_type": "markdown",
   "source": [
    "The Kruskal-Wallis test has been performed successfully.  The H-statistic and the p-value have been calculated.\n",
    "\n",
    "Next, the p-value will be used to determine if the null hypothesis can be rejected.\n",
    "The alpha value will be set to 0.05 because this is a common significance level used in hypothesis testing."
   ],
   "id": "77605361750f5433"
  },
  {
   "metadata": {
    "ExecuteTime": {
     "end_time": "2024-12-06T18:26:20.245483Z",
     "start_time": "2024-12-06T18:26:20.243781Z"
    }
   },
   "cell_type": "code",
   "source": [
    "# Significance level\n",
    "alpha = 0.05\n",
    "\n",
    "if p_value < alpha:\n",
    "    print(\"Reject the null hypothesis: There are significant differences between the groups.\")\n",
    "else:\n",
    "    print(\"Fail to reject the null hypothesis: There are no significant differences between the groups.\")"
   ],
   "id": "c40abc86bbdc3e33",
   "outputs": [
    {
     "name": "stdout",
     "output_type": "stream",
     "text": [
      "Reject the null hypothesis: There are significant differences between the groups.\n"
     ]
    }
   ],
   "execution_count": 1649
  },
  {
   "metadata": {},
   "cell_type": "markdown",
   "source": [
    "The null hypothesis can be rejected as the p-value is less than the significance level.  This means that there are significant differences between the groups.\n",
    "\n",
    "The Kruskal-Wallis test has shown that there are significant differences between the character relevance across the different character genders in video games.\n",
    "\n",
    "This is not enough to determine if males have more main characters in video games in comparison to females and non-binary characters.  This will require further analysis."
   ],
   "id": "ea8f0d771e4fb4fe"
  },
  {
   "metadata": {},
   "cell_type": "markdown",
   "source": "Finally, a pie chart will be created to show the distribution of character relevance, this will give us a quick visual representation of the data in regard to character relevance per gender, and I will also create pie charts per gender.",
   "id": "c9eab927f7c278bb"
  },
  {
   "metadata": {
    "ExecuteTime": {
     "end_time": "2024-12-06T18:26:20.269562Z",
     "start_time": "2024-12-06T18:26:20.267418Z"
    }
   },
   "cell_type": "code",
   "source": [
    "import matplotlib.pyplot as plt\n",
    "\n",
    "def character_relevance_by_gender_pie_chart(character_relavance: int, character_relavance_name: str):\n",
    "\n",
    "    # Filter the dataset to\n",
    "    main_characters = testing_data[testing_data['Character_relevance'] == character_relavance]\n",
    "\n",
    "    # Count the number of main characters by gender\n",
    "    main_characters_by_gender = main_characters['Character_gender'].value_counts()\n",
    "\n",
    "    # Create a pie chart\n",
    "    plt.figure(figsize=(8, 8))\n",
    "    plt.pie(main_characters_by_gender, labels=main_characters_by_gender.index, autopct='%1.1f%%', startangle=140)\n",
    "    plt.title(f'{character_relavance_name} by Gender')\n",
    "    plt.show()\n",
    "\n",
    "character_relevance_mapping = {\n",
    "        1: 'Protagonist',\n",
    "        2: 'Deuteragonist',\n",
    "        3: 'Sidekick',\n",
    "        4: 'Main Character',\n",
    "        5: 'Secondary Character',\n",
    "        6: 'Main Antagonist'\n",
    "    }"
   ],
   "id": "7873db6041ddf494",
   "outputs": [],
   "execution_count": 1650
  },
  {
   "metadata": {
    "ExecuteTime": {
     "end_time": "2024-12-06T18:26:20.481173Z",
     "start_time": "2024-12-06T18:26:20.284033Z"
    }
   },
   "cell_type": "code",
   "source": [
    "for relevance, name in character_relevance_mapping.items():\n",
    "    character_relevance_by_gender_pie_chart(relevance, name)"
   ],
   "id": "d39356c5a135b87f",
   "outputs": [
    {
     "data": {
      "text/plain": [
       "<Figure size 800x800 with 1 Axes>"
      ],
      "image/png": "[encoded data removed]"
     },
     "metadata": {},
     "output_type": "display_data"
    },
    {
     "data": {
      "text/plain": [
       "<Figure size 800x800 with 1 Axes>"
      ],
      "image/png": "[encoded data removed]"
     },
     "metadata": {},
     "output_type": "display_data"
    },
    {
     "data": {
      "text/plain": [
       "<Figure size 800x800 with 1 Axes>"
      ],
      "image/png": "[encoded data removed]"
     },
     "metadata": {},
     "output_type": "display_data"
    },
    {
     "data": {
      "text/plain": [
       "<Figure size 800x800 with 1 Axes>"
      ],
      "image/png": "[encoded data removed]"
     },
     "metadata": {},
     "output_type": "display_data"
    },
    {
     "data": {
      "text/plain": [
       "<Figure size 800x800 with 1 Axes>"
      ],
      "image/png": "[encoded data removed]"
     },
     "metadata": {},
     "output_type": "display_data"
    },
    {
     "data": {
      "text/plain": [
       "<Figure size 800x800 with 1 Axes>"
      ],
      "image/png": "[encoded data removed]"
     },
     "metadata": {},
     "output_type": "display_data"
    }
   ],
   "execution_count": 1651
  },
  {
   "metadata": {
    "ExecuteTime": {
     "end_time": "2024-12-06T19:18:09.038707Z",
     "start_time": "2024-12-06T19:18:08.933754Z"
    }
   },
   "cell_type": "code",
   "source": [
    "import matplotlib.pyplot as plt\n",
    "\n",
    "def gender_by_character_relevance_pie_chart(gender: str):\n",
    "    # Filter the dataset to include only characters of the specified gender\n",
    "    gender_characters = testing_data[testing_data['Character_gender'] == gender]\n",
    "\n",
    "    # Count the number of characters by relevance\n",
    "    characters_by_relevance = gender_characters['Character_relevance'].value_counts()\n",
    "\n",
    "    # Create a pie chart\n",
    "    plt.figure(figsize=(8, 8))\n",
    "    plt.pie(characters_by_relevance, labels=characters_by_relevance.index, autopct='%1.1f%%', startangle=140)\n",
    "    plt.title(f'{gender} Characters by Relevance')\n",
    "    plt.show()\n",
    "\n",
    "# Generate pie charts for each gender\n",
    "for gender in testing_data['Character_gender'].unique():\n",
    "    gender_by_character_relevance_pie_chart(gender)"
   ],
   "id": "24b088717091c8d4",
   "outputs": [
    {
     "data": {
      "text/plain": [
       "<Figure size 800x800 with 1 Axes>"
      ],
      "image/png": "[encoded data removed]"
     },
     "metadata": {},
     "output_type": "display_data"
    },
    {
     "data": {
      "text/plain": [
       "<Figure size 800x800 with 1 Axes>"
      ],
      "image/png": "[encoded data removed]"
     },
     "metadata": {},
     "output_type": "display_data"
    },
    {
     "data": {
      "text/plain": [
       "<Figure size 800x800 with 1 Axes>"
      ],
      "image/png": "[encoded data removed]"
     },
     "metadata": {},
     "output_type": "display_data"
    }
   ],
   "execution_count": 1655
  },
  {
   "metadata": {},
   "cell_type": "markdown",
   "source": [
    "### Interpretation\n",
    "The Kruskal-Wallis test has shown that there are significant differences between the character relevance across the different genders.  This means that the null hypothesis can be rejected.  However, this is not enough to determine if males have more main characters in video games in comparison to females and non-binary characters.\n",
    "\n",
    "The pie charts show the distribution of character relevance across the different genders, and can see males have more main characters in video games, females have more secondary characters but are more likely to be main characters, and non-binary characters have more sidekicks, but again are mainly main characters, followed by secondary characters, then sidekicks.\n"
   ],
   "id": "604a8c0f7e5658eb"
  },
  {
   "metadata": {},
   "cell_type": "markdown",
   "source": [
    "### Additional testing: Mann Whitney U Test\n",
    "I am curious to see if there are any significant differences between the character relevance across the Male and Female genders, as these are the two largest groups, and look similar in the pie charts.  I will perform a Mann Whitney U Test to determine if there are any significant differences between the character relevance"
   ],
   "id": "3cb8373b78676a9f"
  },
  {
   "metadata": {
    "ExecuteTime": {
     "end_time": "2024-12-06T19:34:24.442371Z",
     "start_time": "2024-12-06T19:34:24.435065Z"
    }
   },
   "cell_type": "code",
   "source": [
    "# Perform the Mann Whitney U Test\n",
    "from scipy.stats import mannwhitneyu\n",
    "\n",
    "# Perform the Mann Whitney U Test\n",
    "statistic, p_value = mannwhitneyu(male_relevance, female_relevance)\n",
    "\n",
    "# Print the test results\n",
    "print(\"Mann-Whitney U Test results:\")\n",
    "print(f\"U statistic: {statistic}\")\n",
    "print(f\"p-value: {p_value}\")\n",
    "\n",
    "# Check if the p-value is less than the significance level (e.g., 0.05)\n",
    "if p_value < 0.05:\n",
    "    print(\"There is a significant difference between the two groups.\")\n",
    "else:\n",
    "    print(\"There is no significant difference between the two groups.\")"
   ],
   "id": "47f27c06906894d9",
   "outputs": [
    {
     "name": "stdout",
     "output_type": "stream",
     "text": [
      "Mann-Whitney U Test results:\n",
      "U statistic: 42484.0\n",
      "p-value: 0.1654968700837317\n",
      "There is no significant difference between the two groups.\n"
     ]
    }
   ],
   "execution_count": 1656
  },
  {
   "metadata": {},
   "cell_type": "markdown",
   "source": [
    "#### Interpretation\n",
    "The Mann Whitney U Test has shown that there is not a significant difference between the character relevance between males and females.  This means that if the comparrison was only between males and females, the null hypothesis would not be rejected, but as the Kruskal-Wallis test showed that there are significant differences between the character relevance across all genders, the null hypothesis can be rejected."
   ],
   "id": "5860d8fb21acca80"
  },
  {
   "cell_type": "markdown",
   "id": "1eeadb2e91d1f1b2",
   "metadata": {},
   "source": [
    "---"
   ]
  },
  {
   "cell_type": "markdown",
   "id": "bc3cdcfe20f07fa5",
   "metadata": {},
   "source": [
    "## Part B: Machine Learning models"
   ]
  }
 ],
 "metadata": {
  "kernelspec": {
   "display_name": "Python 3 (ipykernel)",
   "language": "python",
   "name": "python3"
  },
  "language_info": {
   "codemirror_mode": {
    "name": "ipython",
    "version": 3
   },
   "file_extension": ".py",
   "mimetype": "text/x-python",
   "name": "python",
   "nbconvert_exporter": "python",
   "pygments_lexer": "ipython3",
   "version": "3.12.2"
  }
 },
 "nbformat": 4,
 "nbformat_minor": 5
}
