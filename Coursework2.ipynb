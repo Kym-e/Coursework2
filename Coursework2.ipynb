{
 "cells": [
  {
   "cell_type": "markdown",
   "id": "f3bf18740e1d93d4",
   "metadata": {},
   "source": [
    "# Coursework 2\n",
    "\n",
    "Student name: Kym Hannah\n",
    "\n",
    "Student ID: s2247460\n",
    "\n"
   ]
  },
  {
   "cell_type": "markdown",
   "id": "864ee232a8cbe47a",
   "metadata": {},
   "source": [
    "## Part A: Significance Testing\n",
    "\n"
   ]
  },
  {
   "cell_type": "markdown",
   "id": "601d290ad702e76",
   "metadata": {},
   "source": [
    "### Dataset: Gender Representation in Video Games\n",
    "This dataset contains information on several video games released between 2012 and 2022.\n",
    "\n",
    "The dataset metadata states that the games were selected based on the following criteria:\n",
    "\n",
    ">GAME SELECTION CRITERIA\n",
    "> 1. The games must have a storyline. To analyze the paper of each character is essential that\n",
    "games had a plot where characters had a role assigned (even if this role might change based\n",
    "on the player's choices). This excludes games like:\n",
    "> - Puzzle games: Tetris, Candy Crush, Minesweepers, etc.\n",
    "> - Racing games: Gran Turismo, Formula 1, Mario Kart, etc.\n",
    "> - Social Simulators: Animal Crossing, The Sims, etc.\n",
    "> - MMORPGs, where the storyline lived by the player, might considerably differ from\n",
    "other players, such as World of Warcraft.\n",
    "> - Shooters with no story mode: Fornite, Valorant\n",
    "> - Other popular games with no storyline: Minecraft, Roblox, League of Legends…\n",
    "> 2. For games that offer a story and multiplayer modes (like some Call of Duty, GTA V…), just the\n",
    "story mode is taken into consideration for this analysis.\n",
    "> 3. The games were selected for being top-selling or best-rated games of the year.\n",
    "> 4. At least 5 games were selected for each year."
   ]
  },
  {
   "cell_type": "markdown",
   "id": "babfd1938433dc86",
   "metadata": {},
   "source": [
    "#### Source: Kaggle\n",
    "- Link: [Kaggle: Gender Representation in Video Games](https://www.kaggle.com/datasets/br33sa/gender-representation-in-video-games/data?select=characters.grivg.csv)\n",
    "- License: [CC BY-NC 4.0](https://creativecommons.org/licenses/by-nc/4.0/)\n",
    "\n",
    "Dataset was downloaded from Kaggle as this data would be available for public use. It has a Creative Commons License which allows for non-commercial use.\n",
    "\n",
    "Kaggle gives the dataset a rating of 9.41 out of 10.0 which indicates that the dataset is of high quality (according to Kaggle).\n",
    "\n",
    "![Kaggle rating](Images/Kaggle_Rating.png)\n",
    "\n",
    "When looking at the provided Metadata, it states that:\n",
    "\n",
    ">\" This data has been compiled through research of several information sources including, but not\n",
    "limited to:\n",
    "> - Websites and media with a strong focus on video games like Metacritic, Destructoid, IGN, or\n",
    "GameSpot.\n",
    "> - Wikipedia\n",
    "> - The websites of the games developers, games publishers, and the website of the game itself.\"\n",
    "\n",
    "Keeping this in mind, the dataset should be reliable as it has been compiled from multiple sources which are known for their focus on video games."
   ]
  },
  {
   "cell_type": "markdown",
   "id": "a5a14fec7b2650da",
   "metadata": {},
   "source": [
    "#### Dataset composition\n",
    "- Data structure: Tabular - 3 CSV files (related using common keys)\n",
    "- CSV files:\n",
    "    - characters.grivg.csv\n",
    "    - games.grivg.csv\n",
    "    - sexualization.grivg.csv\n",
    "\n",
    "The dataset contains information on the characters in the video games, the games themselves, and the sexualization of the characters in the video games.\n"
   ]
  },
  {
   "metadata": {},
   "cell_type": "markdown",
   "source": [
    "### Dataset Processing\n",
    "\n",
    "First, the datasets will be loaded and reviewed to check for any missing values, duplicates, or other issues. Then, the datasets will be combined using the common keys, and the combined dataset will be cleaned and processed.  The data will be reviewed to ensure that it is ready for analysis."
   ],
   "id": "63eb94164cbe39ff"
  },
  {
   "cell_type": "markdown",
   "id": "1a619cf05d3e22d6",
   "metadata": {},
   "source": "#### Games dataset"
  },
  {
   "cell_type": "code",
   "id": "1732585ef89b33ec",
   "metadata": {
    "ExecuteTime": {
     "end_time": "2024-12-07T18:26:10.153158Z",
     "start_time": "2024-12-07T18:26:10.150526Z"
    }
   },
   "source": [
    "from statistics import LinearRegression\n",
    "from unicodedata import category\n",
    "\n",
    "# Notebook imports\n",
    "import pandas as pd\n",
    "import warnings\n",
    "\n",
    "# Ignore all deprecation warnings\n",
    "warnings.filterwarnings('ignore', category=DeprecationWarning)\n",
    "warnings.filterwarnings('ignore', category=FutureWarning)"
   ],
   "outputs": [],
   "execution_count": 4672
  },
  {
   "cell_type": "code",
   "id": "5a15c5d46f616c81",
   "metadata": {
    "ExecuteTime": {
     "end_time": "2024-12-07T18:26:10.176661Z",
     "start_time": "2024-12-07T18:26:10.163967Z"
    }
   },
   "source": [
    "# Load the games dataset\n",
    "games = pd.read_csv('Data/Gender_In_Video_Games/games.grivg.csv')\n",
    "games.head()"
   ],
   "outputs": [
    {
     "data": {
      "text/plain": [
       "  Game_Id                         Title Release        Series  \\\n",
       "0    GTAV            Grand Theft Auto V  Nov-13           GTA   \n",
       "1     PSS          Pokémon Sword/Shield  Nov-19       Pokémon   \n",
       "2   CODMW  Call of Duty: Modern Warfare  Oct-19  Call of Duty   \n",
       "3    RDR2         Red Dead Redemption 2  Dec-18      Red Dead   \n",
       "4     SMO           Super Mario Odyssey  Oct-17   Super Mario   \n",
       "\n",
       "              Genre         Sub-genre         Developer       Publisher  \\\n",
       "0  Action-adventure  Action-adventure    Rockstar North  Rockstar Games   \n",
       "1               RPG               RPG        Game Freak        Nintendo   \n",
       "2            Action               FPS     Infinity Ward      Activision   \n",
       "3  Action-adventure  Action-adventure  Rockstar Studios  Rockstar Games   \n",
       "4  Action-adventure  Action-adventure      Nintendo EDP        Nintendo   \n",
       "\n",
       "  Country         Platform  ...  Director Total_team  female_team  \\\n",
       "0     GBR            Multi  ...         M          7            0   \n",
       "1     JPN  Nintendo Switch  ...         M          9            1   \n",
       "2     USA            Multi  ...         M         11            0   \n",
       "3     USA            Multi  ...         M          7            0   \n",
       "4     JPN  Nintendo Switch  ...         M         11            1   \n",
       "\n",
       "   Team_percentage  Metacritic   Destructoid   IGN GameSpot Avg_Reviews  \\\n",
       "0               0%          9.7          9.0  10.0      9.0         9.4   \n",
       "1              11%          8.0          7.0   9.3      9.0         8.3   \n",
       "2               0%          8.0          8.0   8.0      7.0         7.8   \n",
       "3               0%          9.7          9.5  10.0      9.0         9.6   \n",
       "4               9%          9.7          9.5  10.0     10.0         9.8   \n",
       "\n",
       "   Unnamed: 27  \n",
       "0          NaN  \n",
       "1          NaN  \n",
       "2          NaN  \n",
       "3          NaN  \n",
       "4          NaN  \n",
       "\n",
       "[5 rows x 28 columns]"
      ],
      "text/html": [
       "<div>\n",
       "<style scoped>\n",
       "    .dataframe tbody tr th:only-of-type {\n",
       "        vertical-align: middle;\n",
       "    }\n",
       "\n",
       "    .dataframe tbody tr th {\n",
       "        vertical-align: top;\n",
       "    }\n",
       "\n",
       "    .dataframe thead th {\n",
       "        text-align: right;\n",
       "    }\n",
       "</style>\n",
       "<table border=\"1\" class=\"dataframe\">\n",
       "  <thead>\n",
       "    <tr style=\"text-align: right;\">\n",
       "      <th></th>\n",
       "      <th>Game_Id</th>\n",
       "      <th>Title</th>\n",
       "      <th>Release</th>\n",
       "      <th>Series</th>\n",
       "      <th>Genre</th>\n",
       "      <th>Sub-genre</th>\n",
       "      <th>Developer</th>\n",
       "      <th>Publisher</th>\n",
       "      <th>Country</th>\n",
       "      <th>Platform</th>\n",
       "      <th>...</th>\n",
       "      <th>Director</th>\n",
       "      <th>Total_team</th>\n",
       "      <th>female_team</th>\n",
       "      <th>Team_percentage</th>\n",
       "      <th>Metacritic</th>\n",
       "      <th>Destructoid</th>\n",
       "      <th>IGN</th>\n",
       "      <th>GameSpot</th>\n",
       "      <th>Avg_Reviews</th>\n",
       "      <th>Unnamed: 27</th>\n",
       "    </tr>\n",
       "  </thead>\n",
       "  <tbody>\n",
       "    <tr>\n",
       "      <th>0</th>\n",
       "      <td>GTAV</td>\n",
       "      <td>Grand Theft Auto V</td>\n",
       "      <td>Nov-13</td>\n",
       "      <td>GTA</td>\n",
       "      <td>Action-adventure</td>\n",
       "      <td>Action-adventure</td>\n",
       "      <td>Rockstar North</td>\n",
       "      <td>Rockstar Games</td>\n",
       "      <td>GBR</td>\n",
       "      <td>Multi</td>\n",
       "      <td>...</td>\n",
       "      <td>M</td>\n",
       "      <td>7</td>\n",
       "      <td>0</td>\n",
       "      <td>0%</td>\n",
       "      <td>9.7</td>\n",
       "      <td>9.0</td>\n",
       "      <td>10.0</td>\n",
       "      <td>9.0</td>\n",
       "      <td>9.4</td>\n",
       "      <td>NaN</td>\n",
       "    </tr>\n",
       "    <tr>\n",
       "      <th>1</th>\n",
       "      <td>PSS</td>\n",
       "      <td>Pokémon Sword/Shield</td>\n",
       "      <td>Nov-19</td>\n",
       "      <td>Pokémon</td>\n",
       "      <td>RPG</td>\n",
       "      <td>RPG</td>\n",
       "      <td>Game Freak</td>\n",
       "      <td>Nintendo</td>\n",
       "      <td>JPN</td>\n",
       "      <td>Nintendo Switch</td>\n",
       "      <td>...</td>\n",
       "      <td>M</td>\n",
       "      <td>9</td>\n",
       "      <td>1</td>\n",
       "      <td>11%</td>\n",
       "      <td>8.0</td>\n",
       "      <td>7.0</td>\n",
       "      <td>9.3</td>\n",
       "      <td>9.0</td>\n",
       "      <td>8.3</td>\n",
       "      <td>NaN</td>\n",
       "    </tr>\n",
       "    <tr>\n",
       "      <th>2</th>\n",
       "      <td>CODMW</td>\n",
       "      <td>Call of Duty: Modern Warfare</td>\n",
       "      <td>Oct-19</td>\n",
       "      <td>Call of Duty</td>\n",
       "      <td>Action</td>\n",
       "      <td>FPS</td>\n",
       "      <td>Infinity Ward</td>\n",
       "      <td>Activision</td>\n",
       "      <td>USA</td>\n",
       "      <td>Multi</td>\n",
       "      <td>...</td>\n",
       "      <td>M</td>\n",
       "      <td>11</td>\n",
       "      <td>0</td>\n",
       "      <td>0%</td>\n",
       "      <td>8.0</td>\n",
       "      <td>8.0</td>\n",
       "      <td>8.0</td>\n",
       "      <td>7.0</td>\n",
       "      <td>7.8</td>\n",
       "      <td>NaN</td>\n",
       "    </tr>\n",
       "    <tr>\n",
       "      <th>3</th>\n",
       "      <td>RDR2</td>\n",
       "      <td>Red Dead Redemption 2</td>\n",
       "      <td>Dec-18</td>\n",
       "      <td>Red Dead</td>\n",
       "      <td>Action-adventure</td>\n",
       "      <td>Action-adventure</td>\n",
       "      <td>Rockstar Studios</td>\n",
       "      <td>Rockstar Games</td>\n",
       "      <td>USA</td>\n",
       "      <td>Multi</td>\n",
       "      <td>...</td>\n",
       "      <td>M</td>\n",
       "      <td>7</td>\n",
       "      <td>0</td>\n",
       "      <td>0%</td>\n",
       "      <td>9.7</td>\n",
       "      <td>9.5</td>\n",
       "      <td>10.0</td>\n",
       "      <td>9.0</td>\n",
       "      <td>9.6</td>\n",
       "      <td>NaN</td>\n",
       "    </tr>\n",
       "    <tr>\n",
       "      <th>4</th>\n",
       "      <td>SMO</td>\n",
       "      <td>Super Mario Odyssey</td>\n",
       "      <td>Oct-17</td>\n",
       "      <td>Super Mario</td>\n",
       "      <td>Action-adventure</td>\n",
       "      <td>Action-adventure</td>\n",
       "      <td>Nintendo EDP</td>\n",
       "      <td>Nintendo</td>\n",
       "      <td>JPN</td>\n",
       "      <td>Nintendo Switch</td>\n",
       "      <td>...</td>\n",
       "      <td>M</td>\n",
       "      <td>11</td>\n",
       "      <td>1</td>\n",
       "      <td>9%</td>\n",
       "      <td>9.7</td>\n",
       "      <td>9.5</td>\n",
       "      <td>10.0</td>\n",
       "      <td>10.0</td>\n",
       "      <td>9.8</td>\n",
       "      <td>NaN</td>\n",
       "    </tr>\n",
       "  </tbody>\n",
       "</table>\n",
       "<p>5 rows × 28 columns</p>\n",
       "</div>"
      ]
     },
     "execution_count": 4673,
     "metadata": {},
     "output_type": "execute_result"
    }
   ],
   "execution_count": 4673
  },
  {
   "cell_type": "markdown",
   "id": "d8f9772988e2e304",
   "metadata": {},
   "source": [
    "The games dataset has been loaded successfully. The dataset contains the following columns:"
   ]
  },
  {
   "cell_type": "code",
   "id": "eb82ef3a63ba43ee",
   "metadata": {
    "ExecuteTime": {
     "end_time": "2024-12-07T18:26:10.188736Z",
     "start_time": "2024-12-07T18:26:10.186905Z"
    }
   },
   "source": [
    "# Check the shape of the dataset\n",
    "print(f\"Number of rows: {games.shape[0]}\")\n",
    "print(f\"Number of columns: {games.shape[1]}\")"
   ],
   "outputs": [
    {
     "name": "stdout",
     "output_type": "stream",
     "text": [
      "Number of rows: 64\n",
      "Number of columns: 28\n"
     ]
    }
   ],
   "execution_count": 4674
  },
  {
   "cell_type": "code",
   "id": "d78b3338b2d07374",
   "metadata": {
    "ExecuteTime": {
     "end_time": "2024-12-07T18:26:10.232278Z",
     "start_time": "2024-12-07T18:26:10.229932Z"
    }
   },
   "source": [
    "# Check the columns in the dataset\n",
    "games.columns"
   ],
   "outputs": [
    {
     "data": {
      "text/plain": [
       "Index(['Game_Id', 'Title', 'Release', 'Series', 'Genre', 'Sub-genre',\n",
       "       'Developer', 'Publisher', 'Country', 'Platform', 'PEGI',\n",
       "       'Customizable_main', 'Protagonist', 'Protagonist_Non_Male',\n",
       "       'Relevant_males', 'Relevant_no_males', 'Percentage_non_male',\n",
       "       'Criteria', 'Director', 'Total_team', 'female_team', 'Team_percentage',\n",
       "       'Metacritic ', 'Destructoid', 'IGN', 'GameSpot', 'Avg_Reviews',\n",
       "       'Unnamed: 27'],\n",
       "      dtype='object')"
      ]
     },
     "execution_count": 4675,
     "metadata": {},
     "output_type": "execute_result"
    }
   ],
   "execution_count": 4675
  },
  {
   "cell_type": "markdown",
   "id": "83c094842dbb732",
   "metadata": {},
   "source": [
    "Whitespace has been detected in the column names, this will be removed to avoid any issues."
   ]
  },
  {
   "cell_type": "code",
   "id": "2d7ad6f4a2129719",
   "metadata": {
    "ExecuteTime": {
     "end_time": "2024-12-07T18:26:10.285848Z",
     "start_time": "2024-12-07T18:26:10.282545Z"
    }
   },
   "source": [
    "# Remove whitespace from column names\n",
    "games.columns = games.columns.str.strip()\n",
    "games.columns"
   ],
   "outputs": [
    {
     "data": {
      "text/plain": [
       "Index(['Game_Id', 'Title', 'Release', 'Series', 'Genre', 'Sub-genre',\n",
       "       'Developer', 'Publisher', 'Country', 'Platform', 'PEGI',\n",
       "       'Customizable_main', 'Protagonist', 'Protagonist_Non_Male',\n",
       "       'Relevant_males', 'Relevant_no_males', 'Percentage_non_male',\n",
       "       'Criteria', 'Director', 'Total_team', 'female_team', 'Team_percentage',\n",
       "       'Metacritic', 'Destructoid', 'IGN', 'GameSpot', 'Avg_Reviews',\n",
       "       'Unnamed: 27'],\n",
       "      dtype='object')"
      ]
     },
     "execution_count": 4676,
     "metadata": {},
     "output_type": "execute_result"
    }
   ],
   "execution_count": 4676
  },
  {
   "cell_type": "markdown",
   "id": "31dc4651082b8c91",
   "metadata": {},
   "source": [
    "Next, the dataset will be checked for missing values."
   ]
  },
  {
   "cell_type": "code",
   "id": "22e18436222090e",
   "metadata": {
    "ExecuteTime": {
     "end_time": "2024-12-07T18:26:10.318759Z",
     "start_time": "2024-12-07T18:26:10.315938Z"
    }
   },
   "source": [
    "# Check for missing values\n",
    "games.isnull().sum()"
   ],
   "outputs": [
    {
     "data": {
      "text/plain": [
       "Game_Id                  0\n",
       "Title                    0\n",
       "Release                  0\n",
       "Series                  37\n",
       "Genre                    0\n",
       "Sub-genre                0\n",
       "Developer                0\n",
       "Publisher                0\n",
       "Country                  0\n",
       "Platform                 0\n",
       "PEGI                     0\n",
       "Customizable_main        0\n",
       "Protagonist              0\n",
       "Protagonist_Non_Male     0\n",
       "Relevant_males           0\n",
       "Relevant_no_males        0\n",
       "Percentage_non_male      0\n",
       "Criteria                 0\n",
       "Director                 0\n",
       "Total_team               0\n",
       "female_team              0\n",
       "Team_percentage          0\n",
       "Metacritic               0\n",
       "Destructoid              7\n",
       "IGN                      2\n",
       "GameSpot                 2\n",
       "Avg_Reviews              0\n",
       "Unnamed: 27             64\n",
       "dtype: int64"
      ]
     },
     "execution_count": 4677,
     "metadata": {},
     "output_type": "execute_result"
    }
   ],
   "execution_count": 4677
  },
  {
   "cell_type": "markdown",
   "id": "2cf4f70882049886",
   "metadata": {},
   "source": [
    "Missing values were found in the Series column. The null values will be replaced with 'None'.\n",
    "\n",
    "The missing values are removed to ensure that the dataset is clean and ready for analysis."
   ]
  },
  {
   "cell_type": "code",
   "id": "50cb0ead517bb093",
   "metadata": {
    "ExecuteTime": {
     "end_time": "2024-12-07T18:26:10.353004Z",
     "start_time": "2024-12-07T18:26:10.341890Z"
    }
   },
   "source": [
    "# Filter the rows with null values in the 'series' column\n",
    "games_with_null_series = games[games['Series'].isnull()]\n",
    "\n",
    "# Print the filtered rows\n",
    "games_with_null_series"
   ],
   "outputs": [
    {
     "data": {
      "text/plain": [
       "   Game_Id                               Title Release Series  \\\n",
       "13     INS                              Inside  Jun-16    NaN   \n",
       "14      UT                           Undertale  Sep-15    NaN   \n",
       "15      BB                          Bloodborne  Mar-15    NaN   \n",
       "16      SK       Shovel Knight: Shovel of Hope  Jun-14    NaN   \n",
       "17      PP                      Papers, Please  Aug-13    NaN   \n",
       "18    TLOU                      The Last of Us  Jun-13    NaN   \n",
       "20     HLM                       Hotline Miami  Oct-12    NaN   \n",
       "21     JRN                             Journey  Mar-12    NaN   \n",
       "24      TN                               Tunic  Sep-22    NaN   \n",
       "25      ER                          Elden Ring  Feb-22    NaN   \n",
       "26   TSPUD  The Stanley Parable (Ultra Deluxe)  Apr-22    NaN   \n",
       "27      NW                          Neon White  Jun-22    NaN   \n",
       "28      CH                             Cuphead  Sep-17    NaN   \n",
       "29      DL                           Deathloop  Sep-21    NaN   \n",
       "31   IWATE         I Was a Teenage Exocolonist  Aug-22    NaN   \n",
       "32     IMM                         Immortality  Aug-22    NaN   \n",
       "33     DEL                       Disco Elysium  Oct-19    NaN   \n",
       "34      HA                               Hades  Sep-21    NaN   \n",
       "35    CACW           Chicory: A Colorful World  Jun-21    NaN   \n",
       "36     ITT                        It Takes Two  Mar-21    NaN   \n",
       "37   TLOU2              The Last of Us Part II  Jun-20    NaN   \n",
       "39    OAWW       Ori and the Will of the Wisps  Mar-20    NaN   \n",
       "42  TINGWD   There is No Game: Wrong Dimension  Aug-20    NaN   \n",
       "44    SSDT           Sekiro: Shadows Die Twice  Mar-19    NaN   \n",
       "45    OABF            Ori and the Blind Forest  Mar-15    NaN   \n",
       "48   WROEF         What Remains of Edith Finch  Apr-17    NaN   \n",
       "49     CLS                             Celeste  Jan-18    NaN   \n",
       "50      DC                          Dead Cells  Aug-18    NaN   \n",
       "51    HLKN                       Hollow Knight  Feb-17    NaN   \n",
       "52    NITW                  Night in the Woods  Feb-17    NaN   \n",
       "54     BRA                          Broken Age  Jan-14    NaN   \n",
       "56    TSWP                         The Swapper  May-13    NaN   \n",
       "57     OWB                              Owlboy  Nov-16    NaN   \n",
       "59   TBOIR       The Binding of Isaac: Rebirth  Nov-14    NaN   \n",
       "60     COL                      Child of Light  Apr-14    NaN   \n",
       "61     FLR                            Florence  Feb-18    NaN   \n",
       "63    KBOS             Kena: Bridge of Spirits  Sep-21    NaN   \n",
       "\n",
       "                Genre                  Sub-genre                Developer  \\\n",
       "13             Action            Puzzle-Platform                  Paydead   \n",
       "14                RPG                        RPG                 Toby Fox   \n",
       "15                RPG                 Action RPG             FromSoftware   \n",
       "16             Action                   Platform         Yacht Club Games   \n",
       "17         Simulation          Puzzle Simulation                 3909 LLC   \n",
       "18   Action-adventure           Action-adventure              Naughty Dog   \n",
       "20             Action           Top-down Shooter           Dennaton Games   \n",
       "21          Adventure                  Adventure          Thatgamecompany   \n",
       "24   Action-adventure           Action-adventure         Andrew Shouldice   \n",
       "25                RPG                 Action RPG             FromSoftware   \n",
       "26  Interactive Story          Interactive Story            Galactic Cafe   \n",
       "27             Action                        FPS             Angel Matrix   \n",
       "28             Action               Rund and gun              Studio MDHR   \n",
       "29             Action                        FPS              Arkane Lyon   \n",
       "31                RPG               Strategy RPG           Northway Gates   \n",
       "32  Interactive Story          Interactive Story               Sam Barlow   \n",
       "33                RPG                        RPG                    ZA/UM   \n",
       "34                RPG                 Action RPG         Supergiant Games   \n",
       "35          Adventure                  Adventure                    Finji   \n",
       "36   Action-adventure           Action-adventure        Hazelight Studios   \n",
       "37   Action-adventure           Action-adventure              Naughty Dog   \n",
       "39   Action-adventure         Platform-adventure             Moon Studios   \n",
       "42  Interactive Story          Interactive Story          Draw Me A Pixel   \n",
       "44   Action-adventure           Action-adventure             FromSoftware   \n",
       "45   Action-adventure         Platform-adventure             Moon Studios   \n",
       "48          Adventure                  Adventure            Giant Sparrow   \n",
       "49             Action                   Platform        Maddy Makes Games   \n",
       "50   Action-adventure               Metroidvania              Motion Twin   \n",
       "51   Action-adventure               Metroidvania              Team Cherry   \n",
       "52          Adventure                  Adventure               Secret Lab   \n",
       "54          Adventure  Point-and-click adventure  Double Fine Productions   \n",
       "56             Action            Puzzle-Platform           Facepalm Games   \n",
       "57   Action-adventure         Platform-adventure             D-Pad Studio   \n",
       "59                RPG                  Roguelike                  Nicalis   \n",
       "60             Action               Platform RPG         Ubisoft Montreal   \n",
       "61  Interactive Story          Interactive Story                Mountains   \n",
       "63   Action-adventure           Action-adventure                Ember Lab   \n",
       "\n",
       "                        Publisher Country  Platform  ...  Director Total_team  \\\n",
       "13                       Playdead     DNK     Multi  ...         M          2   \n",
       "14                       Toby Fox     USA     Multi  ...         M          2   \n",
       "15    Sony Computer Entertainment     JPN       PS4  ...         M          5   \n",
       "16               Yacht Club Games     USA     Multi  ...         M          9   \n",
       "17                       3909 LLC     USA     Multi  ...         M          1   \n",
       "18    Sony Computer Entertainment     USA       PS3  ...         M          7   \n",
       "20               Devolver Digital     SWE     Multi  ...         M          2   \n",
       "21    Sony Computer Entertainment     USA       PS3  ...         M          7   \n",
       "24                          Finji     CAN     Multi  ...         M          3   \n",
       "25     Bandai Namco Entertainment     JPN     Multi  ...         M          6   \n",
       "26                  Galactic Cafe     GBR     Multi  ...         M          4   \n",
       "27          Annapurna Interactive     USA     Multi  ...         M          2   \n",
       "28                    Studio MDHR     CAN     Multi  ...         M          8   \n",
       "29             Bethesda Softworks     FRA     Multi  ...         M          7   \n",
       "31                          Finji     CAN     Multi  ...         F          6   \n",
       "32       Half Mermaid Productions     GBR     Multi  ...         M         13   \n",
       "33                          ZA/UM     GBR     Multi  ...         M          2   \n",
       "34               Supergiant Games     USA  Computer  ...         M         10   \n",
       "35                          Finji     USA     Multi  ...         M          3   \n",
       "36                             EA     SWE     Multi  ...         M          5   \n",
       "37  Sony Interactive Entertaiment     USA       PS4  ...         M         11   \n",
       "39              Xbox Game Studios     AUT     Multi  ...         M         10   \n",
       "42                Draw Me A Pixel     FRA  Computer  ...         M          6   \n",
       "44                     Activision     JPN     Multi  ...         M          7   \n",
       "45              Microsoft Studios     AUT     Multi  ...         M          3   \n",
       "48          Annapurna Interactive     USA     Multi  ...         M          6   \n",
       "49              Maddy Makes Games     CAN     Multi  ...         F          5   \n",
       "50                    Motion Twin     FRA     Multi  ...         M          2   \n",
       "51                    Team Cherry     AUS  Computer  ...         M          3   \n",
       "52                          Finji     AUT     Multi  ...         M          7   \n",
       "54        Double Fine Productions     USA  Computer  ...         M          6   \n",
       "56                 Facepalm Games     FIN  Computer  ...         M          1   \n",
       "57                   D-Pad Studio     NOR     Multi  ...         M          3   \n",
       "59                        Nicalis     USA     Multi  ...         M          3   \n",
       "60                        Ubisoft     CAN     Multi  ...         M          7   \n",
       "61          Annapurna Interactive     USA    Mobile  ...         M          2   \n",
       "63                      Ember Lab     USA     Multi  ...         M          3   \n",
       "\n",
       "    female_team  Team_percentage  Metacritic  Destructoid   IGN GameSpot  \\\n",
       "13            0               0%         9.1          9.5  10.0      8.0   \n",
       "14            1              50%         9.2         10.0  10.0      9.0   \n",
       "15            0               0%         9.2          9.0   9.1      9.0   \n",
       "16            1              11%         8.8          9.0   9.0      8.0   \n",
       "17            0               0%         8.9          NaN   8.7      8.0   \n",
       "18            0               0%         9.5         10.0  10.0      8.0   \n",
       "20            0               0%         8.6          9.0   8.8      8.5   \n",
       "21            1              14%         9.2          9.0   9.0      9.5   \n",
       "24            0               0%         8.5          9.0   9.0      9.0   \n",
       "25            0               0%         9.5         10.0  10.0     10.0   \n",
       "26            1              25%         9.0         10.0   9.0      8.0   \n",
       "27            0               0%         8.9          8.5   8.0      9.0   \n",
       "28            2              25%         8.7          9.5   8.8      8.5   \n",
       "29            1              14%         8.8          9.0  10.0     10.0   \n",
       "31            4              67%         8.9          NaN   NaN      NaN   \n",
       "32            4              31%         8.8          9.0   8.0      8.0   \n",
       "33            0               0%         9.1          8.5   9.6     10.0   \n",
       "34            2              20%         9.3          9.0   9.0      9.0   \n",
       "35            2              67%         8.9          9.5   9.0      9.0   \n",
       "36            1              20%         8.9          NaN   9.0      9.0   \n",
       "37            2              18%         9.3          8.5  10.0      8.0   \n",
       "39            1              10%         9.1          9.5   9.0      8.5   \n",
       "42            2              33%         8.8          NaN   NaN      9.6   \n",
       "44            0               0%         9.0          9.0   9.5      9.0   \n",
       "45            0               0%         8.8          9.5   8.5      9.0   \n",
       "48            0               0%         8.9          9.0   8.8      9.0   \n",
       "49            3              60%         9.1         10.0  10.0      9.0   \n",
       "50            0               0%         8.8          NaN   9.5      9.0   \n",
       "51            0               0%         8.8         10.0   9.4      9.0   \n",
       "52            1              14%         8.4          9.5   8.7      9.0   \n",
       "54            1              17%         7.9          9.5   9.5      7.0   \n",
       "56            0               0%         8.7         10.0   9.3      8.0   \n",
       "57            0               0%         8.7         10.0   9.3      9.0   \n",
       "59            0               0%         8.4         10.0   9.0      8.0   \n",
       "60            3              43%         8.2          8.5   9.3      8.0   \n",
       "61            0               0%         8.7          8.0   9.6      NaN   \n",
       "63            1              33%         8.2          8.0   8.0      9.0   \n",
       "\n",
       "   Avg_Reviews  Unnamed: 27  \n",
       "13         9.2          NaN  \n",
       "14         9.6          NaN  \n",
       "15         9.1          NaN  \n",
       "16         8.7          NaN  \n",
       "17         8.5          NaN  \n",
       "18         9.4          NaN  \n",
       "20         8.7          NaN  \n",
       "21         9.2          NaN  \n",
       "24         8.9          NaN  \n",
       "25         9.9          NaN  \n",
       "26         9.0          NaN  \n",
       "27         8.6          NaN  \n",
       "28         8.9          NaN  \n",
       "29         9.5          NaN  \n",
       "31         8.9          NaN  \n",
       "32         8.5          NaN  \n",
       "33         9.3          NaN  \n",
       "34         9.1          NaN  \n",
       "35         9.1          NaN  \n",
       "36         9.0          NaN  \n",
       "37         9.0          NaN  \n",
       "39         9.0          NaN  \n",
       "42         9.2          NaN  \n",
       "44         9.1          NaN  \n",
       "45         9.0          NaN  \n",
       "48         8.9          NaN  \n",
       "49         9.5          NaN  \n",
       "50         9.1          NaN  \n",
       "51         9.3          NaN  \n",
       "52         8.9          NaN  \n",
       "54         8.5          NaN  \n",
       "56         9.0          NaN  \n",
       "57         9.3          NaN  \n",
       "59         8.9          NaN  \n",
       "60         8.5          NaN  \n",
       "61         8.8          NaN  \n",
       "63         8.3          NaN  \n",
       "\n",
       "[37 rows x 28 columns]"
      ],
      "text/html": [
       "<div>\n",
       "<style scoped>\n",
       "    .dataframe tbody tr th:only-of-type {\n",
       "        vertical-align: middle;\n",
       "    }\n",
       "\n",
       "    .dataframe tbody tr th {\n",
       "        vertical-align: top;\n",
       "    }\n",
       "\n",
       "    .dataframe thead th {\n",
       "        text-align: right;\n",
       "    }\n",
       "</style>\n",
       "<table border=\"1\" class=\"dataframe\">\n",
       "  <thead>\n",
       "    <tr style=\"text-align: right;\">\n",
       "      <th></th>\n",
       "      <th>Game_Id</th>\n",
       "      <th>Title</th>\n",
       "      <th>Release</th>\n",
       "      <th>Series</th>\n",
       "      <th>Genre</th>\n",
       "      <th>Sub-genre</th>\n",
       "      <th>Developer</th>\n",
       "      <th>Publisher</th>\n",
       "      <th>Country</th>\n",
       "      <th>Platform</th>\n",
       "      <th>...</th>\n",
       "      <th>Director</th>\n",
       "      <th>Total_team</th>\n",
       "      <th>female_team</th>\n",
       "      <th>Team_percentage</th>\n",
       "      <th>Metacritic</th>\n",
       "      <th>Destructoid</th>\n",
       "      <th>IGN</th>\n",
       "      <th>GameSpot</th>\n",
       "      <th>Avg_Reviews</th>\n",
       "      <th>Unnamed: 27</th>\n",
       "    </tr>\n",
       "  </thead>\n",
       "  <tbody>\n",
       "    <tr>\n",
       "      <th>13</th>\n",
       "      <td>INS</td>\n",
       "      <td>Inside</td>\n",
       "      <td>Jun-16</td>\n",
       "      <td>NaN</td>\n",
       "      <td>Action</td>\n",
       "      <td>Puzzle-Platform</td>\n",
       "      <td>Paydead</td>\n",
       "      <td>Playdead</td>\n",
       "      <td>DNK</td>\n",
       "      <td>Multi</td>\n",
       "      <td>...</td>\n",
       "      <td>M</td>\n",
       "      <td>2</td>\n",
       "      <td>0</td>\n",
       "      <td>0%</td>\n",
       "      <td>9.1</td>\n",
       "      <td>9.5</td>\n",
       "      <td>10.0</td>\n",
       "      <td>8.0</td>\n",
       "      <td>9.2</td>\n",
       "      <td>NaN</td>\n",
       "    </tr>\n",
       "    <tr>\n",
       "      <th>14</th>\n",
       "      <td>UT</td>\n",
       "      <td>Undertale</td>\n",
       "      <td>Sep-15</td>\n",
       "      <td>NaN</td>\n",
       "      <td>RPG</td>\n",
       "      <td>RPG</td>\n",
       "      <td>Toby Fox</td>\n",
       "      <td>Toby Fox</td>\n",
       "      <td>USA</td>\n",
       "      <td>Multi</td>\n",
       "      <td>...</td>\n",
       "      <td>M</td>\n",
       "      <td>2</td>\n",
       "      <td>1</td>\n",
       "      <td>50%</td>\n",
       "      <td>9.2</td>\n",
       "      <td>10.0</td>\n",
       "      <td>10.0</td>\n",
       "      <td>9.0</td>\n",
       "      <td>9.6</td>\n",
       "      <td>NaN</td>\n",
       "    </tr>\n",
       "    <tr>\n",
       "      <th>15</th>\n",
       "      <td>BB</td>\n",
       "      <td>Bloodborne</td>\n",
       "      <td>Mar-15</td>\n",
       "      <td>NaN</td>\n",
       "      <td>RPG</td>\n",
       "      <td>Action RPG</td>\n",
       "      <td>FromSoftware</td>\n",
       "      <td>Sony Computer Entertainment</td>\n",
       "      <td>JPN</td>\n",
       "      <td>PS4</td>\n",
       "      <td>...</td>\n",
       "      <td>M</td>\n",
       "      <td>5</td>\n",
       "      <td>0</td>\n",
       "      <td>0%</td>\n",
       "      <td>9.2</td>\n",
       "      <td>9.0</td>\n",
       "      <td>9.1</td>\n",
       "      <td>9.0</td>\n",
       "      <td>9.1</td>\n",
       "      <td>NaN</td>\n",
       "    </tr>\n",
       "    <tr>\n",
       "      <th>16</th>\n",
       "      <td>SK</td>\n",
       "      <td>Shovel Knight: Shovel of Hope</td>\n",
       "      <td>Jun-14</td>\n",
       "      <td>NaN</td>\n",
       "      <td>Action</td>\n",
       "      <td>Platform</td>\n",
       "      <td>Yacht Club Games</td>\n",
       "      <td>Yacht Club Games</td>\n",
       "      <td>USA</td>\n",
       "      <td>Multi</td>\n",
       "      <td>...</td>\n",
       "      <td>M</td>\n",
       "      <td>9</td>\n",
       "      <td>1</td>\n",
       "      <td>11%</td>\n",
       "      <td>8.8</td>\n",
       "      <td>9.0</td>\n",
       "      <td>9.0</td>\n",
       "      <td>8.0</td>\n",
       "      <td>8.7</td>\n",
       "      <td>NaN</td>\n",
       "    </tr>\n",
       "    <tr>\n",
       "      <th>17</th>\n",
       "      <td>PP</td>\n",
       "      <td>Papers, Please</td>\n",
       "      <td>Aug-13</td>\n",
       "      <td>NaN</td>\n",
       "      <td>Simulation</td>\n",
       "      <td>Puzzle Simulation</td>\n",
       "      <td>3909 LLC</td>\n",
       "      <td>3909 LLC</td>\n",
       "      <td>USA</td>\n",
       "      <td>Multi</td>\n",
       "      <td>...</td>\n",
       "      <td>M</td>\n",
       "      <td>1</td>\n",
       "      <td>0</td>\n",
       "      <td>0%</td>\n",
       "      <td>8.9</td>\n",
       "      <td>NaN</td>\n",
       "      <td>8.7</td>\n",
       "      <td>8.0</td>\n",
       "      <td>8.5</td>\n",
       "      <td>NaN</td>\n",
       "    </tr>\n",
       "    <tr>\n",
       "      <th>18</th>\n",
       "      <td>TLOU</td>\n",
       "      <td>The Last of Us</td>\n",
       "      <td>Jun-13</td>\n",
       "      <td>NaN</td>\n",
       "      <td>Action-adventure</td>\n",
       "      <td>Action-adventure</td>\n",
       "      <td>Naughty Dog</td>\n",
       "      <td>Sony Computer Entertainment</td>\n",
       "      <td>USA</td>\n",
       "      <td>PS3</td>\n",
       "      <td>...</td>\n",
       "      <td>M</td>\n",
       "      <td>7</td>\n",
       "      <td>0</td>\n",
       "      <td>0%</td>\n",
       "      <td>9.5</td>\n",
       "      <td>10.0</td>\n",
       "      <td>10.0</td>\n",
       "      <td>8.0</td>\n",
       "      <td>9.4</td>\n",
       "      <td>NaN</td>\n",
       "    </tr>\n",
       "    <tr>\n",
       "      <th>20</th>\n",
       "      <td>HLM</td>\n",
       "      <td>Hotline Miami</td>\n",
       "      <td>Oct-12</td>\n",
       "      <td>NaN</td>\n",
       "      <td>Action</td>\n",
       "      <td>Top-down Shooter</td>\n",
       "      <td>Dennaton Games</td>\n",
       "      <td>Devolver Digital</td>\n",
       "      <td>SWE</td>\n",
       "      <td>Multi</td>\n",
       "      <td>...</td>\n",
       "      <td>M</td>\n",
       "      <td>2</td>\n",
       "      <td>0</td>\n",
       "      <td>0%</td>\n",
       "      <td>8.6</td>\n",
       "      <td>9.0</td>\n",
       "      <td>8.8</td>\n",
       "      <td>8.5</td>\n",
       "      <td>8.7</td>\n",
       "      <td>NaN</td>\n",
       "    </tr>\n",
       "    <tr>\n",
       "      <th>21</th>\n",
       "      <td>JRN</td>\n",
       "      <td>Journey</td>\n",
       "      <td>Mar-12</td>\n",
       "      <td>NaN</td>\n",
       "      <td>Adventure</td>\n",
       "      <td>Adventure</td>\n",
       "      <td>Thatgamecompany</td>\n",
       "      <td>Sony Computer Entertainment</td>\n",
       "      <td>USA</td>\n",
       "      <td>PS3</td>\n",
       "      <td>...</td>\n",
       "      <td>M</td>\n",
       "      <td>7</td>\n",
       "      <td>1</td>\n",
       "      <td>14%</td>\n",
       "      <td>9.2</td>\n",
       "      <td>9.0</td>\n",
       "      <td>9.0</td>\n",
       "      <td>9.5</td>\n",
       "      <td>9.2</td>\n",
       "      <td>NaN</td>\n",
       "    </tr>\n",
       "    <tr>\n",
       "      <th>24</th>\n",
       "      <td>TN</td>\n",
       "      <td>Tunic</td>\n",
       "      <td>Sep-22</td>\n",
       "      <td>NaN</td>\n",
       "      <td>Action-adventure</td>\n",
       "      <td>Action-adventure</td>\n",
       "      <td>Andrew Shouldice</td>\n",
       "      <td>Finji</td>\n",
       "      <td>CAN</td>\n",
       "      <td>Multi</td>\n",
       "      <td>...</td>\n",
       "      <td>M</td>\n",
       "      <td>3</td>\n",
       "      <td>0</td>\n",
       "      <td>0%</td>\n",
       "      <td>8.5</td>\n",
       "      <td>9.0</td>\n",
       "      <td>9.0</td>\n",
       "      <td>9.0</td>\n",
       "      <td>8.9</td>\n",
       "      <td>NaN</td>\n",
       "    </tr>\n",
       "    <tr>\n",
       "      <th>25</th>\n",
       "      <td>ER</td>\n",
       "      <td>Elden Ring</td>\n",
       "      <td>Feb-22</td>\n",
       "      <td>NaN</td>\n",
       "      <td>RPG</td>\n",
       "      <td>Action RPG</td>\n",
       "      <td>FromSoftware</td>\n",
       "      <td>Bandai Namco Entertainment</td>\n",
       "      <td>JPN</td>\n",
       "      <td>Multi</td>\n",
       "      <td>...</td>\n",
       "      <td>M</td>\n",
       "      <td>6</td>\n",
       "      <td>0</td>\n",
       "      <td>0%</td>\n",
       "      <td>9.5</td>\n",
       "      <td>10.0</td>\n",
       "      <td>10.0</td>\n",
       "      <td>10.0</td>\n",
       "      <td>9.9</td>\n",
       "      <td>NaN</td>\n",
       "    </tr>\n",
       "    <tr>\n",
       "      <th>26</th>\n",
       "      <td>TSPUD</td>\n",
       "      <td>The Stanley Parable (Ultra Deluxe)</td>\n",
       "      <td>Apr-22</td>\n",
       "      <td>NaN</td>\n",
       "      <td>Interactive Story</td>\n",
       "      <td>Interactive Story</td>\n",
       "      <td>Galactic Cafe</td>\n",
       "      <td>Galactic Cafe</td>\n",
       "      <td>GBR</td>\n",
       "      <td>Multi</td>\n",
       "      <td>...</td>\n",
       "      <td>M</td>\n",
       "      <td>4</td>\n",
       "      <td>1</td>\n",
       "      <td>25%</td>\n",
       "      <td>9.0</td>\n",
       "      <td>10.0</td>\n",
       "      <td>9.0</td>\n",
       "      <td>8.0</td>\n",
       "      <td>9.0</td>\n",
       "      <td>NaN</td>\n",
       "    </tr>\n",
       "    <tr>\n",
       "      <th>27</th>\n",
       "      <td>NW</td>\n",
       "      <td>Neon White</td>\n",
       "      <td>Jun-22</td>\n",
       "      <td>NaN</td>\n",
       "      <td>Action</td>\n",
       "      <td>FPS</td>\n",
       "      <td>Angel Matrix</td>\n",
       "      <td>Annapurna Interactive</td>\n",
       "      <td>USA</td>\n",
       "      <td>Multi</td>\n",
       "      <td>...</td>\n",
       "      <td>M</td>\n",
       "      <td>2</td>\n",
       "      <td>0</td>\n",
       "      <td>0%</td>\n",
       "      <td>8.9</td>\n",
       "      <td>8.5</td>\n",
       "      <td>8.0</td>\n",
       "      <td>9.0</td>\n",
       "      <td>8.6</td>\n",
       "      <td>NaN</td>\n",
       "    </tr>\n",
       "    <tr>\n",
       "      <th>28</th>\n",
       "      <td>CH</td>\n",
       "      <td>Cuphead</td>\n",
       "      <td>Sep-17</td>\n",
       "      <td>NaN</td>\n",
       "      <td>Action</td>\n",
       "      <td>Rund and gun</td>\n",
       "      <td>Studio MDHR</td>\n",
       "      <td>Studio MDHR</td>\n",
       "      <td>CAN</td>\n",
       "      <td>Multi</td>\n",
       "      <td>...</td>\n",
       "      <td>M</td>\n",
       "      <td>8</td>\n",
       "      <td>2</td>\n",
       "      <td>25%</td>\n",
       "      <td>8.7</td>\n",
       "      <td>9.5</td>\n",
       "      <td>8.8</td>\n",
       "      <td>8.5</td>\n",
       "      <td>8.9</td>\n",
       "      <td>NaN</td>\n",
       "    </tr>\n",
       "    <tr>\n",
       "      <th>29</th>\n",
       "      <td>DL</td>\n",
       "      <td>Deathloop</td>\n",
       "      <td>Sep-21</td>\n",
       "      <td>NaN</td>\n",
       "      <td>Action</td>\n",
       "      <td>FPS</td>\n",
       "      <td>Arkane Lyon</td>\n",
       "      <td>Bethesda Softworks</td>\n",
       "      <td>FRA</td>\n",
       "      <td>Multi</td>\n",
       "      <td>...</td>\n",
       "      <td>M</td>\n",
       "      <td>7</td>\n",
       "      <td>1</td>\n",
       "      <td>14%</td>\n",
       "      <td>8.8</td>\n",
       "      <td>9.0</td>\n",
       "      <td>10.0</td>\n",
       "      <td>10.0</td>\n",
       "      <td>9.5</td>\n",
       "      <td>NaN</td>\n",
       "    </tr>\n",
       "    <tr>\n",
       "      <th>31</th>\n",
       "      <td>IWATE</td>\n",
       "      <td>I Was a Teenage Exocolonist</td>\n",
       "      <td>Aug-22</td>\n",
       "      <td>NaN</td>\n",
       "      <td>RPG</td>\n",
       "      <td>Strategy RPG</td>\n",
       "      <td>Northway Gates</td>\n",
       "      <td>Finji</td>\n",
       "      <td>CAN</td>\n",
       "      <td>Multi</td>\n",
       "      <td>...</td>\n",
       "      <td>F</td>\n",
       "      <td>6</td>\n",
       "      <td>4</td>\n",
       "      <td>67%</td>\n",
       "      <td>8.9</td>\n",
       "      <td>NaN</td>\n",
       "      <td>NaN</td>\n",
       "      <td>NaN</td>\n",
       "      <td>8.9</td>\n",
       "      <td>NaN</td>\n",
       "    </tr>\n",
       "    <tr>\n",
       "      <th>32</th>\n",
       "      <td>IMM</td>\n",
       "      <td>Immortality</td>\n",
       "      <td>Aug-22</td>\n",
       "      <td>NaN</td>\n",
       "      <td>Interactive Story</td>\n",
       "      <td>Interactive Story</td>\n",
       "      <td>Sam Barlow</td>\n",
       "      <td>Half Mermaid Productions</td>\n",
       "      <td>GBR</td>\n",
       "      <td>Multi</td>\n",
       "      <td>...</td>\n",
       "      <td>M</td>\n",
       "      <td>13</td>\n",
       "      <td>4</td>\n",
       "      <td>31%</td>\n",
       "      <td>8.8</td>\n",
       "      <td>9.0</td>\n",
       "      <td>8.0</td>\n",
       "      <td>8.0</td>\n",
       "      <td>8.5</td>\n",
       "      <td>NaN</td>\n",
       "    </tr>\n",
       "    <tr>\n",
       "      <th>33</th>\n",
       "      <td>DEL</td>\n",
       "      <td>Disco Elysium</td>\n",
       "      <td>Oct-19</td>\n",
       "      <td>NaN</td>\n",
       "      <td>RPG</td>\n",
       "      <td>RPG</td>\n",
       "      <td>ZA/UM</td>\n",
       "      <td>ZA/UM</td>\n",
       "      <td>GBR</td>\n",
       "      <td>Multi</td>\n",
       "      <td>...</td>\n",
       "      <td>M</td>\n",
       "      <td>2</td>\n",
       "      <td>0</td>\n",
       "      <td>0%</td>\n",
       "      <td>9.1</td>\n",
       "      <td>8.5</td>\n",
       "      <td>9.6</td>\n",
       "      <td>10.0</td>\n",
       "      <td>9.3</td>\n",
       "      <td>NaN</td>\n",
       "    </tr>\n",
       "    <tr>\n",
       "      <th>34</th>\n",
       "      <td>HA</td>\n",
       "      <td>Hades</td>\n",
       "      <td>Sep-21</td>\n",
       "      <td>NaN</td>\n",
       "      <td>RPG</td>\n",
       "      <td>Action RPG</td>\n",
       "      <td>Supergiant Games</td>\n",
       "      <td>Supergiant Games</td>\n",
       "      <td>USA</td>\n",
       "      <td>Computer</td>\n",
       "      <td>...</td>\n",
       "      <td>M</td>\n",
       "      <td>10</td>\n",
       "      <td>2</td>\n",
       "      <td>20%</td>\n",
       "      <td>9.3</td>\n",
       "      <td>9.0</td>\n",
       "      <td>9.0</td>\n",
       "      <td>9.0</td>\n",
       "      <td>9.1</td>\n",
       "      <td>NaN</td>\n",
       "    </tr>\n",
       "    <tr>\n",
       "      <th>35</th>\n",
       "      <td>CACW</td>\n",
       "      <td>Chicory: A Colorful World</td>\n",
       "      <td>Jun-21</td>\n",
       "      <td>NaN</td>\n",
       "      <td>Adventure</td>\n",
       "      <td>Adventure</td>\n",
       "      <td>Finji</td>\n",
       "      <td>Finji</td>\n",
       "      <td>USA</td>\n",
       "      <td>Multi</td>\n",
       "      <td>...</td>\n",
       "      <td>M</td>\n",
       "      <td>3</td>\n",
       "      <td>2</td>\n",
       "      <td>67%</td>\n",
       "      <td>8.9</td>\n",
       "      <td>9.5</td>\n",
       "      <td>9.0</td>\n",
       "      <td>9.0</td>\n",
       "      <td>9.1</td>\n",
       "      <td>NaN</td>\n",
       "    </tr>\n",
       "    <tr>\n",
       "      <th>36</th>\n",
       "      <td>ITT</td>\n",
       "      <td>It Takes Two</td>\n",
       "      <td>Mar-21</td>\n",
       "      <td>NaN</td>\n",
       "      <td>Action-adventure</td>\n",
       "      <td>Action-adventure</td>\n",
       "      <td>Hazelight Studios</td>\n",
       "      <td>EA</td>\n",
       "      <td>SWE</td>\n",
       "      <td>Multi</td>\n",
       "      <td>...</td>\n",
       "      <td>M</td>\n",
       "      <td>5</td>\n",
       "      <td>1</td>\n",
       "      <td>20%</td>\n",
       "      <td>8.9</td>\n",
       "      <td>NaN</td>\n",
       "      <td>9.0</td>\n",
       "      <td>9.0</td>\n",
       "      <td>9.0</td>\n",
       "      <td>NaN</td>\n",
       "    </tr>\n",
       "    <tr>\n",
       "      <th>37</th>\n",
       "      <td>TLOU2</td>\n",
       "      <td>The Last of Us Part II</td>\n",
       "      <td>Jun-20</td>\n",
       "      <td>NaN</td>\n",
       "      <td>Action-adventure</td>\n",
       "      <td>Action-adventure</td>\n",
       "      <td>Naughty Dog</td>\n",
       "      <td>Sony Interactive Entertaiment</td>\n",
       "      <td>USA</td>\n",
       "      <td>PS4</td>\n",
       "      <td>...</td>\n",
       "      <td>M</td>\n",
       "      <td>11</td>\n",
       "      <td>2</td>\n",
       "      <td>18%</td>\n",
       "      <td>9.3</td>\n",
       "      <td>8.5</td>\n",
       "      <td>10.0</td>\n",
       "      <td>8.0</td>\n",
       "      <td>9.0</td>\n",
       "      <td>NaN</td>\n",
       "    </tr>\n",
       "    <tr>\n",
       "      <th>39</th>\n",
       "      <td>OAWW</td>\n",
       "      <td>Ori and the Will of the Wisps</td>\n",
       "      <td>Mar-20</td>\n",
       "      <td>NaN</td>\n",
       "      <td>Action-adventure</td>\n",
       "      <td>Platform-adventure</td>\n",
       "      <td>Moon Studios</td>\n",
       "      <td>Xbox Game Studios</td>\n",
       "      <td>AUT</td>\n",
       "      <td>Multi</td>\n",
       "      <td>...</td>\n",
       "      <td>M</td>\n",
       "      <td>10</td>\n",
       "      <td>1</td>\n",
       "      <td>10%</td>\n",
       "      <td>9.1</td>\n",
       "      <td>9.5</td>\n",
       "      <td>9.0</td>\n",
       "      <td>8.5</td>\n",
       "      <td>9.0</td>\n",
       "      <td>NaN</td>\n",
       "    </tr>\n",
       "    <tr>\n",
       "      <th>42</th>\n",
       "      <td>TINGWD</td>\n",
       "      <td>There is No Game: Wrong Dimension</td>\n",
       "      <td>Aug-20</td>\n",
       "      <td>NaN</td>\n",
       "      <td>Interactive Story</td>\n",
       "      <td>Interactive Story</td>\n",
       "      <td>Draw Me A Pixel</td>\n",
       "      <td>Draw Me A Pixel</td>\n",
       "      <td>FRA</td>\n",
       "      <td>Computer</td>\n",
       "      <td>...</td>\n",
       "      <td>M</td>\n",
       "      <td>6</td>\n",
       "      <td>2</td>\n",
       "      <td>33%</td>\n",
       "      <td>8.8</td>\n",
       "      <td>NaN</td>\n",
       "      <td>NaN</td>\n",
       "      <td>9.6</td>\n",
       "      <td>9.2</td>\n",
       "      <td>NaN</td>\n",
       "    </tr>\n",
       "    <tr>\n",
       "      <th>44</th>\n",
       "      <td>SSDT</td>\n",
       "      <td>Sekiro: Shadows Die Twice</td>\n",
       "      <td>Mar-19</td>\n",
       "      <td>NaN</td>\n",
       "      <td>Action-adventure</td>\n",
       "      <td>Action-adventure</td>\n",
       "      <td>FromSoftware</td>\n",
       "      <td>Activision</td>\n",
       "      <td>JPN</td>\n",
       "      <td>Multi</td>\n",
       "      <td>...</td>\n",
       "      <td>M</td>\n",
       "      <td>7</td>\n",
       "      <td>0</td>\n",
       "      <td>0%</td>\n",
       "      <td>9.0</td>\n",
       "      <td>9.0</td>\n",
       "      <td>9.5</td>\n",
       "      <td>9.0</td>\n",
       "      <td>9.1</td>\n",
       "      <td>NaN</td>\n",
       "    </tr>\n",
       "    <tr>\n",
       "      <th>45</th>\n",
       "      <td>OABF</td>\n",
       "      <td>Ori and the Blind Forest</td>\n",
       "      <td>Mar-15</td>\n",
       "      <td>NaN</td>\n",
       "      <td>Action-adventure</td>\n",
       "      <td>Platform-adventure</td>\n",
       "      <td>Moon Studios</td>\n",
       "      <td>Microsoft Studios</td>\n",
       "      <td>AUT</td>\n",
       "      <td>Multi</td>\n",
       "      <td>...</td>\n",
       "      <td>M</td>\n",
       "      <td>3</td>\n",
       "      <td>0</td>\n",
       "      <td>0%</td>\n",
       "      <td>8.8</td>\n",
       "      <td>9.5</td>\n",
       "      <td>8.5</td>\n",
       "      <td>9.0</td>\n",
       "      <td>9.0</td>\n",
       "      <td>NaN</td>\n",
       "    </tr>\n",
       "    <tr>\n",
       "      <th>48</th>\n",
       "      <td>WROEF</td>\n",
       "      <td>What Remains of Edith Finch</td>\n",
       "      <td>Apr-17</td>\n",
       "      <td>NaN</td>\n",
       "      <td>Adventure</td>\n",
       "      <td>Adventure</td>\n",
       "      <td>Giant Sparrow</td>\n",
       "      <td>Annapurna Interactive</td>\n",
       "      <td>USA</td>\n",
       "      <td>Multi</td>\n",
       "      <td>...</td>\n",
       "      <td>M</td>\n",
       "      <td>6</td>\n",
       "      <td>0</td>\n",
       "      <td>0%</td>\n",
       "      <td>8.9</td>\n",
       "      <td>9.0</td>\n",
       "      <td>8.8</td>\n",
       "      <td>9.0</td>\n",
       "      <td>8.9</td>\n",
       "      <td>NaN</td>\n",
       "    </tr>\n",
       "    <tr>\n",
       "      <th>49</th>\n",
       "      <td>CLS</td>\n",
       "      <td>Celeste</td>\n",
       "      <td>Jan-18</td>\n",
       "      <td>NaN</td>\n",
       "      <td>Action</td>\n",
       "      <td>Platform</td>\n",
       "      <td>Maddy Makes Games</td>\n",
       "      <td>Maddy Makes Games</td>\n",
       "      <td>CAN</td>\n",
       "      <td>Multi</td>\n",
       "      <td>...</td>\n",
       "      <td>F</td>\n",
       "      <td>5</td>\n",
       "      <td>3</td>\n",
       "      <td>60%</td>\n",
       "      <td>9.1</td>\n",
       "      <td>10.0</td>\n",
       "      <td>10.0</td>\n",
       "      <td>9.0</td>\n",
       "      <td>9.5</td>\n",
       "      <td>NaN</td>\n",
       "    </tr>\n",
       "    <tr>\n",
       "      <th>50</th>\n",
       "      <td>DC</td>\n",
       "      <td>Dead Cells</td>\n",
       "      <td>Aug-18</td>\n",
       "      <td>NaN</td>\n",
       "      <td>Action-adventure</td>\n",
       "      <td>Metroidvania</td>\n",
       "      <td>Motion Twin</td>\n",
       "      <td>Motion Twin</td>\n",
       "      <td>FRA</td>\n",
       "      <td>Multi</td>\n",
       "      <td>...</td>\n",
       "      <td>M</td>\n",
       "      <td>2</td>\n",
       "      <td>0</td>\n",
       "      <td>0%</td>\n",
       "      <td>8.8</td>\n",
       "      <td>NaN</td>\n",
       "      <td>9.5</td>\n",
       "      <td>9.0</td>\n",
       "      <td>9.1</td>\n",
       "      <td>NaN</td>\n",
       "    </tr>\n",
       "    <tr>\n",
       "      <th>51</th>\n",
       "      <td>HLKN</td>\n",
       "      <td>Hollow Knight</td>\n",
       "      <td>Feb-17</td>\n",
       "      <td>NaN</td>\n",
       "      <td>Action-adventure</td>\n",
       "      <td>Metroidvania</td>\n",
       "      <td>Team Cherry</td>\n",
       "      <td>Team Cherry</td>\n",
       "      <td>AUS</td>\n",
       "      <td>Computer</td>\n",
       "      <td>...</td>\n",
       "      <td>M</td>\n",
       "      <td>3</td>\n",
       "      <td>0</td>\n",
       "      <td>0%</td>\n",
       "      <td>8.8</td>\n",
       "      <td>10.0</td>\n",
       "      <td>9.4</td>\n",
       "      <td>9.0</td>\n",
       "      <td>9.3</td>\n",
       "      <td>NaN</td>\n",
       "    </tr>\n",
       "    <tr>\n",
       "      <th>52</th>\n",
       "      <td>NITW</td>\n",
       "      <td>Night in the Woods</td>\n",
       "      <td>Feb-17</td>\n",
       "      <td>NaN</td>\n",
       "      <td>Adventure</td>\n",
       "      <td>Adventure</td>\n",
       "      <td>Secret Lab</td>\n",
       "      <td>Finji</td>\n",
       "      <td>AUT</td>\n",
       "      <td>Multi</td>\n",
       "      <td>...</td>\n",
       "      <td>M</td>\n",
       "      <td>7</td>\n",
       "      <td>1</td>\n",
       "      <td>14%</td>\n",
       "      <td>8.4</td>\n",
       "      <td>9.5</td>\n",
       "      <td>8.7</td>\n",
       "      <td>9.0</td>\n",
       "      <td>8.9</td>\n",
       "      <td>NaN</td>\n",
       "    </tr>\n",
       "    <tr>\n",
       "      <th>54</th>\n",
       "      <td>BRA</td>\n",
       "      <td>Broken Age</td>\n",
       "      <td>Jan-14</td>\n",
       "      <td>NaN</td>\n",
       "      <td>Adventure</td>\n",
       "      <td>Point-and-click adventure</td>\n",
       "      <td>Double Fine Productions</td>\n",
       "      <td>Double Fine Productions</td>\n",
       "      <td>USA</td>\n",
       "      <td>Computer</td>\n",
       "      <td>...</td>\n",
       "      <td>M</td>\n",
       "      <td>6</td>\n",
       "      <td>1</td>\n",
       "      <td>17%</td>\n",
       "      <td>7.9</td>\n",
       "      <td>9.5</td>\n",
       "      <td>9.5</td>\n",
       "      <td>7.0</td>\n",
       "      <td>8.5</td>\n",
       "      <td>NaN</td>\n",
       "    </tr>\n",
       "    <tr>\n",
       "      <th>56</th>\n",
       "      <td>TSWP</td>\n",
       "      <td>The Swapper</td>\n",
       "      <td>May-13</td>\n",
       "      <td>NaN</td>\n",
       "      <td>Action</td>\n",
       "      <td>Puzzle-Platform</td>\n",
       "      <td>Facepalm Games</td>\n",
       "      <td>Facepalm Games</td>\n",
       "      <td>FIN</td>\n",
       "      <td>Computer</td>\n",
       "      <td>...</td>\n",
       "      <td>M</td>\n",
       "      <td>1</td>\n",
       "      <td>0</td>\n",
       "      <td>0%</td>\n",
       "      <td>8.7</td>\n",
       "      <td>10.0</td>\n",
       "      <td>9.3</td>\n",
       "      <td>8.0</td>\n",
       "      <td>9.0</td>\n",
       "      <td>NaN</td>\n",
       "    </tr>\n",
       "    <tr>\n",
       "      <th>57</th>\n",
       "      <td>OWB</td>\n",
       "      <td>Owlboy</td>\n",
       "      <td>Nov-16</td>\n",
       "      <td>NaN</td>\n",
       "      <td>Action-adventure</td>\n",
       "      <td>Platform-adventure</td>\n",
       "      <td>D-Pad Studio</td>\n",
       "      <td>D-Pad Studio</td>\n",
       "      <td>NOR</td>\n",
       "      <td>Multi</td>\n",
       "      <td>...</td>\n",
       "      <td>M</td>\n",
       "      <td>3</td>\n",
       "      <td>0</td>\n",
       "      <td>0%</td>\n",
       "      <td>8.7</td>\n",
       "      <td>10.0</td>\n",
       "      <td>9.3</td>\n",
       "      <td>9.0</td>\n",
       "      <td>9.3</td>\n",
       "      <td>NaN</td>\n",
       "    </tr>\n",
       "    <tr>\n",
       "      <th>59</th>\n",
       "      <td>TBOIR</td>\n",
       "      <td>The Binding of Isaac: Rebirth</td>\n",
       "      <td>Nov-14</td>\n",
       "      <td>NaN</td>\n",
       "      <td>RPG</td>\n",
       "      <td>Roguelike</td>\n",
       "      <td>Nicalis</td>\n",
       "      <td>Nicalis</td>\n",
       "      <td>USA</td>\n",
       "      <td>Multi</td>\n",
       "      <td>...</td>\n",
       "      <td>M</td>\n",
       "      <td>3</td>\n",
       "      <td>0</td>\n",
       "      <td>0%</td>\n",
       "      <td>8.4</td>\n",
       "      <td>10.0</td>\n",
       "      <td>9.0</td>\n",
       "      <td>8.0</td>\n",
       "      <td>8.9</td>\n",
       "      <td>NaN</td>\n",
       "    </tr>\n",
       "    <tr>\n",
       "      <th>60</th>\n",
       "      <td>COL</td>\n",
       "      <td>Child of Light</td>\n",
       "      <td>Apr-14</td>\n",
       "      <td>NaN</td>\n",
       "      <td>Action</td>\n",
       "      <td>Platform RPG</td>\n",
       "      <td>Ubisoft Montreal</td>\n",
       "      <td>Ubisoft</td>\n",
       "      <td>CAN</td>\n",
       "      <td>Multi</td>\n",
       "      <td>...</td>\n",
       "      <td>M</td>\n",
       "      <td>7</td>\n",
       "      <td>3</td>\n",
       "      <td>43%</td>\n",
       "      <td>8.2</td>\n",
       "      <td>8.5</td>\n",
       "      <td>9.3</td>\n",
       "      <td>8.0</td>\n",
       "      <td>8.5</td>\n",
       "      <td>NaN</td>\n",
       "    </tr>\n",
       "    <tr>\n",
       "      <th>61</th>\n",
       "      <td>FLR</td>\n",
       "      <td>Florence</td>\n",
       "      <td>Feb-18</td>\n",
       "      <td>NaN</td>\n",
       "      <td>Interactive Story</td>\n",
       "      <td>Interactive Story</td>\n",
       "      <td>Mountains</td>\n",
       "      <td>Annapurna Interactive</td>\n",
       "      <td>USA</td>\n",
       "      <td>Mobile</td>\n",
       "      <td>...</td>\n",
       "      <td>M</td>\n",
       "      <td>2</td>\n",
       "      <td>0</td>\n",
       "      <td>0%</td>\n",
       "      <td>8.7</td>\n",
       "      <td>8.0</td>\n",
       "      <td>9.6</td>\n",
       "      <td>NaN</td>\n",
       "      <td>8.8</td>\n",
       "      <td>NaN</td>\n",
       "    </tr>\n",
       "    <tr>\n",
       "      <th>63</th>\n",
       "      <td>KBOS</td>\n",
       "      <td>Kena: Bridge of Spirits</td>\n",
       "      <td>Sep-21</td>\n",
       "      <td>NaN</td>\n",
       "      <td>Action-adventure</td>\n",
       "      <td>Action-adventure</td>\n",
       "      <td>Ember Lab</td>\n",
       "      <td>Ember Lab</td>\n",
       "      <td>USA</td>\n",
       "      <td>Multi</td>\n",
       "      <td>...</td>\n",
       "      <td>M</td>\n",
       "      <td>3</td>\n",
       "      <td>1</td>\n",
       "      <td>33%</td>\n",
       "      <td>8.2</td>\n",
       "      <td>8.0</td>\n",
       "      <td>8.0</td>\n",
       "      <td>9.0</td>\n",
       "      <td>8.3</td>\n",
       "      <td>NaN</td>\n",
       "    </tr>\n",
       "  </tbody>\n",
       "</table>\n",
       "<p>37 rows × 28 columns</p>\n",
       "</div>"
      ]
     },
     "execution_count": 4678,
     "metadata": {},
     "output_type": "execute_result"
    }
   ],
   "execution_count": 4678
  },
  {
   "cell_type": "code",
   "id": "f3a78647e689a741",
   "metadata": {
    "ExecuteTime": {
     "end_time": "2024-12-07T18:26:10.377979Z",
     "start_time": "2024-12-07T18:26:10.374976Z"
    }
   },
   "source": [
    "# Replace the null values in the 'series' column with 'None'\n",
    "games.fillna({'Series': 'None'}, inplace=True)\n",
    "games.isnull().sum()"
   ],
   "outputs": [
    {
     "data": {
      "text/plain": [
       "Game_Id                  0\n",
       "Title                    0\n",
       "Release                  0\n",
       "Series                   0\n",
       "Genre                    0\n",
       "Sub-genre                0\n",
       "Developer                0\n",
       "Publisher                0\n",
       "Country                  0\n",
       "Platform                 0\n",
       "PEGI                     0\n",
       "Customizable_main        0\n",
       "Protagonist              0\n",
       "Protagonist_Non_Male     0\n",
       "Relevant_males           0\n",
       "Relevant_no_males        0\n",
       "Percentage_non_male      0\n",
       "Criteria                 0\n",
       "Director                 0\n",
       "Total_team               0\n",
       "female_team              0\n",
       "Team_percentage          0\n",
       "Metacritic               0\n",
       "Destructoid              7\n",
       "IGN                      2\n",
       "GameSpot                 2\n",
       "Avg_Reviews              0\n",
       "Unnamed: 27             64\n",
       "dtype: int64"
      ]
     },
     "execution_count": 4679,
     "metadata": {},
     "output_type": "execute_result"
    }
   ],
   "execution_count": 4679
  },
  {
   "cell_type": "markdown",
   "id": "1bb3c0d98b990474",
   "metadata": {},
   "source": [
    "Next, the 'Unnamed' column will be dropped as it is not needed."
   ]
  },
  {
   "cell_type": "code",
   "id": "e527a916d5a29137",
   "metadata": {
    "ExecuteTime": {
     "end_time": "2024-12-07T18:26:10.437939Z",
     "start_time": "2024-12-07T18:26:10.432466Z"
    }
   },
   "source": [
    "# Drop the 'Unnamed' column\n",
    "games.drop(columns=['Unnamed: 27'], inplace=True)\n",
    "games.head()"
   ],
   "outputs": [
    {
     "data": {
      "text/plain": [
       "  Game_Id                         Title Release        Series  \\\n",
       "0    GTAV            Grand Theft Auto V  Nov-13           GTA   \n",
       "1     PSS          Pokémon Sword/Shield  Nov-19       Pokémon   \n",
       "2   CODMW  Call of Duty: Modern Warfare  Oct-19  Call of Duty   \n",
       "3    RDR2         Red Dead Redemption 2  Dec-18      Red Dead   \n",
       "4     SMO           Super Mario Odyssey  Oct-17   Super Mario   \n",
       "\n",
       "              Genre         Sub-genre         Developer       Publisher  \\\n",
       "0  Action-adventure  Action-adventure    Rockstar North  Rockstar Games   \n",
       "1               RPG               RPG        Game Freak        Nintendo   \n",
       "2            Action               FPS     Infinity Ward      Activision   \n",
       "3  Action-adventure  Action-adventure  Rockstar Studios  Rockstar Games   \n",
       "4  Action-adventure  Action-adventure      Nintendo EDP        Nintendo   \n",
       "\n",
       "  Country         Platform  ...  Criteria Director  Total_team  female_team  \\\n",
       "0     GBR            Multi  ...        MS        M           7            0   \n",
       "1     JPN  Nintendo Switch  ...        MS        M           9            1   \n",
       "2     USA            Multi  ...        MS        M          11            0   \n",
       "3     USA            Multi  ...        SR        M           7            0   \n",
       "4     JPN  Nintendo Switch  ...        SR        M          11            1   \n",
       "\n",
       "   Team_percentage  Metacritic Destructoid   IGN GameSpot  Avg_Reviews  \n",
       "0               0%         9.7         9.0  10.0      9.0          9.4  \n",
       "1              11%         8.0         7.0   9.3      9.0          8.3  \n",
       "2               0%         8.0         8.0   8.0      7.0          7.8  \n",
       "3               0%         9.7         9.5  10.0      9.0          9.6  \n",
       "4               9%         9.7         9.5  10.0     10.0          9.8  \n",
       "\n",
       "[5 rows x 27 columns]"
      ],
      "text/html": [
       "<div>\n",
       "<style scoped>\n",
       "    .dataframe tbody tr th:only-of-type {\n",
       "        vertical-align: middle;\n",
       "    }\n",
       "\n",
       "    .dataframe tbody tr th {\n",
       "        vertical-align: top;\n",
       "    }\n",
       "\n",
       "    .dataframe thead th {\n",
       "        text-align: right;\n",
       "    }\n",
       "</style>\n",
       "<table border=\"1\" class=\"dataframe\">\n",
       "  <thead>\n",
       "    <tr style=\"text-align: right;\">\n",
       "      <th></th>\n",
       "      <th>Game_Id</th>\n",
       "      <th>Title</th>\n",
       "      <th>Release</th>\n",
       "      <th>Series</th>\n",
       "      <th>Genre</th>\n",
       "      <th>Sub-genre</th>\n",
       "      <th>Developer</th>\n",
       "      <th>Publisher</th>\n",
       "      <th>Country</th>\n",
       "      <th>Platform</th>\n",
       "      <th>...</th>\n",
       "      <th>Criteria</th>\n",
       "      <th>Director</th>\n",
       "      <th>Total_team</th>\n",
       "      <th>female_team</th>\n",
       "      <th>Team_percentage</th>\n",
       "      <th>Metacritic</th>\n",
       "      <th>Destructoid</th>\n",
       "      <th>IGN</th>\n",
       "      <th>GameSpot</th>\n",
       "      <th>Avg_Reviews</th>\n",
       "    </tr>\n",
       "  </thead>\n",
       "  <tbody>\n",
       "    <tr>\n",
       "      <th>0</th>\n",
       "      <td>GTAV</td>\n",
       "      <td>Grand Theft Auto V</td>\n",
       "      <td>Nov-13</td>\n",
       "      <td>GTA</td>\n",
       "      <td>Action-adventure</td>\n",
       "      <td>Action-adventure</td>\n",
       "      <td>Rockstar North</td>\n",
       "      <td>Rockstar Games</td>\n",
       "      <td>GBR</td>\n",
       "      <td>Multi</td>\n",
       "      <td>...</td>\n",
       "      <td>MS</td>\n",
       "      <td>M</td>\n",
       "      <td>7</td>\n",
       "      <td>0</td>\n",
       "      <td>0%</td>\n",
       "      <td>9.7</td>\n",
       "      <td>9.0</td>\n",
       "      <td>10.0</td>\n",
       "      <td>9.0</td>\n",
       "      <td>9.4</td>\n",
       "    </tr>\n",
       "    <tr>\n",
       "      <th>1</th>\n",
       "      <td>PSS</td>\n",
       "      <td>Pokémon Sword/Shield</td>\n",
       "      <td>Nov-19</td>\n",
       "      <td>Pokémon</td>\n",
       "      <td>RPG</td>\n",
       "      <td>RPG</td>\n",
       "      <td>Game Freak</td>\n",
       "      <td>Nintendo</td>\n",
       "      <td>JPN</td>\n",
       "      <td>Nintendo Switch</td>\n",
       "      <td>...</td>\n",
       "      <td>MS</td>\n",
       "      <td>M</td>\n",
       "      <td>9</td>\n",
       "      <td>1</td>\n",
       "      <td>11%</td>\n",
       "      <td>8.0</td>\n",
       "      <td>7.0</td>\n",
       "      <td>9.3</td>\n",
       "      <td>9.0</td>\n",
       "      <td>8.3</td>\n",
       "    </tr>\n",
       "    <tr>\n",
       "      <th>2</th>\n",
       "      <td>CODMW</td>\n",
       "      <td>Call of Duty: Modern Warfare</td>\n",
       "      <td>Oct-19</td>\n",
       "      <td>Call of Duty</td>\n",
       "      <td>Action</td>\n",
       "      <td>FPS</td>\n",
       "      <td>Infinity Ward</td>\n",
       "      <td>Activision</td>\n",
       "      <td>USA</td>\n",
       "      <td>Multi</td>\n",
       "      <td>...</td>\n",
       "      <td>MS</td>\n",
       "      <td>M</td>\n",
       "      <td>11</td>\n",
       "      <td>0</td>\n",
       "      <td>0%</td>\n",
       "      <td>8.0</td>\n",
       "      <td>8.0</td>\n",
       "      <td>8.0</td>\n",
       "      <td>7.0</td>\n",
       "      <td>7.8</td>\n",
       "    </tr>\n",
       "    <tr>\n",
       "      <th>3</th>\n",
       "      <td>RDR2</td>\n",
       "      <td>Red Dead Redemption 2</td>\n",
       "      <td>Dec-18</td>\n",
       "      <td>Red Dead</td>\n",
       "      <td>Action-adventure</td>\n",
       "      <td>Action-adventure</td>\n",
       "      <td>Rockstar Studios</td>\n",
       "      <td>Rockstar Games</td>\n",
       "      <td>USA</td>\n",
       "      <td>Multi</td>\n",
       "      <td>...</td>\n",
       "      <td>SR</td>\n",
       "      <td>M</td>\n",
       "      <td>7</td>\n",
       "      <td>0</td>\n",
       "      <td>0%</td>\n",
       "      <td>9.7</td>\n",
       "      <td>9.5</td>\n",
       "      <td>10.0</td>\n",
       "      <td>9.0</td>\n",
       "      <td>9.6</td>\n",
       "    </tr>\n",
       "    <tr>\n",
       "      <th>4</th>\n",
       "      <td>SMO</td>\n",
       "      <td>Super Mario Odyssey</td>\n",
       "      <td>Oct-17</td>\n",
       "      <td>Super Mario</td>\n",
       "      <td>Action-adventure</td>\n",
       "      <td>Action-adventure</td>\n",
       "      <td>Nintendo EDP</td>\n",
       "      <td>Nintendo</td>\n",
       "      <td>JPN</td>\n",
       "      <td>Nintendo Switch</td>\n",
       "      <td>...</td>\n",
       "      <td>SR</td>\n",
       "      <td>M</td>\n",
       "      <td>11</td>\n",
       "      <td>1</td>\n",
       "      <td>9%</td>\n",
       "      <td>9.7</td>\n",
       "      <td>9.5</td>\n",
       "      <td>10.0</td>\n",
       "      <td>10.0</td>\n",
       "      <td>9.8</td>\n",
       "    </tr>\n",
       "  </tbody>\n",
       "</table>\n",
       "<p>5 rows × 27 columns</p>\n",
       "</div>"
      ]
     },
     "execution_count": 4680,
     "metadata": {},
     "output_type": "execute_result"
    }
   ],
   "execution_count": 4680
  },
  {
   "cell_type": "code",
   "id": "e1199658268c5c",
   "metadata": {
    "ExecuteTime": {
     "end_time": "2024-12-07T18:26:10.496243Z",
     "start_time": "2024-12-07T18:26:10.493380Z"
    }
   },
   "source": [
    "games.isnull().sum()"
   ],
   "outputs": [
    {
     "data": {
      "text/plain": [
       "Game_Id                 0\n",
       "Title                   0\n",
       "Release                 0\n",
       "Series                  0\n",
       "Genre                   0\n",
       "Sub-genre               0\n",
       "Developer               0\n",
       "Publisher               0\n",
       "Country                 0\n",
       "Platform                0\n",
       "PEGI                    0\n",
       "Customizable_main       0\n",
       "Protagonist             0\n",
       "Protagonist_Non_Male    0\n",
       "Relevant_males          0\n",
       "Relevant_no_males       0\n",
       "Percentage_non_male     0\n",
       "Criteria                0\n",
       "Director                0\n",
       "Total_team              0\n",
       "female_team             0\n",
       "Team_percentage         0\n",
       "Metacritic              0\n",
       "Destructoid             7\n",
       "IGN                     2\n",
       "GameSpot                2\n",
       "Avg_Reviews             0\n",
       "dtype: int64"
      ]
     },
     "execution_count": 4681,
     "metadata": {},
     "output_type": "execute_result"
    }
   ],
   "execution_count": 4681
  },
  {
   "cell_type": "markdown",
   "id": "cf8a49696bfc7beb",
   "metadata": {},
   "source": [
    "Next, the gaming reviews columns will be checked for missing values.  As the average of the reviews have already been calculated, The missing values in the reviews columns will be left as null.\n",
    "If the average had not been already been worked out, the missing values would have been replaced with the average of the other reviews."
   ]
  },
  {
   "cell_type": "code",
   "id": "686f715006c17eaf",
   "metadata": {
    "ExecuteTime": {
     "end_time": "2024-12-07T18:26:10.551902Z",
     "start_time": "2024-12-07T18:26:10.549308Z"
    }
   },
   "source": [
    "# Check null values for gaming reviews (Destruktoid, IGN, GameSpot, Metacritic)\n",
    "games[['Metacritic', 'Destructoid', 'IGN', 'GameSpot']].isnull().sum()"
   ],
   "outputs": [
    {
     "data": {
      "text/plain": [
       "Metacritic     0\n",
       "Destructoid    7\n",
       "IGN            2\n",
       "GameSpot       2\n",
       "dtype: int64"
      ]
     },
     "execution_count": 4682,
     "metadata": {},
     "output_type": "execute_result"
    }
   ],
   "execution_count": 4682
  },
  {
   "cell_type": "code",
   "id": "1ad648c7821ecdb",
   "metadata": {
    "ExecuteTime": {
     "end_time": "2024-12-07T18:26:10.617288Z",
     "start_time": "2024-12-07T18:26:10.607309Z"
    }
   },
   "source": [
    "# Print the rows with null reviews values\n",
    "games_with_null_reviews = games[games[['Metacritic', 'Destructoid', 'IGN', 'GameSpot']].isnull().any(axis=1)]\n",
    "games_with_null_reviews"
   ],
   "outputs": [
    {
     "data": {
      "text/plain": [
       "   Game_Id                              Title Release        Series  \\\n",
       "8   CODBO2          Call of Duty: Black Ops 2  Nov-12  Call of Duty   \n",
       "17      PP                     Papers, Please  Aug-13          None   \n",
       "31   IWATE        I Was a Teenage Exocolonist  Aug-22          None   \n",
       "36     ITT                       It Takes Two  Mar-21          None   \n",
       "42  TINGWD  There is No Game: Wrong Dimension  Aug-20          None   \n",
       "50      DC                         Dead Cells  Aug-18          None   \n",
       "58     DS2                       Dark Souls 2  Mar-14    Dark Souls   \n",
       "61     FLR                           Florence  Feb-18          None   \n",
       "\n",
       "                Genre          Sub-genre          Developer  \\\n",
       "8              Action                FPS           Treyarch   \n",
       "17         Simulation  Puzzle Simulation           3909 LLC   \n",
       "31                RPG       Strategy RPG     Northway Gates   \n",
       "36   Action-adventure   Action-adventure  Hazelight Studios   \n",
       "42  Interactive Story  Interactive Story    Draw Me A Pixel   \n",
       "50   Action-adventure       Metroidvania        Motion Twin   \n",
       "58                RPG         Action RPG       FromSoftware   \n",
       "61  Interactive Story  Interactive Story          Mountains   \n",
       "\n",
       "                Publisher Country  Platform  ...  Criteria Director  \\\n",
       "8              Activision     USA     Multi  ...        MS        M   \n",
       "17               3909 LLC     USA     Multi  ...        TR        M   \n",
       "31                  Finji     CAN     Multi  ...        TR        F   \n",
       "36                     EA     SWE     Multi  ...        TR        M   \n",
       "42        Draw Me A Pixel     FRA  Computer  ...        TR        M   \n",
       "50            Motion Twin     FRA     Multi  ...        TR        M   \n",
       "58     Bandai Namco Games     JPN     Multi  ...        TR        M   \n",
       "61  Annapurna Interactive     USA    Mobile  ...        TR        M   \n",
       "\n",
       "    Total_team  female_team  Team_percentage  Metacritic Destructoid  IGN  \\\n",
       "8           10            0               0%         8.0         NaN  9.3   \n",
       "17           1            0               0%         8.9         NaN  8.7   \n",
       "31           6            4              67%         8.9         NaN  NaN   \n",
       "36           5            1              20%         8.9         NaN  9.0   \n",
       "42           6            2              33%         8.8         NaN  NaN   \n",
       "50           2            0               0%         8.8         NaN  9.5   \n",
       "58           7            0               0%         9.1         NaN  9.0   \n",
       "61           2            0               0%         8.7         8.0  9.6   \n",
       "\n",
       "   GameSpot  Avg_Reviews  \n",
       "8       8.0          8.4  \n",
       "17      8.0          8.5  \n",
       "31      NaN          8.9  \n",
       "36      9.0          9.0  \n",
       "42      9.6          9.2  \n",
       "50      9.0          9.1  \n",
       "58      9.0          9.0  \n",
       "61      NaN          8.8  \n",
       "\n",
       "[8 rows x 27 columns]"
      ],
      "text/html": [
       "<div>\n",
       "<style scoped>\n",
       "    .dataframe tbody tr th:only-of-type {\n",
       "        vertical-align: middle;\n",
       "    }\n",
       "\n",
       "    .dataframe tbody tr th {\n",
       "        vertical-align: top;\n",
       "    }\n",
       "\n",
       "    .dataframe thead th {\n",
       "        text-align: right;\n",
       "    }\n",
       "</style>\n",
       "<table border=\"1\" class=\"dataframe\">\n",
       "  <thead>\n",
       "    <tr style=\"text-align: right;\">\n",
       "      <th></th>\n",
       "      <th>Game_Id</th>\n",
       "      <th>Title</th>\n",
       "      <th>Release</th>\n",
       "      <th>Series</th>\n",
       "      <th>Genre</th>\n",
       "      <th>Sub-genre</th>\n",
       "      <th>Developer</th>\n",
       "      <th>Publisher</th>\n",
       "      <th>Country</th>\n",
       "      <th>Platform</th>\n",
       "      <th>...</th>\n",
       "      <th>Criteria</th>\n",
       "      <th>Director</th>\n",
       "      <th>Total_team</th>\n",
       "      <th>female_team</th>\n",
       "      <th>Team_percentage</th>\n",
       "      <th>Metacritic</th>\n",
       "      <th>Destructoid</th>\n",
       "      <th>IGN</th>\n",
       "      <th>GameSpot</th>\n",
       "      <th>Avg_Reviews</th>\n",
       "    </tr>\n",
       "  </thead>\n",
       "  <tbody>\n",
       "    <tr>\n",
       "      <th>8</th>\n",
       "      <td>CODBO2</td>\n",
       "      <td>Call of Duty: Black Ops 2</td>\n",
       "      <td>Nov-12</td>\n",
       "      <td>Call of Duty</td>\n",
       "      <td>Action</td>\n",
       "      <td>FPS</td>\n",
       "      <td>Treyarch</td>\n",
       "      <td>Activision</td>\n",
       "      <td>USA</td>\n",
       "      <td>Multi</td>\n",
       "      <td>...</td>\n",
       "      <td>MS</td>\n",
       "      <td>M</td>\n",
       "      <td>10</td>\n",
       "      <td>0</td>\n",
       "      <td>0%</td>\n",
       "      <td>8.0</td>\n",
       "      <td>NaN</td>\n",
       "      <td>9.3</td>\n",
       "      <td>8.0</td>\n",
       "      <td>8.4</td>\n",
       "    </tr>\n",
       "    <tr>\n",
       "      <th>17</th>\n",
       "      <td>PP</td>\n",
       "      <td>Papers, Please</td>\n",
       "      <td>Aug-13</td>\n",
       "      <td>None</td>\n",
       "      <td>Simulation</td>\n",
       "      <td>Puzzle Simulation</td>\n",
       "      <td>3909 LLC</td>\n",
       "      <td>3909 LLC</td>\n",
       "      <td>USA</td>\n",
       "      <td>Multi</td>\n",
       "      <td>...</td>\n",
       "      <td>TR</td>\n",
       "      <td>M</td>\n",
       "      <td>1</td>\n",
       "      <td>0</td>\n",
       "      <td>0%</td>\n",
       "      <td>8.9</td>\n",
       "      <td>NaN</td>\n",
       "      <td>8.7</td>\n",
       "      <td>8.0</td>\n",
       "      <td>8.5</td>\n",
       "    </tr>\n",
       "    <tr>\n",
       "      <th>31</th>\n",
       "      <td>IWATE</td>\n",
       "      <td>I Was a Teenage Exocolonist</td>\n",
       "      <td>Aug-22</td>\n",
       "      <td>None</td>\n",
       "      <td>RPG</td>\n",
       "      <td>Strategy RPG</td>\n",
       "      <td>Northway Gates</td>\n",
       "      <td>Finji</td>\n",
       "      <td>CAN</td>\n",
       "      <td>Multi</td>\n",
       "      <td>...</td>\n",
       "      <td>TR</td>\n",
       "      <td>F</td>\n",
       "      <td>6</td>\n",
       "      <td>4</td>\n",
       "      <td>67%</td>\n",
       "      <td>8.9</td>\n",
       "      <td>NaN</td>\n",
       "      <td>NaN</td>\n",
       "      <td>NaN</td>\n",
       "      <td>8.9</td>\n",
       "    </tr>\n",
       "    <tr>\n",
       "      <th>36</th>\n",
       "      <td>ITT</td>\n",
       "      <td>It Takes Two</td>\n",
       "      <td>Mar-21</td>\n",
       "      <td>None</td>\n",
       "      <td>Action-adventure</td>\n",
       "      <td>Action-adventure</td>\n",
       "      <td>Hazelight Studios</td>\n",
       "      <td>EA</td>\n",
       "      <td>SWE</td>\n",
       "      <td>Multi</td>\n",
       "      <td>...</td>\n",
       "      <td>TR</td>\n",
       "      <td>M</td>\n",
       "      <td>5</td>\n",
       "      <td>1</td>\n",
       "      <td>20%</td>\n",
       "      <td>8.9</td>\n",
       "      <td>NaN</td>\n",
       "      <td>9.0</td>\n",
       "      <td>9.0</td>\n",
       "      <td>9.0</td>\n",
       "    </tr>\n",
       "    <tr>\n",
       "      <th>42</th>\n",
       "      <td>TINGWD</td>\n",
       "      <td>There is No Game: Wrong Dimension</td>\n",
       "      <td>Aug-20</td>\n",
       "      <td>None</td>\n",
       "      <td>Interactive Story</td>\n",
       "      <td>Interactive Story</td>\n",
       "      <td>Draw Me A Pixel</td>\n",
       "      <td>Draw Me A Pixel</td>\n",
       "      <td>FRA</td>\n",
       "      <td>Computer</td>\n",
       "      <td>...</td>\n",
       "      <td>TR</td>\n",
       "      <td>M</td>\n",
       "      <td>6</td>\n",
       "      <td>2</td>\n",
       "      <td>33%</td>\n",
       "      <td>8.8</td>\n",
       "      <td>NaN</td>\n",
       "      <td>NaN</td>\n",
       "      <td>9.6</td>\n",
       "      <td>9.2</td>\n",
       "    </tr>\n",
       "    <tr>\n",
       "      <th>50</th>\n",
       "      <td>DC</td>\n",
       "      <td>Dead Cells</td>\n",
       "      <td>Aug-18</td>\n",
       "      <td>None</td>\n",
       "      <td>Action-adventure</td>\n",
       "      <td>Metroidvania</td>\n",
       "      <td>Motion Twin</td>\n",
       "      <td>Motion Twin</td>\n",
       "      <td>FRA</td>\n",
       "      <td>Multi</td>\n",
       "      <td>...</td>\n",
       "      <td>TR</td>\n",
       "      <td>M</td>\n",
       "      <td>2</td>\n",
       "      <td>0</td>\n",
       "      <td>0%</td>\n",
       "      <td>8.8</td>\n",
       "      <td>NaN</td>\n",
       "      <td>9.5</td>\n",
       "      <td>9.0</td>\n",
       "      <td>9.1</td>\n",
       "    </tr>\n",
       "    <tr>\n",
       "      <th>58</th>\n",
       "      <td>DS2</td>\n",
       "      <td>Dark Souls 2</td>\n",
       "      <td>Mar-14</td>\n",
       "      <td>Dark Souls</td>\n",
       "      <td>RPG</td>\n",
       "      <td>Action RPG</td>\n",
       "      <td>FromSoftware</td>\n",
       "      <td>Bandai Namco Games</td>\n",
       "      <td>JPN</td>\n",
       "      <td>Multi</td>\n",
       "      <td>...</td>\n",
       "      <td>TR</td>\n",
       "      <td>M</td>\n",
       "      <td>7</td>\n",
       "      <td>0</td>\n",
       "      <td>0%</td>\n",
       "      <td>9.1</td>\n",
       "      <td>NaN</td>\n",
       "      <td>9.0</td>\n",
       "      <td>9.0</td>\n",
       "      <td>9.0</td>\n",
       "    </tr>\n",
       "    <tr>\n",
       "      <th>61</th>\n",
       "      <td>FLR</td>\n",
       "      <td>Florence</td>\n",
       "      <td>Feb-18</td>\n",
       "      <td>None</td>\n",
       "      <td>Interactive Story</td>\n",
       "      <td>Interactive Story</td>\n",
       "      <td>Mountains</td>\n",
       "      <td>Annapurna Interactive</td>\n",
       "      <td>USA</td>\n",
       "      <td>Mobile</td>\n",
       "      <td>...</td>\n",
       "      <td>TR</td>\n",
       "      <td>M</td>\n",
       "      <td>2</td>\n",
       "      <td>0</td>\n",
       "      <td>0%</td>\n",
       "      <td>8.7</td>\n",
       "      <td>8.0</td>\n",
       "      <td>9.6</td>\n",
       "      <td>NaN</td>\n",
       "      <td>8.8</td>\n",
       "    </tr>\n",
       "  </tbody>\n",
       "</table>\n",
       "<p>8 rows × 27 columns</p>\n",
       "</div>"
      ]
     },
     "execution_count": 4683,
     "metadata": {},
     "output_type": "execute_result"
    }
   ],
   "execution_count": 4683
  },
  {
   "cell_type": "markdown",
   "id": "64048e529685d35c",
   "metadata": {},
   "source": [
    "Next, the dataset will be checked for duplicates."
   ]
  },
  {
   "cell_type": "code",
   "id": "58cacb080896ed55",
   "metadata": {
    "ExecuteTime": {
     "end_time": "2024-12-07T18:26:10.665535Z",
     "start_time": "2024-12-07T18:26:10.660116Z"
    }
   },
   "source": [
    "# Find duplicates in the dataset\n",
    "duplicates = games[games.duplicated()]\n",
    "duplicates"
   ],
   "outputs": [
    {
     "data": {
      "text/plain": [
       "Empty DataFrame\n",
       "Columns: [Game_Id, Title, Release, Series, Genre, Sub-genre, Developer, Publisher, Country, Platform, PEGI, Customizable_main, Protagonist, Protagonist_Non_Male, Relevant_males, Relevant_no_males, Percentage_non_male, Criteria, Director, Total_team, female_team, Team_percentage, Metacritic, Destructoid, IGN, GameSpot, Avg_Reviews]\n",
       "Index: []\n",
       "\n",
       "[0 rows x 27 columns]"
      ],
      "text/html": [
       "<div>\n",
       "<style scoped>\n",
       "    .dataframe tbody tr th:only-of-type {\n",
       "        vertical-align: middle;\n",
       "    }\n",
       "\n",
       "    .dataframe tbody tr th {\n",
       "        vertical-align: top;\n",
       "    }\n",
       "\n",
       "    .dataframe thead th {\n",
       "        text-align: right;\n",
       "    }\n",
       "</style>\n",
       "<table border=\"1\" class=\"dataframe\">\n",
       "  <thead>\n",
       "    <tr style=\"text-align: right;\">\n",
       "      <th></th>\n",
       "      <th>Game_Id</th>\n",
       "      <th>Title</th>\n",
       "      <th>Release</th>\n",
       "      <th>Series</th>\n",
       "      <th>Genre</th>\n",
       "      <th>Sub-genre</th>\n",
       "      <th>Developer</th>\n",
       "      <th>Publisher</th>\n",
       "      <th>Country</th>\n",
       "      <th>Platform</th>\n",
       "      <th>...</th>\n",
       "      <th>Criteria</th>\n",
       "      <th>Director</th>\n",
       "      <th>Total_team</th>\n",
       "      <th>female_team</th>\n",
       "      <th>Team_percentage</th>\n",
       "      <th>Metacritic</th>\n",
       "      <th>Destructoid</th>\n",
       "      <th>IGN</th>\n",
       "      <th>GameSpot</th>\n",
       "      <th>Avg_Reviews</th>\n",
       "    </tr>\n",
       "  </thead>\n",
       "  <tbody>\n",
       "  </tbody>\n",
       "</table>\n",
       "<p>0 rows × 27 columns</p>\n",
       "</div>"
      ]
     },
     "execution_count": 4684,
     "metadata": {},
     "output_type": "execute_result"
    }
   ],
   "execution_count": 4684
  },
  {
   "metadata": {},
   "cell_type": "markdown",
   "source": "No duplicates were found in the dataset. The dataset is now clean and ready to be combined with the other datasets.",
   "id": "81145d8ceb8c367f"
  },
  {
   "cell_type": "markdown",
   "id": "75907d6e8bca0730",
   "metadata": {},
   "source": [
    "#### Characters dataset\n",
    "\n",
    "The characters dataset contains information on the characters in the video games.\n",
    "\n",
    "First, the dataset will be loaded and reviewed."
   ]
  },
  {
   "cell_type": "code",
   "id": "e7f43bd92265acf1",
   "metadata": {
    "ExecuteTime": {
     "end_time": "2024-12-07T18:26:10.736725Z",
     "start_time": "2024-12-07T18:26:10.730127Z"
    }
   },
   "source": [
    "# Load the characters dataset\n",
    "characters = pd.read_csv('data/Gender_In_Video_Games/characters.grivg.csv')\n",
    "characters.head()"
   ],
   "outputs": [
    {
     "data": {
      "text/plain": [
       "          Name  Gender   Game       Age Age_range  Playable  Sexualization  \\\n",
       "0        Farah  Female  CODMW        27     Adult         1              0   \n",
       "1  Protagonist  Custom    PSS  Teenager  Teenager         1              0   \n",
       "2     Magnolia  Female    PSS   Elderly   Elderly         0              0   \n",
       "3        Sonia  Female    PSS        26     Adult         0              0   \n",
       "4       Marnie  Female    PSS  Teenager  Teenager         0              0   \n",
       "\n",
       "                Id Species Side Relevance Romantic_Interest  \n",
       "0      CODMW_Farah   Human    P        PA                No  \n",
       "1  PSS_Protagonist   Human    P        PA                No  \n",
       "2     PSS_Magnolia   Human    P        SC                No  \n",
       "3        PSS_Sonia   Human    P        SC                No  \n",
       "4       PSS_Marnie   Human    B        MC                No  "
      ],
      "text/html": [
       "<div>\n",
       "<style scoped>\n",
       "    .dataframe tbody tr th:only-of-type {\n",
       "        vertical-align: middle;\n",
       "    }\n",
       "\n",
       "    .dataframe tbody tr th {\n",
       "        vertical-align: top;\n",
       "    }\n",
       "\n",
       "    .dataframe thead th {\n",
       "        text-align: right;\n",
       "    }\n",
       "</style>\n",
       "<table border=\"1\" class=\"dataframe\">\n",
       "  <thead>\n",
       "    <tr style=\"text-align: right;\">\n",
       "      <th></th>\n",
       "      <th>Name</th>\n",
       "      <th>Gender</th>\n",
       "      <th>Game</th>\n",
       "      <th>Age</th>\n",
       "      <th>Age_range</th>\n",
       "      <th>Playable</th>\n",
       "      <th>Sexualization</th>\n",
       "      <th>Id</th>\n",
       "      <th>Species</th>\n",
       "      <th>Side</th>\n",
       "      <th>Relevance</th>\n",
       "      <th>Romantic_Interest</th>\n",
       "    </tr>\n",
       "  </thead>\n",
       "  <tbody>\n",
       "    <tr>\n",
       "      <th>0</th>\n",
       "      <td>Farah</td>\n",
       "      <td>Female</td>\n",
       "      <td>CODMW</td>\n",
       "      <td>27</td>\n",
       "      <td>Adult</td>\n",
       "      <td>1</td>\n",
       "      <td>0</td>\n",
       "      <td>CODMW_Farah</td>\n",
       "      <td>Human</td>\n",
       "      <td>P</td>\n",
       "      <td>PA</td>\n",
       "      <td>No</td>\n",
       "    </tr>\n",
       "    <tr>\n",
       "      <th>1</th>\n",
       "      <td>Protagonist</td>\n",
       "      <td>Custom</td>\n",
       "      <td>PSS</td>\n",
       "      <td>Teenager</td>\n",
       "      <td>Teenager</td>\n",
       "      <td>1</td>\n",
       "      <td>0</td>\n",
       "      <td>PSS_Protagonist</td>\n",
       "      <td>Human</td>\n",
       "      <td>P</td>\n",
       "      <td>PA</td>\n",
       "      <td>No</td>\n",
       "    </tr>\n",
       "    <tr>\n",
       "      <th>2</th>\n",
       "      <td>Magnolia</td>\n",
       "      <td>Female</td>\n",
       "      <td>PSS</td>\n",
       "      <td>Elderly</td>\n",
       "      <td>Elderly</td>\n",
       "      <td>0</td>\n",
       "      <td>0</td>\n",
       "      <td>PSS_Magnolia</td>\n",
       "      <td>Human</td>\n",
       "      <td>P</td>\n",
       "      <td>SC</td>\n",
       "      <td>No</td>\n",
       "    </tr>\n",
       "    <tr>\n",
       "      <th>3</th>\n",
       "      <td>Sonia</td>\n",
       "      <td>Female</td>\n",
       "      <td>PSS</td>\n",
       "      <td>26</td>\n",
       "      <td>Adult</td>\n",
       "      <td>0</td>\n",
       "      <td>0</td>\n",
       "      <td>PSS_Sonia</td>\n",
       "      <td>Human</td>\n",
       "      <td>P</td>\n",
       "      <td>SC</td>\n",
       "      <td>No</td>\n",
       "    </tr>\n",
       "    <tr>\n",
       "      <th>4</th>\n",
       "      <td>Marnie</td>\n",
       "      <td>Female</td>\n",
       "      <td>PSS</td>\n",
       "      <td>Teenager</td>\n",
       "      <td>Teenager</td>\n",
       "      <td>0</td>\n",
       "      <td>0</td>\n",
       "      <td>PSS_Marnie</td>\n",
       "      <td>Human</td>\n",
       "      <td>B</td>\n",
       "      <td>MC</td>\n",
       "      <td>No</td>\n",
       "    </tr>\n",
       "  </tbody>\n",
       "</table>\n",
       "</div>"
      ]
     },
     "execution_count": 4685,
     "metadata": {},
     "output_type": "execute_result"
    }
   ],
   "execution_count": 4685
  },
  {
   "metadata": {},
   "cell_type": "markdown",
   "source": "The characters dataset has been loaded successfully. The dataset contains the following columns:",
   "id": "820f79ac98e3500"
  },
  {
   "cell_type": "code",
   "id": "e706319bc5d5cdef",
   "metadata": {
    "ExecuteTime": {
     "end_time": "2024-12-07T18:26:10.808070Z",
     "start_time": "2024-12-07T18:26:10.806123Z"
    }
   },
   "source": [
    "# Check the shape of the dataset\n",
    "print(f\"Number of rows: {characters.shape[0]}\")\n",
    "print(f\"Number of columns: {characters.shape[1]}\")"
   ],
   "outputs": [
    {
     "name": "stdout",
     "output_type": "stream",
     "text": [
      "Number of rows: 637\n",
      "Number of columns: 12\n"
     ]
    }
   ],
   "execution_count": 4686
  },
  {
   "cell_type": "code",
   "id": "95ff703d65316e4a",
   "metadata": {
    "ExecuteTime": {
     "end_time": "2024-12-07T18:26:10.860511Z",
     "start_time": "2024-12-07T18:26:10.858268Z"
    }
   },
   "source": [
    "# Check the columns in the dataset\n",
    "characters.columns"
   ],
   "outputs": [
    {
     "data": {
      "text/plain": [
       "Index(['Name', 'Gender', 'Game', 'Age', 'Age_range', 'Playable',\n",
       "       'Sexualization', 'Id', 'Species', 'Side', 'Relevance',\n",
       "       'Romantic_Interest'],\n",
       "      dtype='object')"
      ]
     },
     "execution_count": 4687,
     "metadata": {},
     "output_type": "execute_result"
    }
   ],
   "execution_count": 4687
  },
  {
   "metadata": {},
   "cell_type": "markdown",
   "source": "The dataset has 12 columns containing data related to the characters in the video games. The columns will be reviewed to check for any missing values or duplicates.",
   "id": "a7a130626f892ae3"
  },
  {
   "cell_type": "code",
   "id": "66c2212a7b8f6611",
   "metadata": {
    "ExecuteTime": {
     "end_time": "2024-12-07T18:26:10.926146Z",
     "start_time": "2024-12-07T18:26:10.922577Z"
    }
   },
   "source": [
    "# Check for missing values\n",
    "characters.isnull().sum()"
   ],
   "outputs": [
    {
     "data": {
      "text/plain": [
       "Name                 0\n",
       "Gender               0\n",
       "Game                 0\n",
       "Age                  0\n",
       "Age_range            0\n",
       "Playable             0\n",
       "Sexualization        0\n",
       "Id                   0\n",
       "Species              0\n",
       "Side                 0\n",
       "Relevance            0\n",
       "Romantic_Interest    0\n",
       "dtype: int64"
      ]
     },
     "execution_count": 4688,
     "metadata": {},
     "output_type": "execute_result"
    }
   ],
   "execution_count": 4688
  },
  {
   "cell_type": "code",
   "id": "ccd189ea4911c403",
   "metadata": {
    "ExecuteTime": {
     "end_time": "2024-12-07T18:26:10.969640Z",
     "start_time": "2024-12-07T18:26:10.965688Z"
    }
   },
   "source": [
    "# Find duplicates in the dataset\n",
    "duplicates = characters[characters.duplicated()]\n",
    "duplicates"
   ],
   "outputs": [
    {
     "data": {
      "text/plain": [
       "Empty DataFrame\n",
       "Columns: [Name, Gender, Game, Age, Age_range, Playable, Sexualization, Id, Species, Side, Relevance, Romantic_Interest]\n",
       "Index: []"
      ],
      "text/html": [
       "<div>\n",
       "<style scoped>\n",
       "    .dataframe tbody tr th:only-of-type {\n",
       "        vertical-align: middle;\n",
       "    }\n",
       "\n",
       "    .dataframe tbody tr th {\n",
       "        vertical-align: top;\n",
       "    }\n",
       "\n",
       "    .dataframe thead th {\n",
       "        text-align: right;\n",
       "    }\n",
       "</style>\n",
       "<table border=\"1\" class=\"dataframe\">\n",
       "  <thead>\n",
       "    <tr style=\"text-align: right;\">\n",
       "      <th></th>\n",
       "      <th>Name</th>\n",
       "      <th>Gender</th>\n",
       "      <th>Game</th>\n",
       "      <th>Age</th>\n",
       "      <th>Age_range</th>\n",
       "      <th>Playable</th>\n",
       "      <th>Sexualization</th>\n",
       "      <th>Id</th>\n",
       "      <th>Species</th>\n",
       "      <th>Side</th>\n",
       "      <th>Relevance</th>\n",
       "      <th>Romantic_Interest</th>\n",
       "    </tr>\n",
       "  </thead>\n",
       "  <tbody>\n",
       "  </tbody>\n",
       "</table>\n",
       "</div>"
      ]
     },
     "execution_count": 4689,
     "metadata": {},
     "output_type": "execute_result"
    }
   ],
   "execution_count": 4689
  },
  {
   "metadata": {},
   "cell_type": "markdown",
   "source": "No missing values or duplicates were found in the dataset. The dataset is clean and ready to be combined with the other datasets.",
   "id": "4f5e607317982843"
  },
  {
   "cell_type": "markdown",
   "id": "73c4d362e49f544e",
   "metadata": {},
   "source": [
    "#### Sexualization dataset\n",
    "\n",
    "The sexualization dataset contains information on the sexualization of the characters in the video games. First, the dataset will be loaded and reviewed."
   ]
  },
  {
   "cell_type": "code",
   "id": "2c0d5ae3c96f0d5",
   "metadata": {
    "ExecuteTime": {
     "end_time": "2024-12-07T18:26:11.015033Z",
     "start_time": "2024-12-07T18:26:11.010624Z"
    }
   },
   "source": [
    "# Load the sexualization dataset\n",
    "sexualization = pd.read_csv('data/Gender_In_Video_Games/sexualization.grivg.csv')\n",
    "sexualization.head()"
   ],
   "outputs": [
    {
     "data": {
      "text/plain": [
       "                Id  Sexualized_clothing  Trophy  Damsel in Distress  \\\n",
       "0      CODMW_Farah                    0       0                   0   \n",
       "1  PSS_Protagonist                    0       0                   0   \n",
       "2     PSS_Magnolia                    0       0                   0   \n",
       "3        PSS_Sonia                    0       0                   0   \n",
       "4       PSS_Marnie                    0       0                   0   \n",
       "\n",
       "   Sexualized Cutscenes  Total  \n",
       "0                     0      0  \n",
       "1                     0      0  \n",
       "2                     0      0  \n",
       "3                     0      0  \n",
       "4                     0      0  "
      ],
      "text/html": [
       "<div>\n",
       "<style scoped>\n",
       "    .dataframe tbody tr th:only-of-type {\n",
       "        vertical-align: middle;\n",
       "    }\n",
       "\n",
       "    .dataframe tbody tr th {\n",
       "        vertical-align: top;\n",
       "    }\n",
       "\n",
       "    .dataframe thead th {\n",
       "        text-align: right;\n",
       "    }\n",
       "</style>\n",
       "<table border=\"1\" class=\"dataframe\">\n",
       "  <thead>\n",
       "    <tr style=\"text-align: right;\">\n",
       "      <th></th>\n",
       "      <th>Id</th>\n",
       "      <th>Sexualized_clothing</th>\n",
       "      <th>Trophy</th>\n",
       "      <th>Damsel in Distress</th>\n",
       "      <th>Sexualized Cutscenes</th>\n",
       "      <th>Total</th>\n",
       "    </tr>\n",
       "  </thead>\n",
       "  <tbody>\n",
       "    <tr>\n",
       "      <th>0</th>\n",
       "      <td>CODMW_Farah</td>\n",
       "      <td>0</td>\n",
       "      <td>0</td>\n",
       "      <td>0</td>\n",
       "      <td>0</td>\n",
       "      <td>0</td>\n",
       "    </tr>\n",
       "    <tr>\n",
       "      <th>1</th>\n",
       "      <td>PSS_Protagonist</td>\n",
       "      <td>0</td>\n",
       "      <td>0</td>\n",
       "      <td>0</td>\n",
       "      <td>0</td>\n",
       "      <td>0</td>\n",
       "    </tr>\n",
       "    <tr>\n",
       "      <th>2</th>\n",
       "      <td>PSS_Magnolia</td>\n",
       "      <td>0</td>\n",
       "      <td>0</td>\n",
       "      <td>0</td>\n",
       "      <td>0</td>\n",
       "      <td>0</td>\n",
       "    </tr>\n",
       "    <tr>\n",
       "      <th>3</th>\n",
       "      <td>PSS_Sonia</td>\n",
       "      <td>0</td>\n",
       "      <td>0</td>\n",
       "      <td>0</td>\n",
       "      <td>0</td>\n",
       "      <td>0</td>\n",
       "    </tr>\n",
       "    <tr>\n",
       "      <th>4</th>\n",
       "      <td>PSS_Marnie</td>\n",
       "      <td>0</td>\n",
       "      <td>0</td>\n",
       "      <td>0</td>\n",
       "      <td>0</td>\n",
       "      <td>0</td>\n",
       "    </tr>\n",
       "  </tbody>\n",
       "</table>\n",
       "</div>"
      ]
     },
     "execution_count": 4690,
     "metadata": {},
     "output_type": "execute_result"
    }
   ],
   "execution_count": 4690
  },
  {
   "metadata": {},
   "cell_type": "markdown",
   "source": "The sexualization dataset has been loaded successfully. The dataset contains the following columns:",
   "id": "49ceeb03b1301954"
  },
  {
   "cell_type": "code",
   "id": "e61c02e99693b164",
   "metadata": {
    "ExecuteTime": {
     "end_time": "2024-12-07T18:26:11.064096Z",
     "start_time": "2024-12-07T18:26:11.062482Z"
    }
   },
   "source": [
    "# Check the shape of the dataset\n",
    "print(f\"Number of rows: {sexualization.shape[0]}\")\n",
    "print(f\"Number of columns: {sexualization.shape[1]}\")"
   ],
   "outputs": [
    {
     "name": "stdout",
     "output_type": "stream",
     "text": [
      "Number of rows: 637\n",
      "Number of columns: 6\n"
     ]
    }
   ],
   "execution_count": 4691
  },
  {
   "cell_type": "code",
   "id": "36aa99328c47c567",
   "metadata": {
    "ExecuteTime": {
     "end_time": "2024-12-07T18:26:11.100987Z",
     "start_time": "2024-12-07T18:26:11.099081Z"
    }
   },
   "source": [
    "# Check the columns in the dataset\n",
    "sexualization.columns"
   ],
   "outputs": [
    {
     "data": {
      "text/plain": [
       "Index(['Id', 'Sexualized_clothing', 'Trophy', 'Damsel in Distress',\n",
       "       'Sexualized Cutscenes', 'Total'],\n",
       "      dtype='object')"
      ]
     },
     "execution_count": 4692,
     "metadata": {},
     "output_type": "execute_result"
    }
   ],
   "execution_count": 4692
  },
  {
   "metadata": {},
   "cell_type": "markdown",
   "source": "Next, the dataset will be checked for missing values and duplicates.",
   "id": "b80fae416514c9b8"
  },
  {
   "cell_type": "code",
   "id": "7c6932ef677c4123",
   "metadata": {
    "ExecuteTime": {
     "end_time": "2024-12-07T18:26:11.143770Z",
     "start_time": "2024-12-07T18:26:11.141400Z"
    }
   },
   "source": [
    "# Check for missing values\n",
    "sexualization.isnull().sum()"
   ],
   "outputs": [
    {
     "data": {
      "text/plain": [
       "Id                      0\n",
       "Sexualized_clothing     0\n",
       "Trophy                  0\n",
       "Damsel in Distress      0\n",
       "Sexualized Cutscenes    0\n",
       "Total                   0\n",
       "dtype: int64"
      ]
     },
     "execution_count": 4693,
     "metadata": {},
     "output_type": "execute_result"
    }
   ],
   "execution_count": 4693
  },
  {
   "cell_type": "code",
   "id": "498b4250e08627fd",
   "metadata": {
    "ExecuteTime": {
     "end_time": "2024-12-07T18:26:11.172804Z",
     "start_time": "2024-12-07T18:26:11.169722Z"
    }
   },
   "source": [
    "# Find duplicates in the dataset\n",
    "duplicates = sexualization[sexualization.duplicated()]\n",
    "duplicates"
   ],
   "outputs": [
    {
     "data": {
      "text/plain": [
       "Empty DataFrame\n",
       "Columns: [Id, Sexualized_clothing, Trophy, Damsel in Distress, Sexualized Cutscenes, Total]\n",
       "Index: []"
      ],
      "text/html": [
       "<div>\n",
       "<style scoped>\n",
       "    .dataframe tbody tr th:only-of-type {\n",
       "        vertical-align: middle;\n",
       "    }\n",
       "\n",
       "    .dataframe tbody tr th {\n",
       "        vertical-align: top;\n",
       "    }\n",
       "\n",
       "    .dataframe thead th {\n",
       "        text-align: right;\n",
       "    }\n",
       "</style>\n",
       "<table border=\"1\" class=\"dataframe\">\n",
       "  <thead>\n",
       "    <tr style=\"text-align: right;\">\n",
       "      <th></th>\n",
       "      <th>Id</th>\n",
       "      <th>Sexualized_clothing</th>\n",
       "      <th>Trophy</th>\n",
       "      <th>Damsel in Distress</th>\n",
       "      <th>Sexualized Cutscenes</th>\n",
       "      <th>Total</th>\n",
       "    </tr>\n",
       "  </thead>\n",
       "  <tbody>\n",
       "  </tbody>\n",
       "</table>\n",
       "</div>"
      ]
     },
     "execution_count": 4694,
     "metadata": {},
     "output_type": "execute_result"
    }
   ],
   "execution_count": 4694
  },
  {
   "metadata": {},
   "cell_type": "markdown",
   "source": "No missing values or duplicates were found in the dataset. The dataset is clean and ready to be combined with the other datasets.",
   "id": "f3865bd0df82a43f"
  },
  {
   "cell_type": "markdown",
   "id": "ad9e40e53f4090f1",
   "metadata": {},
   "source": [
    "#### Combining the datasets\n",
    "The datasets will be combined using the common keys.\n",
    "\n",
    "First, the characters and games datasets will be combined on the 'Game' and 'Game_Id' columns."
   ]
  },
  {
   "cell_type": "code",
   "id": "72ef56b8bb6e50c",
   "metadata": {
    "ExecuteTime": {
     "end_time": "2024-12-07T18:26:11.211169Z",
     "start_time": "2024-12-07T18:26:11.203779Z"
    }
   },
   "source": [
    "# Step 1: Merge Characters and Games datasets\n",
    "data = pd.merge(characters, games, left_on='Game', right_on='Game_Id', how='inner')\n",
    "data.head()"
   ],
   "outputs": [
    {
     "data": {
      "text/plain": [
       "          Name  Gender   Game       Age Age_range  Playable  Sexualization  \\\n",
       "0        Farah  Female  CODMW        27     Adult         1              0   \n",
       "1  Protagonist  Custom    PSS  Teenager  Teenager         1              0   \n",
       "2     Magnolia  Female    PSS   Elderly   Elderly         0              0   \n",
       "3        Sonia  Female    PSS        26     Adult         0              0   \n",
       "4       Marnie  Female    PSS  Teenager  Teenager         0              0   \n",
       "\n",
       "                Id Species Side  ... Criteria Director Total_team female_team  \\\n",
       "0      CODMW_Farah   Human    P  ...       MS        M         11           0   \n",
       "1  PSS_Protagonist   Human    P  ...       MS        M          9           1   \n",
       "2     PSS_Magnolia   Human    P  ...       MS        M          9           1   \n",
       "3        PSS_Sonia   Human    P  ...       MS        M          9           1   \n",
       "4       PSS_Marnie   Human    B  ...       MS        M          9           1   \n",
       "\n",
       "  Team_percentage Metacritic Destructoid  IGN GameSpot Avg_Reviews  \n",
       "0              0%        8.0         8.0  8.0      7.0         7.8  \n",
       "1             11%        8.0         7.0  9.3      9.0         8.3  \n",
       "2             11%        8.0         7.0  9.3      9.0         8.3  \n",
       "3             11%        8.0         7.0  9.3      9.0         8.3  \n",
       "4             11%        8.0         7.0  9.3      9.0         8.3  \n",
       "\n",
       "[5 rows x 39 columns]"
      ],
      "text/html": [
       "<div>\n",
       "<style scoped>\n",
       "    .dataframe tbody tr th:only-of-type {\n",
       "        vertical-align: middle;\n",
       "    }\n",
       "\n",
       "    .dataframe tbody tr th {\n",
       "        vertical-align: top;\n",
       "    }\n",
       "\n",
       "    .dataframe thead th {\n",
       "        text-align: right;\n",
       "    }\n",
       "</style>\n",
       "<table border=\"1\" class=\"dataframe\">\n",
       "  <thead>\n",
       "    <tr style=\"text-align: right;\">\n",
       "      <th></th>\n",
       "      <th>Name</th>\n",
       "      <th>Gender</th>\n",
       "      <th>Game</th>\n",
       "      <th>Age</th>\n",
       "      <th>Age_range</th>\n",
       "      <th>Playable</th>\n",
       "      <th>Sexualization</th>\n",
       "      <th>Id</th>\n",
       "      <th>Species</th>\n",
       "      <th>Side</th>\n",
       "      <th>...</th>\n",
       "      <th>Criteria</th>\n",
       "      <th>Director</th>\n",
       "      <th>Total_team</th>\n",
       "      <th>female_team</th>\n",
       "      <th>Team_percentage</th>\n",
       "      <th>Metacritic</th>\n",
       "      <th>Destructoid</th>\n",
       "      <th>IGN</th>\n",
       "      <th>GameSpot</th>\n",
       "      <th>Avg_Reviews</th>\n",
       "    </tr>\n",
       "  </thead>\n",
       "  <tbody>\n",
       "    <tr>\n",
       "      <th>0</th>\n",
       "      <td>Farah</td>\n",
       "      <td>Female</td>\n",
       "      <td>CODMW</td>\n",
       "      <td>27</td>\n",
       "      <td>Adult</td>\n",
       "      <td>1</td>\n",
       "      <td>0</td>\n",
       "      <td>CODMW_Farah</td>\n",
       "      <td>Human</td>\n",
       "      <td>P</td>\n",
       "      <td>...</td>\n",
       "      <td>MS</td>\n",
       "      <td>M</td>\n",
       "      <td>11</td>\n",
       "      <td>0</td>\n",
       "      <td>0%</td>\n",
       "      <td>8.0</td>\n",
       "      <td>8.0</td>\n",
       "      <td>8.0</td>\n",
       "      <td>7.0</td>\n",
       "      <td>7.8</td>\n",
       "    </tr>\n",
       "    <tr>\n",
       "      <th>1</th>\n",
       "      <td>Protagonist</td>\n",
       "      <td>Custom</td>\n",
       "      <td>PSS</td>\n",
       "      <td>Teenager</td>\n",
       "      <td>Teenager</td>\n",
       "      <td>1</td>\n",
       "      <td>0</td>\n",
       "      <td>PSS_Protagonist</td>\n",
       "      <td>Human</td>\n",
       "      <td>P</td>\n",
       "      <td>...</td>\n",
       "      <td>MS</td>\n",
       "      <td>M</td>\n",
       "      <td>9</td>\n",
       "      <td>1</td>\n",
       "      <td>11%</td>\n",
       "      <td>8.0</td>\n",
       "      <td>7.0</td>\n",
       "      <td>9.3</td>\n",
       "      <td>9.0</td>\n",
       "      <td>8.3</td>\n",
       "    </tr>\n",
       "    <tr>\n",
       "      <th>2</th>\n",
       "      <td>Magnolia</td>\n",
       "      <td>Female</td>\n",
       "      <td>PSS</td>\n",
       "      <td>Elderly</td>\n",
       "      <td>Elderly</td>\n",
       "      <td>0</td>\n",
       "      <td>0</td>\n",
       "      <td>PSS_Magnolia</td>\n",
       "      <td>Human</td>\n",
       "      <td>P</td>\n",
       "      <td>...</td>\n",
       "      <td>MS</td>\n",
       "      <td>M</td>\n",
       "      <td>9</td>\n",
       "      <td>1</td>\n",
       "      <td>11%</td>\n",
       "      <td>8.0</td>\n",
       "      <td>7.0</td>\n",
       "      <td>9.3</td>\n",
       "      <td>9.0</td>\n",
       "      <td>8.3</td>\n",
       "    </tr>\n",
       "    <tr>\n",
       "      <th>3</th>\n",
       "      <td>Sonia</td>\n",
       "      <td>Female</td>\n",
       "      <td>PSS</td>\n",
       "      <td>26</td>\n",
       "      <td>Adult</td>\n",
       "      <td>0</td>\n",
       "      <td>0</td>\n",
       "      <td>PSS_Sonia</td>\n",
       "      <td>Human</td>\n",
       "      <td>P</td>\n",
       "      <td>...</td>\n",
       "      <td>MS</td>\n",
       "      <td>M</td>\n",
       "      <td>9</td>\n",
       "      <td>1</td>\n",
       "      <td>11%</td>\n",
       "      <td>8.0</td>\n",
       "      <td>7.0</td>\n",
       "      <td>9.3</td>\n",
       "      <td>9.0</td>\n",
       "      <td>8.3</td>\n",
       "    </tr>\n",
       "    <tr>\n",
       "      <th>4</th>\n",
       "      <td>Marnie</td>\n",
       "      <td>Female</td>\n",
       "      <td>PSS</td>\n",
       "      <td>Teenager</td>\n",
       "      <td>Teenager</td>\n",
       "      <td>0</td>\n",
       "      <td>0</td>\n",
       "      <td>PSS_Marnie</td>\n",
       "      <td>Human</td>\n",
       "      <td>B</td>\n",
       "      <td>...</td>\n",
       "      <td>MS</td>\n",
       "      <td>M</td>\n",
       "      <td>9</td>\n",
       "      <td>1</td>\n",
       "      <td>11%</td>\n",
       "      <td>8.0</td>\n",
       "      <td>7.0</td>\n",
       "      <td>9.3</td>\n",
       "      <td>9.0</td>\n",
       "      <td>8.3</td>\n",
       "    </tr>\n",
       "  </tbody>\n",
       "</table>\n",
       "<p>5 rows × 39 columns</p>\n",
       "</div>"
      ]
     },
     "execution_count": 4695,
     "metadata": {},
     "output_type": "execute_result"
    }
   ],
   "execution_count": 4695
  },
  {
   "metadata": {},
   "cell_type": "markdown",
   "source": "Next, the combined dataset and the sexualization dataset will be merged on the 'Id' column.",
   "id": "80a5805607f3e871"
  },
  {
   "cell_type": "code",
   "id": "ed396c9b47fa727f",
   "metadata": {
    "ExecuteTime": {
     "end_time": "2024-12-07T18:26:11.267264Z",
     "start_time": "2024-12-07T18:26:11.260437Z"
    }
   },
   "source": [
    "# Step 2: Merge the combined dataset with the Sexualization dataset\n",
    "data = pd.merge(data, sexualization, left_on='Id', right_on='Id', how='inner')\n",
    "data.head()"
   ],
   "outputs": [
    {
     "data": {
      "text/plain": [
       "          Name  Gender   Game       Age Age_range  Playable  Sexualization  \\\n",
       "0        Farah  Female  CODMW        27     Adult         1              0   \n",
       "1  Protagonist  Custom    PSS  Teenager  Teenager         1              0   \n",
       "2     Magnolia  Female    PSS   Elderly   Elderly         0              0   \n",
       "3        Sonia  Female    PSS        26     Adult         0              0   \n",
       "4       Marnie  Female    PSS  Teenager  Teenager         0              0   \n",
       "\n",
       "                Id Species Side  ... Metacritic Destructoid  IGN GameSpot  \\\n",
       "0      CODMW_Farah   Human    P  ...        8.0         8.0  8.0      7.0   \n",
       "1  PSS_Protagonist   Human    P  ...        8.0         7.0  9.3      9.0   \n",
       "2     PSS_Magnolia   Human    P  ...        8.0         7.0  9.3      9.0   \n",
       "3        PSS_Sonia   Human    P  ...        8.0         7.0  9.3      9.0   \n",
       "4       PSS_Marnie   Human    B  ...        8.0         7.0  9.3      9.0   \n",
       "\n",
       "  Avg_Reviews Sexualized_clothing Trophy Damsel in Distress  \\\n",
       "0         7.8                   0      0                  0   \n",
       "1         8.3                   0      0                  0   \n",
       "2         8.3                   0      0                  0   \n",
       "3         8.3                   0      0                  0   \n",
       "4         8.3                   0      0                  0   \n",
       "\n",
       "  Sexualized Cutscenes Total  \n",
       "0                    0     0  \n",
       "1                    0     0  \n",
       "2                    0     0  \n",
       "3                    0     0  \n",
       "4                    0     0  \n",
       "\n",
       "[5 rows x 44 columns]"
      ],
      "text/html": [
       "<div>\n",
       "<style scoped>\n",
       "    .dataframe tbody tr th:only-of-type {\n",
       "        vertical-align: middle;\n",
       "    }\n",
       "\n",
       "    .dataframe tbody tr th {\n",
       "        vertical-align: top;\n",
       "    }\n",
       "\n",
       "    .dataframe thead th {\n",
       "        text-align: right;\n",
       "    }\n",
       "</style>\n",
       "<table border=\"1\" class=\"dataframe\">\n",
       "  <thead>\n",
       "    <tr style=\"text-align: right;\">\n",
       "      <th></th>\n",
       "      <th>Name</th>\n",
       "      <th>Gender</th>\n",
       "      <th>Game</th>\n",
       "      <th>Age</th>\n",
       "      <th>Age_range</th>\n",
       "      <th>Playable</th>\n",
       "      <th>Sexualization</th>\n",
       "      <th>Id</th>\n",
       "      <th>Species</th>\n",
       "      <th>Side</th>\n",
       "      <th>...</th>\n",
       "      <th>Metacritic</th>\n",
       "      <th>Destructoid</th>\n",
       "      <th>IGN</th>\n",
       "      <th>GameSpot</th>\n",
       "      <th>Avg_Reviews</th>\n",
       "      <th>Sexualized_clothing</th>\n",
       "      <th>Trophy</th>\n",
       "      <th>Damsel in Distress</th>\n",
       "      <th>Sexualized Cutscenes</th>\n",
       "      <th>Total</th>\n",
       "    </tr>\n",
       "  </thead>\n",
       "  <tbody>\n",
       "    <tr>\n",
       "      <th>0</th>\n",
       "      <td>Farah</td>\n",
       "      <td>Female</td>\n",
       "      <td>CODMW</td>\n",
       "      <td>27</td>\n",
       "      <td>Adult</td>\n",
       "      <td>1</td>\n",
       "      <td>0</td>\n",
       "      <td>CODMW_Farah</td>\n",
       "      <td>Human</td>\n",
       "      <td>P</td>\n",
       "      <td>...</td>\n",
       "      <td>8.0</td>\n",
       "      <td>8.0</td>\n",
       "      <td>8.0</td>\n",
       "      <td>7.0</td>\n",
       "      <td>7.8</td>\n",
       "      <td>0</td>\n",
       "      <td>0</td>\n",
       "      <td>0</td>\n",
       "      <td>0</td>\n",
       "      <td>0</td>\n",
       "    </tr>\n",
       "    <tr>\n",
       "      <th>1</th>\n",
       "      <td>Protagonist</td>\n",
       "      <td>Custom</td>\n",
       "      <td>PSS</td>\n",
       "      <td>Teenager</td>\n",
       "      <td>Teenager</td>\n",
       "      <td>1</td>\n",
       "      <td>0</td>\n",
       "      <td>PSS_Protagonist</td>\n",
       "      <td>Human</td>\n",
       "      <td>P</td>\n",
       "      <td>...</td>\n",
       "      <td>8.0</td>\n",
       "      <td>7.0</td>\n",
       "      <td>9.3</td>\n",
       "      <td>9.0</td>\n",
       "      <td>8.3</td>\n",
       "      <td>0</td>\n",
       "      <td>0</td>\n",
       "      <td>0</td>\n",
       "      <td>0</td>\n",
       "      <td>0</td>\n",
       "    </tr>\n",
       "    <tr>\n",
       "      <th>2</th>\n",
       "      <td>Magnolia</td>\n",
       "      <td>Female</td>\n",
       "      <td>PSS</td>\n",
       "      <td>Elderly</td>\n",
       "      <td>Elderly</td>\n",
       "      <td>0</td>\n",
       "      <td>0</td>\n",
       "      <td>PSS_Magnolia</td>\n",
       "      <td>Human</td>\n",
       "      <td>P</td>\n",
       "      <td>...</td>\n",
       "      <td>8.0</td>\n",
       "      <td>7.0</td>\n",
       "      <td>9.3</td>\n",
       "      <td>9.0</td>\n",
       "      <td>8.3</td>\n",
       "      <td>0</td>\n",
       "      <td>0</td>\n",
       "      <td>0</td>\n",
       "      <td>0</td>\n",
       "      <td>0</td>\n",
       "    </tr>\n",
       "    <tr>\n",
       "      <th>3</th>\n",
       "      <td>Sonia</td>\n",
       "      <td>Female</td>\n",
       "      <td>PSS</td>\n",
       "      <td>26</td>\n",
       "      <td>Adult</td>\n",
       "      <td>0</td>\n",
       "      <td>0</td>\n",
       "      <td>PSS_Sonia</td>\n",
       "      <td>Human</td>\n",
       "      <td>P</td>\n",
       "      <td>...</td>\n",
       "      <td>8.0</td>\n",
       "      <td>7.0</td>\n",
       "      <td>9.3</td>\n",
       "      <td>9.0</td>\n",
       "      <td>8.3</td>\n",
       "      <td>0</td>\n",
       "      <td>0</td>\n",
       "      <td>0</td>\n",
       "      <td>0</td>\n",
       "      <td>0</td>\n",
       "    </tr>\n",
       "    <tr>\n",
       "      <th>4</th>\n",
       "      <td>Marnie</td>\n",
       "      <td>Female</td>\n",
       "      <td>PSS</td>\n",
       "      <td>Teenager</td>\n",
       "      <td>Teenager</td>\n",
       "      <td>0</td>\n",
       "      <td>0</td>\n",
       "      <td>PSS_Marnie</td>\n",
       "      <td>Human</td>\n",
       "      <td>B</td>\n",
       "      <td>...</td>\n",
       "      <td>8.0</td>\n",
       "      <td>7.0</td>\n",
       "      <td>9.3</td>\n",
       "      <td>9.0</td>\n",
       "      <td>8.3</td>\n",
       "      <td>0</td>\n",
       "      <td>0</td>\n",
       "      <td>0</td>\n",
       "      <td>0</td>\n",
       "      <td>0</td>\n",
       "    </tr>\n",
       "  </tbody>\n",
       "</table>\n",
       "<p>5 rows × 44 columns</p>\n",
       "</div>"
      ]
     },
     "execution_count": 4696,
     "metadata": {},
     "output_type": "execute_result"
    }
   ],
   "execution_count": 4696
  },
  {
   "cell_type": "markdown",
   "id": "56200d34ecac4263",
   "metadata": {},
   "source": [
    "Next, the shape of the combined dataset will be checked, and the columns will be reviewed."
   ]
  },
  {
   "cell_type": "code",
   "id": "6931fda614c649f0",
   "metadata": {
    "ExecuteTime": {
     "end_time": "2024-12-07T18:26:11.311222Z",
     "start_time": "2024-12-07T18:26:11.309283Z"
    }
   },
   "source": [
    "# Check the shape of the combined dataset\n",
    "print(f\"Number of rows: {data.shape[0]}\")\n",
    "print(f\"Number of columns: {data.shape[1]}\")"
   ],
   "outputs": [
    {
     "name": "stdout",
     "output_type": "stream",
     "text": [
      "Number of rows: 637\n",
      "Number of columns: 44\n"
     ]
    }
   ],
   "execution_count": 4697
  },
  {
   "cell_type": "code",
   "id": "f37a5805d50df3bb",
   "metadata": {
    "ExecuteTime": {
     "end_time": "2024-12-07T18:26:11.364317Z",
     "start_time": "2024-12-07T18:26:11.362320Z"
    }
   },
   "source": [
    "# Check the columns in the combined dataset\n",
    "data.columns"
   ],
   "outputs": [
    {
     "data": {
      "text/plain": [
       "Index(['Name', 'Gender', 'Game', 'Age', 'Age_range', 'Playable',\n",
       "       'Sexualization', 'Id', 'Species', 'Side', 'Relevance',\n",
       "       'Romantic_Interest', 'Game_Id', 'Title', 'Release', 'Series', 'Genre',\n",
       "       'Sub-genre', 'Developer', 'Publisher', 'Country', 'Platform', 'PEGI',\n",
       "       'Customizable_main', 'Protagonist', 'Protagonist_Non_Male',\n",
       "       'Relevant_males', 'Relevant_no_males', 'Percentage_non_male',\n",
       "       'Criteria', 'Director', 'Total_team', 'female_team', 'Team_percentage',\n",
       "       'Metacritic', 'Destructoid', 'IGN', 'GameSpot', 'Avg_Reviews',\n",
       "       'Sexualized_clothing', 'Trophy', 'Damsel in Distress',\n",
       "       'Sexualized Cutscenes', 'Total'],\n",
       "      dtype='object')"
      ]
     },
     "execution_count": 4698,
     "metadata": {},
     "output_type": "execute_result"
    }
   ],
   "execution_count": 4698
  },
  {
   "cell_type": "markdown",
   "id": "d32c0619fc0adf12",
   "metadata": {},
   "source": "The dataset contains 44 columns, which is a large number of columns. The columns will be reviewed to determine if any columns can be dropped.  If columns contain the same information, one of the columns will be dropped."
  },
  {
   "cell_type": "markdown",
   "id": "183d3f9cbe722712",
   "metadata": {},
   "source": [
    "The 'Sexualization' column is the same as the 'Total' column. The 'Sexualization' column will be dropped and the 'Total' column will be renamed to 'Sexualization_total_score'."
   ]
  },
  {
   "cell_type": "code",
   "id": "9d65ccfe38a95141",
   "metadata": {
    "ExecuteTime": {
     "end_time": "2024-12-07T18:26:11.423667Z",
     "start_time": "2024-12-07T18:26:11.421101Z"
    }
   },
   "source": [
    "# Check the 'Sexualization' column is the same as the 'Total' column\n",
    "data['Sexualization'].equals(data['Total'])"
   ],
   "outputs": [
    {
     "data": {
      "text/plain": [
       "True"
      ]
     },
     "execution_count": 4699,
     "metadata": {},
     "output_type": "execute_result"
    }
   ],
   "execution_count": 4699
  },
  {
   "cell_type": "code",
   "id": "e00758d7f11d719b",
   "metadata": {
    "ExecuteTime": {
     "end_time": "2024-12-07T18:26:11.437952Z",
     "start_time": "2024-12-07T18:26:11.435414Z"
    }
   },
   "source": [
    "# Drop the 'Sexualization' column\n",
    "data.drop(columns=['Sexualization'], inplace=True)\n",
    "data.columns"
   ],
   "outputs": [
    {
     "data": {
      "text/plain": [
       "Index(['Name', 'Gender', 'Game', 'Age', 'Age_range', 'Playable', 'Id',\n",
       "       'Species', 'Side', 'Relevance', 'Romantic_Interest', 'Game_Id', 'Title',\n",
       "       'Release', 'Series', 'Genre', 'Sub-genre', 'Developer', 'Publisher',\n",
       "       'Country', 'Platform', 'PEGI', 'Customizable_main', 'Protagonist',\n",
       "       'Protagonist_Non_Male', 'Relevant_males', 'Relevant_no_males',\n",
       "       'Percentage_non_male', 'Criteria', 'Director', 'Total_team',\n",
       "       'female_team', 'Team_percentage', 'Metacritic', 'Destructoid', 'IGN',\n",
       "       'GameSpot', 'Avg_Reviews', 'Sexualized_clothing', 'Trophy',\n",
       "       'Damsel in Distress', 'Sexualized Cutscenes', 'Total'],\n",
       "      dtype='object')"
      ]
     },
     "execution_count": 4700,
     "metadata": {},
     "output_type": "execute_result"
    }
   ],
   "execution_count": 4700
  },
  {
   "cell_type": "code",
   "id": "30aef51989cc2ac6",
   "metadata": {
    "ExecuteTime": {
     "end_time": "2024-12-07T18:26:11.474817Z",
     "start_time": "2024-12-07T18:26:11.472500Z"
    }
   },
   "source": [
    "# Rename 'Total' column to 'Sexualization'\n",
    "data.rename(columns={'Total': 'Sexualization_total_score'}, inplace=True)\n",
    "data.columns"
   ],
   "outputs": [
    {
     "data": {
      "text/plain": [
       "Index(['Name', 'Gender', 'Game', 'Age', 'Age_range', 'Playable', 'Id',\n",
       "       'Species', 'Side', 'Relevance', 'Romantic_Interest', 'Game_Id', 'Title',\n",
       "       'Release', 'Series', 'Genre', 'Sub-genre', 'Developer', 'Publisher',\n",
       "       'Country', 'Platform', 'PEGI', 'Customizable_main', 'Protagonist',\n",
       "       'Protagonist_Non_Male', 'Relevant_males', 'Relevant_no_males',\n",
       "       'Percentage_non_male', 'Criteria', 'Director', 'Total_team',\n",
       "       'female_team', 'Team_percentage', 'Metacritic', 'Destructoid', 'IGN',\n",
       "       'GameSpot', 'Avg_Reviews', 'Sexualized_clothing', 'Trophy',\n",
       "       'Damsel in Distress', 'Sexualized Cutscenes',\n",
       "       'Sexualization_total_score'],\n",
       "      dtype='object')"
      ]
     },
     "execution_count": 4701,
     "metadata": {},
     "output_type": "execute_result"
    }
   ],
   "execution_count": 4701
  },
  {
   "cell_type": "raw",
   "id": "78015ec1ac530371",
   "metadata": {},
   "source": [
    "The 'Game' and 'Game_Id' columns are the same. The 'Game' column will be dropped."
   ]
  },
  {
   "cell_type": "code",
   "id": "2fac8806ed847780",
   "metadata": {
    "ExecuteTime": {
     "end_time": "2024-12-07T18:26:11.491613Z",
     "start_time": "2024-12-07T18:26:11.489294Z"
    }
   },
   "source": [
    "# Check 'Game' and 'Game_Id' columns are the same\n",
    "data['Game'].equals(data['Game_Id'])"
   ],
   "outputs": [
    {
     "data": {
      "text/plain": [
       "True"
      ]
     },
     "execution_count": 4702,
     "metadata": {},
     "output_type": "execute_result"
    }
   ],
   "execution_count": 4702
  },
  {
   "cell_type": "code",
   "id": "4c29239fc6a956d3",
   "metadata": {
    "ExecuteTime": {
     "end_time": "2024-12-07T18:26:11.518233Z",
     "start_time": "2024-12-07T18:26:11.515451Z"
    }
   },
   "source": [
    "# Drop the 'Game' column\n",
    "data.drop(columns=['Game'], inplace=True)\n",
    "data.columns"
   ],
   "outputs": [
    {
     "data": {
      "text/plain": [
       "Index(['Name', 'Gender', 'Age', 'Age_range', 'Playable', 'Id', 'Species',\n",
       "       'Side', 'Relevance', 'Romantic_Interest', 'Game_Id', 'Title', 'Release',\n",
       "       'Series', 'Genre', 'Sub-genre', 'Developer', 'Publisher', 'Country',\n",
       "       'Platform', 'PEGI', 'Customizable_main', 'Protagonist',\n",
       "       'Protagonist_Non_Male', 'Relevant_males', 'Relevant_no_males',\n",
       "       'Percentage_non_male', 'Criteria', 'Director', 'Total_team',\n",
       "       'female_team', 'Team_percentage', 'Metacritic', 'Destructoid', 'IGN',\n",
       "       'GameSpot', 'Avg_Reviews', 'Sexualized_clothing', 'Trophy',\n",
       "       'Damsel in Distress', 'Sexualized Cutscenes',\n",
       "       'Sexualization_total_score'],\n",
       "      dtype='object')"
      ]
     },
     "execution_count": 4703,
     "metadata": {},
     "output_type": "execute_result"
    }
   ],
   "execution_count": 4703
  },
  {
   "cell_type": "markdown",
   "id": "5bd2e64b403fedd",
   "metadata": {},
   "source": "Next, the column names will be renamed to make them more descriptive and easier to understand."
  },
  {
   "cell_type": "code",
   "id": "5d543c78a1b75c2c",
   "metadata": {
    "ExecuteTime": {
     "end_time": "2024-12-07T18:26:11.546984Z",
     "start_time": "2024-12-07T18:26:11.542608Z"
    }
   },
   "source": [
    "# Rename columns\n",
    "data.rename(columns=\n",
    "            {\n",
    "                'Name': 'Character_name',\n",
    "                'Gender': 'Character_gender',\n",
    "                'Age': 'Character_age',\n",
    "                'Age_range': 'Character_age_range',\n",
    "                'Playable': 'Character_playable',\n",
    "                'Id': 'Character_id',\n",
    "                'Species': 'Character_species',\n",
    "                'Side': 'Character_side',\n",
    "                'Relevance': 'Character_relevance',\n",
    "                'Romantic_Interest': 'Character_romantic_interest',\n",
    "                'Game_Id': 'Game_id',\n",
    "                'Title': 'Game_title',\n",
    "                'Release': 'Game_release',\n",
    "                'Series': 'Game_series',\n",
    "                'Genre': 'Game_genre',\n",
    "                'Sub-genre': 'Game_sub_genre',\n",
    "                'Developer': 'Game_developer',\n",
    "                'Publisher': 'Game_publisher',\n",
    "                'Country': 'Country_of_game_developer',\n",
    "                'Platform': 'Platform',\n",
    "                'PEGI': 'PEGI_rating',\n",
    "                'Customizable_main': 'Customizable_main_character',\n",
    "                'Protagonist': 'Protagonist_characters',\n",
    "                'Protagonist_Non_Male': 'Protagonist_non_male_characters',\n",
    "                'Relevant_males': 'Relevant_male_characters',\n",
    "                'Relevant_no_males': 'Relevant_no_male_characters',\n",
    "                'Percentage_non_male': 'Percentage_non_male_characters',\n",
    "                'Criteria': 'Criteria',\n",
    "                'Director': 'Director',\n",
    "                'Total_team': 'Total_team',\n",
    "                'female_team': 'Female_team',\n",
    "                'Team_percentage': 'Women_in_team_percentage',\n",
    "                'Metacritic': 'Metacritic_review',\n",
    "                'Destructoid': 'Destructoid_review',\n",
    "                'IGN': 'IGN_review',\n",
    "                'GameSpot': 'GameSpot_review',\n",
    "                'Avg_Reviews': 'Average_reviews',\n",
    "                'Sexualized_clothing': 'Sexualized_clothing_score',\n",
    "                'Trophy': 'Character_trophy_score',\n",
    "                'Damsel in Distress': 'Damsel_in_Distress_score',\n",
    "                'Sexualized Cutscenes': 'Sexualized_Cutscenes_score',\n",
    "                'Sexualization_total_score': 'Sexualization_total_score'\n",
    "            },\n",
    "            inplace=True)\n",
    "data.columns"
   ],
   "outputs": [
    {
     "data": {
      "text/plain": [
       "Index(['Character_name', 'Character_gender', 'Character_age',\n",
       "       'Character_age_range', 'Character_playable', 'Character_id',\n",
       "       'Character_species', 'Character_side', 'Character_relevance',\n",
       "       'Character_romantic_interest', 'Game_id', 'Game_title', 'Game_release',\n",
       "       'Game_series', 'Game_genre', 'Game_sub_genre', 'Game_developer',\n",
       "       'Game_publisher', 'Country_of_game_developer', 'Platform',\n",
       "       'PEGI_rating', 'Customizable_main_character', 'Protagonist_characters',\n",
       "       'Protagonist_non_male_characters', 'Relevant_male_characters',\n",
       "       'Relevant_no_male_characters', 'Percentage_non_male_characters',\n",
       "       'Criteria', 'Director', 'Total_team', 'Female_team',\n",
       "       'Women_in_team_percentage', 'Metacritic_review', 'Destructoid_review',\n",
       "       'IGN_review', 'GameSpot_review', 'Average_reviews',\n",
       "       'Sexualized_clothing_score', 'Character_trophy_score',\n",
       "       'Damsel_in_Distress_score', 'Sexualized_Cutscenes_score',\n",
       "       'Sexualization_total_score'],\n",
       "      dtype='object')"
      ]
     },
     "execution_count": 4704,
     "metadata": {},
     "output_type": "execute_result"
    }
   ],
   "execution_count": 4704
  },
  {
   "cell_type": "markdown",
   "id": "39f353525793ea51",
   "metadata": {},
   "source": [
    "Next, the dataset data types will be reviewed.\n",
    "\n",
    "Most of the columns are expected to be of type 'object' as they contain string values, however some columns may need to be converted to a different data type.\n",
    "\n"
   ]
  },
  {
   "cell_type": "code",
   "id": "8069abf995a0acd3",
   "metadata": {
    "ExecuteTime": {
     "end_time": "2024-12-07T18:26:11.568199Z",
     "start_time": "2024-12-07T18:26:11.565525Z"
    }
   },
   "source": [
    "# Check the data types of the columns\n",
    "data.dtypes"
   ],
   "outputs": [
    {
     "data": {
      "text/plain": [
       "Character_name                      object\n",
       "Character_gender                    object\n",
       "Character_age                       object\n",
       "Character_age_range                 object\n",
       "Character_playable                   int64\n",
       "Character_id                        object\n",
       "Character_species                   object\n",
       "Character_side                      object\n",
       "Character_relevance                 object\n",
       "Character_romantic_interest         object\n",
       "Game_id                             object\n",
       "Game_title                          object\n",
       "Game_release                        object\n",
       "Game_series                         object\n",
       "Game_genre                          object\n",
       "Game_sub_genre                      object\n",
       "Game_developer                      object\n",
       "Game_publisher                      object\n",
       "Country_of_game_developer           object\n",
       "Platform                            object\n",
       "PEGI_rating                          int64\n",
       "Customizable_main_character         object\n",
       "Protagonist_characters               int64\n",
       "Protagonist_non_male_characters      int64\n",
       "Relevant_male_characters             int64\n",
       "Relevant_no_male_characters          int64\n",
       "Percentage_non_male_characters      object\n",
       "Criteria                            object\n",
       "Director                            object\n",
       "Total_team                           int64\n",
       "Female_team                          int64\n",
       "Women_in_team_percentage            object\n",
       "Metacritic_review                  float64\n",
       "Destructoid_review                 float64\n",
       "IGN_review                         float64\n",
       "GameSpot_review                    float64\n",
       "Average_reviews                    float64\n",
       "Sexualized_clothing_score            int64\n",
       "Character_trophy_score               int64\n",
       "Damsel_in_Distress_score             int64\n",
       "Sexualized_Cutscenes_score           int64\n",
       "Sexualization_total_score            int64\n",
       "dtype: object"
      ]
     },
     "execution_count": 4705,
     "metadata": {},
     "output_type": "execute_result"
    }
   ],
   "execution_count": 4705
  },
  {
   "cell_type": "code",
   "id": "15cfa876621db13c",
   "metadata": {
    "ExecuteTime": {
     "end_time": "2024-12-07T18:26:11.599120Z",
     "start_time": "2024-12-07T18:26:11.591239Z"
    }
   },
   "source": [
    "# Convert and check data types of the columns are as expected\n",
    "expected_data_types = {\n",
    "                'Character_name': 'object',\n",
    "                'Character_gender': 'category',\n",
    "                'Character_age': 'object',\n",
    "                'Character_age_range': 'category',\n",
    "                'Character_playable': 'bool',\n",
    "                'Character_id': 'object',\n",
    "                'Character_species': 'category',\n",
    "                'Character_side': 'category',\n",
    "                'Character_relevance': 'category',\n",
    "                'Character_romantic_interest': 'category',\n",
    "                'Game_id': 'object',\n",
    "                'Game_title': 'object',\n",
    "                'Game_release': 'datetime64[ns]',\n",
    "                'Game_series': 'category',\n",
    "                'Game_genre': 'category',\n",
    "                'Game_sub_genre': 'category',\n",
    "                'Game_developer': 'category',\n",
    "                'Game_publisher': 'category',\n",
    "                'Country_of_game_developer': 'category',\n",
    "                'Platform': 'category',\n",
    "                'PEGI_rating': 'category',\n",
    "                'Customizable_main_character': 'category',\n",
    "                'Protagonist_characters': 'int64',\n",
    "                'Protagonist_non_male_characters': 'int64',\n",
    "                'Relevant_male_characters': 'int64',\n",
    "                'Relevant_no_male_characters': 'int64',\n",
    "                'Percentage_non_male_characters': 'float64',\n",
    "                'Criteria': 'category',\n",
    "                'Director': 'category',\n",
    "                'Total_team': 'int64',\n",
    "                'Female_team': 'int64',\n",
    "                'Women_in_team_percentage': 'float64',\n",
    "                'Metacritic_review': 'float64',\n",
    "                'Destructoid_review': 'float64',\n",
    "                'IGN_review': 'float64',\n",
    "                'GameSpot_review': 'float64',\n",
    "                'Average_reviews': 'float64',\n",
    "                'Sexualized_clothing_score': 'bool',\n",
    "                'Character_trophy_score': 'bool',\n",
    "                'Damsel_in_Distress_score': 'bool',\n",
    "                'Sexualized_Cutscenes_score': 'bool',\n",
    "                'Sexualization_total_score': 'int64'\n",
    "            }\n",
    "\n",
    "for column, expected_type in expected_data_types.items():\n",
    "    try:\n",
    "        data[column] = data[column].astype(expected_type)\n",
    "    except Exception as e:\n",
    "        print(f\"An error occurred while converting column '{column}' to type '{expected_type}': {e}\\n\")\n"
   ],
   "outputs": [
    {
     "name": "stdout",
     "output_type": "stream",
     "text": [
      "An error occurred while converting column 'Game_release' to type 'datetime64[ns]': Out of bounds nanosecond timestamp: Oct-19, at position 0\n",
      "\n",
      "An error occurred while converting column 'Percentage_non_male_characters' to type 'float64': could not convert string to float: '17%'\n",
      "\n",
      "An error occurred while converting column 'Women_in_team_percentage' to type 'float64': could not convert string to float: '0%'\n",
      "\n"
     ]
    }
   ],
   "execution_count": 4706
  },
  {
   "metadata": {},
   "cell_type": "markdown",
   "source": [
    "From the output above, it can be seen that the data types have been converted successfully, except the 'Game_release', 'Percentage_non_male_characters', and the 'Women_in_team_percentage'.\n",
    "\n",
    "- 'Game_release' is expected to be of type 'datetime64[ns]' but it is currently of type 'object'.  When the conversion was attempted, an error occurred.  This is likely due to the format of the 'Game_release' column not being recognised by the 'to_datetime' function.\n",
    "- 'Percentage_non_male_characters' is expected to be of type 'float64' but it is currently of type 'object'.  The '%' character will need to be removed before the conversion\n",
    "- 'Women_in_team_percentage' is expected to be of type 'float64' but it is currently of type 'object'.  The '%' character will need to be removed before the conversion"
   ],
   "id": "19c786050c19bf39"
  },
  {
   "metadata": {},
   "cell_type": "markdown",
   "source": "First, the '%' character will be removed from the 'Percentage_non_male_characters' and 'Women_in_team_percentage' columns using the 'rstrip' function.",
   "id": "23642050a396f65b"
  },
  {
   "cell_type": "code",
   "id": "883e9602abe11c29",
   "metadata": {
    "ExecuteTime": {
     "end_time": "2024-12-07T18:26:11.624581Z",
     "start_time": "2024-12-07T18:26:11.622228Z"
    }
   },
   "source": [
    "# Remove the '%' from the percentage columns\n",
    "data['Percentage_non_male_characters'] = data['Percentage_non_male_characters'].str.rstrip('%').astype(float)\n",
    "data['Women_in_team_percentage'] = data['Women_in_team_percentage'].str.rstrip('%').astype(float)\n"
   ],
   "outputs": [],
   "execution_count": 4707
  },
  {
   "metadata": {},
   "cell_type": "markdown",
   "source": "Next, the 'Game_release' column will be converted to datetime with a specified format.",
   "id": "ad3f972e196e28cc"
  },
  {
   "metadata": {
    "ExecuteTime": {
     "end_time": "2024-12-07T18:26:11.646438Z",
     "start_time": "2024-12-07T18:26:11.643815Z"
    }
   },
   "cell_type": "code",
   "source": [
    "# Convert the 'Game_release' column to datetime with a specified format\n",
    "data['Game_release'] = pd.to_datetime(data['Game_release'], format='%b-%y', errors='coerce')\n",
    "\n",
    "# Verify the data type conversion\n",
    "print(data['Game_release'].dtype)"
   ],
   "id": "5a661c97f02c79d9",
   "outputs": [
    {
     "name": "stdout",
     "output_type": "stream",
     "text": [
      "datetime64[ns]\n"
     ]
    }
   ],
   "execution_count": 4708
  },
  {
   "metadata": {},
   "cell_type": "markdown",
   "source": "This appears to have been successful, but the values will be checked to ensure that the conversion has been done correctly.",
   "id": "9665ffd8cf10f807"
  },
  {
   "metadata": {
    "ExecuteTime": {
     "end_time": "2024-12-07T18:26:11.676007Z",
     "start_time": "2024-12-07T18:26:11.673449Z"
    }
   },
   "cell_type": "code",
   "source": [
    "# Check the data types of the 'Game_release' column\n",
    "game_releases = data['Game_release']\n",
    "game_releases.head()"
   ],
   "id": "2457c2d790505b1f",
   "outputs": [
    {
     "data": {
      "text/plain": [
       "0   2019-10-01\n",
       "1   2019-11-01\n",
       "2   2019-11-01\n",
       "3   2019-11-01\n",
       "4   2019-11-01\n",
       "Name: Game_release, dtype: datetime64[ns]"
      ]
     },
     "execution_count": 4709,
     "metadata": {},
     "output_type": "execute_result"
    }
   ],
   "execution_count": 4709
  },
  {
   "metadata": {
    "ExecuteTime": {
     "end_time": "2024-12-07T18:26:11.706847Z",
     "start_time": "2024-12-07T18:26:11.704415Z"
    }
   },
   "cell_type": "code",
   "source": "data.dtypes",
   "id": "7c93682e6fd7f59c",
   "outputs": [
    {
     "data": {
      "text/plain": [
       "Character_name                             object\n",
       "Character_gender                         category\n",
       "Character_age                              object\n",
       "Character_age_range                      category\n",
       "Character_playable                           bool\n",
       "Character_id                               object\n",
       "Character_species                        category\n",
       "Character_side                           category\n",
       "Character_relevance                      category\n",
       "Character_romantic_interest              category\n",
       "Game_id                                    object\n",
       "Game_title                                 object\n",
       "Game_release                       datetime64[ns]\n",
       "Game_series                              category\n",
       "Game_genre                               category\n",
       "Game_sub_genre                           category\n",
       "Game_developer                           category\n",
       "Game_publisher                           category\n",
       "Country_of_game_developer                category\n",
       "Platform                                 category\n",
       "PEGI_rating                              category\n",
       "Customizable_main_character              category\n",
       "Protagonist_characters                      int64\n",
       "Protagonist_non_male_characters             int64\n",
       "Relevant_male_characters                    int64\n",
       "Relevant_no_male_characters                 int64\n",
       "Percentage_non_male_characters            float64\n",
       "Criteria                                 category\n",
       "Director                                 category\n",
       "Total_team                                  int64\n",
       "Female_team                                 int64\n",
       "Women_in_team_percentage                  float64\n",
       "Metacritic_review                         float64\n",
       "Destructoid_review                        float64\n",
       "IGN_review                                float64\n",
       "GameSpot_review                           float64\n",
       "Average_reviews                           float64\n",
       "Sexualized_clothing_score                    bool\n",
       "Character_trophy_score                       bool\n",
       "Damsel_in_Distress_score                     bool\n",
       "Sexualized_Cutscenes_score                   bool\n",
       "Sexualization_total_score                   int64\n",
       "dtype: object"
      ]
     },
     "execution_count": 4710,
     "metadata": {},
     "output_type": "execute_result"
    }
   ],
   "execution_count": 4710
  },
  {
   "metadata": {},
   "cell_type": "markdown",
   "source": "The 'Game_release' column has been converted successfully.",
   "id": "7f6e8610b86d5f2b"
  },
  {
   "metadata": {},
   "cell_type": "markdown",
   "source": "Next, the data contained in the 'Character_side', 'Character_relevance', 'Criteria', and 'Director' columns will be transformed to more descriptive values.  I will source this information from the metadata provided.",
   "id": "f4c4ebd58f7470c3"
  },
  {
   "metadata": {
    "ExecuteTime": {
     "end_time": "2024-12-07T18:26:11.738489Z",
     "start_time": "2024-12-07T18:26:11.735321Z"
    }
   },
   "cell_type": "code",
   "source": [
    "# Character side: data cleaning\n",
    "data['Character_side'] = data['Character_side'].str.replace('P', 'Protagonist')\n",
    "data['Character_side'] = data['Character_side'].str.replace('A', 'Antagonist')\n",
    "data['Character_side'] = data['Character_side'].str.replace('B', 'Both')\n",
    "data['Character_side']"
   ],
   "id": "70391489c6d6d2e3",
   "outputs": [
    {
     "data": {
      "text/plain": [
       "0      Protagonist\n",
       "1      Protagonist\n",
       "2      Protagonist\n",
       "3      Protagonist\n",
       "4             Both\n",
       "          ...     \n",
       "632    Protagonist\n",
       "633    Protagonist\n",
       "634    Protagonist\n",
       "635    Protagonist\n",
       "636    Protagonist\n",
       "Name: Character_side, Length: 637, dtype: object"
      ]
     },
     "execution_count": 4711,
     "metadata": {},
     "output_type": "execute_result"
    }
   ],
   "execution_count": 4711
  },
  {
   "metadata": {
    "ExecuteTime": {
     "end_time": "2024-12-07T18:26:11.770602Z",
     "start_time": "2024-12-07T18:26:11.768457Z"
    }
   },
   "cell_type": "code",
   "source": [
    "# Character relevance: data cleaning\n",
    "relevance = {\n",
    "    'PA': 'Protagonist',\n",
    "    'DA': 'Deuteragonist',\n",
    "    'SK': 'Sidekick',\n",
    "    'MC': 'Main Character',\n",
    "    'SC': 'Secondary Character',\n",
    "    'MA': 'Main Antagonist',\n",
    "}\n",
    "\n",
    "# Ensure 'Character_relevance' is a categorical type\n",
    "data['Character_relevance'] = data['Character_relevance'].astype('category')\n",
    "\n",
    "# Rename categories\n",
    "data['Character_relevance'] = data['Character_relevance'].cat.rename_categories(relevance)"
   ],
   "id": "f86bdde8811ba21e",
   "outputs": [],
   "execution_count": 4712
  },
  {
   "metadata": {
    "ExecuteTime": {
     "end_time": "2024-12-07T18:26:11.796068Z",
     "start_time": "2024-12-07T18:26:11.792874Z"
    }
   },
   "cell_type": "code",
   "source": "data['Character_relevance']",
   "id": "10ac61f76b6dcded",
   "outputs": [
    {
     "data": {
      "text/plain": [
       "0              Protagonist\n",
       "1              Protagonist\n",
       "2      Secondary Character\n",
       "3      Secondary Character\n",
       "4           Main Character\n",
       "              ...         \n",
       "632    Secondary Character\n",
       "633    Secondary Character\n",
       "634    Secondary Character\n",
       "635    Secondary Character\n",
       "636    Secondary Character\n",
       "Name: Character_relevance, Length: 637, dtype: category\n",
       "Categories (6, object): ['Deuteragonist', 'Main Antagonist', 'Main Character', 'Protagonist', 'Secondary Character', 'Sidekick']"
      ]
     },
     "execution_count": 4713,
     "metadata": {},
     "output_type": "execute_result"
    }
   ],
   "execution_count": 4713
  },
  {
   "metadata": {
    "ExecuteTime": {
     "end_time": "2024-12-07T18:26:11.823868Z",
     "start_time": "2024-12-07T18:26:11.820542Z"
    }
   },
   "cell_type": "code",
   "source": [
    "# Criteria: data cleaning\n",
    "criteria = {\n",
    "    'TR': 'Top Rated',\n",
    "    'MS': 'Most Sold',\n",
    "    'SR': 'Sales and rating',\n",
    "}\n",
    "\n",
    "# Ensure 'Criteria' is a categorical type\n",
    "data['Criteria'] = data['Criteria'].astype('category')\n",
    "\n",
    "# Rename categories\n",
    "data['Criteria'] = data['Criteria'].cat.rename_categories(criteria)\n",
    "data['Criteria']"
   ],
   "id": "25adeca93bc86002",
   "outputs": [
    {
     "data": {
      "text/plain": [
       "0      Most Sold\n",
       "1      Most Sold\n",
       "2      Most Sold\n",
       "3      Most Sold\n",
       "4      Most Sold\n",
       "         ...    \n",
       "632    Top Rated\n",
       "633    Top Rated\n",
       "634    Top Rated\n",
       "635    Top Rated\n",
       "636    Top Rated\n",
       "Name: Criteria, Length: 637, dtype: category\n",
       "Categories (3, object): ['Most Sold', 'Sales and rating', 'Top Rated']"
      ]
     },
     "execution_count": 4714,
     "metadata": {},
     "output_type": "execute_result"
    }
   ],
   "execution_count": 4714
  },
  {
   "metadata": {
    "ExecuteTime": {
     "end_time": "2024-12-07T18:26:11.855132Z",
     "start_time": "2024-12-07T18:26:11.851948Z"
    }
   },
   "cell_type": "code",
   "source": [
    "# Director: data cleaning\n",
    "gender = {\n",
    "    'M': 'Male',\n",
    "    'F': 'Female',\n",
    "    'NB': 'Non-Binary',\n",
    "    'B': 'Both',\n",
    "}\n",
    "\n",
    "# Ensure 'Director' is a categorical type\n",
    "data['Director'] = data['Director'].astype('category')\n",
    "\n",
    "# Rename categories\n",
    "data['Director'] = data['Director'].cat.rename_categories(gender)\n",
    "data['Director']"
   ],
   "id": "5577bce440a7391",
   "outputs": [
    {
     "data": {
      "text/plain": [
       "0      Male\n",
       "1      Male\n",
       "2      Male\n",
       "3      Male\n",
       "4      Male\n",
       "       ... \n",
       "632    Male\n",
       "633    Male\n",
       "634    Male\n",
       "635    Male\n",
       "636    Male\n",
       "Name: Director, Length: 637, dtype: category\n",
       "Categories (2, object): ['Female', 'Male']"
      ]
     },
     "execution_count": 4715,
     "metadata": {},
     "output_type": "execute_result"
    }
   ],
   "execution_count": 4715
  },
  {
   "metadata": {},
   "cell_type": "markdown",
   "source": "The columns have been transformed successfully.  The dataset is now ready for analysis.",
   "id": "1202460953b7e43b"
  },
  {
   "metadata": {
    "ExecuteTime": {
     "end_time": "2024-12-07T18:26:11.890049Z",
     "start_time": "2024-12-07T18:26:11.881839Z"
    }
   },
   "cell_type": "code",
   "source": "data",
   "id": "828338e05a1bf752",
   "outputs": [
    {
     "data": {
      "text/plain": [
       "    Character_name Character_gender Character_age Character_age_range  \\\n",
       "0            Farah           Female            27               Adult   \n",
       "1      Protagonist           Custom      Teenager            Teenager   \n",
       "2         Magnolia           Female       Elderly             Elderly   \n",
       "3            Sonia           Female            26               Adult   \n",
       "4           Marnie           Female      Teenager            Teenager   \n",
       "..             ...              ...           ...                 ...   \n",
       "632           Beni             Male        Infant              Infant   \n",
       "633           Taro             Male         Child               Child   \n",
       "634           Rusu             Male         Adult               Adult   \n",
       "635          Adira           Female         Adult               Adult   \n",
       "636           Hana           Female         Adult               Adult   \n",
       "\n",
       "     Character_playable     Character_id Character_species Character_side  \\\n",
       "0                  True      CODMW_Farah             Human    Protagonist   \n",
       "1                  True  PSS_Protagonist             Human    Protagonist   \n",
       "2                 False     PSS_Magnolia             Human    Protagonist   \n",
       "3                 False        PSS_Sonia             Human    Protagonist   \n",
       "4                 False       PSS_Marnie             Human           Both   \n",
       "..                  ...              ...               ...            ...   \n",
       "632               False        KBOS_Beni             Human    Protagonist   \n",
       "633               False        KBOS_Taro             Human    Protagonist   \n",
       "634               False        KBOS_Rusu             Human    Protagonist   \n",
       "635               False       KBOS_Adira             Human    Protagonist   \n",
       "636               False        KBOS_Hana             Human    Protagonist   \n",
       "\n",
       "     Character_relevance Character_romantic_interest  ... Metacritic_review  \\\n",
       "0            Protagonist                          No  ...               8.0   \n",
       "1            Protagonist                          No  ...               8.0   \n",
       "2    Secondary Character                          No  ...               8.0   \n",
       "3    Secondary Character                          No  ...               8.0   \n",
       "4         Main Character                          No  ...               8.0   \n",
       "..                   ...                         ...  ...               ...   \n",
       "632  Secondary Character                          No  ...               8.2   \n",
       "633  Secondary Character                          No  ...               8.2   \n",
       "634  Secondary Character                          No  ...               8.2   \n",
       "635  Secondary Character                          No  ...               8.2   \n",
       "636  Secondary Character                          No  ...               8.2   \n",
       "\n",
       "    Destructoid_review IGN_review GameSpot_review Average_reviews  \\\n",
       "0                  8.0        8.0             7.0             7.8   \n",
       "1                  7.0        9.3             9.0             8.3   \n",
       "2                  7.0        9.3             9.0             8.3   \n",
       "3                  7.0        9.3             9.0             8.3   \n",
       "4                  7.0        9.3             9.0             8.3   \n",
       "..                 ...        ...             ...             ...   \n",
       "632                8.0        8.0             9.0             8.3   \n",
       "633                8.0        8.0             9.0             8.3   \n",
       "634                8.0        8.0             9.0             8.3   \n",
       "635                8.0        8.0             9.0             8.3   \n",
       "636                8.0        8.0             9.0             8.3   \n",
       "\n",
       "    Sexualized_clothing_score Character_trophy_score Damsel_in_Distress_score  \\\n",
       "0                       False                  False                    False   \n",
       "1                       False                  False                    False   \n",
       "2                       False                  False                    False   \n",
       "3                       False                  False                    False   \n",
       "4                       False                  False                    False   \n",
       "..                        ...                    ...                      ...   \n",
       "632                     False                  False                    False   \n",
       "633                     False                  False                    False   \n",
       "634                     False                  False                    False   \n",
       "635                     False                  False                    False   \n",
       "636                     False                  False                    False   \n",
       "\n",
       "    Sexualized_Cutscenes_score Sexualization_total_score  \n",
       "0                        False                         0  \n",
       "1                        False                         0  \n",
       "2                        False                         0  \n",
       "3                        False                         0  \n",
       "4                        False                         0  \n",
       "..                         ...                       ...  \n",
       "632                      False                         0  \n",
       "633                      False                         0  \n",
       "634                      False                         0  \n",
       "635                      False                         0  \n",
       "636                      False                         0  \n",
       "\n",
       "[637 rows x 42 columns]"
      ],
      "text/html": [
       "<div>\n",
       "<style scoped>\n",
       "    .dataframe tbody tr th:only-of-type {\n",
       "        vertical-align: middle;\n",
       "    }\n",
       "\n",
       "    .dataframe tbody tr th {\n",
       "        vertical-align: top;\n",
       "    }\n",
       "\n",
       "    .dataframe thead th {\n",
       "        text-align: right;\n",
       "    }\n",
       "</style>\n",
       "<table border=\"1\" class=\"dataframe\">\n",
       "  <thead>\n",
       "    <tr style=\"text-align: right;\">\n",
       "      <th></th>\n",
       "      <th>Character_name</th>\n",
       "      <th>Character_gender</th>\n",
       "      <th>Character_age</th>\n",
       "      <th>Character_age_range</th>\n",
       "      <th>Character_playable</th>\n",
       "      <th>Character_id</th>\n",
       "      <th>Character_species</th>\n",
       "      <th>Character_side</th>\n",
       "      <th>Character_relevance</th>\n",
       "      <th>Character_romantic_interest</th>\n",
       "      <th>...</th>\n",
       "      <th>Metacritic_review</th>\n",
       "      <th>Destructoid_review</th>\n",
       "      <th>IGN_review</th>\n",
       "      <th>GameSpot_review</th>\n",
       "      <th>Average_reviews</th>\n",
       "      <th>Sexualized_clothing_score</th>\n",
       "      <th>Character_trophy_score</th>\n",
       "      <th>Damsel_in_Distress_score</th>\n",
       "      <th>Sexualized_Cutscenes_score</th>\n",
       "      <th>Sexualization_total_score</th>\n",
       "    </tr>\n",
       "  </thead>\n",
       "  <tbody>\n",
       "    <tr>\n",
       "      <th>0</th>\n",
       "      <td>Farah</td>\n",
       "      <td>Female</td>\n",
       "      <td>27</td>\n",
       "      <td>Adult</td>\n",
       "      <td>True</td>\n",
       "      <td>CODMW_Farah</td>\n",
       "      <td>Human</td>\n",
       "      <td>Protagonist</td>\n",
       "      <td>Protagonist</td>\n",
       "      <td>No</td>\n",
       "      <td>...</td>\n",
       "      <td>8.0</td>\n",
       "      <td>8.0</td>\n",
       "      <td>8.0</td>\n",
       "      <td>7.0</td>\n",
       "      <td>7.8</td>\n",
       "      <td>False</td>\n",
       "      <td>False</td>\n",
       "      <td>False</td>\n",
       "      <td>False</td>\n",
       "      <td>0</td>\n",
       "    </tr>\n",
       "    <tr>\n",
       "      <th>1</th>\n",
       "      <td>Protagonist</td>\n",
       "      <td>Custom</td>\n",
       "      <td>Teenager</td>\n",
       "      <td>Teenager</td>\n",
       "      <td>True</td>\n",
       "      <td>PSS_Protagonist</td>\n",
       "      <td>Human</td>\n",
       "      <td>Protagonist</td>\n",
       "      <td>Protagonist</td>\n",
       "      <td>No</td>\n",
       "      <td>...</td>\n",
       "      <td>8.0</td>\n",
       "      <td>7.0</td>\n",
       "      <td>9.3</td>\n",
       "      <td>9.0</td>\n",
       "      <td>8.3</td>\n",
       "      <td>False</td>\n",
       "      <td>False</td>\n",
       "      <td>False</td>\n",
       "      <td>False</td>\n",
       "      <td>0</td>\n",
       "    </tr>\n",
       "    <tr>\n",
       "      <th>2</th>\n",
       "      <td>Magnolia</td>\n",
       "      <td>Female</td>\n",
       "      <td>Elderly</td>\n",
       "      <td>Elderly</td>\n",
       "      <td>False</td>\n",
       "      <td>PSS_Magnolia</td>\n",
       "      <td>Human</td>\n",
       "      <td>Protagonist</td>\n",
       "      <td>Secondary Character</td>\n",
       "      <td>No</td>\n",
       "      <td>...</td>\n",
       "      <td>8.0</td>\n",
       "      <td>7.0</td>\n",
       "      <td>9.3</td>\n",
       "      <td>9.0</td>\n",
       "      <td>8.3</td>\n",
       "      <td>False</td>\n",
       "      <td>False</td>\n",
       "      <td>False</td>\n",
       "      <td>False</td>\n",
       "      <td>0</td>\n",
       "    </tr>\n",
       "    <tr>\n",
       "      <th>3</th>\n",
       "      <td>Sonia</td>\n",
       "      <td>Female</td>\n",
       "      <td>26</td>\n",
       "      <td>Adult</td>\n",
       "      <td>False</td>\n",
       "      <td>PSS_Sonia</td>\n",
       "      <td>Human</td>\n",
       "      <td>Protagonist</td>\n",
       "      <td>Secondary Character</td>\n",
       "      <td>No</td>\n",
       "      <td>...</td>\n",
       "      <td>8.0</td>\n",
       "      <td>7.0</td>\n",
       "      <td>9.3</td>\n",
       "      <td>9.0</td>\n",
       "      <td>8.3</td>\n",
       "      <td>False</td>\n",
       "      <td>False</td>\n",
       "      <td>False</td>\n",
       "      <td>False</td>\n",
       "      <td>0</td>\n",
       "    </tr>\n",
       "    <tr>\n",
       "      <th>4</th>\n",
       "      <td>Marnie</td>\n",
       "      <td>Female</td>\n",
       "      <td>Teenager</td>\n",
       "      <td>Teenager</td>\n",
       "      <td>False</td>\n",
       "      <td>PSS_Marnie</td>\n",
       "      <td>Human</td>\n",
       "      <td>Both</td>\n",
       "      <td>Main Character</td>\n",
       "      <td>No</td>\n",
       "      <td>...</td>\n",
       "      <td>8.0</td>\n",
       "      <td>7.0</td>\n",
       "      <td>9.3</td>\n",
       "      <td>9.0</td>\n",
       "      <td>8.3</td>\n",
       "      <td>False</td>\n",
       "      <td>False</td>\n",
       "      <td>False</td>\n",
       "      <td>False</td>\n",
       "      <td>0</td>\n",
       "    </tr>\n",
       "    <tr>\n",
       "      <th>...</th>\n",
       "      <td>...</td>\n",
       "      <td>...</td>\n",
       "      <td>...</td>\n",
       "      <td>...</td>\n",
       "      <td>...</td>\n",
       "      <td>...</td>\n",
       "      <td>...</td>\n",
       "      <td>...</td>\n",
       "      <td>...</td>\n",
       "      <td>...</td>\n",
       "      <td>...</td>\n",
       "      <td>...</td>\n",
       "      <td>...</td>\n",
       "      <td>...</td>\n",
       "      <td>...</td>\n",
       "      <td>...</td>\n",
       "      <td>...</td>\n",
       "      <td>...</td>\n",
       "      <td>...</td>\n",
       "      <td>...</td>\n",
       "      <td>...</td>\n",
       "    </tr>\n",
       "    <tr>\n",
       "      <th>632</th>\n",
       "      <td>Beni</td>\n",
       "      <td>Male</td>\n",
       "      <td>Infant</td>\n",
       "      <td>Infant</td>\n",
       "      <td>False</td>\n",
       "      <td>KBOS_Beni</td>\n",
       "      <td>Human</td>\n",
       "      <td>Protagonist</td>\n",
       "      <td>Secondary Character</td>\n",
       "      <td>No</td>\n",
       "      <td>...</td>\n",
       "      <td>8.2</td>\n",
       "      <td>8.0</td>\n",
       "      <td>8.0</td>\n",
       "      <td>9.0</td>\n",
       "      <td>8.3</td>\n",
       "      <td>False</td>\n",
       "      <td>False</td>\n",
       "      <td>False</td>\n",
       "      <td>False</td>\n",
       "      <td>0</td>\n",
       "    </tr>\n",
       "    <tr>\n",
       "      <th>633</th>\n",
       "      <td>Taro</td>\n",
       "      <td>Male</td>\n",
       "      <td>Child</td>\n",
       "      <td>Child</td>\n",
       "      <td>False</td>\n",
       "      <td>KBOS_Taro</td>\n",
       "      <td>Human</td>\n",
       "      <td>Protagonist</td>\n",
       "      <td>Secondary Character</td>\n",
       "      <td>No</td>\n",
       "      <td>...</td>\n",
       "      <td>8.2</td>\n",
       "      <td>8.0</td>\n",
       "      <td>8.0</td>\n",
       "      <td>9.0</td>\n",
       "      <td>8.3</td>\n",
       "      <td>False</td>\n",
       "      <td>False</td>\n",
       "      <td>False</td>\n",
       "      <td>False</td>\n",
       "      <td>0</td>\n",
       "    </tr>\n",
       "    <tr>\n",
       "      <th>634</th>\n",
       "      <td>Rusu</td>\n",
       "      <td>Male</td>\n",
       "      <td>Adult</td>\n",
       "      <td>Adult</td>\n",
       "      <td>False</td>\n",
       "      <td>KBOS_Rusu</td>\n",
       "      <td>Human</td>\n",
       "      <td>Protagonist</td>\n",
       "      <td>Secondary Character</td>\n",
       "      <td>No</td>\n",
       "      <td>...</td>\n",
       "      <td>8.2</td>\n",
       "      <td>8.0</td>\n",
       "      <td>8.0</td>\n",
       "      <td>9.0</td>\n",
       "      <td>8.3</td>\n",
       "      <td>False</td>\n",
       "      <td>False</td>\n",
       "      <td>False</td>\n",
       "      <td>False</td>\n",
       "      <td>0</td>\n",
       "    </tr>\n",
       "    <tr>\n",
       "      <th>635</th>\n",
       "      <td>Adira</td>\n",
       "      <td>Female</td>\n",
       "      <td>Adult</td>\n",
       "      <td>Adult</td>\n",
       "      <td>False</td>\n",
       "      <td>KBOS_Adira</td>\n",
       "      <td>Human</td>\n",
       "      <td>Protagonist</td>\n",
       "      <td>Secondary Character</td>\n",
       "      <td>No</td>\n",
       "      <td>...</td>\n",
       "      <td>8.2</td>\n",
       "      <td>8.0</td>\n",
       "      <td>8.0</td>\n",
       "      <td>9.0</td>\n",
       "      <td>8.3</td>\n",
       "      <td>False</td>\n",
       "      <td>False</td>\n",
       "      <td>False</td>\n",
       "      <td>False</td>\n",
       "      <td>0</td>\n",
       "    </tr>\n",
       "    <tr>\n",
       "      <th>636</th>\n",
       "      <td>Hana</td>\n",
       "      <td>Female</td>\n",
       "      <td>Adult</td>\n",
       "      <td>Adult</td>\n",
       "      <td>False</td>\n",
       "      <td>KBOS_Hana</td>\n",
       "      <td>Human</td>\n",
       "      <td>Protagonist</td>\n",
       "      <td>Secondary Character</td>\n",
       "      <td>No</td>\n",
       "      <td>...</td>\n",
       "      <td>8.2</td>\n",
       "      <td>8.0</td>\n",
       "      <td>8.0</td>\n",
       "      <td>9.0</td>\n",
       "      <td>8.3</td>\n",
       "      <td>False</td>\n",
       "      <td>False</td>\n",
       "      <td>False</td>\n",
       "      <td>False</td>\n",
       "      <td>0</td>\n",
       "    </tr>\n",
       "  </tbody>\n",
       "</table>\n",
       "<p>637 rows × 42 columns</p>\n",
       "</div>"
      ]
     },
     "execution_count": 4716,
     "metadata": {},
     "output_type": "execute_result"
    }
   ],
   "execution_count": 4716
  },
  {
   "cell_type": "markdown",
   "id": "d5c34ae22a37cf1b",
   "metadata": {},
   "source": [
    "### Question to be answered\n",
    "\n",
    "The question that will be asked of this dataset, will either be answered by looking at the differences between sets of data or by looking at the relationship between variables.\n",
    "\n",
    "With that in mind, we will establish if there are any differences between the genders when it comes to the characters relevance in the video games.\n",
    "\n",
    "We will make use of the following decision tree to determine which statistical test to use:\n",
    "\n",
    "![Significance Testing Decision Tree](Images/statistical%20test%20decision%20tree.png)\n",
    "\n",
    "Next, we will form a hypothesis based on the question."
   ]
  },
  {
   "metadata": {},
   "cell_type": "markdown",
   "source": [
    "### Hypothesis Formulation\n",
    "Hypotheses are claims that we use statistics to prove or disprove them.\n",
    "\n",
    "Hypothesis testing structures the problems so that we can use statistical evidence to test these claims to check whether the claim is valid.\n",
    "\n",
    "#### Alternative Hypothesis (H~1~)\n",
    "Males have more main characters in video games in comparison to other genders.\n",
    "#### Null Hypothesis (H~0~)\n",
    "This is not the case.\n"
   ],
   "id": "c69d4216361615fb"
  },
  {
   "metadata": {},
   "cell_type": "markdown",
   "source": [
    "#### Data\n",
    "First, we will look at the number of genders in the dataset.  The gender data is nominal data as there is no order or ranking to the categories."
   ],
   "id": "fbb7f0c489a5eda5"
  },
  {
   "metadata": {
    "ExecuteTime": {
     "end_time": "2024-12-07T18:26:11.914749Z",
     "start_time": "2024-12-07T18:26:11.912441Z"
    }
   },
   "cell_type": "code",
   "source": [
    "# Display Gender Categories\n",
    "data['Character_gender'].unique()"
   ],
   "id": "eecc075ee49728d3",
   "outputs": [
    {
     "data": {
      "text/plain": [
       "['Female', 'Custom', 'Non-binary', 'Male']\n",
       "Categories (4, object): ['Custom', 'Female', 'Male', 'Non-binary']"
      ]
     },
     "execution_count": 4717,
     "metadata": {},
     "output_type": "execute_result"
    }
   ],
   "execution_count": 4717
  },
  {
   "metadata": {
    "ExecuteTime": {
     "end_time": "2024-12-07T18:26:11.955698Z",
     "start_time": "2024-12-07T18:26:11.953191Z"
    }
   },
   "cell_type": "code",
   "source": [
    "# Count the number of each gender\n",
    "data['Character_gender'].value_counts()"
   ],
   "id": "7f73f0fc7ec1ca36",
   "outputs": [
    {
     "data": {
      "text/plain": [
       "Character_gender\n",
       "Male          393\n",
       "Female        203\n",
       "Non-binary     33\n",
       "Custom          8\n",
       "Name: count, dtype: int64"
      ]
     },
     "execution_count": 4718,
     "metadata": {},
     "output_type": "execute_result"
    }
   ],
   "execution_count": 4718
  },
  {
   "metadata": {},
   "cell_type": "markdown",
   "source": [
    "From this analysis, we can decide if we want to compare the number of main characters in video games for each gender individually, or if we want to compare Males and combine Female and Non-Binary characters.\n",
    "\n",
    "For this analysis, we will compare the number of main characters in video games for each gender individually.\n",
    "\n",
    "This means that there will be 3 datasets to compare, as we will exclude custom characters as they can be any gender the game player chooses.\n",
    "\n",
    "Next, we will look at the character relevance.  Character relevance is ordinal data as there is an order to the categories.  The order is as follows:\n",
    "\n",
    "1. Protagonist (PA)\n",
    "2. Deuteragonist (DA)\n",
    "3. Sidekick (SK)\n",
    "4. Main Character (MC)\n",
    "5. Secondary Character (SC)\n",
    "6. Main Antagonist (MA)\n",
    "\n",
    "The order of character relevance is based on their importance and frequency of appearance in the game's plot"
   ],
   "id": "88c59eef2bf31361"
  },
  {
   "metadata": {},
   "cell_type": "markdown",
   "source": [
    "##### Categories defined\n",
    "Relevance (str) - the relevance of a character in a game and in relation to the protagonist\n",
    "- PA - protagonist - the most important person(s) in the game. In case of is more than one both\n",
    "of them must have the same importance in the plot.\n",
    "- DA - deuteragonist. The second most important character(s) in the plot. In case of being more\n",
    "than one, both must have the same relevance.\n",
    "- SK - sidekick. Those characters accompany the protagonist during all, or most of, the story.\n",
    "They offer constant support to the protagonist by giving advice, battle support, exploration aid,\n",
    "etc. They differ from the deuteragonist as they usually have little to no relevance in the\n",
    "storyline.\n",
    "- MC - the main character. A character that is relevant throughout all, or most part of, the story.\n",
    "This category can include antagonists.\n",
    "- SC - secondary character. A character that is important in the storyline but whose relevance is\n",
    "occasional, be it because their plot just lasts a short amount of time or because they are\n",
    "mentioned throughout the game but barely appear in-game. This category can include\n",
    "antagonists.\n",
    "- MA - main antagonist. The main antagonist(s) of the game. It is relevant throughout the game."
   ],
   "id": "ca79f4767eb4d40a"
  },
  {
   "metadata": {
    "ExecuteTime": {
     "end_time": "2024-12-07T18:26:11.990Z",
     "start_time": "2024-12-07T18:26:11.987819Z"
    }
   },
   "cell_type": "code",
   "source": [
    "# Display Character Relevance Categories\n",
    "data['Character_relevance'].unique()"
   ],
   "id": "3aa56fc70c8c5cab",
   "outputs": [
    {
     "data": {
      "text/plain": [
       "['Protagonist', 'Secondary Character', 'Main Character', 'Deuteragonist', 'Main Antagonist', 'Sidekick']\n",
       "Categories (6, object): ['Deuteragonist', 'Main Antagonist', 'Main Character', 'Protagonist', 'Secondary Character', 'Sidekick']"
      ]
     },
     "execution_count": 4719,
     "metadata": {},
     "output_type": "execute_result"
    }
   ],
   "execution_count": 4719
  },
  {
   "metadata": {
    "ExecuteTime": {
     "end_time": "2024-12-07T18:26:12.020985Z",
     "start_time": "2024-12-07T18:26:12.018270Z"
    }
   },
   "cell_type": "code",
   "source": [
    "# Count the number of each character relevance\n",
    "data['Character_relevance'].value_counts()"
   ],
   "id": "62584ebb12b9f420",
   "outputs": [
    {
     "data": {
      "text/plain": [
       "Character_relevance\n",
       "Secondary Character    266\n",
       "Main Character         202\n",
       "Protagonist             80\n",
       "Main Antagonist         53\n",
       "Deuteragonist           18\n",
       "Sidekick                18\n",
       "Name: count, dtype: int64"
      ]
     },
     "execution_count": 4720,
     "metadata": {},
     "output_type": "execute_result"
    }
   ],
   "execution_count": 4720
  },
  {
   "metadata": {},
   "cell_type": "markdown",
   "source": [
    "##### Decision Tree progression\n",
    "![Decision Tree Progression](Images/Differences%20between%20sets%20of%20data.png)\n",
    "\n",
    "Now we can determine the appropriate statistical test to use.  We need to test if the data is parametric or non-parametric.\n"
   ],
   "id": "4ca37cd40fe22dd8"
  },
  {
   "metadata": {},
   "cell_type": "markdown",
   "source": [
    "### Parametric vs Non-Parametric Test\n",
    "\n",
    "#### Parametric\n",
    "\n",
    "- Parametric statistics are based on assumptions about the distribution of population from which the sample was taken.\n",
    "\n",
    "- Parametric tests are based on the idea that your data come from a population that has a known or hypothesized distribution, such as normal.\n",
    "\n",
    "- This allows you to use mathematical formulas and inferential statistics to estimate parameters, such as mean, standard deviation, or proportion, and test hypotheses about them.\n",
    "\n",
    "In order for the results of parametric tests to be valid, the following four assumptions should be met:\n",
    "\n",
    "1. Normality – Data in each group should be normally distributed.\n",
    "\n",
    "2. Equal Variance – Data in each group should have approximately equal variance.\n",
    "\n",
    "3. Independence – Data in each group should be randomly and independently sampled from the population. (statement not code)\n",
    "\n",
    "4. No Outliers – There should be no extreme outliers.\n",
    "\n",
    "#### Non-Parametric\n",
    "\n",
    "- Nonparametric statistics are not based on assumptions, that is, the data can be collected from a sample that does not follow a specific distribution.\n",
    "\n",
    "- Non-parametric tests are based on the idea that your data did not come from a population that has a known or hypothesized distribution, or that you do not want to make any assumptions about it.\n",
    "\n",
    "- Instead, you use the ranks, signs, or frequencies of the data to perform statistical analysis and test hypotheses.\n",
    "\n",
    "#### Decision: Parametric or Non-Parametric\n",
    "Data can be either numerical, or categorical data.  The data in the dataset we are going to use to answer this question is categorical (gender and character relevance), so we will use **non-parametric tests**, and therefore the **Kruskal-Wallis test.**\n",
    "\n",
    "![Testing Decision](Images/Testing%20Decision.png)\n"
   ],
   "id": "c589c15b2643d416"
  },
  {
   "metadata": {},
   "cell_type": "markdown",
   "source": [
    "### Significance Testing\n",
    "\n",
    "Significance testing is a statistical method used to determine whether the observed effect or relationship in a dataset is likely due to chance or if it is statistically significant.\n",
    "\n",
    "#### Kruskal-Wallis Test\n",
    "\n",
    "The Kruskal-Wallis test is used to determine if there are significant differences among the distributions of three or more independent groups.  It is a non-parametric version of ANOVA according to [SciPy documentation](https://docs.scipy.org/doc/scipy/reference/generated/scipy.stats.kruskal.html).\n",
    "The result will return a p-value that will be used to determine if the null hypothesis can be rejected, and a statistic that will be used to determine the strength of the relationship.\n"
   ],
   "id": "fedd81a4adce4423"
  },
  {
   "metadata": {},
   "cell_type": "markdown",
   "source": "First, we will filter the dataset to remove custom characters as previously discussed.",
   "id": "f50bf748382f0353"
  },
  {
   "metadata": {
    "ExecuteTime": {
     "end_time": "2024-12-07T18:26:12.058967Z",
     "start_time": "2024-12-07T18:26:12.054508Z"
    }
   },
   "cell_type": "code",
   "source": [
    "# Tailor the dataset to the relevant data: filter out custom characters\n",
    "pre_data_shape = data.shape\n",
    "testing_data = data[data['Character_gender'] != 'Custom']\n",
    "post_data_shape = testing_data.shape\n",
    "\n",
    "# Check the number of rows removed\n",
    "rows_removed = pre_data_shape[0] - post_data_shape[0]\n",
    "print(f\"Number of rows removed: {rows_removed}\")\n",
    "assert rows_removed == 8, \"The number of rows removed is not as expected.\""
   ],
   "id": "5140427f79fc8425",
   "outputs": [
    {
     "name": "stdout",
     "output_type": "stream",
     "text": [
      "Number of rows removed: 8\n"
     ]
    }
   ],
   "execution_count": 4721
  },
  {
   "metadata": {},
   "cell_type": "markdown",
   "source": "Next, the 'character_relevance' and the 'character_gender' columns are checked manually to ensure that the data is as expected after the filtering.",
   "id": "4148d6649471a1c7"
  },
  {
   "metadata": {
    "ExecuteTime": {
     "end_time": "2024-12-07T18:26:12.094481Z",
     "start_time": "2024-12-07T18:26:12.091475Z"
    }
   },
   "cell_type": "code",
   "source": "testing_data['Character_relevance'].value_counts()",
   "id": "705aa89c72de29c4",
   "outputs": [
    {
     "data": {
      "text/plain": [
       "Character_relevance\n",
       "Secondary Character    266\n",
       "Main Character         202\n",
       "Protagonist             72\n",
       "Main Antagonist         53\n",
       "Deuteragonist           18\n",
       "Sidekick                18\n",
       "Name: count, dtype: int64"
      ]
     },
     "execution_count": 4722,
     "metadata": {},
     "output_type": "execute_result"
    }
   ],
   "execution_count": 4722
  },
  {
   "metadata": {
    "ExecuteTime": {
     "end_time": "2024-12-07T18:26:12.122894Z",
     "start_time": "2024-12-07T18:26:12.120061Z"
    }
   },
   "cell_type": "code",
   "source": "testing_data['Character_gender'].value_counts()",
   "id": "615453c429dde7c9",
   "outputs": [
    {
     "data": {
      "text/plain": [
       "Character_gender\n",
       "Male          393\n",
       "Female        203\n",
       "Non-binary     33\n",
       "Custom          0\n",
       "Name: count, dtype: int64"
      ]
     },
     "execution_count": 4723,
     "metadata": {},
     "output_type": "execute_result"
    }
   ],
   "execution_count": 4723
  },
  {
   "metadata": {},
   "cell_type": "markdown",
   "source": "Next, the 'character_relevance' column will be mapped to integers to allow for the Kruskal-Wallis test to be performed.  The mapping will be as follows:",
   "id": "c988505936159c1d"
  },
  {
   "metadata": {
    "ExecuteTime": {
     "end_time": "2024-12-07T18:26:12.159321Z",
     "start_time": "2024-12-07T18:26:12.155554Z"
    }
   },
   "cell_type": "code",
   "source": [
    "testing_data.loc[:, 'Character_relevance'] = testing_data['Character_relevance'].map(\n",
    "    {\n",
    "        'Protagonist': 1,\n",
    "        'Deuteragonist': 2,\n",
    "        'Sidekick': 3,\n",
    "        'Main Character': 4,\n",
    "        'Secondary Character': 5,\n",
    "        'Main Antagonist': 6\n",
    "    }\n",
    ").astype('int')\n",
    "\n",
    "\n",
    "testing_data['Character_relevance']\n"
   ],
   "id": "8d99984ebcb76523",
   "outputs": [
    {
     "data": {
      "text/plain": [
       "0      1\n",
       "2      5\n",
       "3      5\n",
       "4      4\n",
       "5      5\n",
       "      ..\n",
       "632    5\n",
       "633    5\n",
       "634    5\n",
       "635    5\n",
       "636    5\n",
       "Name: Character_relevance, Length: 629, dtype: int64"
      ]
     },
     "execution_count": 4724,
     "metadata": {},
     "output_type": "execute_result"
    }
   ],
   "execution_count": 4724
  },
  {
   "metadata": {},
   "cell_type": "markdown",
   "source": [
    "Next, the 'Character-relevance' column will be checked to ensure that the mapping has been done correctly.  This will be checked by looking at the value counts, and comparing them with the previous value count done on the same column prior to the mapping.\n",
    "\n",
    "This is a way of manually checking the values."
   ],
   "id": "341cd52f9da27af1"
  },
  {
   "metadata": {
    "ExecuteTime": {
     "end_time": "2024-12-07T18:26:12.188120Z",
     "start_time": "2024-12-07T18:26:12.185642Z"
    }
   },
   "cell_type": "code",
   "source": "testing_data['Character_relevance'].value_counts()",
   "id": "65077ed5a61b6c43",
   "outputs": [
    {
     "data": {
      "text/plain": [
       "Character_relevance\n",
       "5    266\n",
       "4    202\n",
       "1     72\n",
       "6     53\n",
       "2     18\n",
       "3     18\n",
       "Name: count, dtype: int64"
      ]
     },
     "execution_count": 4725,
     "metadata": {},
     "output_type": "execute_result"
    }
   ],
   "execution_count": 4725
  },
  {
   "metadata": {},
   "cell_type": "markdown",
   "source": [
    "Another way to test if the mapping has been done correctly is to make 'assertions' on the data.  This will allow us to check if the data is as expected, and if not, an error will be raised.  This is great for debugging, and ensuring that the data is as expected, even if the code changes/updates.\n",
    "\n",
    "The assertions will be done on the 'Character_relevance' column to ensure that the data is as expected.\n",
    "\n",
    "values should be as follows:\n",
    "\n",
    "| Category            | Mapped int | Count |\n",
    "|---------------------|------------|-------|\n",
    "| Protagonist         | 1          | 72    |\n",
    "| Deuteragonist       | 2          | 18    |\n",
    "| Sidekick            | 3          | 18    |\n",
    "| Main Character      | 4          | 202   |\n",
    "| Secondary Character | 5          | 266   |\n",
    "| Main Antagonist     | 6          | 53    |\n"
   ],
   "id": "ca7d926d6ecaabad"
  },
  {
   "metadata": {},
   "cell_type": "markdown",
   "source": [
    "Also, the values for gender should be as follows:\n",
    "\n",
    "| Category   | Count |\n",
    "|------------|-------|\n",
    "| Male       | 393   |\n",
    "| Female     | 203   |\n",
    "| Non-binary | 33    |"
   ],
   "id": "2cf0cd0a764ac323"
  },
  {
   "metadata": {
    "ExecuteTime": {
     "end_time": "2024-12-07T18:26:12.217567Z",
     "start_time": "2024-12-07T18:26:12.213403Z"
    }
   },
   "cell_type": "code",
   "source": [
    "# Assertions\n",
    "\n",
    "# Assert no missing values\n",
    "assert testing_data['Character_relevance'].isnull().sum() == 0, \"There are missing values in the 'Character_relevance' column.\"\n",
    "\n",
    "# Assert the data types is as expected\n",
    "assert testing_data['Character_relevance'].dtype == 'int', \"The data type of the 'Character_relevance' column is not as expected.\"\n",
    "\n",
    "# Assert Protagonist (1) count is 72\n",
    "assert testing_data['Character_relevance'].value_counts().loc[1] == 72, \"The count of Protagonist characters is not as expected.\"\n",
    "\n",
    "# Assert Deuteragonist (2) count is 18\n",
    "assert testing_data['Character_relevance'].value_counts().loc[2] == 18, \"The count of Deuteragonist characters is not as expected.\"\n",
    "\n",
    "# Assert Sidekick (3) count is 18\n",
    "assert testing_data['Character_relevance'].value_counts().loc[3] == 18, \"The count of Sidekick characters is not as expected.\"\n",
    "\n",
    "# Assert Main Character (4) count is 202\n",
    "assert testing_data['Character_relevance'].value_counts().loc[4] == 202, \"The count of Main Character characters is not as expected.\"\n",
    "\n",
    "# Assert Secondary Character (5) count is 266\n",
    "assert testing_data['Character_relevance'].value_counts().loc[5] == 266, \"The count of Secondary Character characters is not as expected.\"\n",
    "\n",
    "# Assert Main Antagonist (6) count is 53\n",
    "assert testing_data['Character_relevance'].value_counts().loc[6] == 53, \"The count of Main Antagonist characters is not as expected.\"\n",
    "\n",
    "# Assert the number of rows is as expected\n",
    "assert testing_data.shape[0] == 629, \"The number of rows in the testing data is not as expected.\"\n",
    "\n",
    "# Assert the number of values per gender is as expected\n",
    "assert testing_data['Character_gender'].value_counts().loc['Male'] == 393, \"The number of Males is not as expected.\"\n",
    "\n",
    "assert testing_data['Character_gender'].value_counts().loc['Female'] == 203, \"The number of Females is not as expected.\"\n",
    "\n",
    "assert testing_data['Character_gender'].value_counts().loc['Non-binary'] == 33, \"The number of Non-binary characters is not as expected.\""
   ],
   "id": "cd4eae348a04cc6f",
   "outputs": [],
   "execution_count": 4726
  },
  {
   "metadata": {},
   "cell_type": "markdown",
   "source": "Next, the Kruskal-Wallis test will be performed to determine if there are any significant differences between the character relevance across the different genders.",
   "id": "2b7714bedba3a5ef"
  },
  {
   "metadata": {
    "ExecuteTime": {
     "end_time": "2024-12-07T18:26:12.227737Z",
     "start_time": "2024-12-07T18:26:12.224331Z"
    }
   },
   "cell_type": "code",
   "source": [
    "# Perform the Kruskal-Wallis test\n",
    "from scipy.stats import kruskal\n",
    "\n",
    "# Group the data by gender\n",
    "male_relevance = testing_data[testing_data['Character_gender'] == 'Male']['Character_relevance']\n",
    "female_relevance = testing_data[testing_data['Character_gender'] == 'Female']['Character_relevance']\n",
    "non_binary_relevance = testing_data[testing_data['Character_gender'] == 'Non-binary']['Character_relevance']\n"
   ],
   "id": "a64bdcb03f9adeda",
   "outputs": [],
   "execution_count": 4727
  },
  {
   "metadata": {},
   "cell_type": "markdown",
   "source": "For extra confidence, the number of values in each group will be checked to ensure that the data is as expected.  This is done by asserting the number of values in each group, and raising an error if the number of values is not as expected.",
   "id": "152b9996c28e8b29"
  },
  {
   "metadata": {
    "ExecuteTime": {
     "end_time": "2024-12-07T18:26:12.243601Z",
     "start_time": "2024-12-07T18:26:12.241245Z"
    }
   },
   "cell_type": "code",
   "source": [
    "# Assertions\n",
    "\n",
    "assert male_relevance.value_counts().sum() == 393, f\"The number of Males is not as expected - male_relevance.value_counts().sum()\"\n",
    "assert female_relevance.value_counts().sum() == 203, f\"The number of Females is not as expected - {female_relevance.value_counts().sum()}\"\n",
    "assert non_binary_relevance.value_counts().sum() == 33, f\"The number of Non-binary characters is not as expected - {non_binary_relevance.value_counts().sum()}\""
   ],
   "id": "cdf4beaac987f09e",
   "outputs": [],
   "execution_count": 4728
  },
  {
   "metadata": {},
   "cell_type": "markdown",
   "source": [
    "Next, the Kruskal-Wallis test will be performed.  This will return the H-statistic and the p-value.\n",
    "\n",
    "The p-value will be used to determine if the null hypothesis can be rejected. If the p-value is less than the significance level (alpha), the null hypothesis will be rejected, and it will be concluded that there are significant differences between the groups.\n",
    "\n",
    "The H-statistic will be used to determine the strength of the relationship. The higher the H-statistic, the stronger the relationship."
   ],
   "id": "240fd13c0028edb8"
  },
  {
   "metadata": {
    "ExecuteTime": {
     "end_time": "2024-12-07T18:26:12.251159Z",
     "start_time": "2024-12-07T18:26:12.248023Z"
    }
   },
   "cell_type": "code",
   "source": [
    "# Perform the Kruskal-Wallis test\n",
    "stat, p_value = kruskal(male_relevance, female_relevance, non_binary_relevance)\n",
    "\n",
    "print(f\"Kruskal-Wallis H-statistic: {stat}\")\n",
    "print(f\"P-value: {p_value}\")"
   ],
   "id": "54d07c7fbe016b1c",
   "outputs": [
    {
     "name": "stdout",
     "output_type": "stream",
     "text": [
      "Kruskal-Wallis H-statistic: 7.325788012250041\n",
      "P-value: 0.02565815033143132\n"
     ]
    }
   ],
   "execution_count": 4729
  },
  {
   "metadata": {},
   "cell_type": "markdown",
   "source": [
    "The Kruskal-Wallis test has been performed successfully.  The H-statistic and the p-value have been calculated.\n",
    "\n",
    "Next, the p-value will be used to determine if the null hypothesis can be rejected.\n",
    "The alpha value will be set to 0.05 because this is a common significance level used in hypothesis testing."
   ],
   "id": "77605361750f5433"
  },
  {
   "metadata": {
    "ExecuteTime": {
     "end_time": "2024-12-07T18:26:12.275816Z",
     "start_time": "2024-12-07T18:26:12.273941Z"
    }
   },
   "cell_type": "code",
   "source": [
    "# Significance level\n",
    "alpha = 0.05\n",
    "\n",
    "if p_value < alpha:\n",
    "    print(\"Reject the null hypothesis: There are significant differences between the groups.\")\n",
    "else:\n",
    "    print(\"Fail to reject the null hypothesis: There are no significant differences between the groups.\")"
   ],
   "id": "c40abc86bbdc3e33",
   "outputs": [
    {
     "name": "stdout",
     "output_type": "stream",
     "text": [
      "Reject the null hypothesis: There are significant differences between the groups.\n"
     ]
    }
   ],
   "execution_count": 4730
  },
  {
   "metadata": {},
   "cell_type": "markdown",
   "source": [
    "The null hypothesis can be rejected as the p-value is less than the significance level.  This means that there are significant differences between the groups.\n",
    "\n",
    "The Kruskal-Wallis test has shown that there are significant differences between the character relevance across the different character genders in video games.\n",
    "\n",
    "This is not enough to determine if males have more main characters in video games in comparison to females and non-binary characters.  This will require further analysis."
   ],
   "id": "ea8f0d771e4fb4fe"
  },
  {
   "metadata": {},
   "cell_type": "markdown",
   "source": "Finally, a pie chart will be created to show the distribution of character relevance, this will give us a quick visual representation of the data in regard to character relevance per gender, and I will also create pie charts per gender.",
   "id": "c9eab927f7c278bb"
  },
  {
   "metadata": {
    "ExecuteTime": {
     "end_time": "2024-12-07T18:26:12.306350Z",
     "start_time": "2024-12-07T18:26:12.303943Z"
    }
   },
   "cell_type": "code",
   "source": [
    "import matplotlib.pyplot as plt\n",
    "\n",
    "def character_relevance_by_gender_pie_chart(character_relavance: int, character_relavance_name: str):\n",
    "\n",
    "    # Filter the dataset to\n",
    "    main_characters = testing_data[testing_data['Character_relevance'] == character_relavance]\n",
    "\n",
    "    # Count the number of main characters by gender\n",
    "    main_characters_by_gender = main_characters['Character_gender'].value_counts()\n",
    "\n",
    "    # Create a pie chart\n",
    "    plt.figure(figsize=(8, 8))\n",
    "    plt.pie(main_characters_by_gender, labels=main_characters_by_gender.index, autopct='%1.1f%%', startangle=140)\n",
    "    plt.title(f'{character_relavance_name} by Gender')\n",
    "    plt.show()\n",
    "\n",
    "character_relevance_mapping = {\n",
    "        1: 'Protagonist',\n",
    "        2: 'Deuteragonist',\n",
    "        3: 'Sidekick',\n",
    "        4: 'Main Character',\n",
    "        5: 'Secondary Character',\n",
    "        6: 'Main Antagonist'\n",
    "    }"
   ],
   "id": "7873db6041ddf494",
   "outputs": [],
   "execution_count": 4731
  },
  {
   "metadata": {
    "ExecuteTime": {
     "end_time": "2024-12-07T18:26:12.516437Z",
     "start_time": "2024-12-07T18:26:12.321644Z"
    }
   },
   "cell_type": "code",
   "source": [
    "for relevance, name in character_relevance_mapping.items():\n",
    "    character_relevance_by_gender_pie_chart(relevance, name)"
   ],
   "id": "d39356c5a135b87f",
   "outputs": [
    {
     "data": {
      "text/plain": [
       "<Figure size 800x800 with 1 Axes>"
      ],
      "image/png": "[encoded data removed]"
     },
     "metadata": {},
     "output_type": "display_data"
    },
    {
     "data": {
      "text/plain": [
       "<Figure size 800x800 with 1 Axes>"
      ],
      "image/png": "[encoded data removed]"
     },
     "metadata": {},
     "output_type": "display_data"
    },
    {
     "data": {
      "text/plain": [
       "<Figure size 800x800 with 1 Axes>"
      ],
      "image/png": "[encoded data removed]"
     },
     "metadata": {},
     "output_type": "display_data"
    },
    {
     "data": {
      "text/plain": [
       "<Figure size 800x800 with 1 Axes>"
      ],
      "image/png": "[encoded data removed]"
     },
     "metadata": {},
     "output_type": "display_data"
    },
    {
     "data": {
      "text/plain": [
       "<Figure size 800x800 with 1 Axes>"
      ],
      "image/png": "[encoded data removed]"
     },
     "metadata": {},
     "output_type": "display_data"
    },
    {
     "data": {
      "text/plain": [
       "<Figure size 800x800 with 1 Axes>"
      ],
      "image/png": "[encoded data removed]"
     },
     "metadata": {},
     "output_type": "display_data"
    }
   ],
   "execution_count": 4732
  },
  {
   "metadata": {
    "ExecuteTime": {
     "end_time": "2024-12-07T18:26:12.628412Z",
     "start_time": "2024-12-07T18:26:12.527437Z"
    }
   },
   "cell_type": "code",
   "source": [
    "import matplotlib.pyplot as plt\n",
    "\n",
    "def gender_by_character_relevance_pie_chart(gender: str):\n",
    "    # Filter the dataset to include only characters of the specified gender\n",
    "    gender_characters = testing_data[testing_data['Character_gender'] == gender]\n",
    "\n",
    "    # Count the number of characters by relevance\n",
    "    characters_by_relevance = gender_characters['Character_relevance'].value_counts()\n",
    "\n",
    "    # Create a pie chart\n",
    "    plt.figure(figsize=(8, 8))\n",
    "    plt.pie(characters_by_relevance, labels=characters_by_relevance.index, autopct='%1.1f%%', startangle=140)\n",
    "    plt.title(f'{gender} Characters by Relevance')\n",
    "    plt.show()\n",
    "\n",
    "# Generate pie charts for each gender\n",
    "for gender in testing_data['Character_gender'].unique():\n",
    "    gender_by_character_relevance_pie_chart(gender)"
   ],
   "id": "24b088717091c8d4",
   "outputs": [
    {
     "data": {
      "text/plain": [
       "<Figure size 800x800 with 1 Axes>"
      ],
      "image/png": "[encoded data removed]"
     },
     "metadata": {},
     "output_type": "display_data"
    },
    {
     "data": {
      "text/plain": [
       "<Figure size 800x800 with 1 Axes>"
      ],
      "image/png": "[encoded data removed]"
     },
     "metadata": {},
     "output_type": "display_data"
    },
    {
     "data": {
      "text/plain": [
       "<Figure size 800x800 with 1 Axes>"
      ],
      "image/png": "[encoded data removed]"
     },
     "metadata": {},
     "output_type": "display_data"
    }
   ],
   "execution_count": 4733
  },
  {
   "metadata": {},
   "cell_type": "markdown",
   "source": [
    "### Interpretation\n",
    "The Kruskal-Wallis test has shown that there are significant differences between the character relevance across the different genders.  This means that the null hypothesis can be rejected.  However, this is not enough to determine if males have more main characters in video games in comparison to females and non-binary characters.\n",
    "\n",
    "The pie charts show the distribution of character relevance across the different genders, and can see males have more main characters in video games, females have more secondary characters but are more likely to be main characters, and non-binary characters have more sidekicks, but again are mainly main characters, followed by secondary characters, then sidekicks.\n"
   ],
   "id": "604a8c0f7e5658eb"
  },
  {
   "metadata": {},
   "cell_type": "markdown",
   "source": [
    "### Additional testing: Mann Whitney U Test\n",
    "I am curious to see if there are any significant differences between the character relevance across the Male and Female genders, as these are the two largest groups, and look similar in the pie charts.  I will perform a Mann Whitney U Test to determine if there are any significant differences between the character relevance"
   ],
   "id": "3cb8373b78676a9f"
  },
  {
   "metadata": {
    "ExecuteTime": {
     "end_time": "2024-12-07T18:26:12.642327Z",
     "start_time": "2024-12-07T18:26:12.639058Z"
    }
   },
   "cell_type": "code",
   "source": [
    "# Perform the Mann Whitney U Test\n",
    "from scipy.stats import mannwhitneyu\n",
    "\n",
    "# Perform the Mann Whitney U Test\n",
    "statistic, p_value = mannwhitneyu(male_relevance, female_relevance)\n",
    "\n",
    "# Print the test results\n",
    "print(\"Mann-Whitney U Test results:\")\n",
    "print(f\"U statistic: {statistic}\")\n",
    "print(f\"p-value: {p_value}\")\n",
    "\n",
    "# Check if the p-value is less than the significance level (e.g., 0.05)\n",
    "if p_value < 0.05:\n",
    "    print(\"There is a significant difference between the two groups.\")\n",
    "else:\n",
    "    print(\"There is no significant difference between the two groups.\")"
   ],
   "id": "47f27c06906894d9",
   "outputs": [
    {
     "name": "stdout",
     "output_type": "stream",
     "text": [
      "Mann-Whitney U Test results:\n",
      "U statistic: 42484.0\n",
      "p-value: 0.1654968700837317\n",
      "There is no significant difference between the two groups.\n"
     ]
    }
   ],
   "execution_count": 4734
  },
  {
   "metadata": {},
   "cell_type": "markdown",
   "source": [
    "#### Interpretation\n",
    "The Mann Whitney U Test has shown that there is not a significant difference between the character relevance between males and females.  This means that if the comparrison was only between males and females, the null hypothesis would not be rejected, but as the Kruskal-Wallis test showed that there are significant differences between the character relevance across all genders, the null hypothesis can be rejected."
   ],
   "id": "5860d8fb21acca80"
  },
  {
   "cell_type": "markdown",
   "id": "1eeadb2e91d1f1b2",
   "metadata": {},
   "source": [
    "---"
   ]
  },
  {
   "cell_type": "markdown",
   "id": "bc3cdcfe20f07fa5",
   "metadata": {},
   "source": "## Part B: Machine Learning models"
  },
  {
   "metadata": {},
   "cell_type": "markdown",
   "source": [
    "### Dataset: Apple_Quality.csv\n",
    "\n",
    "The dataset contains information about the quality of apples. The dataset contains the following columns (prior to processing):\n",
    "\n",
    "| Column Name | Description                      | datatype |\n",
    "|-------------|----------------------------------|----------|\n",
    "| A_id        | Unique identifier for each apple | float64  |\n",
    "| Size        | Size of the apple                | float64  |\n",
    "| Weight      | Weight of the apple              | float64  |\n",
    "| Sweetness   | Sweetness level of the apple     | float64  |\n",
    "| Crunchiness | Crunchiness level of the apple   | float64  |\n",
    "| Juiciness   | Juiciness level of the apple     | float64  |\n",
    "| Ripeness    | Ripeness level of the apple      | float64  |\n",
    "| Acidity     | Acidity level of the apple       | object   |\n",
    "| Quality     | Quality rating of the apple      | object   |\n",
    "\n",
    "The dataset contains 4001 rows and 9 columns prior to processing.\n",
    "\n"
   ],
   "id": "4ebcc2bf8ac61533"
  },
  {
   "metadata": {
    "ExecuteTime": {
     "end_time": "2024-12-07T18:26:12.672773Z",
     "start_time": "2024-12-07T18:26:12.664243Z"
    }
   },
   "cell_type": "code",
   "source": [
    "# Load the dataset\n",
    "apple_quality = pd.read_csv('data/Apple_Quality.csv')\n",
    "apple_quality.head()"
   ],
   "id": "d168c0912a544057",
   "outputs": [
    {
     "data": {
      "text/plain": [
       "   A_id      Size    Weight  Sweetness  Crunchiness  Juiciness  Ripeness  \\\n",
       "0   0.0 -3.970049 -2.512336   5.346330    -1.012009   1.844900  0.329840   \n",
       "1   1.0 -1.195217 -2.839257   3.664059     1.588232   0.853286  0.867530   \n",
       "2   2.0 -0.292024 -1.351282  -1.738429    -0.342616   2.838636 -0.038033   \n",
       "3   3.0 -0.657196 -2.271627   1.324874    -0.097875   3.637970 -3.413761   \n",
       "4   4.0  1.364217 -1.296612  -0.384658    -0.553006   3.030874 -1.303849   \n",
       "\n",
       "        Acidity Quality  \n",
       "0  -0.491590483    good  \n",
       "1  -0.722809367    good  \n",
       "2   2.621636473     bad  \n",
       "3   0.790723217    good  \n",
       "4   0.501984036    good  "
      ],
      "text/html": [
       "<div>\n",
       "<style scoped>\n",
       "    .dataframe tbody tr th:only-of-type {\n",
       "        vertical-align: middle;\n",
       "    }\n",
       "\n",
       "    .dataframe tbody tr th {\n",
       "        vertical-align: top;\n",
       "    }\n",
       "\n",
       "    .dataframe thead th {\n",
       "        text-align: right;\n",
       "    }\n",
       "</style>\n",
       "<table border=\"1\" class=\"dataframe\">\n",
       "  <thead>\n",
       "    <tr style=\"text-align: right;\">\n",
       "      <th></th>\n",
       "      <th>A_id</th>\n",
       "      <th>Size</th>\n",
       "      <th>Weight</th>\n",
       "      <th>Sweetness</th>\n",
       "      <th>Crunchiness</th>\n",
       "      <th>Juiciness</th>\n",
       "      <th>Ripeness</th>\n",
       "      <th>Acidity</th>\n",
       "      <th>Quality</th>\n",
       "    </tr>\n",
       "  </thead>\n",
       "  <tbody>\n",
       "    <tr>\n",
       "      <th>0</th>\n",
       "      <td>0.0</td>\n",
       "      <td>-3.970049</td>\n",
       "      <td>-2.512336</td>\n",
       "      <td>5.346330</td>\n",
       "      <td>-1.012009</td>\n",
       "      <td>1.844900</td>\n",
       "      <td>0.329840</td>\n",
       "      <td>-0.491590483</td>\n",
       "      <td>good</td>\n",
       "    </tr>\n",
       "    <tr>\n",
       "      <th>1</th>\n",
       "      <td>1.0</td>\n",
       "      <td>-1.195217</td>\n",
       "      <td>-2.839257</td>\n",
       "      <td>3.664059</td>\n",
       "      <td>1.588232</td>\n",
       "      <td>0.853286</td>\n",
       "      <td>0.867530</td>\n",
       "      <td>-0.722809367</td>\n",
       "      <td>good</td>\n",
       "    </tr>\n",
       "    <tr>\n",
       "      <th>2</th>\n",
       "      <td>2.0</td>\n",
       "      <td>-0.292024</td>\n",
       "      <td>-1.351282</td>\n",
       "      <td>-1.738429</td>\n",
       "      <td>-0.342616</td>\n",
       "      <td>2.838636</td>\n",
       "      <td>-0.038033</td>\n",
       "      <td>2.621636473</td>\n",
       "      <td>bad</td>\n",
       "    </tr>\n",
       "    <tr>\n",
       "      <th>3</th>\n",
       "      <td>3.0</td>\n",
       "      <td>-0.657196</td>\n",
       "      <td>-2.271627</td>\n",
       "      <td>1.324874</td>\n",
       "      <td>-0.097875</td>\n",
       "      <td>3.637970</td>\n",
       "      <td>-3.413761</td>\n",
       "      <td>0.790723217</td>\n",
       "      <td>good</td>\n",
       "    </tr>\n",
       "    <tr>\n",
       "      <th>4</th>\n",
       "      <td>4.0</td>\n",
       "      <td>1.364217</td>\n",
       "      <td>-1.296612</td>\n",
       "      <td>-0.384658</td>\n",
       "      <td>-0.553006</td>\n",
       "      <td>3.030874</td>\n",
       "      <td>-1.303849</td>\n",
       "      <td>0.501984036</td>\n",
       "      <td>good</td>\n",
       "    </tr>\n",
       "  </tbody>\n",
       "</table>\n",
       "</div>"
      ]
     },
     "execution_count": 4735,
     "metadata": {},
     "output_type": "execute_result"
    }
   ],
   "execution_count": 4735
  },
  {
   "metadata": {
    "ExecuteTime": {
     "end_time": "2024-12-07T18:26:12.693296Z",
     "start_time": "2024-12-07T18:26:12.691441Z"
    }
   },
   "cell_type": "code",
   "source": [
    "apple_quality.shape\n",
    "print(f\"Number of rows: {apple_quality.shape[0]}\")\n",
    "print(f\"Number of columns: {apple_quality.shape[1]}\")"
   ],
   "id": "e993ebc1fbe89875",
   "outputs": [
    {
     "name": "stdout",
     "output_type": "stream",
     "text": [
      "Number of rows: 4001\n",
      "Number of columns: 9\n"
     ]
    }
   ],
   "execution_count": 4736
  },
  {
   "metadata": {
    "ExecuteTime": {
     "end_time": "2024-12-07T18:26:12.732726Z",
     "start_time": "2024-12-07T18:26:12.730308Z"
    }
   },
   "cell_type": "code",
   "source": "apple_quality.columns\n",
   "id": "1054f4e9d7b6bba9",
   "outputs": [
    {
     "data": {
      "text/plain": [
       "Index(['A_id', 'Size', 'Weight', 'Sweetness', 'Crunchiness', 'Juiciness',\n",
       "       'Ripeness', 'Acidity', 'Quality'],\n",
       "      dtype='object')"
      ]
     },
     "execution_count": 4737,
     "metadata": {},
     "output_type": "execute_result"
    }
   ],
   "execution_count": 4737
  },
  {
   "metadata": {
    "ExecuteTime": {
     "end_time": "2024-12-07T18:26:12.765961Z",
     "start_time": "2024-12-07T18:26:12.763302Z"
    }
   },
   "cell_type": "code",
   "source": "apple_quality.dtypes",
   "id": "e342f77de4e38386",
   "outputs": [
    {
     "data": {
      "text/plain": [
       "A_id           float64\n",
       "Size           float64\n",
       "Weight         float64\n",
       "Sweetness      float64\n",
       "Crunchiness    float64\n",
       "Juiciness      float64\n",
       "Ripeness       float64\n",
       "Acidity         object\n",
       "Quality         object\n",
       "dtype: object"
      ]
     },
     "execution_count": 4738,
     "metadata": {},
     "output_type": "execute_result"
    }
   ],
   "execution_count": 4738
  },
  {
   "metadata": {},
   "cell_type": "markdown",
   "source": [
    "### Data Cleaning and processing\n",
    "\n",
    "Before we can build machine learning models, the dataset will need to be cleaned and processed.  This will involve checking for missing values, duplicates, and converting the data types where necessary."
   ],
   "id": "2eb981a61d4ebba"
  },
  {
   "metadata": {},
   "cell_type": "markdown",
   "source": [
    "#### Missing values\n",
    "\n",
    "First, the dataset will be checked for missing values.\n",
    "\n",
    "If missing values are found, the following strategies can be used to handle them:\n",
    "\n",
    "- Remove the rows with missing values\n",
    "- Replace the missing values with the mean, median, or mode of the column\n",
    "- Replace the missing values with a specific value\n"
   ],
   "id": "78fcacca63b537e6"
  },
  {
   "metadata": {
    "ExecuteTime": {
     "end_time": "2024-12-07T18:26:12.798113Z",
     "start_time": "2024-12-07T18:26:12.795059Z"
    }
   },
   "cell_type": "code",
   "source": "apple_quality.isnull().sum()",
   "id": "1d1f8adbf0da5a2d",
   "outputs": [
    {
     "data": {
      "text/plain": [
       "A_id           1\n",
       "Size           1\n",
       "Weight         1\n",
       "Sweetness      1\n",
       "Crunchiness    1\n",
       "Juiciness      1\n",
       "Ripeness       1\n",
       "Acidity        0\n",
       "Quality        1\n",
       "dtype: int64"
      ]
     },
     "execution_count": 4739,
     "metadata": {},
     "output_type": "execute_result"
    }
   ],
   "execution_count": 4739
  },
  {
   "metadata": {
    "ExecuteTime": {
     "end_time": "2024-12-07T18:26:12.827477Z",
     "start_time": "2024-12-07T18:26:12.823790Z"
    }
   },
   "cell_type": "code",
   "source": [
    "# Find rows with any missing values\n",
    "rows_with_missing_values = apple_quality[apple_quality.isnull().any(axis=1)]\n",
    "\n",
    "# Display the rows with missing values\n",
    "print(rows_with_missing_values)"
   ],
   "id": "f83cc5cbc85657cb",
   "outputs": [
    {
     "name": "stdout",
     "output_type": "stream",
     "text": [
      "      A_id  Size  Weight  Sweetness  Crunchiness  Juiciness  Ripeness  \\\n",
      "4000   NaN   NaN     NaN        NaN          NaN        NaN       NaN   \n",
      "\n",
      "                                Acidity Quality  \n",
      "4000  Created_by_Nidula_Elgiriyewithana     NaN  \n"
     ]
    }
   ],
   "execution_count": 4740
  },
  {
   "metadata": {},
   "cell_type": "markdown",
   "source": "There is one row with multiple missing values.  It looks like this row is a footer row that only shows who created the dataset.  This row will be removed from the dataset.",
   "id": "be2eca954e51211c"
  },
  {
   "metadata": {
    "ExecuteTime": {
     "end_time": "2024-12-07T18:26:12.853313Z",
     "start_time": "2024-12-07T18:26:12.850365Z"
    }
   },
   "cell_type": "code",
   "source": [
    "# Remove the row with missing values\n",
    "apple_quality = apple_quality.dropna()\n",
    "apple_quality.shape"
   ],
   "id": "ea9de571a9bc8041",
   "outputs": [
    {
     "data": {
      "text/plain": [
       "(4000, 9)"
      ]
     },
     "execution_count": 4741,
     "metadata": {},
     "output_type": "execute_result"
    }
   ],
   "execution_count": 4741
  },
  {
   "metadata": {},
   "cell_type": "markdown",
   "source": "The row with missing values has been removed from the dataset.  Next, the dataset will be checked for duplicates.",
   "id": "2e31e916220cc36a"
  },
  {
   "metadata": {},
   "cell_type": "markdown",
   "source": [
    "#### Duplicates\n",
    "\n",
    "Next, the dataset will be checked for duplicates.  If duplicates are found, they will be removed from the dataset."
   ],
   "id": "f177e9ea9c052e79"
  },
  {
   "metadata": {
    "ExecuteTime": {
     "end_time": "2024-12-07T18:26:12.873400Z",
     "start_time": "2024-12-07T18:26:12.869159Z"
    }
   },
   "cell_type": "code",
   "source": [
    "# Find duplicates in the dataset\n",
    "duplicates = apple_quality[apple_quality.duplicated()]\n",
    "duplicates"
   ],
   "id": "dbf3d96a6a9410f2",
   "outputs": [
    {
     "data": {
      "text/plain": [
       "Empty DataFrame\n",
       "Columns: [A_id, Size, Weight, Sweetness, Crunchiness, Juiciness, Ripeness, Acidity, Quality]\n",
       "Index: []"
      ],
      "text/html": [
       "<div>\n",
       "<style scoped>\n",
       "    .dataframe tbody tr th:only-of-type {\n",
       "        vertical-align: middle;\n",
       "    }\n",
       "\n",
       "    .dataframe tbody tr th {\n",
       "        vertical-align: top;\n",
       "    }\n",
       "\n",
       "    .dataframe thead th {\n",
       "        text-align: right;\n",
       "    }\n",
       "</style>\n",
       "<table border=\"1\" class=\"dataframe\">\n",
       "  <thead>\n",
       "    <tr style=\"text-align: right;\">\n",
       "      <th></th>\n",
       "      <th>A_id</th>\n",
       "      <th>Size</th>\n",
       "      <th>Weight</th>\n",
       "      <th>Sweetness</th>\n",
       "      <th>Crunchiness</th>\n",
       "      <th>Juiciness</th>\n",
       "      <th>Ripeness</th>\n",
       "      <th>Acidity</th>\n",
       "      <th>Quality</th>\n",
       "    </tr>\n",
       "  </thead>\n",
       "  <tbody>\n",
       "  </tbody>\n",
       "</table>\n",
       "</div>"
      ]
     },
     "execution_count": 4742,
     "metadata": {},
     "output_type": "execute_result"
    }
   ],
   "execution_count": 4742
  },
  {
   "metadata": {},
   "cell_type": "markdown",
   "source": "The dataset does not contain any duplicates.  The next action will be to convert the data types where necessary.",
   "id": "3809788e06f9ca70"
  },
  {
   "metadata": {},
   "cell_type": "markdown",
   "source": [
    "#### Data Type Conversion\n",
    "\n",
    "Next, the data types of the columns will be reviewed and converted where necessary.  The 'Acidity' column will be converted to a float data type, and the 'Quality' column will be converted to a category data type."
   ],
   "id": "3113d12a915c367f"
  },
  {
   "metadata": {
    "ExecuteTime": {
     "end_time": "2024-12-07T18:26:12.893576Z",
     "start_time": "2024-12-07T18:26:12.890622Z"
    }
   },
   "cell_type": "code",
   "source": [
    "# Convert the 'Acidity' column to a float\n",
    "apple_quality['Acidity'] = apple_quality['Acidity'].astype(float)\n",
    "apple_quality.dtypes"
   ],
   "id": "6257288adefc2f1e",
   "outputs": [
    {
     "data": {
      "text/plain": [
       "A_id           float64\n",
       "Size           float64\n",
       "Weight         float64\n",
       "Sweetness      float64\n",
       "Crunchiness    float64\n",
       "Juiciness      float64\n",
       "Ripeness       float64\n",
       "Acidity        float64\n",
       "Quality         object\n",
       "dtype: object"
      ]
     },
     "execution_count": 4743,
     "metadata": {},
     "output_type": "execute_result"
    }
   ],
   "execution_count": 4743
  },
  {
   "metadata": {},
   "cell_type": "markdown",
   "source": "The data type of the 'acidity' column has been converted successfully.  Next, the dataset will be checked for missing values post the conversion.",
   "id": "57f93600276c8336"
  },
  {
   "metadata": {
    "ExecuteTime": {
     "end_time": "2024-12-07T18:26:12.937444Z",
     "start_time": "2024-12-07T18:26:12.935317Z"
    }
   },
   "cell_type": "code",
   "source": [
    "# Find rows with any missing values\n",
    "rows_with_missing_values = apple_quality[apple_quality.isnull().any(axis=1)]\n",
    "\n",
    "# Display the rows with missing values\n",
    "if not rows_with_missing_values.empty:\n",
    "    print(rows_with_missing_values)\n",
    "else:\n",
    "    print(\"There are no missing values in the dataset.\")\n"
   ],
   "id": "745a0fa2499b33fa",
   "outputs": [
    {
     "name": "stdout",
     "output_type": "stream",
     "text": [
      "There are no missing values in the dataset.\n"
     ]
    }
   ],
   "execution_count": 4744
  },
  {
   "metadata": {},
   "cell_type": "markdown",
   "source": "This conversion did not add any missing values to the dataset.  Next, the 'Quality' column will be converted to a category data type.",
   "id": "eeefeb5d60a9af57"
  },
  {
   "metadata": {
    "ExecuteTime": {
     "end_time": "2024-12-07T18:26:12.973583Z",
     "start_time": "2024-12-07T18:26:12.970096Z"
    }
   },
   "cell_type": "code",
   "source": [
    "# Convert the 'Quality' column to a category data type\n",
    "apple_quality['Quality'] = apple_quality['Quality'].astype('category')\n",
    "apple_quality.dtypes"
   ],
   "id": "e2e3e42346203759",
   "outputs": [
    {
     "data": {
      "text/plain": [
       "A_id            float64\n",
       "Size            float64\n",
       "Weight          float64\n",
       "Sweetness       float64\n",
       "Crunchiness     float64\n",
       "Juiciness       float64\n",
       "Ripeness        float64\n",
       "Acidity         float64\n",
       "Quality        category\n",
       "dtype: object"
      ]
     },
     "execution_count": 4745,
     "metadata": {},
     "output_type": "execute_result"
    }
   ],
   "execution_count": 4745
  },
  {
   "metadata": {
    "ExecuteTime": {
     "end_time": "2024-12-07T18:26:13.002635Z",
     "start_time": "2024-12-07T18:26:12.999735Z"
    }
   },
   "cell_type": "code",
   "source": "apple_quality['Quality'].value_counts()",
   "id": "3c967eee9f4974c2",
   "outputs": [
    {
     "data": {
      "text/plain": [
       "Quality\n",
       "good    2004\n",
       "bad     1996\n",
       "Name: count, dtype: int64"
      ]
     },
     "execution_count": 4746,
     "metadata": {},
     "output_type": "execute_result"
    }
   ],
   "execution_count": 4746
  },
  {
   "metadata": {},
   "cell_type": "markdown",
   "source": "The 'Quality' column has been converted to a category data type successfully.  The 'Quality' column now contains 2 categories: 'Good' and 'Bad'.",
   "id": "cd3dbcb8949f4ebe"
  },
  {
   "metadata": {},
   "cell_type": "markdown",
   "source": "The datatypes have been converted successfully.  The dataset is now ready for analysis.",
   "id": "373ae212a0849c33"
  },
  {
   "metadata": {},
   "cell_type": "markdown",
   "source": [
    "### Linear Regression: Explanation\n",
    "\n",
    "#### Useful Terms:\n",
    "\n",
    "- Algorithm: A set of rules or instructions used to solve a problem.\n",
    "- Model: The result of applying an algorithm to data.\n",
    "- Linear Regression Algorithm: Used to predict the value of a dependent variable based on one or more independent variables.\n",
    "- Trained Model: A mathematical representation that can make predictions for new, unseen data.\n",
    "\n",
    "#### Regression analysis:\n",
    "\n",
    "The aim of regression analysis is to find the best-fitting line (or curve in more complex cases) that describes the relationship between the independent and dependent variables.\n",
    "\n",
    "The line is called the regression line, and can then be used to make predictions for new data points.\n",
    "\n",
    "Regression aims to predict the \"regression\" of the dependent variable towards the mean as it is influenced by the independent variables.\n",
    "\n",
    "#### Linear Regression:\n",
    "\n",
    " Linear regression is a statistical method used to model the relationship between two or more variables.  It is used to predict the value of a dependent variable based on one or more independent variables.  The relationship is represented by a straight line.\n",
    "\n",
    "In linear regression, the focus is on estimating the coefficients (slope and intercept) of the regression equation, which represents the best-fitting straight line that describes the relationship between the variables.\n",
    "\n",
    "This line represents the \"average\" or \"expected\" change in the dependent variable for a unit change in the independent variable.\n",
    "\n",
    "The regression equation allows us to make predictions and understand how changes in the independent variable(s) affect the dependent variable.\n"
   ],
   "id": "be7173c57923fb1"
  },
  {
   "metadata": {},
   "cell_type": "markdown",
   "source": "#### Split the data into training and testing sets\n",
   "id": "25e243aac65d7402"
  },
  {
   "metadata": {
    "ExecuteTime": {
     "end_time": "2024-12-07T18:26:13.030055Z",
     "start_time": "2024-12-07T18:26:13.027984Z"
    }
   },
   "cell_type": "code",
   "source": [
    "from sklearn.model_selection import train_test_split\n",
    "from sklearn.linear_model import LinearRegression\n",
    "\n",
    "def split_data(x_col, y_col):\n",
    "    # Split the data into independent and dependent variables\n",
    "    x = apple_quality[[x_col]]\n",
    "    y = apple_quality[[y_col]]\n",
    "\n",
    "    # Split the data into training and testing sets\n",
    "    x_train, x_test, y_train, y_test = train_test_split(x, y, test_size=0.2)\n",
    "\n",
    "    return x_train, x_test, y_train, y_test"
   ],
   "id": "b252e6c2a0141fa7",
   "outputs": [],
   "execution_count": 4747
  },
  {
   "metadata": {
    "ExecuteTime": {
     "end_time": "2024-12-07T18:26:13.056082Z",
     "start_time": "2024-12-07T18:26:13.053939Z"
    }
   },
   "cell_type": "code",
   "source": "apple_quality.columns",
   "id": "86d5d00b18cbb7b2",
   "outputs": [
    {
     "data": {
      "text/plain": [
       "Index(['A_id', 'Size', 'Weight', 'Sweetness', 'Crunchiness', 'Juiciness',\n",
       "       'Ripeness', 'Acidity', 'Quality'],\n",
       "      dtype='object')"
      ]
     },
     "execution_count": 4748,
     "metadata": {},
     "output_type": "execute_result"
    }
   ],
   "execution_count": 4748
  },
  {
   "metadata": {},
   "cell_type": "markdown",
   "source": [
    "For reference:\n",
    "\n",
    "- [0] = x_train\n",
    "- [1] = x_test\n",
    "- [2] = y_train\n",
    "- [3] = y_test"
   ],
   "id": "30f19db66b2eb70e"
  },
  {
   "metadata": {
    "ExecuteTime": {
     "end_time": "2024-12-07T18:26:13.109043Z",
     "start_time": "2024-12-07T18:26:13.068752Z"
    }
   },
   "cell_type": "code",
   "source": [
    "# Split the data into training and testing sets\n",
    "\n",
    "r_score = {}\n",
    "\n",
    "# Size and ...\n",
    "size_weight = split_data('Size', 'Weight')\n",
    "size_weight_model = LinearRegression()\n",
    "size_weight_model.fit(size_weight[0], size_weight[2])\n",
    "r_score['Size vs Weight'] = size_weight_model.score(size_weight[1], size_weight[3])\n",
    "\n",
    "size_sweetness = split_data('Size', 'Sweetness')\n",
    "size_sweetness_model = LinearRegression()\n",
    "size_sweetness_model.fit(size_sweetness[0], size_sweetness[2])\n",
    "r_score['Size vs Sweetness'] = size_sweetness_model.score(size_sweetness[1], size_sweetness[3])\n",
    "\n",
    "size_crunchiness = split_data('Size', 'Crunchiness')\n",
    "size_crunchiness_model = LinearRegression()\n",
    "size_crunchiness_model.fit(size_crunchiness[0], size_crunchiness[2])\n",
    "r_score['Size vs Crunchiness'] = size_crunchiness_model.score(size_crunchiness[1], size_crunchiness[3])\n",
    "\n",
    "size_juiciness = split_data('Size', 'Juiciness')\n",
    "size_juiciness_model = LinearRegression()\n",
    "size_juiciness_model.fit(size_juiciness[0], size_juiciness[2])\n",
    "r_score['Size vs Juiciness'] = size_juiciness_model.score(size_juiciness[1], size_juiciness[3])\n",
    "\n",
    "size_ripeness = split_data('Size', 'Ripeness')\n",
    "size_ripeness_model = LinearRegression()\n",
    "size_ripeness_model.fit(size_ripeness[0], size_ripeness[2])\n",
    "r_score['Size vs Ripeness'] = size_ripeness_model.score(size_ripeness[1], size_ripeness[3])\n",
    "\n",
    "size_acidity = split_data('Size', 'Acidity')\n",
    "size_acidity_model = LinearRegression()\n",
    "size_acidity_model.fit(size_acidity[0], size_acidity[2])\n",
    "r_score['Size vs Acidity'] = size_acidity_model.score(size_acidity[1], size_acidity[3])\n",
    "\n",
    "# Weight and ...\n",
    "weight_sweetness = split_data('Weight', 'Sweetness')\n",
    "weight_sweetness_model = LinearRegression()\n",
    "weight_sweetness_model.fit(weight_sweetness[0], weight_sweetness[2])\n",
    "r_score['Weight vs Sweetness'] = weight_sweetness_model.score(weight_sweetness[1], weight_sweetness[3])\n",
    "\n",
    "weight_crunchiness = split_data('Weight', 'Crunchiness')\n",
    "weight_crunchiness_model = LinearRegression()\n",
    "weight_crunchiness_model.fit(weight_crunchiness[0], weight_crunchiness[2])\n",
    "r_score['Weight vs Crunchiness'] = weight_crunchiness_model.score(weight_crunchiness[1], weight_crunchiness[3])\n",
    "\n",
    "weight_juiciness = split_data('Weight', 'Juiciness')\n",
    "weight_juiciness_model = LinearRegression()\n",
    "weight_juiciness_model.fit(weight_juiciness[0], weight_juiciness[2])\n",
    "r_score['Weight vs Juiciness'] = weight_juiciness_model.score(weight_juiciness[1], weight_juiciness[3])\n",
    "\n",
    "weight_ripeness = split_data('Weight', 'Ripeness')\n",
    "weight_ripeness_model = LinearRegression()\n",
    "weight_ripeness_model.fit(weight_ripeness[0], weight_ripeness[2])\n",
    "r_score['Weight vs Ripeness'] = weight_ripeness_model.score(weight_ripeness[1], weight_ripeness[3])\n",
    "\n",
    "weight_acidity = split_data('Weight', 'Acidity')\n",
    "weight_acidity_model = LinearRegression()\n",
    "weight_acidity_model.fit(weight_acidity[0], weight_acidity[2])\n",
    "r_score['Weight vs Acidity'] = weight_acidity_model.score(weight_acidity[1], weight_acidity[3])\n",
    "\n",
    "# Sweetness and ...\n",
    "sweetness_crunchiness = split_data('Sweetness', 'Crunchiness')\n",
    "sweetness_crunchiness_model = LinearRegression()\n",
    "sweetness_crunchiness_model.fit(sweetness_crunchiness[0], sweetness_crunchiness[2])\n",
    "r_score['Sweetness vs Crunchiness'] = sweetness_crunchiness_model.score(sweetness_crunchiness[1], sweetness_crunchiness[3])\n",
    "\n",
    "sweetness_juiciness = split_data('Sweetness', 'Juiciness')\n",
    "sweetness_juiciness_model = LinearRegression()\n",
    "sweetness_juiciness_model.fit(sweetness_juiciness[0], sweetness_juiciness[2])\n",
    "r_score['Sweetness vs Juiciness'] = sweetness_juiciness_model.score(sweetness_juiciness[1], sweetness_juiciness[3])\n",
    "\n",
    "sweetness_ripeness = split_data('Sweetness', 'Ripeness')\n",
    "sweetness_ripeness_model = LinearRegression()\n",
    "sweetness_ripeness_model.fit(sweetness_ripeness[0], sweetness_ripeness[2])\n",
    "r_score['Sweetness vs Ripeness'] = sweetness_ripeness_model.score(sweetness_ripeness[1], sweetness_ripeness[3])\n",
    "\n",
    "sweetness_acidity = split_data('Sweetness', 'Acidity')\n",
    "sweetness_acidity_model = LinearRegression()\n",
    "sweetness_acidity_model.fit(sweetness_acidity[0], sweetness_acidity[2])\n",
    "r_score['Sweetness vs Acidity'] = sweetness_acidity_model.score(sweetness_acidity[1], sweetness_acidity[3])\n",
    "\n",
    "# Crunchiness and ...\n",
    "crunchiness_juiciness = split_data('Crunchiness', 'Juiciness')\n",
    "crunchiness_juiciness_model = LinearRegression()\n",
    "crunchiness_juiciness_model.fit(crunchiness_juiciness[0], crunchiness_juiciness[2])\n",
    "r_score['Crunchiness vs Juiciness'] = crunchiness_juiciness_model.score(crunchiness_juiciness[1], crunchiness_juiciness[3])\n",
    "\n",
    "crunchiness_ripeness = split_data('Crunchiness', 'Ripeness')\n",
    "crunchiness_ripeness_model = LinearRegression()\n",
    "crunchiness_ripeness_model.fit(crunchiness_ripeness[0], crunchiness_ripeness[2])\n",
    "r_score['Crunchiness vs Ripeness'] = crunchiness_ripeness_model.score(crunchiness_ripeness[1], crunchiness_ripeness[3])\n",
    "\n",
    "crunchiness_acidity = split_data('Crunchiness', 'Acidity')\n",
    "crunchiness_acidity_model = LinearRegression()\n",
    "crunchiness_acidity_model.fit(crunchiness_acidity[0], crunchiness_acidity[2])\n",
    "r_score['Crunchiness vs Acidity'] = crunchiness_acidity_model.score(crunchiness_acidity[1], crunchiness_acidity[3])\n",
    "\n",
    "# Juiciness and ...\n",
    "juiciness_ripeness = split_data('Juiciness', 'Ripeness')\n",
    "juiciness_ripeness_model = LinearRegression()\n",
    "juiciness_ripeness_model.fit(juiciness_ripeness[0], juiciness_ripeness[2])\n",
    "r_score['Juiciness vs Ripeness'] = juiciness_ripeness_model.score(juiciness_ripeness[1], juiciness_ripeness[3])\n",
    "\n",
    "juiciness_acidity = split_data('Juiciness', 'Acidity')\n",
    "juiciness_acidity_model = LinearRegression()\n",
    "juiciness_acidity_model.fit(juiciness_acidity[0], juiciness_acidity[2])\n",
    "r_score['Juiciness vs Acidity'] = juiciness_acidity_model.score(juiciness_acidity[1], juiciness_acidity[3])\n",
    "\n",
    "ripeness_acidity = split_data('Ripeness', 'Acidity')\n",
    "ripeness_acidity_model = LinearRegression()\n",
    "ripeness_acidity_model.fit(ripeness_acidity[0], ripeness_acidity[2])\n",
    "r_score['Ripeness vs Acidity'] = ripeness_acidity_model.score(ripeness_acidity[1], ripeness_acidity[3])\n"
   ],
   "id": "477637d0a7e33963",
   "outputs": [],
   "execution_count": 4749
  },
  {
   "metadata": {},
   "cell_type": "markdown",
   "source": "#### R-Scores",
   "id": "6c1d34d373716228"
  },
  {
   "metadata": {
    "ExecuteTime": {
     "end_time": "2024-12-07T18:26:13.114639Z",
     "start_time": "2024-12-07T18:26:13.113027Z"
    }
   },
   "cell_type": "code",
   "source": [
    "# Print the R-scores\n",
    "for key, value in r_score.items():\n",
    "    print(f\"{key}: {value}\")\n",
    "\n",
    "# Find the highest R-score\n",
    "max_r_score = max(r_score, key=r_score.get)\n",
    "print(f\"The highest R-score is for the relationship: {max_r_score} - R-score: {r_score[max_r_score]}\")"
   ],
   "id": "36fcb419cd70c3dc",
   "outputs": [
    {
     "name": "stdout",
     "output_type": "stream",
     "text": [
      "Size vs Weight: 0.033532941494992974\n",
      "Size vs Sweetness: 0.13141848582020332\n",
      "Size vs Crunchiness: 0.04397287609065781\n",
      "Size vs Juiciness: -0.00255826922220459\n",
      "Size vs Ripeness: 0.011047359858847527\n",
      "Size vs Acidity: 0.04612103672435908\n",
      "Weight vs Sweetness: 0.02512880518188665\n",
      "Weight vs Crunchiness: 0.015551105270546928\n",
      "Weight vs Juiciness: 0.0006180276705226584\n",
      "Weight vs Ripeness: 0.06050714687021175\n",
      "Weight vs Acidity: 0.00021049928688876562\n",
      "Sweetness vs Crunchiness: -0.0011153257047318288\n",
      "Sweetness vs Juiciness: 0.009625580628475738\n",
      "Sweetness vs Ripeness: 0.07602215410544944\n",
      "Sweetness vs Acidity: 0.005484278033885737\n",
      "Crunchiness vs Juiciness: 0.07092574130458529\n",
      "Crunchiness vs Ripeness: 0.05623659170207107\n",
      "Crunchiness vs Acidity: -0.0002222631277057907\n",
      "Juiciness vs Ripeness: 0.00802640540706856\n",
      "Juiciness vs Acidity: 0.06144692036905364\n",
      "Ripeness vs Acidity: 0.03674850176296951\n",
      "The highest R-score is for the relationship: Size vs Sweetness - R-score: 0.13141848582020332\n"
     ]
    }
   ],
   "execution_count": 4750
  },
  {
   "metadata": {},
   "cell_type": "markdown",
   "source": "#### Regression Scatter Plot",
   "id": "d5cd1689168f02bc"
  },
  {
   "metadata": {
    "ExecuteTime": {
     "end_time": "2024-12-07T18:26:13.188961Z",
     "start_time": "2024-12-07T18:26:13.135815Z"
    }
   },
   "cell_type": "code",
   "source": [
    "import matplotlib.pyplot as plt\n",
    "\n",
    "# [0] = x_train, [1] = x_test, [2] = y_train, [3] = y_test\n",
    "\n",
    "x_train = size_sweetness[0]\n",
    "x_test = size_sweetness[1]\n",
    "y_train = size_sweetness[2]\n",
    "y_test = size_sweetness[3]\n",
    "\n",
    "y_pred = size_sweetness_model.predict(x_test)\n",
    "\n",
    "# Plot the regression line for the highest R-score (Size vs Sweetness)\n",
    "plt.scatter(x_test, y_test, color='black', label='Actual data')\n",
    "plt.plot(x_test, y_pred, color='blue', linewidth=3, label='Regression line')\n",
    "plt.xlabel('Size')\n",
    "plt.ylabel('Sweetness')\n",
    "plt.title('Regression Analysis')\n",
    "plt.legend()\n",
    "plt.show()"
   ],
   "id": "34f3674717b73175",
   "outputs": [
    {
     "data": {
      "text/plain": [
       "<Figure size 640x480 with 1 Axes>"
      ],
      "image/png": "[encoded data removed]"
     },
     "metadata": {},
     "output_type": "display_data"
    }
   ],
   "execution_count": 4751
  },
  {
   "metadata": {},
   "cell_type": "markdown",
   "source": [
    "#### Interpretation\n",
    "\n",
    "The linear regression models have been built successfully, and the R-scores have been calculated.  The R-scores show how well the independent variables predict the dependent variables.  The highest R-score is for the relationship between 'Size' and 'Sweetness'.\n",
    "\n",
    "R-squared (R²) (calculated from R-value) is another measure of how well the regression line fits the data points. It ranges from 0 to 1, where 0 indicates that the regression line explains none of the variance in the data, and 1 indicates that the regression line perfectly fits the data .  The score is between 0.1 and 0.2 when run more than once, which is not a strong relationship.\n",
    "\n",
    "The regression scatter plot shows the actual data points and the regression line for the relationship between 'Size' and 'Sweetness'.\n",
    "\n",
    "The linear regression models can be used to make predictions for new data points based on the relationships between the variables.\n",
    "\n",
    "This shows us that smaller apples are sweeter, and larger apples are less sweet.\n",
    "\n",
    "This concludes the analysis of the Apple Quality dataset using linear regression models."
   ],
   "id": "8b92b39d65964917"
  },
  {
   "metadata": {},
   "cell_type": "markdown",
   "source": [
    "### Logistic Regression: Explanation\n",
    "Logistic Regression is a statistical method used for binary classification, which means it's employed to predict one of two possible outcomes (usually represented as 0 or 1) based on input features.\n",
    "It is a classification algorithm that is used when the dependent variable is binary (0 or 1, True or False, Yes or No), and not a true regression one.\n",
    "\n",
    "It models the probability of the binary outcome using the logistic function, also known as the sigmoid function, which maps any input to a value between 0 and 1.\n",
    "It is used to predict categorical variables.\n",
    "\n",
    "We can use this to predict if an apple is of good quality or bad quality based on the features in the dataset.\n"
   ],
   "id": "a444c7258c02b6d0"
  },
  {
   "metadata": {},
   "cell_type": "markdown",
   "source": "#### Split the data into training and testing sets",
   "id": "54d866a377cbbd18"
  },
  {
   "metadata": {
    "ExecuteTime": {
     "end_time": "2024-12-07T18:26:13.212443Z",
     "start_time": "2024-12-07T18:26:13.193518Z"
    }
   },
   "cell_type": "code",
   "source": [
    "from sklearn.linear_model import LogisticRegression\n",
    "from sklearn.metrics import accuracy_score\n",
    "\n",
    "accuracy_score_dict = {}\n",
    "\n",
    "# Split data into features (X) and target variable (y)\n",
    "x = apple_quality[['Size', 'Weight', 'Sweetness', 'Crunchiness', 'Juiciness', 'Ripeness', 'Acidity']]\n",
    "y = apple_quality['Quality']\n",
    "\n",
    "# Split the data into training and testing sets\n",
    "x_train, x_test, y_train, y_test = train_test_split(x, y, test_size=0.2)\n",
    "\n",
    "# Create a logistic regression model\n",
    "model = LogisticRegression()\n",
    "\n",
    "# Fit the model to the training data\n",
    "model.fit(x_train, y_train)\n",
    "\n",
    "# Make predictions on the testing data\n",
    "y_pred = model.predict(x_test)\n",
    "\n",
    "# Calculate the model's accuracy\n",
    "accuracy = accuracy_score(y_test, y_pred)\n",
    "print(f\"Model Accuracy: {accuracy:.2f}\")\n",
    "\n",
    "# Store the accuracy score\n",
    "accuracy_score_dict['All Features'] = accuracy"
   ],
   "id": "27bd0c221ba49930",
   "outputs": [
    {
     "name": "stdout",
     "output_type": "stream",
     "text": [
      "Model Accuracy: 0.73\n"
     ]
    }
   ],
   "execution_count": 4752
  },
  {
   "metadata": {
    "ExecuteTime": {
     "end_time": "2024-12-07T18:26:13.249738Z",
     "start_time": "2024-12-07T18:26:13.246925Z"
    }
   },
   "cell_type": "code",
   "source": [
    "def split_data_lr(x_col):\n",
    "    # Split the data into independent and dependent variables\n",
    "    x = apple_quality[[x_col]]\n",
    "    y = apple_quality['Quality']\n",
    "\n",
    "    # Split the data into training and testing sets\n",
    "    x_train, x_test, y_train, y_test = train_test_split(x, y, test_size=0.2)\n",
    "\n",
    "    return x_train, x_test, y_train, y_test"
   ],
   "id": "d2aa139daf9bada3",
   "outputs": [],
   "execution_count": 4753
  },
  {
   "metadata": {
    "ExecuteTime": {
     "end_time": "2024-12-07T18:26:13.315354Z",
     "start_time": "2024-12-07T18:26:13.267435Z"
    }
   },
   "cell_type": "code",
   "source": [
    "# Size and Quality\n",
    "size_quality = split_data_lr('Size')\n",
    "size_quality_model = LogisticRegression()\n",
    "size_quality_model.fit(size_quality[0], size_quality[2])\n",
    "size_quality_y_pred = size_quality_model.predict(size_quality[1])\n",
    "size_quality_accuracy = accuracy_score(size_quality[3], size_quality_y_pred)\n",
    "print(f\"Size vs Quality Model Accuracy: {size_quality_accuracy:.2f}\")\n",
    "# accuracy_score_dict['Size vs Quality'] = size_quality_accuracy\n",
    "\n",
    "# Weight and Quality\n",
    "weight_quality = split_data_lr('Weight')\n",
    "weight_quality_model = LogisticRegression()\n",
    "weight_quality_model.fit(weight_quality[0], weight_quality[2])\n",
    "weight_quality_y_pred = weight_quality_model.predict(weight_quality[1])\n",
    "weight_quality_accuracy = accuracy_score(weight_quality[3], weight_quality_y_pred)\n",
    "print(f\"Weight vs Quality Model Accuracy: {weight_quality_accuracy:.2f}\")\n",
    "accuracy_score_dict['Weight vs Quality'] = weight_quality_accuracy\n",
    "\n",
    "# Sweetness and Quality\n",
    "sweetness_quality = split_data_lr('Sweetness')\n",
    "sweetness_quality_model = LogisticRegression()\n",
    "sweetness_quality_model.fit(sweetness_quality[0], sweetness_quality[2])\n",
    "sweetness_quality_y_pred = sweetness_quality_model.predict(sweetness_quality[1])\n",
    "sweetness_quality_accuracy = accuracy_score(sweetness_quality[3], sweetness_quality_y_pred)\n",
    "print(f\"Sweetness vs Quality Model Accuracy: {sweetness_quality_accuracy:.2f}\")\n",
    "accuracy_score_dict['Sweetness vs Quality'] = sweetness_quality_accuracy\n",
    "\n",
    "# Crunchiness and Quality\n",
    "crunchiness_quality = split_data_lr('Crunchiness')\n",
    "crunchiness_quality_model = LogisticRegression()\n",
    "crunchiness_quality_model.fit(crunchiness_quality[0], crunchiness_quality[2])\n",
    "crunchiness_quality_y_pred = crunchiness_quality_model.predict(crunchiness_quality[1])\n",
    "crunchiness_quality_accuracy = accuracy_score(crunchiness_quality[3], crunchiness_quality_y_pred)\n",
    "print(f\"Crunchiness vs Quality Model Accuracy: {crunchiness_quality_accuracy:.2f}\")\n",
    "accuracy_score_dict['Crunchiness vs Quality'] = crunchiness_quality_accuracy\n",
    "\n",
    "# Juiciness and Quality\n",
    "juiciness_quality = split_data_lr('Juiciness')\n",
    "juiciness_quality_model = LogisticRegression()\n",
    "juiciness_quality_model.fit(juiciness_quality[0], juiciness_quality[2])\n",
    "juiciness_quality_y_pred = juiciness_quality_model.predict(juiciness_quality[1])\n",
    "juiciness_quality_accuracy = accuracy_score(juiciness_quality[3], juiciness_quality_y_pred)\n",
    "print(f\"Juiciness vs Quality Model Accuracy: {juiciness_quality_accuracy:.2f}\")\n",
    "accuracy_score_dict['Juiciness vs Quality'] = juiciness_quality_accuracy\n",
    "\n",
    "# Ripeness and Quality\n",
    "ripeness_quality = split_data_lr('Ripeness')\n",
    "ripeness_quality_model = LogisticRegression()\n",
    "ripeness_quality_model.fit(ripeness_quality[0], ripeness_quality[2])\n",
    "ripeness_quality_y_pred = ripeness_quality_model.predict(ripeness_quality[1])\n",
    "ripeness_quality_accuracy = accuracy_score(ripeness_quality[3], ripeness_quality_y_pred)\n",
    "print(f\"Ripeness vs Quality Model Accuracy: {ripeness_quality_accuracy:.2f}\")\n",
    "accuracy_score_dict['Ripeness vs Quality'] = ripeness_quality_accuracy\n",
    "\n",
    "# Acidity and Quality\n",
    "acidity_quality = split_data_lr('Acidity')\n",
    "acidity_quality_model = LogisticRegression()\n",
    "acidity_quality_model.fit(acidity_quality[0], acidity_quality[2])\n",
    "acidity_quality_y_pred = acidity_quality_model.predict(acidity_quality[1])\n",
    "acidity_quality_accuracy = accuracy_score(acidity_quality[3], acidity_quality_y_pred)\n",
    "print(f\"Acidity vs Quality Model Accuracy: {acidity_quality_accuracy:.2f}\")\n",
    "accuracy_score_dict['Acidity vs Quality'] = acidity_quality_accuracy\n"
   ],
   "id": "31cfb29aa76782d0",
   "outputs": [
    {
     "name": "stdout",
     "output_type": "stream",
     "text": [
      "Size vs Quality Model Accuracy: 0.61\n",
      "Weight vs Quality Model Accuracy: 0.46\n",
      "Sweetness vs Quality Model Accuracy: 0.60\n",
      "Crunchiness vs Quality Model Accuracy: 0.52\n",
      "Juiciness vs Quality Model Accuracy: 0.62\n",
      "Ripeness vs Quality Model Accuracy: 0.61\n",
      "Acidity vs Quality Model Accuracy: 0.45\n"
     ]
    }
   ],
   "execution_count": 4754
  },
  {
   "metadata": {
    "ExecuteTime": {
     "end_time": "2024-12-07T18:26:13.322622Z",
     "start_time": "2024-12-07T18:26:13.320902Z"
    }
   },
   "cell_type": "code",
   "source": [
    "# Find the highest accuracy score\n",
    "max_accuracy_score = max(accuracy_score_dict, key=accuracy_score_dict.get)\n",
    "print(f\"The highest accuracy score is for the relationship: {max_accuracy_score} - Accuracy score: {accuracy_score_dict[max_accuracy_score]}\")"
   ],
   "id": "58c2ad8b7437ab6f",
   "outputs": [
    {
     "name": "stdout",
     "output_type": "stream",
     "text": [
      "The highest accuracy score is for the relationship: All Features - Accuracy score: 0.72875\n"
     ]
    }
   ],
   "execution_count": 4755
  },
  {
   "metadata": {
    "ExecuteTime": {
     "end_time": "2024-12-07T18:26:13.397491Z",
     "start_time": "2024-12-07T18:26:13.349125Z"
    }
   },
   "cell_type": "code",
   "source": [
    "from sklearn.metrics import confusion_matrix, ConfusionMatrixDisplay\n",
    "\n",
    "cm = confusion_matrix(y_test, y_pred)\n",
    "\n",
    "# Customize the display labels to use 'Setosa' and 'Versicolor' instead of 0 and 1\n",
    "labels = ['Setosa', 'Versicolor']\n",
    "\n",
    "# Display the confusion matrix\n",
    "disp = ConfusionMatrixDisplay(confusion_matrix=cm, display_labels=model.classes_)\n",
    "disp.plot(cmap=plt.cm.Blues)\n",
    "plt.show()\n",
    "\n",
    "accuracy = accuracy_score(y_test, y_pred)\n",
    "print(f\"Accuracy Score: {accuracy * 100:.2f}%\")"
   ],
   "id": "b421d76b38548299",
   "outputs": [
    {
     "data": {
      "text/plain": [
       "<Figure size 640x480 with 2 Axes>"
      ],
      "image/png": "[encoded data removed]"
     },
     "metadata": {},
     "output_type": "display_data"
    },
    {
     "name": "stdout",
     "output_type": "stream",
     "text": [
      "Accuracy Score: 72.88%\n"
     ]
    }
   ],
   "execution_count": 4756
  },
  {
   "metadata": {},
   "cell_type": "markdown",
   "source": [
    "#### Interpretation\n",
    "\n",
    "The logistic regression models have been built successfully, and the accuracy scores have been calculated.  The accuracy scores show how well the independent variables predict the dependent variable 'Quality'.\n",
    "\n",
    "The highest accuracy score came from the relationship between the all the 'float' columns and the 'Quality' category column.\n",
    "\n",
    "The confusion matrix shows the true positive, true negative, false positive, and false negative values for the logistic regression model.  The model accuracy is also displayed.\n",
    "\n",
    "The confusion matrix shows how well the model is performing in terms of predicting the quality of the apples.  The results show us that there are some false positives and false negatives, but the model is performing well overall (74%)."
   ],
   "id": "f4af079a96ce76fa"
  },
  {
   "metadata": {},
   "cell_type": "markdown",
   "source": [
    "##### Additional: 2nd highest accuracy score\n",
    "\n",
    "I am curious to see what the second highest accuracy score is, and the confusion matrix for this relationship.  By completing this analysis, I will have a direct comparison with the highest score found in the linear regression analysis."
   ],
   "id": "f3c8854d8138badf"
  },
  {
   "metadata": {
    "ExecuteTime": {
     "end_time": "2024-12-07T18:26:13.406191Z",
     "start_time": "2024-12-07T18:26:13.403459Z"
    }
   },
   "cell_type": "code",
   "source": [
    "# Find the second highest accuracy score\n",
    "accuracy_score_dict.pop(max_accuracy_score)\n",
    "second_max_accuracy_score = max(accuracy_score_dict, key=accuracy_score_dict.get)\n",
    "print(f\"The second highest accuracy score is for the relationship: {second_max_accuracy_score} - Accuracy score: {accuracy_score_dict[second_max_accuracy_score]}\")"
   ],
   "id": "11c2aeba147fe6b7",
   "outputs": [
    {
     "name": "stdout",
     "output_type": "stream",
     "text": [
      "The second highest accuracy score is for the relationship: Juiciness vs Quality - Accuracy score: 0.61625\n"
     ]
    }
   ],
   "execution_count": 4757
  },
  {
   "metadata": {
    "ExecuteTime": {
     "end_time": "2024-12-07T18:35:12.588718Z",
     "start_time": "2024-12-07T18:35:12.542702Z"
    }
   },
   "cell_type": "code",
   "source": [
    "# Find the confusion matrix for the second highest accuracy score\n",
    "\n",
    "cm = confusion_matrix(juiciness_quality[3], juiciness_quality_y_pred)\n",
    "\n",
    "# Customize the display labels to use 'Setosa' and 'Versicolor' instead of 0 and 1\n",
    "labels = ['Setosa', 'Versicolor']\n",
    "\n",
    "# Display the confusion matrix\n",
    "disp = ConfusionMatrixDisplay(confusion_matrix=cm, display_labels=model.classes_)\n",
    "disp.plot(cmap=plt.cm.Blues)\n",
    "plt.show()\n"
   ],
   "id": "30c64d0cfec9b365",
   "outputs": [
    {
     "data": {
      "text/plain": [
       "<Figure size 640x480 with 2 Axes>"
      ],
      "image/png": "[encoded data removed]"
     },
     "metadata": {},
     "output_type": "display_data"
    }
   ],
   "execution_count": 4759
  },
  {
   "metadata": {},
   "cell_type": "markdown",
   "source": "This relationship has a lower accuracy score than the highest score, but the model is still performing well at 61% with slightly more false positives and false negatives.",
   "id": "e1da6a395656fa28"
  },
  {
   "metadata": {},
   "cell_type": "markdown",
   "source": "### Comparison, Analysis & Conclusions",
   "id": "99af24ecc45cd911"
  },
  {
   "metadata": {},
   "cell_type": "markdown",
   "source": [
    "#### Linear Regression and Logistic Regression Summary\n",
    "\n",
    "Linear Regression: Analysis of the Apple Quality dataset using linear regression models showed the relationship between the independent variables and the dependent variables.  The R-scores were calculated to determine how well the independent variables predict the dependent variables.  The highest R-score was for the relationship between 'Size' and 'Sweetness' which was not very high.  The regression scatter plot showed the actual data points and the regression line for this relationship.\n",
    "\n",
    "Logistic Regression: Analysis of the Apple Quality dataset using logistic regression models showed the relationship between the independent variables and the dependent variable 'Quality'.  The accuracy scores were calculated to determine how well the independent variables predict the dependent variable.  The highest accuracy score was for the relationship between all the 'float' columns and the 'Quality' category column.  The confusion matrix showed the true positive, true negative, false positive, and false negative values for the logistic regression model.\n",
    "\n",
    "The logistic regression model performed better than the linear regression model in terms of accuracy, with an accuracy of over 70% compared to the R-scores which were between 0.1 and 0.2.\n",
    "\n",
    "Additionally, The second-highest accuracy score was found to be 61% with slightly more false positives and false negatives, but still outperformed the linear regression models.  This was a good comparison to see the difference between the two models."
   ],
   "id": "87353ea10d556197"
  },
  {
   "metadata": {},
   "cell_type": "markdown",
   "source": "#### Machine Learning Concepts\n",
   "id": "789f52d73d1a5ca3"
  },
  {
   "metadata": {},
   "cell_type": "markdown",
   "source": [
    "##### Data sets:\n",
    "\n",
    "Labeled Datasets: The Apple Quality dataset was a labeled dataset, meaning that each data point had a corresponding label (in this case, 'Good' or 'Bad').  Each data point in the set is associated with a known category or value, making it suitable for supervised learning.\n",
    "These labels provide a clear indication, facilitating model training and evaluation.\n",
    "\n",
    "\n",
    "Unlabelled Datasets: If the Apple Quality dataset did not contain the 'Quality' column, it would be an unlabelled dataset.  This type of dataset is used for unsupervised learning, where the model must find patterns or relationships in the data without the aid of labels.  Unlabelled data is used for tasks like clustering, anomaly detection, and dimensionality reduction, where the goal is to identify patterns or group similar data points without known outcomes."
   ],
   "id": "93ef63b47e1b8d42"
  },
  {
   "metadata": {},
   "cell_type": "markdown",
   "source": [
    "##### Supervised Learning:\n",
    "Supervised learning is a type of machine learning where the algorithm is trained on a labelled dataset.  The algorithm learns to map input data to the correct output based on the input-output pairs provided during training.  The goal is to learn a mapping function that can make predictions on new, unseen data.  Supervised learning is widely used for tasks requiring regression, and classification.  The goal is to minimize the difference between predicted and actual outputs during training.\n",
    "\n",
    "Regression: Regression is a type of supervised learning used to predict continuous values.  It is used when the output variable is a real or continuous value.  Linear regression is a common regression technique used to model the relationship between two or more variables.  The goal is to find the best-fitting line that describes the relationship between the variables and minimises the difference between predicted and actual values.\n",
    "\n",
    "Classification: Classification is a type of supervised learning used to predict discrete categories or classes.  It is used when the output variable is a category or label.  Logistic regression is a common classification technique used to predict binary outcomes.  The goal is to classify data into the correct categories based on patterns.\n"
   ],
   "id": "16fc9f8b177556f2"
  },
  {
   "metadata": {},
   "cell_type": "markdown",
   "source": [
    "##### Unsupervised Learning:\n",
    "Unsupervised learning is a type of machine learning where the algorithm is trained on an unlabelled dataset, without explicit output labels.\n",
    "The goal is to find patterns or relationships in the data without the aid of labels.  Unsupervised learning is used for tasks like clustering, anomaly detection, and dimensionality reduction.  The algorithm learns to group similar data points together, clustering them based on inherent similarities.\n",
    "\n",
    "Unsupervised learning is valuable when the output is unknown or challenging to obtain, enabling data exploration and pattern discovery without human intervention.\n",
    " Examples include customer segmentation (grouping customers with similar behaviours), anomaly detection (finding unusual patterns in data), and dimensionality reduction (compressing data while preserving essential features).\n",
    "\n",
    "###### Clustering:\n",
    "Clustering is a type of unsupervised learning used to group similar data points together.\n",
    "\n",
    "The goal is to identify patterns or groupings in the data without predefined categories.\n",
    "\n",
    "Clustering algorithms like K-means and hierarchical clustering are used to seperate data into clusters based on similarities such as image, anomoly or customer segmentation.\n",
    "\n",
    "###### Dimensionality Reduction:\n",
    "Dimensionality reduction is a type of unsupervised learning used to reduce the number of features in a dataset while preserving essential data.  The goal is to simplify the dataset by removing irrelevant or redundant features, reducing computational complexity, and improving model performance.\n",
    "\n",
    "Principal Component Analysis (PCA) and t-distributed Stochastic Neighbour are popular dimensionality reduction methods.\n",
    "\n"
   ],
   "id": "477fb093765cdbdf"
  },
  {
   "metadata": {},
   "cell_type": "markdown",
   "source": [
    "##### One Hot Encoding:\n",
    "\n",
    "One Hot Encoding is a technique used to convert categorical data into a numerical format that can be used for machine learning algorithms.  It is used when the data is categorical and cannot be directly used in the model.  One Hot Encoding creates binary columns for each category in the data, assigning a 1 or 0 to each column based on the presence of the category.\n",
    "\n",
    "This allows to assign an integer to categories and convert them to binary format, instead of simply assigning each one a number which could be interpreted as a ranking.\n",
    "\n",
    "For example:"
   ],
   "id": "c0247d7ff906eb12"
  },
  {
   "metadata": {
    "ExecuteTime": {
     "end_time": "2024-12-08T12:58:56.685316Z",
     "start_time": "2024-12-08T12:58:56.678678Z"
    }
   },
   "cell_type": "code",
   "source": [
    "# One Hot Encoding\n",
    "apple_quality = pd.get_dummies(apple_quality)\n",
    "apple_quality.head()"
   ],
   "id": "ef3d5803a6c977a4",
   "outputs": [
    {
     "data": {
      "text/plain": [
       "   A_id      Size    Weight  Sweetness  Crunchiness  Juiciness  Ripeness  \\\n",
       "0   0.0 -3.970049 -2.512336   5.346330    -1.012009   1.844900  0.329840   \n",
       "1   1.0 -1.195217 -2.839257   3.664059     1.588232   0.853286  0.867530   \n",
       "2   2.0 -0.292024 -1.351282  -1.738429    -0.342616   2.838636 -0.038033   \n",
       "3   3.0 -0.657196 -2.271627   1.324874    -0.097875   3.637970 -3.413761   \n",
       "4   4.0  1.364217 -1.296612  -0.384658    -0.553006   3.030874 -1.303849   \n",
       "\n",
       "    Acidity  Quality_bad  Quality_good  \n",
       "0 -0.491590        False          True  \n",
       "1 -0.722809        False          True  \n",
       "2  2.621636         True         False  \n",
       "3  0.790723        False          True  \n",
       "4  0.501984        False          True  "
      ],
      "text/html": [
       "<div>\n",
       "<style scoped>\n",
       "    .dataframe tbody tr th:only-of-type {\n",
       "        vertical-align: middle;\n",
       "    }\n",
       "\n",
       "    .dataframe tbody tr th {\n",
       "        vertical-align: top;\n",
       "    }\n",
       "\n",
       "    .dataframe thead th {\n",
       "        text-align: right;\n",
       "    }\n",
       "</style>\n",
       "<table border=\"1\" class=\"dataframe\">\n",
       "  <thead>\n",
       "    <tr style=\"text-align: right;\">\n",
       "      <th></th>\n",
       "      <th>A_id</th>\n",
       "      <th>Size</th>\n",
       "      <th>Weight</th>\n",
       "      <th>Sweetness</th>\n",
       "      <th>Crunchiness</th>\n",
       "      <th>Juiciness</th>\n",
       "      <th>Ripeness</th>\n",
       "      <th>Acidity</th>\n",
       "      <th>Quality_bad</th>\n",
       "      <th>Quality_good</th>\n",
       "    </tr>\n",
       "  </thead>\n",
       "  <tbody>\n",
       "    <tr>\n",
       "      <th>0</th>\n",
       "      <td>0.0</td>\n",
       "      <td>-3.970049</td>\n",
       "      <td>-2.512336</td>\n",
       "      <td>5.346330</td>\n",
       "      <td>-1.012009</td>\n",
       "      <td>1.844900</td>\n",
       "      <td>0.329840</td>\n",
       "      <td>-0.491590</td>\n",
       "      <td>False</td>\n",
       "      <td>True</td>\n",
       "    </tr>\n",
       "    <tr>\n",
       "      <th>1</th>\n",
       "      <td>1.0</td>\n",
       "      <td>-1.195217</td>\n",
       "      <td>-2.839257</td>\n",
       "      <td>3.664059</td>\n",
       "      <td>1.588232</td>\n",
       "      <td>0.853286</td>\n",
       "      <td>0.867530</td>\n",
       "      <td>-0.722809</td>\n",
       "      <td>False</td>\n",
       "      <td>True</td>\n",
       "    </tr>\n",
       "    <tr>\n",
       "      <th>2</th>\n",
       "      <td>2.0</td>\n",
       "      <td>-0.292024</td>\n",
       "      <td>-1.351282</td>\n",
       "      <td>-1.738429</td>\n",
       "      <td>-0.342616</td>\n",
       "      <td>2.838636</td>\n",
       "      <td>-0.038033</td>\n",
       "      <td>2.621636</td>\n",
       "      <td>True</td>\n",
       "      <td>False</td>\n",
       "    </tr>\n",
       "    <tr>\n",
       "      <th>3</th>\n",
       "      <td>3.0</td>\n",
       "      <td>-0.657196</td>\n",
       "      <td>-2.271627</td>\n",
       "      <td>1.324874</td>\n",
       "      <td>-0.097875</td>\n",
       "      <td>3.637970</td>\n",
       "      <td>-3.413761</td>\n",
       "      <td>0.790723</td>\n",
       "      <td>False</td>\n",
       "      <td>True</td>\n",
       "    </tr>\n",
       "    <tr>\n",
       "      <th>4</th>\n",
       "      <td>4.0</td>\n",
       "      <td>1.364217</td>\n",
       "      <td>-1.296612</td>\n",
       "      <td>-0.384658</td>\n",
       "      <td>-0.553006</td>\n",
       "      <td>3.030874</td>\n",
       "      <td>-1.303849</td>\n",
       "      <td>0.501984</td>\n",
       "      <td>False</td>\n",
       "      <td>True</td>\n",
       "    </tr>\n",
       "  </tbody>\n",
       "</table>\n",
       "</div>"
      ]
     },
     "execution_count": 4761,
     "metadata": {},
     "output_type": "execute_result"
    }
   ],
   "execution_count": 4761
  }
 ],
 "metadata": {
  "kernelspec": {
   "display_name": "Python 3 (ipykernel)",
   "language": "python",
   "name": "python3"
  },
  "language_info": {
   "codemirror_mode": {
    "name": "ipython",
    "version": 3
   },
   "file_extension": ".py",
   "mimetype": "text/x-python",
   "name": "python",
   "nbconvert_exporter": "python",
   "pygments_lexer": "ipython3",
   "version": "3.12.2"
  }
 },
 "nbformat": 4,
 "nbformat_minor": 5
}
